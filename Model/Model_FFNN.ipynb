{
  "nbformat": 4,
  "nbformat_minor": 0,
  "metadata": {
    "colab": {
      "provenance": []
    },
    "kernelspec": {
      "name": "python3",
      "display_name": "Python 3"
    },
    "language_info": {
      "name": "python"
    }
  },
  "cells": [
    {
      "cell_type": "markdown",
      "source": [
        "# TF-IDF + Feed Forward Neural Network\n",
        "\n",
        "ในส่วนนี้เราจะใช้ข้อมูลชุดเดิมและใช้ TF-IDF ในการแทนแต่ละประโยคหลังจากนั้นก็เทรน ด้วย Feed Forward Neural Network\n",
        "\n",
        "โค้ดดัดแปลงมาจาก https://colab.research.google.com/drive/1SR_j7FUYcJ21CCsIT8fkRjGOteevQEPa#scrollTo=4Wf_YSr78IMO"
      ],
      "metadata": {
        "id": "Tgd4UPfxV0fi"
      }
    },
    {
      "cell_type": "code",
      "source": [
        "import pandas as pd\n",
        "import re\n",
        "import pandas as pd\n",
        "import numpy as np\n",
        "from sklearn.preprocessing import LabelEncoder\n",
        "from sklearn.model_selection import train_test_split\n",
        "from sklearn.metrics import classification_report\n",
        "from sklearn.metrics import accuracy_score\n",
        "import math\n",
        "import nltk\n",
        "from sklearn.feature_extraction.text import CountVectorizer\n",
        "from collections import defaultdict"
      ],
      "metadata": {
        "id": "WQRwTj6pYmgF"
      },
      "execution_count": null,
      "outputs": []
    },
    {
      "cell_type": "code",
      "source": [
        "import pandas as pd\n",
        "train_data = pd.read_csv('train.csv')\n",
        "test_data = pd.read_csv('test.csv')\n",
        "\n",
        "\n",
        "train_data\n"
      ],
      "metadata": {
        "colab": {
          "base_uri": "https://localhost:8080/",
          "height": 562
        },
        "id": "I_GTdOwyrOIt",
        "outputId": "812cb34c-f9a9-4c3b-8cfd-37e85b131dff"
      },
      "execution_count": null,
      "outputs": [
        {
          "output_type": "execute_result",
          "data": {
            "text/plain": [
              "                                                    text  sentiment  \\\n",
              "0                                      ประสิทเจียวก็คนดี          1   \n",
              "1                  สุดยอดคุณรังสิมันโลมพูดได้ถูกใจมากค่ะ          2   \n",
              "2      อ้าววันนี้เอาแฝดคนละฝามาเจอกันวิเคราะห์การเมือ...          1   \n",
              "3      ขอบคุณสุภาพบุรุษที่ชื่อพิธาที่ยังห่วงใยประชาชน...          2   \n",
              "4      นับวันยิ่งแย่ลงๆทุกทีเดียวอีกหน่อยจะเป็นเหมือน...          0   \n",
              "...                                                  ...        ...   \n",
              "31267             คุณคือคนดีของสังคมยัวมีโอกาสสู้ต่อไปคะ          2   \n",
              "31268                                       555สุดยอดเลย          2   \n",
              "31269  บุกแม้งกระทืบแม้งพวกที่ทำให้ประเทศไทยแย่ประชาช...          0   \n",
              "31270                                         สุดยอดครับ          2   \n",
              "31271                     เขาก็เลือกแล้วแต่คนเลวมาขวางไง          0   \n",
              "\n",
              "                                              clean_text  \\\n",
              "0                                      ประสิทเจียวก็คนดี   \n",
              "1                  สุดยอดคุณรังสิมันโลมพูดได้ถูกใจมากค่ะ   \n",
              "2      อ้าววันนี้เอาแฝดคนละฝามาเจอกันวิเคราะห์การเมือ...   \n",
              "3      ขอบคุณสุภาพบุรุษที่ชื่อพิธาที่ยังห่วงใยประชาชน...   \n",
              "4      นับวันยิ่งแย่ลงๆทุกทีเดียวอีกหน่อยจะเป็นเหมือน...   \n",
              "...                                                  ...   \n",
              "31267             คุณคือคนดีของสังคมยัวมีโอกาสสู้ต่อไปคะ   \n",
              "31268                                       555สุดยอดเลย   \n",
              "31269  บุกแม้งกระทืบแม้งพวกที่ทำให้ประเทศไทยแย่ประชาช...   \n",
              "31270                                         สุดยอดครับ   \n",
              "31271                     เขาก็เลือกแล้วแต่คนเลวมาขวางไง   \n",
              "\n",
              "                                             clean2_text  \\\n",
              "0                                      ประสิทเจียวก็คนดี   \n",
              "1                  สุดยอดคุณรังสิมันโลมพูดได้ถูกใจมากค่ะ   \n",
              "2      อ้าววันนี้เอาแฝดคนละฝามาเจอกันวิเคราะห์การเมือ...   \n",
              "3      ขอบคุณสุภาพบุรุษที่ชื่อพิธาที่ยังห่วงใยประชาชน...   \n",
              "4      นับวันยิ่งแย่ลงๆทุกทีเดียวอีกหน่อยจะเป็นเหมือน...   \n",
              "...                                                  ...   \n",
              "31267             คุณคือคนดีของสังคมยัวมีโอกาสสู้ต่อไปคะ   \n",
              "31268                                       555สุดยอดเลย   \n",
              "31269  บุกแม้งกระทืบแม้งพวกที่ทำให้ประเทศไทยแย่ประชาช...   \n",
              "31270                                         สุดยอดครับ   \n",
              "31271                     เขาก็เลือกแล้วแต่คนเลวมาขวางไง   \n",
              "\n",
              "                                             clean3_text  \\\n",
              "0                                      ประสิทเจียวก็คนดี   \n",
              "1                  สุดยอดคุณรังสิมันโลมพูดได้ถูกใจมากค่ะ   \n",
              "2      อ้าววันนี้เอาแฝดคนละฝามาเจอกันวิเคราะห์การเมือ...   \n",
              "3      ขอบคุณสุภาพบุรุษที่ชื่อพิธาที่ยังห่วงใยประชาชน...   \n",
              "4      นับวันยิ่งแย่ลงๆทุกทีเดียวอีกหน่อยจะเป็นเหมือน...   \n",
              "...                                                  ...   \n",
              "31267             คุณคือคนดีของสังคมยัวมีโอกาสสู้ต่อไปคะ   \n",
              "31268                                       555สุดยอดเลย   \n",
              "31269  บุกแม้งกระทืบแม้งพวกที่ทำให้ประเทศไทยแย่ประชาช...   \n",
              "31270                                         สุดยอดครับ   \n",
              "31271                     เขาก็เลือกแล้วแต่คนเลวมาขวางไง   \n",
              "\n",
              "                                             clean4_text  \\\n",
              "0                                      ประสิทเจียวก็คนดี   \n",
              "1                  สุดยอดคุณรังสิมันโลมพูดได้ถูกใจมากค่ะ   \n",
              "2      อ้าววันนี้เอาแฝดคนละฝามาเจอกันวิเคราะห์การเมือ...   \n",
              "3      ขอบคุณสุภาพบุรุษที่ชื่อพิธาที่ยังห่วงใยประชาชน...   \n",
              "4      นับวันยิ่งแย่ลงๆทุกทีเดียวอีกหน่อยจะเป็นเหมือน...   \n",
              "...                                                  ...   \n",
              "31267             คุณคือคนดีของสังคมยัวมีโอกาสสู้ต่อไปคะ   \n",
              "31268                                       555สุดยอดเลย   \n",
              "31269  บุกแม้งกระทืบแม้งพวกที่ทำให้ประเทศไทยแย่ประชาช...   \n",
              "31270                                         สุดยอดครับ   \n",
              "31271                     เขาก็เลือกแล้วแต่คนเลวมาขวางไง   \n",
              "\n",
              "                                          wordseged_text  \\\n",
              "0              ['ประ', 'สิ', 'ท', 'เจียว', 'ก็', 'คนดี']   \n",
              "1      ['สุดยอด', 'คุณ', 'รังสิ', 'มัน', 'โลม', 'พูด'...   \n",
              "2      ['อ้าว', 'วันนี้', 'เอา', 'แฝด', 'คนละ', 'ฝา',...   \n",
              "3      ['ขอบคุณ', 'สุภาพบุรุษ', 'ที่', 'ชื่อ', 'พิธา'...   \n",
              "4      ['นับวัน', 'ยิ่ง', 'แย่', 'ลง', 'ๆ', 'ทุก', 'ท...   \n",
              "...                                                  ...   \n",
              "31267  ['คุณ', 'คือ', 'คนดี', 'ของ', 'สังคม', 'ยัว', ...   \n",
              "31268                           ['555', 'สุดยอด', 'เลย']   \n",
              "31269  ['บุก', 'แม้', 'งก', 'ระ', 'ทืบ', 'แม้', 'ง', ...   \n",
              "31270                                 ['สุดยอด', 'ครับ']   \n",
              "31271  ['เขา', 'ก็', 'เลือก', 'แล้วแต่', 'คนเลว', 'มา...   \n",
              "\n",
              "                                    wordseged_space_text  \n",
              "0                                 ประ สิ ท เจียว ก็ คนดี  \n",
              "1         สุดยอด คุณ รังสิ มัน โลม พูด ได้ ถูกใจ มาก ค่ะ  \n",
              "2      อ้าว วันนี้ เอา แฝด คนละ ฝา มา เจอกัน วิเคราะห...  \n",
              "3      ขอบคุณ สุภาพบุรุษ ที่ ชื่อ พิธา ที่ ยัง ห่วงใย...  \n",
              "4      นับวัน ยิ่ง แย่ ลง ๆ ทุก ทีเดียว อีกหน่อย จะ เ...  \n",
              "...                                                  ...  \n",
              "31267    คุณ คือ คนดี ของ สังคม ยัว มีโอกาส สู้ ต่อไป คะ  \n",
              "31268                                     555 สุดยอด เลย  \n",
              "31269  บุก แม้ งก ระ ทืบ แม้ ง พวก ที่ ทำให้ ประเทศ ไ...  \n",
              "31270                                        สุดยอด ครับ  \n",
              "31271              เขา ก็ เลือก แล้วแต่ คนเลว มา ขวาง ไง  \n",
              "\n",
              "[31272 rows x 8 columns]"
            ],
            "text/html": [
              "\n",
              "  <div id=\"df-52cc2a00-e76e-4cb5-9813-92f0db66663a\" class=\"colab-df-container\">\n",
              "    <div>\n",
              "<style scoped>\n",
              "    .dataframe tbody tr th:only-of-type {\n",
              "        vertical-align: middle;\n",
              "    }\n",
              "\n",
              "    .dataframe tbody tr th {\n",
              "        vertical-align: top;\n",
              "    }\n",
              "\n",
              "    .dataframe thead th {\n",
              "        text-align: right;\n",
              "    }\n",
              "</style>\n",
              "<table border=\"1\" class=\"dataframe\">\n",
              "  <thead>\n",
              "    <tr style=\"text-align: right;\">\n",
              "      <th></th>\n",
              "      <th>text</th>\n",
              "      <th>sentiment</th>\n",
              "      <th>clean_text</th>\n",
              "      <th>clean2_text</th>\n",
              "      <th>clean3_text</th>\n",
              "      <th>clean4_text</th>\n",
              "      <th>wordseged_text</th>\n",
              "      <th>wordseged_space_text</th>\n",
              "    </tr>\n",
              "  </thead>\n",
              "  <tbody>\n",
              "    <tr>\n",
              "      <th>0</th>\n",
              "      <td>ประสิทเจียวก็คนดี</td>\n",
              "      <td>1</td>\n",
              "      <td>ประสิทเจียวก็คนดี</td>\n",
              "      <td>ประสิทเจียวก็คนดี</td>\n",
              "      <td>ประสิทเจียวก็คนดี</td>\n",
              "      <td>ประสิทเจียวก็คนดี</td>\n",
              "      <td>['ประ', 'สิ', 'ท', 'เจียว', 'ก็', 'คนดี']</td>\n",
              "      <td>ประ สิ ท เจียว ก็ คนดี</td>\n",
              "    </tr>\n",
              "    <tr>\n",
              "      <th>1</th>\n",
              "      <td>สุดยอดคุณรังสิมันโลมพูดได้ถูกใจมากค่ะ</td>\n",
              "      <td>2</td>\n",
              "      <td>สุดยอดคุณรังสิมันโลมพูดได้ถูกใจมากค่ะ</td>\n",
              "      <td>สุดยอดคุณรังสิมันโลมพูดได้ถูกใจมากค่ะ</td>\n",
              "      <td>สุดยอดคุณรังสิมันโลมพูดได้ถูกใจมากค่ะ</td>\n",
              "      <td>สุดยอดคุณรังสิมันโลมพูดได้ถูกใจมากค่ะ</td>\n",
              "      <td>['สุดยอด', 'คุณ', 'รังสิ', 'มัน', 'โลม', 'พูด'...</td>\n",
              "      <td>สุดยอด คุณ รังสิ มัน โลม พูด ได้ ถูกใจ มาก ค่ะ</td>\n",
              "    </tr>\n",
              "    <tr>\n",
              "      <th>2</th>\n",
              "      <td>อ้าววันนี้เอาแฝดคนละฝามาเจอกันวิเคราะห์การเมือ...</td>\n",
              "      <td>1</td>\n",
              "      <td>อ้าววันนี้เอาแฝดคนละฝามาเจอกันวิเคราะห์การเมือ...</td>\n",
              "      <td>อ้าววันนี้เอาแฝดคนละฝามาเจอกันวิเคราะห์การเมือ...</td>\n",
              "      <td>อ้าววันนี้เอาแฝดคนละฝามาเจอกันวิเคราะห์การเมือ...</td>\n",
              "      <td>อ้าววันนี้เอาแฝดคนละฝามาเจอกันวิเคราะห์การเมือ...</td>\n",
              "      <td>['อ้าว', 'วันนี้', 'เอา', 'แฝด', 'คนละ', 'ฝา',...</td>\n",
              "      <td>อ้าว วันนี้ เอา แฝด คนละ ฝา มา เจอกัน วิเคราะห...</td>\n",
              "    </tr>\n",
              "    <tr>\n",
              "      <th>3</th>\n",
              "      <td>ขอบคุณสุภาพบุรุษที่ชื่อพิธาที่ยังห่วงใยประชาชน...</td>\n",
              "      <td>2</td>\n",
              "      <td>ขอบคุณสุภาพบุรุษที่ชื่อพิธาที่ยังห่วงใยประชาชน...</td>\n",
              "      <td>ขอบคุณสุภาพบุรุษที่ชื่อพิธาที่ยังห่วงใยประชาชน...</td>\n",
              "      <td>ขอบคุณสุภาพบุรุษที่ชื่อพิธาที่ยังห่วงใยประชาชน...</td>\n",
              "      <td>ขอบคุณสุภาพบุรุษที่ชื่อพิธาที่ยังห่วงใยประชาชน...</td>\n",
              "      <td>['ขอบคุณ', 'สุภาพบุรุษ', 'ที่', 'ชื่อ', 'พิธา'...</td>\n",
              "      <td>ขอบคุณ สุภาพบุรุษ ที่ ชื่อ พิธา ที่ ยัง ห่วงใย...</td>\n",
              "    </tr>\n",
              "    <tr>\n",
              "      <th>4</th>\n",
              "      <td>นับวันยิ่งแย่ลงๆทุกทีเดียวอีกหน่อยจะเป็นเหมือน...</td>\n",
              "      <td>0</td>\n",
              "      <td>นับวันยิ่งแย่ลงๆทุกทีเดียวอีกหน่อยจะเป็นเหมือน...</td>\n",
              "      <td>นับวันยิ่งแย่ลงๆทุกทีเดียวอีกหน่อยจะเป็นเหมือน...</td>\n",
              "      <td>นับวันยิ่งแย่ลงๆทุกทีเดียวอีกหน่อยจะเป็นเหมือน...</td>\n",
              "      <td>นับวันยิ่งแย่ลงๆทุกทีเดียวอีกหน่อยจะเป็นเหมือน...</td>\n",
              "      <td>['นับวัน', 'ยิ่ง', 'แย่', 'ลง', 'ๆ', 'ทุก', 'ท...</td>\n",
              "      <td>นับวัน ยิ่ง แย่ ลง ๆ ทุก ทีเดียว อีกหน่อย จะ เ...</td>\n",
              "    </tr>\n",
              "    <tr>\n",
              "      <th>...</th>\n",
              "      <td>...</td>\n",
              "      <td>...</td>\n",
              "      <td>...</td>\n",
              "      <td>...</td>\n",
              "      <td>...</td>\n",
              "      <td>...</td>\n",
              "      <td>...</td>\n",
              "      <td>...</td>\n",
              "    </tr>\n",
              "    <tr>\n",
              "      <th>31267</th>\n",
              "      <td>คุณคือคนดีของสังคมยัวมีโอกาสสู้ต่อไปคะ</td>\n",
              "      <td>2</td>\n",
              "      <td>คุณคือคนดีของสังคมยัวมีโอกาสสู้ต่อไปคะ</td>\n",
              "      <td>คุณคือคนดีของสังคมยัวมีโอกาสสู้ต่อไปคะ</td>\n",
              "      <td>คุณคือคนดีของสังคมยัวมีโอกาสสู้ต่อไปคะ</td>\n",
              "      <td>คุณคือคนดีของสังคมยัวมีโอกาสสู้ต่อไปคะ</td>\n",
              "      <td>['คุณ', 'คือ', 'คนดี', 'ของ', 'สังคม', 'ยัว', ...</td>\n",
              "      <td>คุณ คือ คนดี ของ สังคม ยัว มีโอกาส สู้ ต่อไป คะ</td>\n",
              "    </tr>\n",
              "    <tr>\n",
              "      <th>31268</th>\n",
              "      <td>555สุดยอดเลย</td>\n",
              "      <td>2</td>\n",
              "      <td>555สุดยอดเลย</td>\n",
              "      <td>555สุดยอดเลย</td>\n",
              "      <td>555สุดยอดเลย</td>\n",
              "      <td>555สุดยอดเลย</td>\n",
              "      <td>['555', 'สุดยอด', 'เลย']</td>\n",
              "      <td>555 สุดยอด เลย</td>\n",
              "    </tr>\n",
              "    <tr>\n",
              "      <th>31269</th>\n",
              "      <td>บุกแม้งกระทืบแม้งพวกที่ทำให้ประเทศไทยแย่ประชาช...</td>\n",
              "      <td>0</td>\n",
              "      <td>บุกแม้งกระทืบแม้งพวกที่ทำให้ประเทศไทยแย่ประชาช...</td>\n",
              "      <td>บุกแม้งกระทืบแม้งพวกที่ทำให้ประเทศไทยแย่ประชาช...</td>\n",
              "      <td>บุกแม้งกระทืบแม้งพวกที่ทำให้ประเทศไทยแย่ประชาช...</td>\n",
              "      <td>บุกแม้งกระทืบแม้งพวกที่ทำให้ประเทศไทยแย่ประชาช...</td>\n",
              "      <td>['บุก', 'แม้', 'งก', 'ระ', 'ทืบ', 'แม้', 'ง', ...</td>\n",
              "      <td>บุก แม้ งก ระ ทืบ แม้ ง พวก ที่ ทำให้ ประเทศ ไ...</td>\n",
              "    </tr>\n",
              "    <tr>\n",
              "      <th>31270</th>\n",
              "      <td>สุดยอดครับ</td>\n",
              "      <td>2</td>\n",
              "      <td>สุดยอดครับ</td>\n",
              "      <td>สุดยอดครับ</td>\n",
              "      <td>สุดยอดครับ</td>\n",
              "      <td>สุดยอดครับ</td>\n",
              "      <td>['สุดยอด', 'ครับ']</td>\n",
              "      <td>สุดยอด ครับ</td>\n",
              "    </tr>\n",
              "    <tr>\n",
              "      <th>31271</th>\n",
              "      <td>เขาก็เลือกแล้วแต่คนเลวมาขวางไง</td>\n",
              "      <td>0</td>\n",
              "      <td>เขาก็เลือกแล้วแต่คนเลวมาขวางไง</td>\n",
              "      <td>เขาก็เลือกแล้วแต่คนเลวมาขวางไง</td>\n",
              "      <td>เขาก็เลือกแล้วแต่คนเลวมาขวางไง</td>\n",
              "      <td>เขาก็เลือกแล้วแต่คนเลวมาขวางไง</td>\n",
              "      <td>['เขา', 'ก็', 'เลือก', 'แล้วแต่', 'คนเลว', 'มา...</td>\n",
              "      <td>เขา ก็ เลือก แล้วแต่ คนเลว มา ขวาง ไง</td>\n",
              "    </tr>\n",
              "  </tbody>\n",
              "</table>\n",
              "<p>31272 rows × 8 columns</p>\n",
              "</div>\n",
              "    <div class=\"colab-df-buttons\">\n",
              "\n",
              "  <div class=\"colab-df-container\">\n",
              "    <button class=\"colab-df-convert\" onclick=\"convertToInteractive('df-52cc2a00-e76e-4cb5-9813-92f0db66663a')\"\n",
              "            title=\"Convert this dataframe to an interactive table.\"\n",
              "            style=\"display:none;\">\n",
              "\n",
              "  <svg xmlns=\"http://www.w3.org/2000/svg\" height=\"24px\" viewBox=\"0 -960 960 960\">\n",
              "    <path d=\"M120-120v-720h720v720H120Zm60-500h600v-160H180v160Zm220 220h160v-160H400v160Zm0 220h160v-160H400v160ZM180-400h160v-160H180v160Zm440 0h160v-160H620v160ZM180-180h160v-160H180v160Zm440 0h160v-160H620v160Z\"/>\n",
              "  </svg>\n",
              "    </button>\n",
              "\n",
              "  <style>\n",
              "    .colab-df-container {\n",
              "      display:flex;\n",
              "      gap: 12px;\n",
              "    }\n",
              "\n",
              "    .colab-df-convert {\n",
              "      background-color: #E8F0FE;\n",
              "      border: none;\n",
              "      border-radius: 50%;\n",
              "      cursor: pointer;\n",
              "      display: none;\n",
              "      fill: #1967D2;\n",
              "      height: 32px;\n",
              "      padding: 0 0 0 0;\n",
              "      width: 32px;\n",
              "    }\n",
              "\n",
              "    .colab-df-convert:hover {\n",
              "      background-color: #E2EBFA;\n",
              "      box-shadow: 0px 1px 2px rgba(60, 64, 67, 0.3), 0px 1px 3px 1px rgba(60, 64, 67, 0.15);\n",
              "      fill: #174EA6;\n",
              "    }\n",
              "\n",
              "    .colab-df-buttons div {\n",
              "      margin-bottom: 4px;\n",
              "    }\n",
              "\n",
              "    [theme=dark] .colab-df-convert {\n",
              "      background-color: #3B4455;\n",
              "      fill: #D2E3FC;\n",
              "    }\n",
              "\n",
              "    [theme=dark] .colab-df-convert:hover {\n",
              "      background-color: #434B5C;\n",
              "      box-shadow: 0px 1px 3px 1px rgba(0, 0, 0, 0.15);\n",
              "      filter: drop-shadow(0px 1px 2px rgba(0, 0, 0, 0.3));\n",
              "      fill: #FFFFFF;\n",
              "    }\n",
              "  </style>\n",
              "\n",
              "    <script>\n",
              "      const buttonEl =\n",
              "        document.querySelector('#df-52cc2a00-e76e-4cb5-9813-92f0db66663a button.colab-df-convert');\n",
              "      buttonEl.style.display =\n",
              "        google.colab.kernel.accessAllowed ? 'block' : 'none';\n",
              "\n",
              "      async function convertToInteractive(key) {\n",
              "        const element = document.querySelector('#df-52cc2a00-e76e-4cb5-9813-92f0db66663a');\n",
              "        const dataTable =\n",
              "          await google.colab.kernel.invokeFunction('convertToInteractive',\n",
              "                                                    [key], {});\n",
              "        if (!dataTable) return;\n",
              "\n",
              "        const docLinkHtml = 'Like what you see? Visit the ' +\n",
              "          '<a target=\"_blank\" href=https://colab.research.google.com/notebooks/data_table.ipynb>data table notebook</a>'\n",
              "          + ' to learn more about interactive tables.';\n",
              "        element.innerHTML = '';\n",
              "        dataTable['output_type'] = 'display_data';\n",
              "        await google.colab.output.renderOutput(dataTable, element);\n",
              "        const docLink = document.createElement('div');\n",
              "        docLink.innerHTML = docLinkHtml;\n",
              "        element.appendChild(docLink);\n",
              "      }\n",
              "    </script>\n",
              "  </div>\n",
              "\n",
              "\n",
              "<div id=\"df-54f08f78-a8bd-47c1-9203-80259c76ffbf\">\n",
              "  <button class=\"colab-df-quickchart\" onclick=\"quickchart('df-54f08f78-a8bd-47c1-9203-80259c76ffbf')\"\n",
              "            title=\"Suggest charts\"\n",
              "            style=\"display:none;\">\n",
              "\n",
              "<svg xmlns=\"http://www.w3.org/2000/svg\" height=\"24px\"viewBox=\"0 0 24 24\"\n",
              "     width=\"24px\">\n",
              "    <g>\n",
              "        <path d=\"M19 3H5c-1.1 0-2 .9-2 2v14c0 1.1.9 2 2 2h14c1.1 0 2-.9 2-2V5c0-1.1-.9-2-2-2zM9 17H7v-7h2v7zm4 0h-2V7h2v10zm4 0h-2v-4h2v4z\"/>\n",
              "    </g>\n",
              "</svg>\n",
              "  </button>\n",
              "\n",
              "<style>\n",
              "  .colab-df-quickchart {\n",
              "      --bg-color: #E8F0FE;\n",
              "      --fill-color: #1967D2;\n",
              "      --hover-bg-color: #E2EBFA;\n",
              "      --hover-fill-color: #174EA6;\n",
              "      --disabled-fill-color: #AAA;\n",
              "      --disabled-bg-color: #DDD;\n",
              "  }\n",
              "\n",
              "  [theme=dark] .colab-df-quickchart {\n",
              "      --bg-color: #3B4455;\n",
              "      --fill-color: #D2E3FC;\n",
              "      --hover-bg-color: #434B5C;\n",
              "      --hover-fill-color: #FFFFFF;\n",
              "      --disabled-bg-color: #3B4455;\n",
              "      --disabled-fill-color: #666;\n",
              "  }\n",
              "\n",
              "  .colab-df-quickchart {\n",
              "    background-color: var(--bg-color);\n",
              "    border: none;\n",
              "    border-radius: 50%;\n",
              "    cursor: pointer;\n",
              "    display: none;\n",
              "    fill: var(--fill-color);\n",
              "    height: 32px;\n",
              "    padding: 0;\n",
              "    width: 32px;\n",
              "  }\n",
              "\n",
              "  .colab-df-quickchart:hover {\n",
              "    background-color: var(--hover-bg-color);\n",
              "    box-shadow: 0 1px 2px rgba(60, 64, 67, 0.3), 0 1px 3px 1px rgba(60, 64, 67, 0.15);\n",
              "    fill: var(--button-hover-fill-color);\n",
              "  }\n",
              "\n",
              "  .colab-df-quickchart-complete:disabled,\n",
              "  .colab-df-quickchart-complete:disabled:hover {\n",
              "    background-color: var(--disabled-bg-color);\n",
              "    fill: var(--disabled-fill-color);\n",
              "    box-shadow: none;\n",
              "  }\n",
              "\n",
              "  .colab-df-spinner {\n",
              "    border: 2px solid var(--fill-color);\n",
              "    border-color: transparent;\n",
              "    border-bottom-color: var(--fill-color);\n",
              "    animation:\n",
              "      spin 1s steps(1) infinite;\n",
              "  }\n",
              "\n",
              "  @keyframes spin {\n",
              "    0% {\n",
              "      border-color: transparent;\n",
              "      border-bottom-color: var(--fill-color);\n",
              "      border-left-color: var(--fill-color);\n",
              "    }\n",
              "    20% {\n",
              "      border-color: transparent;\n",
              "      border-left-color: var(--fill-color);\n",
              "      border-top-color: var(--fill-color);\n",
              "    }\n",
              "    30% {\n",
              "      border-color: transparent;\n",
              "      border-left-color: var(--fill-color);\n",
              "      border-top-color: var(--fill-color);\n",
              "      border-right-color: var(--fill-color);\n",
              "    }\n",
              "    40% {\n",
              "      border-color: transparent;\n",
              "      border-right-color: var(--fill-color);\n",
              "      border-top-color: var(--fill-color);\n",
              "    }\n",
              "    60% {\n",
              "      border-color: transparent;\n",
              "      border-right-color: var(--fill-color);\n",
              "    }\n",
              "    80% {\n",
              "      border-color: transparent;\n",
              "      border-right-color: var(--fill-color);\n",
              "      border-bottom-color: var(--fill-color);\n",
              "    }\n",
              "    90% {\n",
              "      border-color: transparent;\n",
              "      border-bottom-color: var(--fill-color);\n",
              "    }\n",
              "  }\n",
              "</style>\n",
              "\n",
              "  <script>\n",
              "    async function quickchart(key) {\n",
              "      const quickchartButtonEl =\n",
              "        document.querySelector('#' + key + ' button');\n",
              "      quickchartButtonEl.disabled = true;  // To prevent multiple clicks.\n",
              "      quickchartButtonEl.classList.add('colab-df-spinner');\n",
              "      try {\n",
              "        const charts = await google.colab.kernel.invokeFunction(\n",
              "            'suggestCharts', [key], {});\n",
              "      } catch (error) {\n",
              "        console.error('Error during call to suggestCharts:', error);\n",
              "      }\n",
              "      quickchartButtonEl.classList.remove('colab-df-spinner');\n",
              "      quickchartButtonEl.classList.add('colab-df-quickchart-complete');\n",
              "    }\n",
              "    (() => {\n",
              "      let quickchartButtonEl =\n",
              "        document.querySelector('#df-54f08f78-a8bd-47c1-9203-80259c76ffbf button');\n",
              "      quickchartButtonEl.style.display =\n",
              "        google.colab.kernel.accessAllowed ? 'block' : 'none';\n",
              "    })();\n",
              "  </script>\n",
              "</div>\n",
              "    </div>\n",
              "  </div>\n"
            ],
            "application/vnd.google.colaboratory.intrinsic+json": {
              "type": "dataframe",
              "variable_name": "train_data",
              "summary": "{\n  \"name\": \"train_data\",\n  \"rows\": 31272,\n  \"fields\": [\n    {\n      \"column\": \"text\",\n      \"properties\": {\n        \"dtype\": \"string\",\n        \"num_unique_values\": 29788,\n        \"samples\": [\n          \"\\u0e2d\\u0e33\\u0e19\\u0e32\\u0e08\\u0e40\\u0e01\\u0e48\\u0e32\\u0e1b\\u0e23\\u0e30\\u0e0a\\u0e32\\u0e0a\\u0e19\",\n          \"\\u0e2a\\u0e27\\u0e04\\u0e37\\u0e2d\\u0e1b\\u0e25\\u0e32\\u0e22\\u0e40\\u0e2b\\u0e15\\u0e38\\u0e15\\u0e49\\u0e19\\u0e40\\u0e2b\\u0e15\\u0e38\\u0e40\\u0e01\\u0e34\\u0e14\\u0e08\\u0e32\\u0e01\\u0e44\\u0e2d\\u0e15\\u0e38\\u0e48\\u0e21\\u0e31\\u0e19\\u0e17\\u0e34\\u0e49\\u0e07\\u0e02\\u0e35\\u0e49\\u0e43\\u0e27\\u0e48\\u0e41\\u0e25\\u0e49\\u0e27\\u0e01\\u0e47\\u0e44\\u0e1b\",\n          \"\\u0e40\\u0e1c\\u0e0a\\u0e34\\u0e0d\\u0e19\\u0e49\\u0e33\\u0e15\\u0e32\\u0e41\\u0e2b\\u0e48\\u0e07\\u0e04\\u0e27\\u0e32\\u0e21\\u0e2a\\u0e38\\u0e02\\u0e0a\\u0e2d\\u0e1a\\u0e0a\\u0e2d\\u0e1a\\u0e04\\u0e23\\u0e31\\u0e1a\"\n        ],\n        \"semantic_type\": \"\",\n        \"description\": \"\"\n      }\n    },\n    {\n      \"column\": \"sentiment\",\n      \"properties\": {\n        \"dtype\": \"number\",\n        \"std\": 0,\n        \"min\": 0,\n        \"max\": 2,\n        \"num_unique_values\": 3,\n        \"samples\": [\n          1,\n          2,\n          0\n        ],\n        \"semantic_type\": \"\",\n        \"description\": \"\"\n      }\n    },\n    {\n      \"column\": \"clean_text\",\n      \"properties\": {\n        \"dtype\": \"string\",\n        \"num_unique_values\": 29788,\n        \"samples\": [\n          \"\\u0e2d\\u0e33\\u0e19\\u0e32\\u0e08\\u0e40\\u0e01\\u0e48\\u0e32\\u0e1b\\u0e23\\u0e30\\u0e0a\\u0e32\\u0e0a\\u0e19\",\n          \"\\u0e2a\\u0e27\\u0e04\\u0e37\\u0e2d\\u0e1b\\u0e25\\u0e32\\u0e22\\u0e40\\u0e2b\\u0e15\\u0e38\\u0e15\\u0e49\\u0e19\\u0e40\\u0e2b\\u0e15\\u0e38\\u0e40\\u0e01\\u0e34\\u0e14\\u0e08\\u0e32\\u0e01\\u0e44\\u0e2d\\u0e15\\u0e38\\u0e48\\u0e21\\u0e31\\u0e19\\u0e17\\u0e34\\u0e49\\u0e07\\u0e02\\u0e35\\u0e49\\u0e43\\u0e27\\u0e48\\u0e41\\u0e25\\u0e49\\u0e27\\u0e01\\u0e47\\u0e44\\u0e1b\",\n          \"\\u0e40\\u0e1c\\u0e0a\\u0e34\\u0e0d\\u0e19\\u0e49\\u0e33\\u0e15\\u0e32\\u0e41\\u0e2b\\u0e48\\u0e07\\u0e04\\u0e27\\u0e32\\u0e21\\u0e2a\\u0e38\\u0e02\\u0e0a\\u0e2d\\u0e1a\\u0e0a\\u0e2d\\u0e1a\\u0e04\\u0e23\\u0e31\\u0e1a\"\n        ],\n        \"semantic_type\": \"\",\n        \"description\": \"\"\n      }\n    },\n    {\n      \"column\": \"clean2_text\",\n      \"properties\": {\n        \"dtype\": \"string\",\n        \"num_unique_values\": 29788,\n        \"samples\": [\n          \"\\u0e2d\\u0e33\\u0e19\\u0e32\\u0e08\\u0e40\\u0e01\\u0e48\\u0e32\\u0e1b\\u0e23\\u0e30\\u0e0a\\u0e32\\u0e0a\\u0e19\",\n          \"\\u0e2a\\u0e27\\u0e04\\u0e37\\u0e2d\\u0e1b\\u0e25\\u0e32\\u0e22\\u0e40\\u0e2b\\u0e15\\u0e38\\u0e15\\u0e49\\u0e19\\u0e40\\u0e2b\\u0e15\\u0e38\\u0e40\\u0e01\\u0e34\\u0e14\\u0e08\\u0e32\\u0e01\\u0e44\\u0e2d\\u0e15\\u0e38\\u0e48\\u0e21\\u0e31\\u0e19\\u0e17\\u0e34\\u0e49\\u0e07\\u0e02\\u0e35\\u0e49\\u0e43\\u0e27\\u0e48\\u0e41\\u0e25\\u0e49\\u0e27\\u0e01\\u0e47\\u0e44\\u0e1b\",\n          \"\\u0e40\\u0e1c\\u0e0a\\u0e34\\u0e0d\\u0e19\\u0e49\\u0e33\\u0e15\\u0e32\\u0e41\\u0e2b\\u0e48\\u0e07\\u0e04\\u0e27\\u0e32\\u0e21\\u0e2a\\u0e38\\u0e02\\u0e0a\\u0e2d\\u0e1a\\u0e0a\\u0e2d\\u0e1a\\u0e04\\u0e23\\u0e31\\u0e1a\"\n        ],\n        \"semantic_type\": \"\",\n        \"description\": \"\"\n      }\n    },\n    {\n      \"column\": \"clean3_text\",\n      \"properties\": {\n        \"dtype\": \"string\",\n        \"num_unique_values\": 29788,\n        \"samples\": [\n          \"\\u0e2d\\u0e33\\u0e19\\u0e32\\u0e08\\u0e40\\u0e01\\u0e48\\u0e32\\u0e1b\\u0e23\\u0e30\\u0e0a\\u0e32\\u0e0a\\u0e19\",\n          \"\\u0e2a\\u0e27\\u0e04\\u0e37\\u0e2d\\u0e1b\\u0e25\\u0e32\\u0e22\\u0e40\\u0e2b\\u0e15\\u0e38\\u0e15\\u0e49\\u0e19\\u0e40\\u0e2b\\u0e15\\u0e38\\u0e40\\u0e01\\u0e34\\u0e14\\u0e08\\u0e32\\u0e01\\u0e44\\u0e2d\\u0e15\\u0e38\\u0e48\\u0e21\\u0e31\\u0e19\\u0e17\\u0e34\\u0e49\\u0e07\\u0e02\\u0e35\\u0e49\\u0e43\\u0e27\\u0e48\\u0e41\\u0e25\\u0e49\\u0e27\\u0e01\\u0e47\\u0e44\\u0e1b\",\n          \"\\u0e40\\u0e1c\\u0e0a\\u0e34\\u0e0d\\u0e19\\u0e49\\u0e33\\u0e15\\u0e32\\u0e41\\u0e2b\\u0e48\\u0e07\\u0e04\\u0e27\\u0e32\\u0e21\\u0e2a\\u0e38\\u0e02\\u0e0a\\u0e2d\\u0e1a\\u0e0a\\u0e2d\\u0e1a\\u0e04\\u0e23\\u0e31\\u0e1a\"\n        ],\n        \"semantic_type\": \"\",\n        \"description\": \"\"\n      }\n    },\n    {\n      \"column\": \"clean4_text\",\n      \"properties\": {\n        \"dtype\": \"string\",\n        \"num_unique_values\": 29788,\n        \"samples\": [\n          \"\\u0e2d\\u0e33\\u0e19\\u0e32\\u0e08\\u0e40\\u0e01\\u0e48\\u0e32\\u0e1b\\u0e23\\u0e30\\u0e0a\\u0e32\\u0e0a\\u0e19\",\n          \"\\u0e2a\\u0e27\\u0e04\\u0e37\\u0e2d\\u0e1b\\u0e25\\u0e32\\u0e22\\u0e40\\u0e2b\\u0e15\\u0e38\\u0e15\\u0e49\\u0e19\\u0e40\\u0e2b\\u0e15\\u0e38\\u0e40\\u0e01\\u0e34\\u0e14\\u0e08\\u0e32\\u0e01\\u0e44\\u0e2d\\u0e15\\u0e38\\u0e48\\u0e21\\u0e31\\u0e19\\u0e17\\u0e34\\u0e49\\u0e07\\u0e02\\u0e35\\u0e49\\u0e43\\u0e27\\u0e48\\u0e41\\u0e25\\u0e49\\u0e27\\u0e01\\u0e47\\u0e44\\u0e1b\",\n          \"\\u0e40\\u0e1c\\u0e0a\\u0e34\\u0e0d\\u0e19\\u0e49\\u0e33\\u0e15\\u0e32\\u0e41\\u0e2b\\u0e48\\u0e07\\u0e04\\u0e27\\u0e32\\u0e21\\u0e2a\\u0e38\\u0e02\\u0e0a\\u0e2d\\u0e1a\\u0e0a\\u0e2d\\u0e1a\\u0e04\\u0e23\\u0e31\\u0e1a\"\n        ],\n        \"semantic_type\": \"\",\n        \"description\": \"\"\n      }\n    },\n    {\n      \"column\": \"wordseged_text\",\n      \"properties\": {\n        \"dtype\": \"string\",\n        \"num_unique_values\": 29788,\n        \"samples\": [\n          \"['\\u0e2d\\u0e33\\u0e19\\u0e32\\u0e08', '\\u0e40\\u0e01\\u0e48\\u0e32', '\\u0e1b\\u0e23\\u0e30\\u0e0a\\u0e32\\u0e0a\\u0e19']\",\n          \"['\\u0e2a\\u0e27', '\\u0e04\\u0e37\\u0e2d', '\\u0e1b\\u0e25\\u0e32\\u0e22', '\\u0e40\\u0e2b\\u0e15\\u0e38', '\\u0e15\\u0e49\\u0e19\\u0e40\\u0e2b\\u0e15\\u0e38', '\\u0e40\\u0e01\\u0e34\\u0e14', '\\u0e08\\u0e32\\u0e01', '\\u0e44\\u0e2d', '\\u0e15\\u0e38\\u0e48', '\\u0e21\\u0e31\\u0e19', '\\u0e17\\u0e34\\u0e49\\u0e07', '\\u0e02\\u0e35\\u0e49', '\\u0e43\\u0e27\\u0e48', '\\u0e41\\u0e25\\u0e49\\u0e27\\u0e01\\u0e47', '\\u0e44\\u0e1b']\",\n          \"['\\u0e40\\u0e1c\\u0e0a\\u0e34\\u0e0d', '\\u0e19\\u0e49\\u0e33\\u0e15\\u0e32', '\\u0e41\\u0e2b\\u0e48\\u0e07', '\\u0e04\\u0e27\\u0e32\\u0e21\\u0e2a\\u0e38\\u0e02', '\\u0e0a\\u0e2d\\u0e1a', '\\u0e0a\\u0e2d\\u0e1a', '\\u0e04\\u0e23\\u0e31\\u0e1a']\"\n        ],\n        \"semantic_type\": \"\",\n        \"description\": \"\"\n      }\n    },\n    {\n      \"column\": \"wordseged_space_text\",\n      \"properties\": {\n        \"dtype\": \"string\",\n        \"num_unique_values\": 29788,\n        \"samples\": [\n          \"\\u0e2d\\u0e33\\u0e19\\u0e32\\u0e08 \\u0e40\\u0e01\\u0e48\\u0e32 \\u0e1b\\u0e23\\u0e30\\u0e0a\\u0e32\\u0e0a\\u0e19\",\n          \"\\u0e2a\\u0e27 \\u0e04\\u0e37\\u0e2d \\u0e1b\\u0e25\\u0e32\\u0e22 \\u0e40\\u0e2b\\u0e15\\u0e38 \\u0e15\\u0e49\\u0e19\\u0e40\\u0e2b\\u0e15\\u0e38 \\u0e40\\u0e01\\u0e34\\u0e14 \\u0e08\\u0e32\\u0e01 \\u0e44\\u0e2d \\u0e15\\u0e38\\u0e48 \\u0e21\\u0e31\\u0e19 \\u0e17\\u0e34\\u0e49\\u0e07 \\u0e02\\u0e35\\u0e49 \\u0e43\\u0e27\\u0e48 \\u0e41\\u0e25\\u0e49\\u0e27\\u0e01\\u0e47 \\u0e44\\u0e1b\",\n          \"\\u0e40\\u0e1c\\u0e0a\\u0e34\\u0e0d \\u0e19\\u0e49\\u0e33\\u0e15\\u0e32 \\u0e41\\u0e2b\\u0e48\\u0e07 \\u0e04\\u0e27\\u0e32\\u0e21\\u0e2a\\u0e38\\u0e02 \\u0e0a\\u0e2d\\u0e1a \\u0e0a\\u0e2d\\u0e1a \\u0e04\\u0e23\\u0e31\\u0e1a\"\n        ],\n        \"semantic_type\": \"\",\n        \"description\": \"\"\n      }\n    }\n  ]\n}"
            }
          },
          "metadata": {},
          "execution_count": 4
        }
      ]
    },
    {
      "cell_type": "code",
      "source": [
        "test_data"
      ],
      "metadata": {
        "colab": {
          "base_uri": "https://localhost:8080/",
          "height": 562
        },
        "id": "gPw4wO5_qwOK",
        "outputId": "5f719cc9-a496-4028-a6e4-b527ff978b30"
      },
      "execution_count": null,
      "outputs": [
        {
          "output_type": "execute_result",
          "data": {
            "text/plain": [
              "                                                   text  sentiment  \\\n",
              "0               สมัยหน้าพรรคคุณมีเก้าอี้เพิ่มแน่นอนครับ          1   \n",
              "1                          สมแล้วค่ะที่ชื่อพรรคเป็นธรรม          2   \n",
              "2                                         สู้เงินไม่ได้          1   \n",
              "3     สัจจะกินไม่ได้แต่มันทำให้คุณสูงส่งพูดดีทำดีเรา...          1   \n",
              "4                                          ชอบคุนนะชาดา          2   \n",
              "...                                                 ...        ...   \n",
              "7813  เขาจะหลอกให้พวกคุณเสนอจนครบยังไงสวเขาไม่เอาเพื...          0   \n",
              "7814  ใช่พลาดมากและผิดหวังกับประธานสภามากเลยค่ะสุดท้...          0   \n",
              "7815                           เป็นกำลังใจให้คุณพิธาค่ะ          2   \n",
              "7816  ท่านพูดถูกต้องลูกหลานไทยจะต้องรู้จักประวัติศาส...          2   \n",
              "7817  พระพุทธเจ้าที่ไหนหว่ามาเล่นการเมืองกูอยู่พบไหน...          1   \n",
              "\n",
              "                                             clean_text  \\\n",
              "0               สมัยหน้าพรรคคุณมีเก้าอี้เพิ่มแน่นอนครับ   \n",
              "1                          สมแล้วค่ะที่ชื่อพรรคเป็นธรรม   \n",
              "2                                         สู้เงินไม่ได้   \n",
              "3     สัจจะกินไม่ได้แต่มันทำให้คุณสูงส่งพูดดีทำดีเรา...   \n",
              "4                                          ชอบคุนนะชาดา   \n",
              "...                                                 ...   \n",
              "7813  เขาจะหลอกให้พวกคุณเสนอจนครบยังไงสวเขาไม่เอาเพื...   \n",
              "7814  ใช่พลาดมากและผิดหวังกับประธานสภามากเลยค่ะสุดท้...   \n",
              "7815                           เป็นกำลังใจให้คุณพิธาค่ะ   \n",
              "7816  ท่านพูดถูกต้องลูกหลานไทยจะต้องรู้จักประวัติศาส...   \n",
              "7817  พระพุทธเจ้าที่ไหนหว่ามาเล่นการเมืองกูอยู่พบไหน...   \n",
              "\n",
              "                                            clean2_text  \\\n",
              "0               สมัยหน้าพรรคคุณมีเก้าอี้เพิ่มแน่นอนครับ   \n",
              "1                          สมแล้วค่ะที่ชื่อพรรคเป็นธรรม   \n",
              "2                                         สู้เงินไม่ได้   \n",
              "3     สัจจะกินไม่ได้แต่มันทำให้คุณสูงส่งพูดดีทำดีเรา...   \n",
              "4                                          ชอบคุนนะชาดา   \n",
              "...                                                 ...   \n",
              "7813  เขาจะหลอกให้พวกคุณเสนอจนครบยังไงสวเขาไม่เอาเพื...   \n",
              "7814  ใช่พลาดมากและผิดหวังกับประธานสภามากเลยค่ะสุดท้...   \n",
              "7815                           เป็นกำลังใจให้คุณพิธาค่ะ   \n",
              "7816  ท่านพูดถูกต้องลูกหลานไทยจะต้องรู้จักประวัติศาส...   \n",
              "7817  พระพุทธเจ้าที่ไหนหว่ามาเล่นการเมืองกูอยู่พบไหน...   \n",
              "\n",
              "                                            clean3_text  \\\n",
              "0               สมัยหน้าพรรคคุณมีเก้าอี้เพิ่มแน่นอนครับ   \n",
              "1                          สมแล้วค่ะที่ชื่อพรรคเป็นธรรม   \n",
              "2                                         สู้เงินไม่ได้   \n",
              "3     สัจจะกินไม่ได้แต่มันทำให้คุณสูงส่งพูดดีทำดีเรา...   \n",
              "4                                          ชอบคุนนะชาดา   \n",
              "...                                                 ...   \n",
              "7813  เขาจะหลอกให้พวกคุณเสนอจนครบยังไงสวเขาไม่เอาเพื...   \n",
              "7814  ใช่พลาดมากและผิดหวังกับประธานสภามากเลยค่ะสุดท้...   \n",
              "7815                           เป็นกำลังใจให้คุณพิธาค่ะ   \n",
              "7816  ท่านพูดถูกต้องลูกหลานไทยจะต้องรู้จักประวัติศาส...   \n",
              "7817  พระพุทธเจ้าที่ไหนหว่ามาเล่นการเมืองกูอยู่พบไหน...   \n",
              "\n",
              "                                            clean4_text  \\\n",
              "0               สมัยหน้าพรรคคุณมีเก้าอี้เพิ่มแน่นอนครับ   \n",
              "1                          สมแล้วค่ะที่ชื่อพรรคเป็นธรรม   \n",
              "2                                         สู้เงินไม่ได้   \n",
              "3     สัจจะกินไม่ได้แต่มันทำให้คุณสูงส่งพูดดีทำดีเรา...   \n",
              "4                                          ชอบคุนนะชาดา   \n",
              "...                                                 ...   \n",
              "7813  เขาจะหลอกให้พวกคุณเสนอจนครบยังไงสวเขาไม่เอาเพื...   \n",
              "7814  ใช่พลาดมากและผิดหวังกับประธานสภามากเลยค่ะสุดท้...   \n",
              "7815                           เป็นกำลังใจให้คุณพิธาค่ะ   \n",
              "7816  ท่านพูดถูกต้องลูกหลานไทยจะต้องรู้จักประวัติศาส...   \n",
              "7817  พระพุทธเจ้าที่ไหนหว่ามาเล่นการเมืองกูอยู่พบไหน...   \n",
              "\n",
              "                                         wordseged_text  \\\n",
              "0     ['สมัย', 'หน้า', 'พรรค', 'คุณ', 'มี', 'เก้าอี้...   \n",
              "1     ['สม', 'แล้ว', 'ค่ะ', 'ที่', 'ชื่อ', 'พรรคเป็น...   \n",
              "2                         ['สู้', 'เงิน', 'ไม่', 'ได้']   \n",
              "3     ['สัจจะ', 'กิน', 'ไม่', 'ได้', 'แต่', 'มัน', '...   \n",
              "4                  ['ชอบ', 'คุ', 'น', 'นะ', 'ชา', 'ดา']   \n",
              "...                                                 ...   \n",
              "7813  ['เขา', 'จะ', 'หลอก', 'ให้', 'พวกคุณ', 'เสนอ',...   \n",
              "7814  ['ใช่', 'พลาด', 'มาก', 'และ', 'ผิดหวัง', 'กับ'...   \n",
              "7815   ['เป็น', 'กำลังใจ', 'ให้', 'คุณ', 'พิธา', 'ค่ะ']   \n",
              "7816  ['ท่าน', 'พูด', 'ถูกต้อง', 'ลูกหลาน', 'ไทย', '...   \n",
              "7817  ['พระพุทธเจ้า', 'ที่ไหน', 'หว่า', 'มา', 'เล่นก...   \n",
              "\n",
              "                                   wordseged_space_text  \n",
              "0       สมัย หน้า พรรค คุณ มี เก้าอี้ เพิ่ม แน่นอน ครับ  \n",
              "1                     สม แล้ว ค่ะ ที่ ชื่อ พรรคเป็นธรรม  \n",
              "2                                      สู้ เงิน ไม่ ได้  \n",
              "3     สัจจะ กิน ไม่ ได้ แต่ มัน ทำให้ คุณ สูงส่ง พูด...  \n",
              "4                                     ชอบ คุ น นะ ชา ดา  \n",
              "...                                                 ...  \n",
              "7813  เขา จะ หลอก ให้ พวกคุณ เสนอ จน ครบ ยังไง สว เข...  \n",
              "7814  ใช่ พลาด มาก และ ผิดหวัง กับ ประธาน สภา มาก เล...  \n",
              "7815                      เป็น กำลังใจ ให้ คุณ พิธา ค่ะ  \n",
              "7816  ท่าน พูด ถูกต้อง ลูกหลาน ไทย จะ ต้อง รู้จัก ปร...  \n",
              "7817  พระพุทธเจ้า ที่ไหน หว่า มา เล่นการเมือง กู อยู...  \n",
              "\n",
              "[7818 rows x 8 columns]"
            ],
            "text/html": [
              "\n",
              "  <div id=\"df-3236a82d-ebc5-43df-9607-03e898c0420c\" class=\"colab-df-container\">\n",
              "    <div>\n",
              "<style scoped>\n",
              "    .dataframe tbody tr th:only-of-type {\n",
              "        vertical-align: middle;\n",
              "    }\n",
              "\n",
              "    .dataframe tbody tr th {\n",
              "        vertical-align: top;\n",
              "    }\n",
              "\n",
              "    .dataframe thead th {\n",
              "        text-align: right;\n",
              "    }\n",
              "</style>\n",
              "<table border=\"1\" class=\"dataframe\">\n",
              "  <thead>\n",
              "    <tr style=\"text-align: right;\">\n",
              "      <th></th>\n",
              "      <th>text</th>\n",
              "      <th>sentiment</th>\n",
              "      <th>clean_text</th>\n",
              "      <th>clean2_text</th>\n",
              "      <th>clean3_text</th>\n",
              "      <th>clean4_text</th>\n",
              "      <th>wordseged_text</th>\n",
              "      <th>wordseged_space_text</th>\n",
              "    </tr>\n",
              "  </thead>\n",
              "  <tbody>\n",
              "    <tr>\n",
              "      <th>0</th>\n",
              "      <td>สมัยหน้าพรรคคุณมีเก้าอี้เพิ่มแน่นอนครับ</td>\n",
              "      <td>1</td>\n",
              "      <td>สมัยหน้าพรรคคุณมีเก้าอี้เพิ่มแน่นอนครับ</td>\n",
              "      <td>สมัยหน้าพรรคคุณมีเก้าอี้เพิ่มแน่นอนครับ</td>\n",
              "      <td>สมัยหน้าพรรคคุณมีเก้าอี้เพิ่มแน่นอนครับ</td>\n",
              "      <td>สมัยหน้าพรรคคุณมีเก้าอี้เพิ่มแน่นอนครับ</td>\n",
              "      <td>['สมัย', 'หน้า', 'พรรค', 'คุณ', 'มี', 'เก้าอี้...</td>\n",
              "      <td>สมัย หน้า พรรค คุณ มี เก้าอี้ เพิ่ม แน่นอน ครับ</td>\n",
              "    </tr>\n",
              "    <tr>\n",
              "      <th>1</th>\n",
              "      <td>สมแล้วค่ะที่ชื่อพรรคเป็นธรรม</td>\n",
              "      <td>2</td>\n",
              "      <td>สมแล้วค่ะที่ชื่อพรรคเป็นธรรม</td>\n",
              "      <td>สมแล้วค่ะที่ชื่อพรรคเป็นธรรม</td>\n",
              "      <td>สมแล้วค่ะที่ชื่อพรรคเป็นธรรม</td>\n",
              "      <td>สมแล้วค่ะที่ชื่อพรรคเป็นธรรม</td>\n",
              "      <td>['สม', 'แล้ว', 'ค่ะ', 'ที่', 'ชื่อ', 'พรรคเป็น...</td>\n",
              "      <td>สม แล้ว ค่ะ ที่ ชื่อ พรรคเป็นธรรม</td>\n",
              "    </tr>\n",
              "    <tr>\n",
              "      <th>2</th>\n",
              "      <td>สู้เงินไม่ได้</td>\n",
              "      <td>1</td>\n",
              "      <td>สู้เงินไม่ได้</td>\n",
              "      <td>สู้เงินไม่ได้</td>\n",
              "      <td>สู้เงินไม่ได้</td>\n",
              "      <td>สู้เงินไม่ได้</td>\n",
              "      <td>['สู้', 'เงิน', 'ไม่', 'ได้']</td>\n",
              "      <td>สู้ เงิน ไม่ ได้</td>\n",
              "    </tr>\n",
              "    <tr>\n",
              "      <th>3</th>\n",
              "      <td>สัจจะกินไม่ได้แต่มันทำให้คุณสูงส่งพูดดีทำดีเรา...</td>\n",
              "      <td>1</td>\n",
              "      <td>สัจจะกินไม่ได้แต่มันทำให้คุณสูงส่งพูดดีทำดีเรา...</td>\n",
              "      <td>สัจจะกินไม่ได้แต่มันทำให้คุณสูงส่งพูดดีทำดีเรา...</td>\n",
              "      <td>สัจจะกินไม่ได้แต่มันทำให้คุณสูงส่งพูดดีทำดีเรา...</td>\n",
              "      <td>สัจจะกินไม่ได้แต่มันทำให้คุณสูงส่งพูดดีทำดีเรา...</td>\n",
              "      <td>['สัจจะ', 'กิน', 'ไม่', 'ได้', 'แต่', 'มัน', '...</td>\n",
              "      <td>สัจจะ กิน ไม่ ได้ แต่ มัน ทำให้ คุณ สูงส่ง พูด...</td>\n",
              "    </tr>\n",
              "    <tr>\n",
              "      <th>4</th>\n",
              "      <td>ชอบคุนนะชาดา</td>\n",
              "      <td>2</td>\n",
              "      <td>ชอบคุนนะชาดา</td>\n",
              "      <td>ชอบคุนนะชาดา</td>\n",
              "      <td>ชอบคุนนะชาดา</td>\n",
              "      <td>ชอบคุนนะชาดา</td>\n",
              "      <td>['ชอบ', 'คุ', 'น', 'นะ', 'ชา', 'ดา']</td>\n",
              "      <td>ชอบ คุ น นะ ชา ดา</td>\n",
              "    </tr>\n",
              "    <tr>\n",
              "      <th>...</th>\n",
              "      <td>...</td>\n",
              "      <td>...</td>\n",
              "      <td>...</td>\n",
              "      <td>...</td>\n",
              "      <td>...</td>\n",
              "      <td>...</td>\n",
              "      <td>...</td>\n",
              "      <td>...</td>\n",
              "    </tr>\n",
              "    <tr>\n",
              "      <th>7813</th>\n",
              "      <td>เขาจะหลอกให้พวกคุณเสนอจนครบยังไงสวเขาไม่เอาเพื...</td>\n",
              "      <td>0</td>\n",
              "      <td>เขาจะหลอกให้พวกคุณเสนอจนครบยังไงสวเขาไม่เอาเพื...</td>\n",
              "      <td>เขาจะหลอกให้พวกคุณเสนอจนครบยังไงสวเขาไม่เอาเพื...</td>\n",
              "      <td>เขาจะหลอกให้พวกคุณเสนอจนครบยังไงสวเขาไม่เอาเพื...</td>\n",
              "      <td>เขาจะหลอกให้พวกคุณเสนอจนครบยังไงสวเขาไม่เอาเพื...</td>\n",
              "      <td>['เขา', 'จะ', 'หลอก', 'ให้', 'พวกคุณ', 'เสนอ',...</td>\n",
              "      <td>เขา จะ หลอก ให้ พวกคุณ เสนอ จน ครบ ยังไง สว เข...</td>\n",
              "    </tr>\n",
              "    <tr>\n",
              "      <th>7814</th>\n",
              "      <td>ใช่พลาดมากและผิดหวังกับประธานสภามากเลยค่ะสุดท้...</td>\n",
              "      <td>0</td>\n",
              "      <td>ใช่พลาดมากและผิดหวังกับประธานสภามากเลยค่ะสุดท้...</td>\n",
              "      <td>ใช่พลาดมากและผิดหวังกับประธานสภามากเลยค่ะสุดท้...</td>\n",
              "      <td>ใช่พลาดมากและผิดหวังกับประธานสภามากเลยค่ะสุดท้...</td>\n",
              "      <td>ใช่พลาดมากและผิดหวังกับประธานสภามากเลยค่ะสุดท้...</td>\n",
              "      <td>['ใช่', 'พลาด', 'มาก', 'และ', 'ผิดหวัง', 'กับ'...</td>\n",
              "      <td>ใช่ พลาด มาก และ ผิดหวัง กับ ประธาน สภา มาก เล...</td>\n",
              "    </tr>\n",
              "    <tr>\n",
              "      <th>7815</th>\n",
              "      <td>เป็นกำลังใจให้คุณพิธาค่ะ</td>\n",
              "      <td>2</td>\n",
              "      <td>เป็นกำลังใจให้คุณพิธาค่ะ</td>\n",
              "      <td>เป็นกำลังใจให้คุณพิธาค่ะ</td>\n",
              "      <td>เป็นกำลังใจให้คุณพิธาค่ะ</td>\n",
              "      <td>เป็นกำลังใจให้คุณพิธาค่ะ</td>\n",
              "      <td>['เป็น', 'กำลังใจ', 'ให้', 'คุณ', 'พิธา', 'ค่ะ']</td>\n",
              "      <td>เป็น กำลังใจ ให้ คุณ พิธา ค่ะ</td>\n",
              "    </tr>\n",
              "    <tr>\n",
              "      <th>7816</th>\n",
              "      <td>ท่านพูดถูกต้องลูกหลานไทยจะต้องรู้จักประวัติศาส...</td>\n",
              "      <td>2</td>\n",
              "      <td>ท่านพูดถูกต้องลูกหลานไทยจะต้องรู้จักประวัติศาส...</td>\n",
              "      <td>ท่านพูดถูกต้องลูกหลานไทยจะต้องรู้จักประวัติศาส...</td>\n",
              "      <td>ท่านพูดถูกต้องลูกหลานไทยจะต้องรู้จักประวัติศาส...</td>\n",
              "      <td>ท่านพูดถูกต้องลูกหลานไทยจะต้องรู้จักประวัติศาส...</td>\n",
              "      <td>['ท่าน', 'พูด', 'ถูกต้อง', 'ลูกหลาน', 'ไทย', '...</td>\n",
              "      <td>ท่าน พูด ถูกต้อง ลูกหลาน ไทย จะ ต้อง รู้จัก ปร...</td>\n",
              "    </tr>\n",
              "    <tr>\n",
              "      <th>7817</th>\n",
              "      <td>พระพุทธเจ้าที่ไหนหว่ามาเล่นการเมืองกูอยู่พบไหน...</td>\n",
              "      <td>1</td>\n",
              "      <td>พระพุทธเจ้าที่ไหนหว่ามาเล่นการเมืองกูอยู่พบไหน...</td>\n",
              "      <td>พระพุทธเจ้าที่ไหนหว่ามาเล่นการเมืองกูอยู่พบไหน...</td>\n",
              "      <td>พระพุทธเจ้าที่ไหนหว่ามาเล่นการเมืองกูอยู่พบไหน...</td>\n",
              "      <td>พระพุทธเจ้าที่ไหนหว่ามาเล่นการเมืองกูอยู่พบไหน...</td>\n",
              "      <td>['พระพุทธเจ้า', 'ที่ไหน', 'หว่า', 'มา', 'เล่นก...</td>\n",
              "      <td>พระพุทธเจ้า ที่ไหน หว่า มา เล่นการเมือง กู อยู...</td>\n",
              "    </tr>\n",
              "  </tbody>\n",
              "</table>\n",
              "<p>7818 rows × 8 columns</p>\n",
              "</div>\n",
              "    <div class=\"colab-df-buttons\">\n",
              "\n",
              "  <div class=\"colab-df-container\">\n",
              "    <button class=\"colab-df-convert\" onclick=\"convertToInteractive('df-3236a82d-ebc5-43df-9607-03e898c0420c')\"\n",
              "            title=\"Convert this dataframe to an interactive table.\"\n",
              "            style=\"display:none;\">\n",
              "\n",
              "  <svg xmlns=\"http://www.w3.org/2000/svg\" height=\"24px\" viewBox=\"0 -960 960 960\">\n",
              "    <path d=\"M120-120v-720h720v720H120Zm60-500h600v-160H180v160Zm220 220h160v-160H400v160Zm0 220h160v-160H400v160ZM180-400h160v-160H180v160Zm440 0h160v-160H620v160ZM180-180h160v-160H180v160Zm440 0h160v-160H620v160Z\"/>\n",
              "  </svg>\n",
              "    </button>\n",
              "\n",
              "  <style>\n",
              "    .colab-df-container {\n",
              "      display:flex;\n",
              "      gap: 12px;\n",
              "    }\n",
              "\n",
              "    .colab-df-convert {\n",
              "      background-color: #E8F0FE;\n",
              "      border: none;\n",
              "      border-radius: 50%;\n",
              "      cursor: pointer;\n",
              "      display: none;\n",
              "      fill: #1967D2;\n",
              "      height: 32px;\n",
              "      padding: 0 0 0 0;\n",
              "      width: 32px;\n",
              "    }\n",
              "\n",
              "    .colab-df-convert:hover {\n",
              "      background-color: #E2EBFA;\n",
              "      box-shadow: 0px 1px 2px rgba(60, 64, 67, 0.3), 0px 1px 3px 1px rgba(60, 64, 67, 0.15);\n",
              "      fill: #174EA6;\n",
              "    }\n",
              "\n",
              "    .colab-df-buttons div {\n",
              "      margin-bottom: 4px;\n",
              "    }\n",
              "\n",
              "    [theme=dark] .colab-df-convert {\n",
              "      background-color: #3B4455;\n",
              "      fill: #D2E3FC;\n",
              "    }\n",
              "\n",
              "    [theme=dark] .colab-df-convert:hover {\n",
              "      background-color: #434B5C;\n",
              "      box-shadow: 0px 1px 3px 1px rgba(0, 0, 0, 0.15);\n",
              "      filter: drop-shadow(0px 1px 2px rgba(0, 0, 0, 0.3));\n",
              "      fill: #FFFFFF;\n",
              "    }\n",
              "  </style>\n",
              "\n",
              "    <script>\n",
              "      const buttonEl =\n",
              "        document.querySelector('#df-3236a82d-ebc5-43df-9607-03e898c0420c button.colab-df-convert');\n",
              "      buttonEl.style.display =\n",
              "        google.colab.kernel.accessAllowed ? 'block' : 'none';\n",
              "\n",
              "      async function convertToInteractive(key) {\n",
              "        const element = document.querySelector('#df-3236a82d-ebc5-43df-9607-03e898c0420c');\n",
              "        const dataTable =\n",
              "          await google.colab.kernel.invokeFunction('convertToInteractive',\n",
              "                                                    [key], {});\n",
              "        if (!dataTable) return;\n",
              "\n",
              "        const docLinkHtml = 'Like what you see? Visit the ' +\n",
              "          '<a target=\"_blank\" href=https://colab.research.google.com/notebooks/data_table.ipynb>data table notebook</a>'\n",
              "          + ' to learn more about interactive tables.';\n",
              "        element.innerHTML = '';\n",
              "        dataTable['output_type'] = 'display_data';\n",
              "        await google.colab.output.renderOutput(dataTable, element);\n",
              "        const docLink = document.createElement('div');\n",
              "        docLink.innerHTML = docLinkHtml;\n",
              "        element.appendChild(docLink);\n",
              "      }\n",
              "    </script>\n",
              "  </div>\n",
              "\n",
              "\n",
              "<div id=\"df-8ca1a39c-9b2e-4291-becf-fec9556f0d25\">\n",
              "  <button class=\"colab-df-quickchart\" onclick=\"quickchart('df-8ca1a39c-9b2e-4291-becf-fec9556f0d25')\"\n",
              "            title=\"Suggest charts\"\n",
              "            style=\"display:none;\">\n",
              "\n",
              "<svg xmlns=\"http://www.w3.org/2000/svg\" height=\"24px\"viewBox=\"0 0 24 24\"\n",
              "     width=\"24px\">\n",
              "    <g>\n",
              "        <path d=\"M19 3H5c-1.1 0-2 .9-2 2v14c0 1.1.9 2 2 2h14c1.1 0 2-.9 2-2V5c0-1.1-.9-2-2-2zM9 17H7v-7h2v7zm4 0h-2V7h2v10zm4 0h-2v-4h2v4z\"/>\n",
              "    </g>\n",
              "</svg>\n",
              "  </button>\n",
              "\n",
              "<style>\n",
              "  .colab-df-quickchart {\n",
              "      --bg-color: #E8F0FE;\n",
              "      --fill-color: #1967D2;\n",
              "      --hover-bg-color: #E2EBFA;\n",
              "      --hover-fill-color: #174EA6;\n",
              "      --disabled-fill-color: #AAA;\n",
              "      --disabled-bg-color: #DDD;\n",
              "  }\n",
              "\n",
              "  [theme=dark] .colab-df-quickchart {\n",
              "      --bg-color: #3B4455;\n",
              "      --fill-color: #D2E3FC;\n",
              "      --hover-bg-color: #434B5C;\n",
              "      --hover-fill-color: #FFFFFF;\n",
              "      --disabled-bg-color: #3B4455;\n",
              "      --disabled-fill-color: #666;\n",
              "  }\n",
              "\n",
              "  .colab-df-quickchart {\n",
              "    background-color: var(--bg-color);\n",
              "    border: none;\n",
              "    border-radius: 50%;\n",
              "    cursor: pointer;\n",
              "    display: none;\n",
              "    fill: var(--fill-color);\n",
              "    height: 32px;\n",
              "    padding: 0;\n",
              "    width: 32px;\n",
              "  }\n",
              "\n",
              "  .colab-df-quickchart:hover {\n",
              "    background-color: var(--hover-bg-color);\n",
              "    box-shadow: 0 1px 2px rgba(60, 64, 67, 0.3), 0 1px 3px 1px rgba(60, 64, 67, 0.15);\n",
              "    fill: var(--button-hover-fill-color);\n",
              "  }\n",
              "\n",
              "  .colab-df-quickchart-complete:disabled,\n",
              "  .colab-df-quickchart-complete:disabled:hover {\n",
              "    background-color: var(--disabled-bg-color);\n",
              "    fill: var(--disabled-fill-color);\n",
              "    box-shadow: none;\n",
              "  }\n",
              "\n",
              "  .colab-df-spinner {\n",
              "    border: 2px solid var(--fill-color);\n",
              "    border-color: transparent;\n",
              "    border-bottom-color: var(--fill-color);\n",
              "    animation:\n",
              "      spin 1s steps(1) infinite;\n",
              "  }\n",
              "\n",
              "  @keyframes spin {\n",
              "    0% {\n",
              "      border-color: transparent;\n",
              "      border-bottom-color: var(--fill-color);\n",
              "      border-left-color: var(--fill-color);\n",
              "    }\n",
              "    20% {\n",
              "      border-color: transparent;\n",
              "      border-left-color: var(--fill-color);\n",
              "      border-top-color: var(--fill-color);\n",
              "    }\n",
              "    30% {\n",
              "      border-color: transparent;\n",
              "      border-left-color: var(--fill-color);\n",
              "      border-top-color: var(--fill-color);\n",
              "      border-right-color: var(--fill-color);\n",
              "    }\n",
              "    40% {\n",
              "      border-color: transparent;\n",
              "      border-right-color: var(--fill-color);\n",
              "      border-top-color: var(--fill-color);\n",
              "    }\n",
              "    60% {\n",
              "      border-color: transparent;\n",
              "      border-right-color: var(--fill-color);\n",
              "    }\n",
              "    80% {\n",
              "      border-color: transparent;\n",
              "      border-right-color: var(--fill-color);\n",
              "      border-bottom-color: var(--fill-color);\n",
              "    }\n",
              "    90% {\n",
              "      border-color: transparent;\n",
              "      border-bottom-color: var(--fill-color);\n",
              "    }\n",
              "  }\n",
              "</style>\n",
              "\n",
              "  <script>\n",
              "    async function quickchart(key) {\n",
              "      const quickchartButtonEl =\n",
              "        document.querySelector('#' + key + ' button');\n",
              "      quickchartButtonEl.disabled = true;  // To prevent multiple clicks.\n",
              "      quickchartButtonEl.classList.add('colab-df-spinner');\n",
              "      try {\n",
              "        const charts = await google.colab.kernel.invokeFunction(\n",
              "            'suggestCharts', [key], {});\n",
              "      } catch (error) {\n",
              "        console.error('Error during call to suggestCharts:', error);\n",
              "      }\n",
              "      quickchartButtonEl.classList.remove('colab-df-spinner');\n",
              "      quickchartButtonEl.classList.add('colab-df-quickchart-complete');\n",
              "    }\n",
              "    (() => {\n",
              "      let quickchartButtonEl =\n",
              "        document.querySelector('#df-8ca1a39c-9b2e-4291-becf-fec9556f0d25 button');\n",
              "      quickchartButtonEl.style.display =\n",
              "        google.colab.kernel.accessAllowed ? 'block' : 'none';\n",
              "    })();\n",
              "  </script>\n",
              "</div>\n",
              "    </div>\n",
              "  </div>\n"
            ],
            "application/vnd.google.colaboratory.intrinsic+json": {
              "type": "dataframe",
              "variable_name": "test_data",
              "summary": "{\n  \"name\": \"test_data\",\n  \"rows\": 7818,\n  \"fields\": [\n    {\n      \"column\": \"text\",\n      \"properties\": {\n        \"dtype\": \"string\",\n        \"num_unique_values\": 7590,\n        \"samples\": [\n          \"\\u0e2a\\u0e27\\u0e22\\u0e46\\u0e21\\u0e32\\u0e01\\u0e14\\u0e35\\u0e01\\u0e27\\u0e48\\u0e32\\u0e02\\u0e2d\\u0e07\\u0e0d\\u0e35\\u0e48\\u0e1b\\u0e38\\u0e48\\u0e19\",\n          \"\\u0e27\\u0e07\\u0e2a\\u0e32\\u0e27\\u0e19\\u0e49\\u0e2d\\u0e22\\u0e2d\\u0e38\\u0e4b\\u0e07\\u0e2d\\u0e34\\u0e4b\\u0e07\\u0e2a\\u0e38\\u0e14\\u0e22\\u0e2d\\u0e14\",\n          \"\\u0e04\\u0e19\\u0e40\\u0e25\\u0e27\\u0e04\\u0e19\\u0e1e\\u0e32\\u0e25\\u0e22\\u0e34\\u0e48\\u0e07\\u0e43\\u0e2b\\u0e0d\\u0e48\\u0e01\\u0e27\\u0e48\\u0e32\\u0e27\\u0e48\\u0e32\\u0e07\\u0e31\\u0e49\\u0e19\\u0e40\\u0e16\\u0e2d\\u0e30\\u0e01\\u0e32\\u0e23\\u0e40\\u0e21\\u0e37\\u0e2d\\u0e07\\u0e44\\u0e17\\u0e22\\u0e44\\u0e23\\u0e49\\u0e19\\u0e49\\u0e33\\u0e22\\u0e32\\u0e23\\u0e31\\u0e01\\u0e29\\u0e32\\u0e04\\u0e19\\u0e14\\u0e35\\u0e40\\u0e02\\u0e49\\u0e32\\u0e44\\u0e1b\\u0e40\\u0e1b\\u0e47\\u0e19\\u0e19\\u0e32\\u0e22\\u0e01\\u0e23\\u0e31\\u0e10\\u0e21\\u0e19\\u0e15\\u0e23\\u0e35\\u0e44\\u0e21\\u0e48\\u0e44\\u0e14\\u0e38\\u0e49\\u0e01\\u0e32\\u0e23\\u0e40\\u0e21\\u0e37\\u0e2d\\u0e07\\u0e44\\u0e17\\u0e22\\u0e22\\u0e2d\\u0e21\\u0e2d\\u0e48\\u0e2d\\u0e19\\u0e02\\u0e49\\u0e2d\\u0e15\\u0e48\\u0e2d\\u0e2d\\u0e33\\u0e19\\u0e32\\u0e08\\u0e21\\u0e37\\u0e14\\u0e08\\u0e36\\u0e07\\u0e44\\u0e21\\u0e48\\u0e2a\\u0e32\\u0e21\\u0e32\\u0e23\\u0e16\\u0e17\\u0e33\\u0e2d\\u0e30\\u0e44\\u0e23\\u0e1e\\u0e27\\u0e01\\u0e21\\u0e31\\u0e19\\u0e44\\u0e14\\u0e49\\u0e40\\u0e25\\u0e22\\u0e2b\\u0e23\\u0e37\\u0e2d\\u0e19\\u0e35\\u0e48\\u0e2a\\u0e07\\u0e2a\\u0e32\\u0e23\\u0e1b\\u0e23\\u0e30\\u0e40\\u0e17\\u0e28\\u0e44\\u0e17\\u0e22\\u0e08\\u0e23\\u0e34\\u0e07\\u0e46\\u0e40\\u0e25\\u0e22\"\n        ],\n        \"semantic_type\": \"\",\n        \"description\": \"\"\n      }\n    },\n    {\n      \"column\": \"sentiment\",\n      \"properties\": {\n        \"dtype\": \"number\",\n        \"std\": 0,\n        \"min\": 0,\n        \"max\": 2,\n        \"num_unique_values\": 3,\n        \"samples\": [\n          1,\n          2,\n          0\n        ],\n        \"semantic_type\": \"\",\n        \"description\": \"\"\n      }\n    },\n    {\n      \"column\": \"clean_text\",\n      \"properties\": {\n        \"dtype\": \"string\",\n        \"num_unique_values\": 7590,\n        \"samples\": [\n          \"\\u0e2a\\u0e27\\u0e22\\u0e46\\u0e21\\u0e32\\u0e01\\u0e14\\u0e35\\u0e01\\u0e27\\u0e48\\u0e32\\u0e02\\u0e2d\\u0e07\\u0e0d\\u0e35\\u0e48\\u0e1b\\u0e38\\u0e48\\u0e19\",\n          \"\\u0e27\\u0e07\\u0e2a\\u0e32\\u0e27\\u0e19\\u0e49\\u0e2d\\u0e22\\u0e2d\\u0e38\\u0e4b\\u0e07\\u0e2d\\u0e34\\u0e4b\\u0e07\\u0e2a\\u0e38\\u0e14\\u0e22\\u0e2d\\u0e14\",\n          \"\\u0e04\\u0e19\\u0e40\\u0e25\\u0e27\\u0e04\\u0e19\\u0e1e\\u0e32\\u0e25\\u0e22\\u0e34\\u0e48\\u0e07\\u0e43\\u0e2b\\u0e0d\\u0e48\\u0e01\\u0e27\\u0e48\\u0e32\\u0e27\\u0e48\\u0e32\\u0e07\\u0e31\\u0e49\\u0e19\\u0e40\\u0e16\\u0e2d\\u0e30\\u0e01\\u0e32\\u0e23\\u0e40\\u0e21\\u0e37\\u0e2d\\u0e07\\u0e44\\u0e17\\u0e22\\u0e44\\u0e23\\u0e49\\u0e19\\u0e49\\u0e33\\u0e22\\u0e32\\u0e23\\u0e31\\u0e01\\u0e29\\u0e32\\u0e04\\u0e19\\u0e14\\u0e35\\u0e40\\u0e02\\u0e49\\u0e32\\u0e44\\u0e1b\\u0e40\\u0e1b\\u0e47\\u0e19\\u0e19\\u0e32\\u0e22\\u0e01\\u0e23\\u0e31\\u0e10\\u0e21\\u0e19\\u0e15\\u0e23\\u0e35\\u0e44\\u0e21\\u0e48\\u0e44\\u0e14\\u0e38\\u0e49\\u0e01\\u0e32\\u0e23\\u0e40\\u0e21\\u0e37\\u0e2d\\u0e07\\u0e44\\u0e17\\u0e22\\u0e22\\u0e2d\\u0e21\\u0e2d\\u0e48\\u0e2d\\u0e19\\u0e02\\u0e49\\u0e2d\\u0e15\\u0e48\\u0e2d\\u0e2d\\u0e33\\u0e19\\u0e32\\u0e08\\u0e21\\u0e37\\u0e14\\u0e08\\u0e36\\u0e07\\u0e44\\u0e21\\u0e48\\u0e2a\\u0e32\\u0e21\\u0e32\\u0e23\\u0e16\\u0e17\\u0e33\\u0e2d\\u0e30\\u0e44\\u0e23\\u0e1e\\u0e27\\u0e01\\u0e21\\u0e31\\u0e19\\u0e44\\u0e14\\u0e49\\u0e40\\u0e25\\u0e22\\u0e2b\\u0e23\\u0e37\\u0e2d\\u0e19\\u0e35\\u0e48\\u0e2a\\u0e07\\u0e2a\\u0e32\\u0e23\\u0e1b\\u0e23\\u0e30\\u0e40\\u0e17\\u0e28\\u0e44\\u0e17\\u0e22\\u0e08\\u0e23\\u0e34\\u0e07\\u0e46\\u0e40\\u0e25\\u0e22\"\n        ],\n        \"semantic_type\": \"\",\n        \"description\": \"\"\n      }\n    },\n    {\n      \"column\": \"clean2_text\",\n      \"properties\": {\n        \"dtype\": \"string\",\n        \"num_unique_values\": 7590,\n        \"samples\": [\n          \"\\u0e2a\\u0e27\\u0e22\\u0e46\\u0e21\\u0e32\\u0e01\\u0e14\\u0e35\\u0e01\\u0e27\\u0e48\\u0e32\\u0e02\\u0e2d\\u0e07\\u0e0d\\u0e35\\u0e48\\u0e1b\\u0e38\\u0e48\\u0e19\",\n          \"\\u0e27\\u0e07\\u0e2a\\u0e32\\u0e27\\u0e19\\u0e49\\u0e2d\\u0e22\\u0e2d\\u0e38\\u0e4b\\u0e07\\u0e2d\\u0e34\\u0e4b\\u0e07\\u0e2a\\u0e38\\u0e14\\u0e22\\u0e2d\\u0e14\",\n          \"\\u0e04\\u0e19\\u0e40\\u0e25\\u0e27\\u0e04\\u0e19\\u0e1e\\u0e32\\u0e25\\u0e22\\u0e34\\u0e48\\u0e07\\u0e43\\u0e2b\\u0e0d\\u0e48\\u0e01\\u0e27\\u0e48\\u0e32\\u0e27\\u0e48\\u0e32\\u0e07\\u0e31\\u0e49\\u0e19\\u0e40\\u0e16\\u0e2d\\u0e30\\u0e01\\u0e32\\u0e23\\u0e40\\u0e21\\u0e37\\u0e2d\\u0e07\\u0e44\\u0e17\\u0e22\\u0e44\\u0e23\\u0e49\\u0e19\\u0e49\\u0e33\\u0e22\\u0e32\\u0e23\\u0e31\\u0e01\\u0e29\\u0e32\\u0e04\\u0e19\\u0e14\\u0e35\\u0e40\\u0e02\\u0e49\\u0e32\\u0e44\\u0e1b\\u0e40\\u0e1b\\u0e47\\u0e19\\u0e19\\u0e32\\u0e22\\u0e01\\u0e23\\u0e31\\u0e10\\u0e21\\u0e19\\u0e15\\u0e23\\u0e35\\u0e44\\u0e21\\u0e48\\u0e44\\u0e14\\u0e38\\u0e49\\u0e01\\u0e32\\u0e23\\u0e40\\u0e21\\u0e37\\u0e2d\\u0e07\\u0e44\\u0e17\\u0e22\\u0e22\\u0e2d\\u0e21\\u0e2d\\u0e48\\u0e2d\\u0e19\\u0e02\\u0e49\\u0e2d\\u0e15\\u0e48\\u0e2d\\u0e2d\\u0e33\\u0e19\\u0e32\\u0e08\\u0e21\\u0e37\\u0e14\\u0e08\\u0e36\\u0e07\\u0e44\\u0e21\\u0e48\\u0e2a\\u0e32\\u0e21\\u0e32\\u0e23\\u0e16\\u0e17\\u0e33\\u0e2d\\u0e30\\u0e44\\u0e23\\u0e1e\\u0e27\\u0e01\\u0e21\\u0e31\\u0e19\\u0e44\\u0e14\\u0e49\\u0e40\\u0e25\\u0e22\\u0e2b\\u0e23\\u0e37\\u0e2d\\u0e19\\u0e35\\u0e48\\u0e2a\\u0e07\\u0e2a\\u0e32\\u0e23\\u0e1b\\u0e23\\u0e30\\u0e40\\u0e17\\u0e28\\u0e44\\u0e17\\u0e22\\u0e08\\u0e23\\u0e34\\u0e07\\u0e46\\u0e40\\u0e25\\u0e22\"\n        ],\n        \"semantic_type\": \"\",\n        \"description\": \"\"\n      }\n    },\n    {\n      \"column\": \"clean3_text\",\n      \"properties\": {\n        \"dtype\": \"string\",\n        \"num_unique_values\": 7590,\n        \"samples\": [\n          \"\\u0e2a\\u0e27\\u0e22\\u0e46\\u0e21\\u0e32\\u0e01\\u0e14\\u0e35\\u0e01\\u0e27\\u0e48\\u0e32\\u0e02\\u0e2d\\u0e07\\u0e0d\\u0e35\\u0e48\\u0e1b\\u0e38\\u0e48\\u0e19\",\n          \"\\u0e27\\u0e07\\u0e2a\\u0e32\\u0e27\\u0e19\\u0e49\\u0e2d\\u0e22\\u0e2d\\u0e38\\u0e4b\\u0e07\\u0e2d\\u0e34\\u0e4b\\u0e07\\u0e2a\\u0e38\\u0e14\\u0e22\\u0e2d\\u0e14\",\n          \"\\u0e04\\u0e19\\u0e40\\u0e25\\u0e27\\u0e04\\u0e19\\u0e1e\\u0e32\\u0e25\\u0e22\\u0e34\\u0e48\\u0e07\\u0e43\\u0e2b\\u0e0d\\u0e48\\u0e01\\u0e27\\u0e48\\u0e32\\u0e27\\u0e48\\u0e32\\u0e07\\u0e31\\u0e49\\u0e19\\u0e40\\u0e16\\u0e2d\\u0e30\\u0e01\\u0e32\\u0e23\\u0e40\\u0e21\\u0e37\\u0e2d\\u0e07\\u0e44\\u0e17\\u0e22\\u0e44\\u0e23\\u0e49\\u0e19\\u0e49\\u0e33\\u0e22\\u0e32\\u0e23\\u0e31\\u0e01\\u0e29\\u0e32\\u0e04\\u0e19\\u0e14\\u0e35\\u0e40\\u0e02\\u0e49\\u0e32\\u0e44\\u0e1b\\u0e40\\u0e1b\\u0e47\\u0e19\\u0e19\\u0e32\\u0e22\\u0e01\\u0e23\\u0e31\\u0e10\\u0e21\\u0e19\\u0e15\\u0e23\\u0e35\\u0e44\\u0e21\\u0e48\\u0e44\\u0e14\\u0e38\\u0e49\\u0e01\\u0e32\\u0e23\\u0e40\\u0e21\\u0e37\\u0e2d\\u0e07\\u0e44\\u0e17\\u0e22\\u0e22\\u0e2d\\u0e21\\u0e2d\\u0e48\\u0e2d\\u0e19\\u0e02\\u0e49\\u0e2d\\u0e15\\u0e48\\u0e2d\\u0e2d\\u0e33\\u0e19\\u0e32\\u0e08\\u0e21\\u0e37\\u0e14\\u0e08\\u0e36\\u0e07\\u0e44\\u0e21\\u0e48\\u0e2a\\u0e32\\u0e21\\u0e32\\u0e23\\u0e16\\u0e17\\u0e33\\u0e2d\\u0e30\\u0e44\\u0e23\\u0e1e\\u0e27\\u0e01\\u0e21\\u0e31\\u0e19\\u0e44\\u0e14\\u0e49\\u0e40\\u0e25\\u0e22\\u0e2b\\u0e23\\u0e37\\u0e2d\\u0e19\\u0e35\\u0e48\\u0e2a\\u0e07\\u0e2a\\u0e32\\u0e23\\u0e1b\\u0e23\\u0e30\\u0e40\\u0e17\\u0e28\\u0e44\\u0e17\\u0e22\\u0e08\\u0e23\\u0e34\\u0e07\\u0e46\\u0e40\\u0e25\\u0e22\"\n        ],\n        \"semantic_type\": \"\",\n        \"description\": \"\"\n      }\n    },\n    {\n      \"column\": \"clean4_text\",\n      \"properties\": {\n        \"dtype\": \"string\",\n        \"num_unique_values\": 7590,\n        \"samples\": [\n          \"\\u0e2a\\u0e27\\u0e22\\u0e46\\u0e21\\u0e32\\u0e01\\u0e14\\u0e35\\u0e01\\u0e27\\u0e48\\u0e32\\u0e02\\u0e2d\\u0e07\\u0e0d\\u0e35\\u0e48\\u0e1b\\u0e38\\u0e48\\u0e19\",\n          \"\\u0e27\\u0e07\\u0e2a\\u0e32\\u0e27\\u0e19\\u0e49\\u0e2d\\u0e22\\u0e2d\\u0e38\\u0e4b\\u0e07\\u0e2d\\u0e34\\u0e4b\\u0e07\\u0e2a\\u0e38\\u0e14\\u0e22\\u0e2d\\u0e14\",\n          \"\\u0e04\\u0e19\\u0e40\\u0e25\\u0e27\\u0e04\\u0e19\\u0e1e\\u0e32\\u0e25\\u0e22\\u0e34\\u0e48\\u0e07\\u0e43\\u0e2b\\u0e0d\\u0e48\\u0e01\\u0e27\\u0e48\\u0e32\\u0e27\\u0e48\\u0e32\\u0e07\\u0e31\\u0e49\\u0e19\\u0e40\\u0e16\\u0e2d\\u0e30\\u0e01\\u0e32\\u0e23\\u0e40\\u0e21\\u0e37\\u0e2d\\u0e07\\u0e44\\u0e17\\u0e22\\u0e44\\u0e23\\u0e49\\u0e19\\u0e49\\u0e33\\u0e22\\u0e32\\u0e23\\u0e31\\u0e01\\u0e29\\u0e32\\u0e04\\u0e19\\u0e14\\u0e35\\u0e40\\u0e02\\u0e49\\u0e32\\u0e44\\u0e1b\\u0e40\\u0e1b\\u0e47\\u0e19\\u0e19\\u0e32\\u0e22\\u0e01\\u0e23\\u0e31\\u0e10\\u0e21\\u0e19\\u0e15\\u0e23\\u0e35\\u0e44\\u0e21\\u0e48\\u0e44\\u0e14\\u0e38\\u0e49\\u0e01\\u0e32\\u0e23\\u0e40\\u0e21\\u0e37\\u0e2d\\u0e07\\u0e44\\u0e17\\u0e22\\u0e22\\u0e2d\\u0e21\\u0e2d\\u0e48\\u0e2d\\u0e19\\u0e02\\u0e49\\u0e2d\\u0e15\\u0e48\\u0e2d\\u0e2d\\u0e33\\u0e19\\u0e32\\u0e08\\u0e21\\u0e37\\u0e14\\u0e08\\u0e36\\u0e07\\u0e44\\u0e21\\u0e48\\u0e2a\\u0e32\\u0e21\\u0e32\\u0e23\\u0e16\\u0e17\\u0e33\\u0e2d\\u0e30\\u0e44\\u0e23\\u0e1e\\u0e27\\u0e01\\u0e21\\u0e31\\u0e19\\u0e44\\u0e14\\u0e49\\u0e40\\u0e25\\u0e22\\u0e2b\\u0e23\\u0e37\\u0e2d\\u0e19\\u0e35\\u0e48\\u0e2a\\u0e07\\u0e2a\\u0e32\\u0e23\\u0e1b\\u0e23\\u0e30\\u0e40\\u0e17\\u0e28\\u0e44\\u0e17\\u0e22\\u0e08\\u0e23\\u0e34\\u0e07\\u0e46\\u0e40\\u0e25\\u0e22\"\n        ],\n        \"semantic_type\": \"\",\n        \"description\": \"\"\n      }\n    },\n    {\n      \"column\": \"wordseged_text\",\n      \"properties\": {\n        \"dtype\": \"string\",\n        \"num_unique_values\": 7590,\n        \"samples\": [\n          \"['\\u0e2a\\u0e27\\u0e22', '\\u0e46', '\\u0e21\\u0e32\\u0e01', '\\u0e14\\u0e35\\u0e01\\u0e27\\u0e48\\u0e32', '\\u0e02\\u0e2d\\u0e07', '\\u0e0d\\u0e35\\u0e48\\u0e1b\\u0e38\\u0e48\\u0e19']\",\n          \"['\\u0e27\\u0e07', '\\u0e2a\\u0e32\\u0e27\\u0e19\\u0e49\\u0e2d\\u0e22', '\\u0e2d\\u0e38\\u0e4b\\u0e07\\u0e2d\\u0e34\\u0e4b\\u0e07', '\\u0e2a\\u0e38\\u0e14\\u0e22\\u0e2d\\u0e14']\",\n          \"['\\u0e04\\u0e19\\u0e40\\u0e25\\u0e27', '\\u0e04\\u0e19\\u0e1e\\u0e32\\u0e25', '\\u0e22\\u0e34\\u0e48\\u0e07\\u0e43\\u0e2b\\u0e0d\\u0e48', '\\u0e01\\u0e27\\u0e48\\u0e32', '\\u0e27\\u0e48\\u0e32', '\\u0e07\\u0e31\\u0e49\\u0e19', '\\u0e40\\u0e16\\u0e2d\\u0e30', '\\u0e01\\u0e32\\u0e23\\u0e40\\u0e21\\u0e37\\u0e2d\\u0e07', '\\u0e44\\u0e17\\u0e22', '\\u0e44\\u0e23\\u0e49', '\\u0e19\\u0e49\\u0e33\\u0e22\\u0e32', '\\u0e23\\u0e31\\u0e01\\u0e29\\u0e32', '\\u0e04\\u0e19\\u0e14\\u0e35', '\\u0e40\\u0e02\\u0e49\\u0e32\\u0e44\\u0e1b', '\\u0e40\\u0e1b\\u0e47\\u0e19', '\\u0e19\\u0e32\\u0e22\\u0e01\\u0e23\\u0e31\\u0e10\\u0e21\\u0e19\\u0e15\\u0e23\\u0e35', '\\u0e44\\u0e21\\u0e48', '\\u0e44\\u0e14', '\\u0e38\\u0e49', '\\u0e01\\u0e32\\u0e23\\u0e40\\u0e21\\u0e37\\u0e2d\\u0e07', '\\u0e44\\u0e17\\u0e22', '\\u0e22\\u0e2d\\u0e21', '\\u0e2d\\u0e48\\u0e2d\\u0e19', '\\u0e02\\u0e49\\u0e2d\\u0e15\\u0e48\\u0e2d', '\\u0e2d\\u0e33\\u0e19\\u0e32\\u0e08\\u0e21\\u0e37\\u0e14', '\\u0e08\\u0e36\\u0e07', '\\u0e44\\u0e21\\u0e48', '\\u0e2a\\u0e32\\u0e21\\u0e32\\u0e23\\u0e16', '\\u0e17\\u0e33', '\\u0e2d\\u0e30\\u0e44\\u0e23', '\\u0e1e\\u0e27\\u0e01', '\\u0e21\\u0e31\\u0e19', '\\u0e44\\u0e14\\u0e49', '\\u0e40\\u0e25\\u0e22', '\\u0e2b\\u0e23\\u0e37\\u0e2d', '\\u0e19\\u0e35\\u0e48', '\\u0e2a\\u0e07\\u0e2a\\u0e32\\u0e23', '\\u0e1b\\u0e23\\u0e30\\u0e40\\u0e17\\u0e28', '\\u0e44\\u0e17\\u0e22', '\\u0e08\\u0e23\\u0e34\\u0e07\\u0e46', '\\u0e40\\u0e25\\u0e22']\"\n        ],\n        \"semantic_type\": \"\",\n        \"description\": \"\"\n      }\n    },\n    {\n      \"column\": \"wordseged_space_text\",\n      \"properties\": {\n        \"dtype\": \"string\",\n        \"num_unique_values\": 7590,\n        \"samples\": [\n          \"\\u0e2a\\u0e27\\u0e22 \\u0e46 \\u0e21\\u0e32\\u0e01 \\u0e14\\u0e35\\u0e01\\u0e27\\u0e48\\u0e32 \\u0e02\\u0e2d\\u0e07 \\u0e0d\\u0e35\\u0e48\\u0e1b\\u0e38\\u0e48\\u0e19\",\n          \"\\u0e27\\u0e07 \\u0e2a\\u0e32\\u0e27\\u0e19\\u0e49\\u0e2d\\u0e22 \\u0e2d\\u0e38\\u0e4b\\u0e07\\u0e2d\\u0e34\\u0e4b\\u0e07 \\u0e2a\\u0e38\\u0e14\\u0e22\\u0e2d\\u0e14\",\n          \"\\u0e04\\u0e19\\u0e40\\u0e25\\u0e27 \\u0e04\\u0e19\\u0e1e\\u0e32\\u0e25 \\u0e22\\u0e34\\u0e48\\u0e07\\u0e43\\u0e2b\\u0e0d\\u0e48 \\u0e01\\u0e27\\u0e48\\u0e32 \\u0e27\\u0e48\\u0e32 \\u0e07\\u0e31\\u0e49\\u0e19 \\u0e40\\u0e16\\u0e2d\\u0e30 \\u0e01\\u0e32\\u0e23\\u0e40\\u0e21\\u0e37\\u0e2d\\u0e07 \\u0e44\\u0e17\\u0e22 \\u0e44\\u0e23\\u0e49 \\u0e19\\u0e49\\u0e33\\u0e22\\u0e32 \\u0e23\\u0e31\\u0e01\\u0e29\\u0e32 \\u0e04\\u0e19\\u0e14\\u0e35 \\u0e40\\u0e02\\u0e49\\u0e32\\u0e44\\u0e1b \\u0e40\\u0e1b\\u0e47\\u0e19 \\u0e19\\u0e32\\u0e22\\u0e01\\u0e23\\u0e31\\u0e10\\u0e21\\u0e19\\u0e15\\u0e23\\u0e35 \\u0e44\\u0e21\\u0e48 \\u0e44\\u0e14 \\u0e38\\u0e49 \\u0e01\\u0e32\\u0e23\\u0e40\\u0e21\\u0e37\\u0e2d\\u0e07 \\u0e44\\u0e17\\u0e22 \\u0e22\\u0e2d\\u0e21 \\u0e2d\\u0e48\\u0e2d\\u0e19 \\u0e02\\u0e49\\u0e2d\\u0e15\\u0e48\\u0e2d \\u0e2d\\u0e33\\u0e19\\u0e32\\u0e08\\u0e21\\u0e37\\u0e14 \\u0e08\\u0e36\\u0e07 \\u0e44\\u0e21\\u0e48 \\u0e2a\\u0e32\\u0e21\\u0e32\\u0e23\\u0e16 \\u0e17\\u0e33 \\u0e2d\\u0e30\\u0e44\\u0e23 \\u0e1e\\u0e27\\u0e01 \\u0e21\\u0e31\\u0e19 \\u0e44\\u0e14\\u0e49 \\u0e40\\u0e25\\u0e22 \\u0e2b\\u0e23\\u0e37\\u0e2d \\u0e19\\u0e35\\u0e48 \\u0e2a\\u0e07\\u0e2a\\u0e32\\u0e23 \\u0e1b\\u0e23\\u0e30\\u0e40\\u0e17\\u0e28 \\u0e44\\u0e17\\u0e22 \\u0e08\\u0e23\\u0e34\\u0e07\\u0e46 \\u0e40\\u0e25\\u0e22\"\n        ],\n        \"semantic_type\": \"\",\n        \"description\": \"\"\n      }\n    }\n  ]\n}"
            }
          },
          "metadata": {},
          "execution_count": 55
        }
      ]
    },
    {
      "cell_type": "code",
      "source": [
        "from sklearn.model_selection import train_test_split\n",
        "from sklearn.preprocessing import LabelEncoder\n",
        "from sklearn.feature_extraction.text import TfidfVectorizer\n",
        "from pythainlp.util import normalize\n",
        "from pythainlp.corpus import thai_stopwords\n",
        "from pythainlp.tokenize import word_tokenize\n",
        "import torch\n",
        "import numpy as np\n",
        "\n",
        "# สร้าง vectorizer\n",
        "tfidf_vectorizer = TfidfVectorizer(max_features=1000, dtype=np.float32)\n",
        "\n",
        "# สร้าง DataFrame เพื่อเก็บค่า TF-IDF แต่ละคำ\n",
        "tfidf_matrix = tfidf_vectorizer.fit_transform([\"ทด สอบ ดู นะ ครับ\"]).toarray()\n",
        "features = tfidf_vectorizer.get_feature_names_out()\n",
        "\n",
        "import pandas as pd\n",
        "\n",
        "df = pd.DataFrame(tfidf_matrix, columns=features)\n",
        "df\n"
      ],
      "metadata": {
        "colab": {
          "base_uri": "https://localhost:8080/",
          "height": 81
        },
        "id": "HpsQJjKDdRVR",
        "outputId": "fc5d3d97-7783-42df-9189-1de8e89ead2a"
      },
      "execution_count": null,
      "outputs": [
        {
          "output_type": "execute_result",
          "data": {
            "text/plain": [
              "    คร   ทด   นะ  สอบ\n",
              "0  0.5  0.5  0.5  0.5"
            ],
            "text/html": [
              "\n",
              "  <div id=\"df-3d064e42-3664-4e91-9460-8855b35eb90d\" class=\"colab-df-container\">\n",
              "    <div>\n",
              "<style scoped>\n",
              "    .dataframe tbody tr th:only-of-type {\n",
              "        vertical-align: middle;\n",
              "    }\n",
              "\n",
              "    .dataframe tbody tr th {\n",
              "        vertical-align: top;\n",
              "    }\n",
              "\n",
              "    .dataframe thead th {\n",
              "        text-align: right;\n",
              "    }\n",
              "</style>\n",
              "<table border=\"1\" class=\"dataframe\">\n",
              "  <thead>\n",
              "    <tr style=\"text-align: right;\">\n",
              "      <th></th>\n",
              "      <th>คร</th>\n",
              "      <th>ทด</th>\n",
              "      <th>นะ</th>\n",
              "      <th>สอบ</th>\n",
              "    </tr>\n",
              "  </thead>\n",
              "  <tbody>\n",
              "    <tr>\n",
              "      <th>0</th>\n",
              "      <td>0.5</td>\n",
              "      <td>0.5</td>\n",
              "      <td>0.5</td>\n",
              "      <td>0.5</td>\n",
              "    </tr>\n",
              "  </tbody>\n",
              "</table>\n",
              "</div>\n",
              "    <div class=\"colab-df-buttons\">\n",
              "\n",
              "  <div class=\"colab-df-container\">\n",
              "    <button class=\"colab-df-convert\" onclick=\"convertToInteractive('df-3d064e42-3664-4e91-9460-8855b35eb90d')\"\n",
              "            title=\"Convert this dataframe to an interactive table.\"\n",
              "            style=\"display:none;\">\n",
              "\n",
              "  <svg xmlns=\"http://www.w3.org/2000/svg\" height=\"24px\" viewBox=\"0 -960 960 960\">\n",
              "    <path d=\"M120-120v-720h720v720H120Zm60-500h600v-160H180v160Zm220 220h160v-160H400v160Zm0 220h160v-160H400v160ZM180-400h160v-160H180v160Zm440 0h160v-160H620v160ZM180-180h160v-160H180v160Zm440 0h160v-160H620v160Z\"/>\n",
              "  </svg>\n",
              "    </button>\n",
              "\n",
              "  <style>\n",
              "    .colab-df-container {\n",
              "      display:flex;\n",
              "      gap: 12px;\n",
              "    }\n",
              "\n",
              "    .colab-df-convert {\n",
              "      background-color: #E8F0FE;\n",
              "      border: none;\n",
              "      border-radius: 50%;\n",
              "      cursor: pointer;\n",
              "      display: none;\n",
              "      fill: #1967D2;\n",
              "      height: 32px;\n",
              "      padding: 0 0 0 0;\n",
              "      width: 32px;\n",
              "    }\n",
              "\n",
              "    .colab-df-convert:hover {\n",
              "      background-color: #E2EBFA;\n",
              "      box-shadow: 0px 1px 2px rgba(60, 64, 67, 0.3), 0px 1px 3px 1px rgba(60, 64, 67, 0.15);\n",
              "      fill: #174EA6;\n",
              "    }\n",
              "\n",
              "    .colab-df-buttons div {\n",
              "      margin-bottom: 4px;\n",
              "    }\n",
              "\n",
              "    [theme=dark] .colab-df-convert {\n",
              "      background-color: #3B4455;\n",
              "      fill: #D2E3FC;\n",
              "    }\n",
              "\n",
              "    [theme=dark] .colab-df-convert:hover {\n",
              "      background-color: #434B5C;\n",
              "      box-shadow: 0px 1px 3px 1px rgba(0, 0, 0, 0.15);\n",
              "      filter: drop-shadow(0px 1px 2px rgba(0, 0, 0, 0.3));\n",
              "      fill: #FFFFFF;\n",
              "    }\n",
              "  </style>\n",
              "\n",
              "    <script>\n",
              "      const buttonEl =\n",
              "        document.querySelector('#df-3d064e42-3664-4e91-9460-8855b35eb90d button.colab-df-convert');\n",
              "      buttonEl.style.display =\n",
              "        google.colab.kernel.accessAllowed ? 'block' : 'none';\n",
              "\n",
              "      async function convertToInteractive(key) {\n",
              "        const element = document.querySelector('#df-3d064e42-3664-4e91-9460-8855b35eb90d');\n",
              "        const dataTable =\n",
              "          await google.colab.kernel.invokeFunction('convertToInteractive',\n",
              "                                                    [key], {});\n",
              "        if (!dataTable) return;\n",
              "\n",
              "        const docLinkHtml = 'Like what you see? Visit the ' +\n",
              "          '<a target=\"_blank\" href=https://colab.research.google.com/notebooks/data_table.ipynb>data table notebook</a>'\n",
              "          + ' to learn more about interactive tables.';\n",
              "        element.innerHTML = '';\n",
              "        dataTable['output_type'] = 'display_data';\n",
              "        await google.colab.output.renderOutput(dataTable, element);\n",
              "        const docLink = document.createElement('div');\n",
              "        docLink.innerHTML = docLinkHtml;\n",
              "        element.appendChild(docLink);\n",
              "      }\n",
              "    </script>\n",
              "  </div>\n",
              "\n",
              "    </div>\n",
              "  </div>\n"
            ],
            "application/vnd.google.colaboratory.intrinsic+json": {
              "type": "dataframe",
              "variable_name": "df",
              "summary": "{\n  \"name\": \"df\",\n  \"rows\": 1,\n  \"fields\": [\n    {\n      \"column\": \"\\u0e04\\u0e23\",\n      \"properties\": {\n        \"dtype\": \"float32\",\n        \"num_unique_values\": 1,\n        \"samples\": [\n          0.5\n        ],\n        \"semantic_type\": \"\",\n        \"description\": \"\"\n      }\n    },\n    {\n      \"column\": \"\\u0e17\\u0e14\",\n      \"properties\": {\n        \"dtype\": \"float32\",\n        \"num_unique_values\": 1,\n        \"samples\": [\n          0.5\n        ],\n        \"semantic_type\": \"\",\n        \"description\": \"\"\n      }\n    },\n    {\n      \"column\": \"\\u0e19\\u0e30\",\n      \"properties\": {\n        \"dtype\": \"float32\",\n        \"num_unique_values\": 1,\n        \"samples\": [\n          0.5\n        ],\n        \"semantic_type\": \"\",\n        \"description\": \"\"\n      }\n    },\n    {\n      \"column\": \"\\u0e2a\\u0e2d\\u0e1a\",\n      \"properties\": {\n        \"dtype\": \"float32\",\n        \"num_unique_values\": 1,\n        \"samples\": [\n          0.5\n        ],\n        \"semantic_type\": \"\",\n        \"description\": \"\"\n      }\n    }\n  ]\n}"
            }
          },
          "metadata": {},
          "execution_count": 15
        }
      ]
    },
    {
      "cell_type": "code",
      "source": [
        "from sklearn.model_selection import train_test_split\n",
        "from sklearn.preprocessing import LabelEncoder\n",
        "from sklearn.feature_extraction.text import TfidfVectorizer\n",
        "from pythainlp.util import normalize\n",
        "from pythainlp.corpus import thai_stopwords\n",
        "from pythainlp.tokenize import word_tokenize\n",
        "import torch\n",
        "import numpy as np\n",
        "\n",
        "# แบ่งข้อมูลเป็น train 80% validation 20%\n",
        "train_data, val_data = train_test_split(train_data, test_size=0.25, random_state=42, stratify=train_data['sentiment'])\n",
        "\n",
        "# เตรียมข้อมูลสำหรับการเทรนและทดสอบ\n",
        "train_sentences = train_data['wordseged_space_text'].values\n",
        "train_labels = train_data['sentiment'].values\n",
        "\n",
        "val_sentences = val_data['wordseged_space_text'].values\n",
        "val_labels = val_data['sentiment'].values\n",
        "\n",
        "test_sentences = test_data['wordseged_space_text'].values\n",
        "test_labels = test_data['sentiment'].values\n",
        "\n",
        "# ทำการเข้ารหัส labels\n",
        "encoder = LabelEncoder()\n",
        "train_encoded_labels = encoder.fit_transform(train_labels)\n",
        "val_encoded_labels = encoder.transform(val_labels)\n",
        "test_encoded_labels = encoder.transform(test_labels)\n",
        "\n",
        "# สร้าง vectorizer\n",
        "tfidf_vectorizer = TfidfVectorizer(max_features=1000, dtype=np.float32)\n",
        "\n",
        "# ใช้ชุดเทรนในการสร้าง vectorizer\n",
        "tfidfX_train = tfidf_vectorizer.fit_transform(train_sentences)\n",
        "tfidfX_train = torch.tensor(tfidfX_train.toarray())\n",
        "\n",
        "# ใช้ vectorizer ในการแปลงชุดตรวจสอบและทดสอบ\n",
        "tfidfX_val = tfidf_vectorizer.transform(val_sentences)\n",
        "tfidfX_val = torch.tensor(tfidfX_val.toarray())\n",
        "\n",
        "tfidfX_test = tfidf_vectorizer.transform(test_sentences)\n",
        "tfidfX_test = torch.tensor(tfidfX_test.toarray())\n",
        "\n",
        "print(\"TF-IDF train shape:\", tfidfX_train.shape)\n",
        "print(\"TF-IDF test shape:\", tfidfX_test.shape)\n",
        "print(\"TF-IDF val shape:\", tfidfX_val.shape)\n"
      ],
      "metadata": {
        "colab": {
          "base_uri": "https://localhost:8080/"
        },
        "id": "aYf9LqeXaeK3",
        "outputId": "532ada4a-2df3-4909-94fe-673c5c7180da"
      },
      "execution_count": null,
      "outputs": [
        {
          "output_type": "stream",
          "name": "stdout",
          "text": [
            "TF-IDF train shape: torch.Size([23454, 1000])\n",
            "TF-IDF test shape: torch.Size([7818, 1000])\n",
            "TF-IDF val shape: torch.Size([7818, 1000])\n"
          ]
        }
      ]
    },
    {
      "cell_type": "code",
      "source": [
        "print(len(train_data))\n",
        "print(len(val_data))\n",
        "print(len(test_data))"
      ],
      "metadata": {
        "colab": {
          "base_uri": "https://localhost:8080/"
        },
        "id": "fAHT0k_lzy2T",
        "outputId": "e172fc02-39a3-4faa-b8b6-6fd59a6400a6"
      },
      "execution_count": null,
      "outputs": [
        {
          "output_type": "stream",
          "name": "stdout",
          "text": [
            "25017\n",
            "6255\n",
            "7818\n"
          ]
        }
      ]
    },
    {
      "cell_type": "code",
      "source": [
        "train_data"
      ],
      "metadata": {
        "colab": {
          "base_uri": "https://localhost:8080/",
          "height": 580
        },
        "id": "dysjvbeL2fW4",
        "outputId": "e35e01f5-b435-4728-f3b2-304d6b7faa95"
      },
      "execution_count": null,
      "outputs": [
        {
          "output_type": "execute_result",
          "data": {
            "text/plain": [
              "                                                    text  sentiment  \\\n",
              "2846                                         ไล่สว237ออก          1   \n",
              "29142                          ก้าวไกลเพื่อไทยอย่ายอมแพ้          1   \n",
              "8603                          เขาด่าสวแต่โยงว่าทำลายชาติ          0   \n",
              "28657                     ดรสุดยอดเลยคะจัดไปคะพวกไร้สมอง          2   \n",
              "3965   ถ้าหวังจะหยุดก้าวไกลได้ต่อให้ยุบพรรคเขาก็มีคนใ...          1   \n",
              "...                                                  ...        ...   \n",
              "30983  เจาได้สู้มาถึงขั้นตอนนี้คิดว่าทุกเหตุการณ์เขาร...          2   \n",
              "30584  เดีํยวพวกนี้ก็ส่งเรื่องให้ศาลรัฐธรรมนูญเหมือนเดิม          1   \n",
              "617    ร้องได้ดีมากๆเลยค่ะมันตรงกับใจมากที่สุดเลยขอขอ...          2   \n",
              "28255                 คุณพิธาคุณคือนายกของใจคนไทยทั้งปวง          1   \n",
              "3575                ชอบเพลงมากๆๆสู้ๆพื่น้องเพื่อนายกพิธา          2   \n",
              "\n",
              "                                              clean_text  \\\n",
              "2846                                         ไล่สว237ออก   \n",
              "29142                          ก้าวไกลเพื่อไทยอย่ายอมแพ้   \n",
              "8603                          เขาด่าสวแต่โยงว่าทำลายชาติ   \n",
              "28657                     ดรสุดยอดเลยคะจัดไปคะพวกไร้สมอง   \n",
              "3965   ถ้าหวังจะหยุดก้าวไกลได้ต่อให้ยุบพรรคเขาก็มีคนใ...   \n",
              "...                                                  ...   \n",
              "30983  เจาได้สู้มาถึงขั้นตอนนี้คิดว่าทุกเหตุการณ์เขาร...   \n",
              "30584  เดีํยวพวกนี้ก็ส่งเรื่องให้ศาลรัฐธรรมนูญเหมือนเดิม   \n",
              "617    ร้องได้ดีมากๆเลยค่ะมันตรงกับใจมากที่สุดเลยขอขอ...   \n",
              "28255                 คุณพิธาคุณคือนายกของใจคนไทยทั้งปวง   \n",
              "3575                ชอบเพลงมากๆๆสู้ๆพื่น้องเพื่อนายกพิธา   \n",
              "\n",
              "                                             clean2_text  \\\n",
              "2846                                         ไล่สว237ออก   \n",
              "29142                          ก้าวไกลเพื่อไทยอย่ายอมแพ้   \n",
              "8603                          เขาด่าสวแต่โยงว่าทำลายชาติ   \n",
              "28657                     ดรสุดยอดเลยคะจัดไปคะพวกไร้สมอง   \n",
              "3965   ถ้าหวังจะหยุดก้าวไกลได้ต่อให้ยุบพรรคเขาก็มีคนใ...   \n",
              "...                                                  ...   \n",
              "30983  เจาได้สู้มาถึงขั้นตอนนี้คิดว่าทุกเหตุการณ์เขาร...   \n",
              "30584  เดีํยวพวกนี้ก็ส่งเรื่องให้ศาลรัฐธรรมนูญเหมือนเดิม   \n",
              "617    ร้องได้ดีมากๆเลยค่ะมันตรงกับใจมากที่สุดเลยขอขอ...   \n",
              "28255                 คุณพิธาคุณคือนายกของใจคนไทยทั้งปวง   \n",
              "3575                ชอบเพลงมากๆๆสู้ๆพื่น้องเพื่อนายกพิธา   \n",
              "\n",
              "                                             clean3_text  \\\n",
              "2846                                         ไล่สว237ออก   \n",
              "29142                          ก้าวไกลเพื่อไทยอย่ายอมแพ้   \n",
              "8603                          เขาด่าสวแต่โยงว่าทำลายชาติ   \n",
              "28657                     ดรสุดยอดเลยคะจัดไปคะพวกไร้สมอง   \n",
              "3965   ถ้าหวังจะหยุดก้าวไกลได้ต่อให้ยุบพรรคเขาก็มีคนใ...   \n",
              "...                                                  ...   \n",
              "30983  เจาได้สู้มาถึงขั้นตอนนี้คิดว่าทุกเหตุการณ์เขาร...   \n",
              "30584  เดีํยวพวกนี้ก็ส่งเรื่องให้ศาลรัฐธรรมนูญเหมือนเดิม   \n",
              "617    ร้องได้ดีมากๆเลยค่ะมันตรงกับใจมากที่สุดเลยขอขอ...   \n",
              "28255                 คุณพิธาคุณคือนายกของใจคนไทยทั้งปวง   \n",
              "3575                ชอบเพลงมากๆๆสู้ๆพื่น้องเพื่อนายกพิธา   \n",
              "\n",
              "                                             clean4_text  \\\n",
              "2846                                         ไล่สว237ออก   \n",
              "29142                          ก้าวไกลเพื่อไทยอย่ายอมแพ้   \n",
              "8603                          เขาด่าสวแต่โยงว่าทำลายชาติ   \n",
              "28657                     ดรสุดยอดเลยคะจัดไปคะพวกไร้สมอง   \n",
              "3965   ถ้าหวังจะหยุดก้าวไกลได้ต่อให้ยุบพรรคเขาก็มีคนใ...   \n",
              "...                                                  ...   \n",
              "30983  เจาได้สู้มาถึงขั้นตอนนี้คิดว่าทุกเหตุการณ์เขาร...   \n",
              "30584  เดีํยวพวกนี้ก็ส่งเรื่องให้ศาลรัฐธรรมนูญเหมือนเดิม   \n",
              "617    ร้องได้ดีมากๆเลยค่ะมันตรงกับใจมากที่สุดเลยขอขอ...   \n",
              "28255                 คุณพิธาคุณคือนายกของใจคนไทยทั้งปวง   \n",
              "3575                ชอบเพลงมากๆๆสู้ๆพื่น้องเพื่อนายกพิธา   \n",
              "\n",
              "                                          wordseged_text  \\\n",
              "2846                         ['ไล่', 'สว', '237', 'ออก']   \n",
              "29142      ['ก้าวไกล', 'เพื่อ', 'ไทย', 'อย่า', 'ยอมแพ้']   \n",
              "8603   ['เขา', 'ด่า', 'สว', 'แต่', 'โยง', 'ว่า', 'ทำล...   \n",
              "28657  ['ดร', 'สุดยอด', 'เลย', 'คะ', 'จัด', 'ไป', 'คะ...   \n",
              "3965   ['ถ้า', 'หวัง', 'จะ', 'หยุด', 'ก้าวไกล', 'ได้'...   \n",
              "...                                                  ...   \n",
              "30983  ['เจา', 'ได้', 'สู้', 'มา', 'ถึงขั้น', 'ตอนนี้...   \n",
              "30584  ['เด', 'ีํยว', 'พวก', 'นี้', 'ก็', 'ส่ง', 'เรื...   \n",
              "617    ['ร้อง', 'ได้', 'ดีมาก', 'ๆ', 'เลย', 'ค่ะ', 'ม...   \n",
              "28255  ['คุณ', 'พิธา', 'คุณ', 'คือ', 'นายก', 'ของ', '...   \n",
              "3575   ['ชอบ', 'เพลง', 'มาก', 'ๆๆ', 'สู้', 'ๆพื่น้อง'...   \n",
              "\n",
              "                                    wordseged_space_text  \n",
              "2846                                      ไล่ สว 237 ออก  \n",
              "29142                      ก้าวไกล เพื่อ ไทย อย่า ยอมแพ้  \n",
              "8603                   เขา ด่า สว แต่ โยง ว่า ทำลาย ชาติ  \n",
              "28657            ดร สุดยอด เลย คะ จัด ไป คะ พวก ไร้ สมอง  \n",
              "3965   ถ้า หวัง จะ หยุด ก้าวไกล ได้ ต่อให้ ยุบ พรรค เ...  \n",
              "...                                                  ...  \n",
              "30983  เจา ได้ สู้ มา ถึงขั้น ตอนนี้ คิด ว่า ทุก เหตุ...  \n",
              "30584  เด ีํยว พวก นี้ ก็ ส่ง เรื่อง ให้ ศาลรัฐธรรมนู...  \n",
              "617    ร้อง ได้ ดีมาก ๆ เลย ค่ะ มัน ตรง กับ ใจ มาก ที...  \n",
              "28255         คุณ พิธา คุณ คือ นายก ของ ใจ คนไทย ทั้งปวง  \n",
              "3575        ชอบ เพลง มาก ๆๆ สู้ ๆพื่น้อง เพื่อ นายก พิธา  \n",
              "\n",
              "[25017 rows x 8 columns]"
            ],
            "text/html": [
              "\n",
              "  <div id=\"df-798058b2-1628-4906-8482-607927e23e7b\" class=\"colab-df-container\">\n",
              "    <div>\n",
              "<style scoped>\n",
              "    .dataframe tbody tr th:only-of-type {\n",
              "        vertical-align: middle;\n",
              "    }\n",
              "\n",
              "    .dataframe tbody tr th {\n",
              "        vertical-align: top;\n",
              "    }\n",
              "\n",
              "    .dataframe thead th {\n",
              "        text-align: right;\n",
              "    }\n",
              "</style>\n",
              "<table border=\"1\" class=\"dataframe\">\n",
              "  <thead>\n",
              "    <tr style=\"text-align: right;\">\n",
              "      <th></th>\n",
              "      <th>text</th>\n",
              "      <th>sentiment</th>\n",
              "      <th>clean_text</th>\n",
              "      <th>clean2_text</th>\n",
              "      <th>clean3_text</th>\n",
              "      <th>clean4_text</th>\n",
              "      <th>wordseged_text</th>\n",
              "      <th>wordseged_space_text</th>\n",
              "    </tr>\n",
              "  </thead>\n",
              "  <tbody>\n",
              "    <tr>\n",
              "      <th>2846</th>\n",
              "      <td>ไล่สว237ออก</td>\n",
              "      <td>1</td>\n",
              "      <td>ไล่สว237ออก</td>\n",
              "      <td>ไล่สว237ออก</td>\n",
              "      <td>ไล่สว237ออก</td>\n",
              "      <td>ไล่สว237ออก</td>\n",
              "      <td>['ไล่', 'สว', '237', 'ออก']</td>\n",
              "      <td>ไล่ สว 237 ออก</td>\n",
              "    </tr>\n",
              "    <tr>\n",
              "      <th>29142</th>\n",
              "      <td>ก้าวไกลเพื่อไทยอย่ายอมแพ้</td>\n",
              "      <td>1</td>\n",
              "      <td>ก้าวไกลเพื่อไทยอย่ายอมแพ้</td>\n",
              "      <td>ก้าวไกลเพื่อไทยอย่ายอมแพ้</td>\n",
              "      <td>ก้าวไกลเพื่อไทยอย่ายอมแพ้</td>\n",
              "      <td>ก้าวไกลเพื่อไทยอย่ายอมแพ้</td>\n",
              "      <td>['ก้าวไกล', 'เพื่อ', 'ไทย', 'อย่า', 'ยอมแพ้']</td>\n",
              "      <td>ก้าวไกล เพื่อ ไทย อย่า ยอมแพ้</td>\n",
              "    </tr>\n",
              "    <tr>\n",
              "      <th>8603</th>\n",
              "      <td>เขาด่าสวแต่โยงว่าทำลายชาติ</td>\n",
              "      <td>0</td>\n",
              "      <td>เขาด่าสวแต่โยงว่าทำลายชาติ</td>\n",
              "      <td>เขาด่าสวแต่โยงว่าทำลายชาติ</td>\n",
              "      <td>เขาด่าสวแต่โยงว่าทำลายชาติ</td>\n",
              "      <td>เขาด่าสวแต่โยงว่าทำลายชาติ</td>\n",
              "      <td>['เขา', 'ด่า', 'สว', 'แต่', 'โยง', 'ว่า', 'ทำล...</td>\n",
              "      <td>เขา ด่า สว แต่ โยง ว่า ทำลาย ชาติ</td>\n",
              "    </tr>\n",
              "    <tr>\n",
              "      <th>28657</th>\n",
              "      <td>ดรสุดยอดเลยคะจัดไปคะพวกไร้สมอง</td>\n",
              "      <td>2</td>\n",
              "      <td>ดรสุดยอดเลยคะจัดไปคะพวกไร้สมอง</td>\n",
              "      <td>ดรสุดยอดเลยคะจัดไปคะพวกไร้สมอง</td>\n",
              "      <td>ดรสุดยอดเลยคะจัดไปคะพวกไร้สมอง</td>\n",
              "      <td>ดรสุดยอดเลยคะจัดไปคะพวกไร้สมอง</td>\n",
              "      <td>['ดร', 'สุดยอด', 'เลย', 'คะ', 'จัด', 'ไป', 'คะ...</td>\n",
              "      <td>ดร สุดยอด เลย คะ จัด ไป คะ พวก ไร้ สมอง</td>\n",
              "    </tr>\n",
              "    <tr>\n",
              "      <th>3965</th>\n",
              "      <td>ถ้าหวังจะหยุดก้าวไกลได้ต่อให้ยุบพรรคเขาก็มีคนใ...</td>\n",
              "      <td>1</td>\n",
              "      <td>ถ้าหวังจะหยุดก้าวไกลได้ต่อให้ยุบพรรคเขาก็มีคนใ...</td>\n",
              "      <td>ถ้าหวังจะหยุดก้าวไกลได้ต่อให้ยุบพรรคเขาก็มีคนใ...</td>\n",
              "      <td>ถ้าหวังจะหยุดก้าวไกลได้ต่อให้ยุบพรรคเขาก็มีคนใ...</td>\n",
              "      <td>ถ้าหวังจะหยุดก้าวไกลได้ต่อให้ยุบพรรคเขาก็มีคนใ...</td>\n",
              "      <td>['ถ้า', 'หวัง', 'จะ', 'หยุด', 'ก้าวไกล', 'ได้'...</td>\n",
              "      <td>ถ้า หวัง จะ หยุด ก้าวไกล ได้ ต่อให้ ยุบ พรรค เ...</td>\n",
              "    </tr>\n",
              "    <tr>\n",
              "      <th>...</th>\n",
              "      <td>...</td>\n",
              "      <td>...</td>\n",
              "      <td>...</td>\n",
              "      <td>...</td>\n",
              "      <td>...</td>\n",
              "      <td>...</td>\n",
              "      <td>...</td>\n",
              "      <td>...</td>\n",
              "    </tr>\n",
              "    <tr>\n",
              "      <th>30983</th>\n",
              "      <td>เจาได้สู้มาถึงขั้นตอนนี้คิดว่าทุกเหตุการณ์เขาร...</td>\n",
              "      <td>2</td>\n",
              "      <td>เจาได้สู้มาถึงขั้นตอนนี้คิดว่าทุกเหตุการณ์เขาร...</td>\n",
              "      <td>เจาได้สู้มาถึงขั้นตอนนี้คิดว่าทุกเหตุการณ์เขาร...</td>\n",
              "      <td>เจาได้สู้มาถึงขั้นตอนนี้คิดว่าทุกเหตุการณ์เขาร...</td>\n",
              "      <td>เจาได้สู้มาถึงขั้นตอนนี้คิดว่าทุกเหตุการณ์เขาร...</td>\n",
              "      <td>['เจา', 'ได้', 'สู้', 'มา', 'ถึงขั้น', 'ตอนนี้...</td>\n",
              "      <td>เจา ได้ สู้ มา ถึงขั้น ตอนนี้ คิด ว่า ทุก เหตุ...</td>\n",
              "    </tr>\n",
              "    <tr>\n",
              "      <th>30584</th>\n",
              "      <td>เดีํยวพวกนี้ก็ส่งเรื่องให้ศาลรัฐธรรมนูญเหมือนเดิม</td>\n",
              "      <td>1</td>\n",
              "      <td>เดีํยวพวกนี้ก็ส่งเรื่องให้ศาลรัฐธรรมนูญเหมือนเดิม</td>\n",
              "      <td>เดีํยวพวกนี้ก็ส่งเรื่องให้ศาลรัฐธรรมนูญเหมือนเดิม</td>\n",
              "      <td>เดีํยวพวกนี้ก็ส่งเรื่องให้ศาลรัฐธรรมนูญเหมือนเดิม</td>\n",
              "      <td>เดีํยวพวกนี้ก็ส่งเรื่องให้ศาลรัฐธรรมนูญเหมือนเดิม</td>\n",
              "      <td>['เด', 'ีํยว', 'พวก', 'นี้', 'ก็', 'ส่ง', 'เรื...</td>\n",
              "      <td>เด ีํยว พวก นี้ ก็ ส่ง เรื่อง ให้ ศาลรัฐธรรมนู...</td>\n",
              "    </tr>\n",
              "    <tr>\n",
              "      <th>617</th>\n",
              "      <td>ร้องได้ดีมากๆเลยค่ะมันตรงกับใจมากที่สุดเลยขอขอ...</td>\n",
              "      <td>2</td>\n",
              "      <td>ร้องได้ดีมากๆเลยค่ะมันตรงกับใจมากที่สุดเลยขอขอ...</td>\n",
              "      <td>ร้องได้ดีมากๆเลยค่ะมันตรงกับใจมากที่สุดเลยขอขอ...</td>\n",
              "      <td>ร้องได้ดีมากๆเลยค่ะมันตรงกับใจมากที่สุดเลยขอขอ...</td>\n",
              "      <td>ร้องได้ดีมากๆเลยค่ะมันตรงกับใจมากที่สุดเลยขอขอ...</td>\n",
              "      <td>['ร้อง', 'ได้', 'ดีมาก', 'ๆ', 'เลย', 'ค่ะ', 'ม...</td>\n",
              "      <td>ร้อง ได้ ดีมาก ๆ เลย ค่ะ มัน ตรง กับ ใจ มาก ที...</td>\n",
              "    </tr>\n",
              "    <tr>\n",
              "      <th>28255</th>\n",
              "      <td>คุณพิธาคุณคือนายกของใจคนไทยทั้งปวง</td>\n",
              "      <td>1</td>\n",
              "      <td>คุณพิธาคุณคือนายกของใจคนไทยทั้งปวง</td>\n",
              "      <td>คุณพิธาคุณคือนายกของใจคนไทยทั้งปวง</td>\n",
              "      <td>คุณพิธาคุณคือนายกของใจคนไทยทั้งปวง</td>\n",
              "      <td>คุณพิธาคุณคือนายกของใจคนไทยทั้งปวง</td>\n",
              "      <td>['คุณ', 'พิธา', 'คุณ', 'คือ', 'นายก', 'ของ', '...</td>\n",
              "      <td>คุณ พิธา คุณ คือ นายก ของ ใจ คนไทย ทั้งปวง</td>\n",
              "    </tr>\n",
              "    <tr>\n",
              "      <th>3575</th>\n",
              "      <td>ชอบเพลงมากๆๆสู้ๆพื่น้องเพื่อนายกพิธา</td>\n",
              "      <td>2</td>\n",
              "      <td>ชอบเพลงมากๆๆสู้ๆพื่น้องเพื่อนายกพิธา</td>\n",
              "      <td>ชอบเพลงมากๆๆสู้ๆพื่น้องเพื่อนายกพิธา</td>\n",
              "      <td>ชอบเพลงมากๆๆสู้ๆพื่น้องเพื่อนายกพิธา</td>\n",
              "      <td>ชอบเพลงมากๆๆสู้ๆพื่น้องเพื่อนายกพิธา</td>\n",
              "      <td>['ชอบ', 'เพลง', 'มาก', 'ๆๆ', 'สู้', 'ๆพื่น้อง'...</td>\n",
              "      <td>ชอบ เพลง มาก ๆๆ สู้ ๆพื่น้อง เพื่อ นายก พิธา</td>\n",
              "    </tr>\n",
              "  </tbody>\n",
              "</table>\n",
              "<p>25017 rows × 8 columns</p>\n",
              "</div>\n",
              "    <div class=\"colab-df-buttons\">\n",
              "\n",
              "  <div class=\"colab-df-container\">\n",
              "    <button class=\"colab-df-convert\" onclick=\"convertToInteractive('df-798058b2-1628-4906-8482-607927e23e7b')\"\n",
              "            title=\"Convert this dataframe to an interactive table.\"\n",
              "            style=\"display:none;\">\n",
              "\n",
              "  <svg xmlns=\"http://www.w3.org/2000/svg\" height=\"24px\" viewBox=\"0 -960 960 960\">\n",
              "    <path d=\"M120-120v-720h720v720H120Zm60-500h600v-160H180v160Zm220 220h160v-160H400v160Zm0 220h160v-160H400v160ZM180-400h160v-160H180v160Zm440 0h160v-160H620v160ZM180-180h160v-160H180v160Zm440 0h160v-160H620v160Z\"/>\n",
              "  </svg>\n",
              "    </button>\n",
              "\n",
              "  <style>\n",
              "    .colab-df-container {\n",
              "      display:flex;\n",
              "      gap: 12px;\n",
              "    }\n",
              "\n",
              "    .colab-df-convert {\n",
              "      background-color: #E8F0FE;\n",
              "      border: none;\n",
              "      border-radius: 50%;\n",
              "      cursor: pointer;\n",
              "      display: none;\n",
              "      fill: #1967D2;\n",
              "      height: 32px;\n",
              "      padding: 0 0 0 0;\n",
              "      width: 32px;\n",
              "    }\n",
              "\n",
              "    .colab-df-convert:hover {\n",
              "      background-color: #E2EBFA;\n",
              "      box-shadow: 0px 1px 2px rgba(60, 64, 67, 0.3), 0px 1px 3px 1px rgba(60, 64, 67, 0.15);\n",
              "      fill: #174EA6;\n",
              "    }\n",
              "\n",
              "    .colab-df-buttons div {\n",
              "      margin-bottom: 4px;\n",
              "    }\n",
              "\n",
              "    [theme=dark] .colab-df-convert {\n",
              "      background-color: #3B4455;\n",
              "      fill: #D2E3FC;\n",
              "    }\n",
              "\n",
              "    [theme=dark] .colab-df-convert:hover {\n",
              "      background-color: #434B5C;\n",
              "      box-shadow: 0px 1px 3px 1px rgba(0, 0, 0, 0.15);\n",
              "      filter: drop-shadow(0px 1px 2px rgba(0, 0, 0, 0.3));\n",
              "      fill: #FFFFFF;\n",
              "    }\n",
              "  </style>\n",
              "\n",
              "    <script>\n",
              "      const buttonEl =\n",
              "        document.querySelector('#df-798058b2-1628-4906-8482-607927e23e7b button.colab-df-convert');\n",
              "      buttonEl.style.display =\n",
              "        google.colab.kernel.accessAllowed ? 'block' : 'none';\n",
              "\n",
              "      async function convertToInteractive(key) {\n",
              "        const element = document.querySelector('#df-798058b2-1628-4906-8482-607927e23e7b');\n",
              "        const dataTable =\n",
              "          await google.colab.kernel.invokeFunction('convertToInteractive',\n",
              "                                                    [key], {});\n",
              "        if (!dataTable) return;\n",
              "\n",
              "        const docLinkHtml = 'Like what you see? Visit the ' +\n",
              "          '<a target=\"_blank\" href=https://colab.research.google.com/notebooks/data_table.ipynb>data table notebook</a>'\n",
              "          + ' to learn more about interactive tables.';\n",
              "        element.innerHTML = '';\n",
              "        dataTable['output_type'] = 'display_data';\n",
              "        await google.colab.output.renderOutput(dataTable, element);\n",
              "        const docLink = document.createElement('div');\n",
              "        docLink.innerHTML = docLinkHtml;\n",
              "        element.appendChild(docLink);\n",
              "      }\n",
              "    </script>\n",
              "  </div>\n",
              "\n",
              "\n",
              "<div id=\"df-0bbbc83e-8a20-40f0-8d44-5cffd2d1cdc7\">\n",
              "  <button class=\"colab-df-quickchart\" onclick=\"quickchart('df-0bbbc83e-8a20-40f0-8d44-5cffd2d1cdc7')\"\n",
              "            title=\"Suggest charts\"\n",
              "            style=\"display:none;\">\n",
              "\n",
              "<svg xmlns=\"http://www.w3.org/2000/svg\" height=\"24px\"viewBox=\"0 0 24 24\"\n",
              "     width=\"24px\">\n",
              "    <g>\n",
              "        <path d=\"M19 3H5c-1.1 0-2 .9-2 2v14c0 1.1.9 2 2 2h14c1.1 0 2-.9 2-2V5c0-1.1-.9-2-2-2zM9 17H7v-7h2v7zm4 0h-2V7h2v10zm4 0h-2v-4h2v4z\"/>\n",
              "    </g>\n",
              "</svg>\n",
              "  </button>\n",
              "\n",
              "<style>\n",
              "  .colab-df-quickchart {\n",
              "      --bg-color: #E8F0FE;\n",
              "      --fill-color: #1967D2;\n",
              "      --hover-bg-color: #E2EBFA;\n",
              "      --hover-fill-color: #174EA6;\n",
              "      --disabled-fill-color: #AAA;\n",
              "      --disabled-bg-color: #DDD;\n",
              "  }\n",
              "\n",
              "  [theme=dark] .colab-df-quickchart {\n",
              "      --bg-color: #3B4455;\n",
              "      --fill-color: #D2E3FC;\n",
              "      --hover-bg-color: #434B5C;\n",
              "      --hover-fill-color: #FFFFFF;\n",
              "      --disabled-bg-color: #3B4455;\n",
              "      --disabled-fill-color: #666;\n",
              "  }\n",
              "\n",
              "  .colab-df-quickchart {\n",
              "    background-color: var(--bg-color);\n",
              "    border: none;\n",
              "    border-radius: 50%;\n",
              "    cursor: pointer;\n",
              "    display: none;\n",
              "    fill: var(--fill-color);\n",
              "    height: 32px;\n",
              "    padding: 0;\n",
              "    width: 32px;\n",
              "  }\n",
              "\n",
              "  .colab-df-quickchart:hover {\n",
              "    background-color: var(--hover-bg-color);\n",
              "    box-shadow: 0 1px 2px rgba(60, 64, 67, 0.3), 0 1px 3px 1px rgba(60, 64, 67, 0.15);\n",
              "    fill: var(--button-hover-fill-color);\n",
              "  }\n",
              "\n",
              "  .colab-df-quickchart-complete:disabled,\n",
              "  .colab-df-quickchart-complete:disabled:hover {\n",
              "    background-color: var(--disabled-bg-color);\n",
              "    fill: var(--disabled-fill-color);\n",
              "    box-shadow: none;\n",
              "  }\n",
              "\n",
              "  .colab-df-spinner {\n",
              "    border: 2px solid var(--fill-color);\n",
              "    border-color: transparent;\n",
              "    border-bottom-color: var(--fill-color);\n",
              "    animation:\n",
              "      spin 1s steps(1) infinite;\n",
              "  }\n",
              "\n",
              "  @keyframes spin {\n",
              "    0% {\n",
              "      border-color: transparent;\n",
              "      border-bottom-color: var(--fill-color);\n",
              "      border-left-color: var(--fill-color);\n",
              "    }\n",
              "    20% {\n",
              "      border-color: transparent;\n",
              "      border-left-color: var(--fill-color);\n",
              "      border-top-color: var(--fill-color);\n",
              "    }\n",
              "    30% {\n",
              "      border-color: transparent;\n",
              "      border-left-color: var(--fill-color);\n",
              "      border-top-color: var(--fill-color);\n",
              "      border-right-color: var(--fill-color);\n",
              "    }\n",
              "    40% {\n",
              "      border-color: transparent;\n",
              "      border-right-color: var(--fill-color);\n",
              "      border-top-color: var(--fill-color);\n",
              "    }\n",
              "    60% {\n",
              "      border-color: transparent;\n",
              "      border-right-color: var(--fill-color);\n",
              "    }\n",
              "    80% {\n",
              "      border-color: transparent;\n",
              "      border-right-color: var(--fill-color);\n",
              "      border-bottom-color: var(--fill-color);\n",
              "    }\n",
              "    90% {\n",
              "      border-color: transparent;\n",
              "      border-bottom-color: var(--fill-color);\n",
              "    }\n",
              "  }\n",
              "</style>\n",
              "\n",
              "  <script>\n",
              "    async function quickchart(key) {\n",
              "      const quickchartButtonEl =\n",
              "        document.querySelector('#' + key + ' button');\n",
              "      quickchartButtonEl.disabled = true;  // To prevent multiple clicks.\n",
              "      quickchartButtonEl.classList.add('colab-df-spinner');\n",
              "      try {\n",
              "        const charts = await google.colab.kernel.invokeFunction(\n",
              "            'suggestCharts', [key], {});\n",
              "      } catch (error) {\n",
              "        console.error('Error during call to suggestCharts:', error);\n",
              "      }\n",
              "      quickchartButtonEl.classList.remove('colab-df-spinner');\n",
              "      quickchartButtonEl.classList.add('colab-df-quickchart-complete');\n",
              "    }\n",
              "    (() => {\n",
              "      let quickchartButtonEl =\n",
              "        document.querySelector('#df-0bbbc83e-8a20-40f0-8d44-5cffd2d1cdc7 button');\n",
              "      quickchartButtonEl.style.display =\n",
              "        google.colab.kernel.accessAllowed ? 'block' : 'none';\n",
              "    })();\n",
              "  </script>\n",
              "</div>\n",
              "    </div>\n",
              "  </div>\n"
            ],
            "application/vnd.google.colaboratory.intrinsic+json": {
              "type": "dataframe",
              "variable_name": "train_data",
              "summary": "{\n  \"name\": \"train_data\",\n  \"rows\": 25017,\n  \"fields\": [\n    {\n      \"column\": \"text\",\n      \"properties\": {\n        \"dtype\": \"string\",\n        \"num_unique_values\": 23919,\n        \"samples\": [\n          \"\\u0e42\\u0e2b\\u0e27\\u0e15\\u0e44\\u0e21\\u0e48\\u0e42\\u0e2b\\u0e27\\u0e15\\u0e1c\\u0e21\\u0e44\\u0e21\\u0e48\\u0e23\\u0e39\\u0e49\\u0e2b\\u0e23\\u0e2d\\u0e01\\u0e04\\u0e23\\u0e31\\u0e1a\\u0e41\\u0e15\\u0e48\\u0e17\\u0e33\\u0e44\\u0e21\\u0e44\\u0e21\\u0e48\\u0e21\\u0e32\\u0e01\\u0e31\\u0e19\\u0e2b\\u0e23\\u0e2d\\u0e1e\\u0e27\\u0e01\\u0e04\\u0e38\\u0e13\\u0e44\\u0e21\\u0e48\\u0e43\\u0e2b\\u0e49\\u0e04\\u0e27\\u0e32\\u0e21\\u0e2a\\u0e33\\u0e28\\u0e31\\u0e0d\\u0e01\\u0e31\\u0e19\\u0e40\\u0e25\\u0e22\\u0e19\\u0e35\\u0e48\\u0e2b\\u0e19\\u0e32\",\n          \"\\u0e21\\u0e36\\u0e07\\u0e17\\u0e33\\u0e43\\u0e2b\\u0e49\\u0e27\\u0e38\\u0e48\\u0e19\\u0e27\\u0e32\\u0e22\",\n          \"\\u0e2a\\u0e27\\u0e19\\u0e35\\u0e48\\u0e17\\u0e33\\u0e15\\u0e31\\u0e27\\u0e40\\u0e1b\\u0e47\\u0e19\\u0e2d\\u0e30\\u0e44\\u0e23\\u0e41\\u0e15\\u0e30\\u0e44\\u0e21\\u0e48\\u0e44\\u0e14\\u0e49\\u0e27\\u0e34\\u0e08\\u0e32\\u0e23\\u0e13\\u0e4c\\u0e44\\u0e21\\u0e48\\u0e44\\u0e14\\u0e49\\u0e17\\u0e31\\u0e49\\u0e07\\u0e17\\u0e35\\u0e48\\u0e17\\u0e33\\u0e2d\\u0e30\\u0e44\\u0e23\\u0e44\\u0e21\\u0e48\\u0e16\\u0e39\\u0e01\\u0e40\\u0e25\\u0e22\\u0e02\\u0e31\\u0e14\\u0e01\\u0e31\\u0e1a\\u0e23\\u0e30\\u0e1a\\u0e1a\\u0e2d\\u0e1b\\u0e23\\u0e30\\u0e0a\\u0e32\\u0e18\\u0e34\\u0e1b\\u0e44\\u0e15\\u0e22\\u0e44\\u0e21\\u0e48\\u0e14\\u0e39\\u0e40\\u0e25\\u0e22\\u0e27\\u0e48\\u0e32\\u0e15\\u0e31\\u0e27\\u0e40\\u0e2d\\u0e07\\u0e17\\u0e33\\u0e14\\u0e35\\u0e44\\u0e2b\\u0e21\"\n        ],\n        \"semantic_type\": \"\",\n        \"description\": \"\"\n      }\n    },\n    {\n      \"column\": \"sentiment\",\n      \"properties\": {\n        \"dtype\": \"number\",\n        \"std\": 0,\n        \"min\": 0,\n        \"max\": 2,\n        \"num_unique_values\": 3,\n        \"samples\": [\n          1,\n          0,\n          2\n        ],\n        \"semantic_type\": \"\",\n        \"description\": \"\"\n      }\n    },\n    {\n      \"column\": \"clean_text\",\n      \"properties\": {\n        \"dtype\": \"string\",\n        \"num_unique_values\": 23919,\n        \"samples\": [\n          \"\\u0e42\\u0e2b\\u0e27\\u0e15\\u0e44\\u0e21\\u0e48\\u0e42\\u0e2b\\u0e27\\u0e15\\u0e1c\\u0e21\\u0e44\\u0e21\\u0e48\\u0e23\\u0e39\\u0e49\\u0e2b\\u0e23\\u0e2d\\u0e01\\u0e04\\u0e23\\u0e31\\u0e1a\\u0e41\\u0e15\\u0e48\\u0e17\\u0e33\\u0e44\\u0e21\\u0e44\\u0e21\\u0e48\\u0e21\\u0e32\\u0e01\\u0e31\\u0e19\\u0e2b\\u0e23\\u0e2d\\u0e1e\\u0e27\\u0e01\\u0e04\\u0e38\\u0e13\\u0e44\\u0e21\\u0e48\\u0e43\\u0e2b\\u0e49\\u0e04\\u0e27\\u0e32\\u0e21\\u0e2a\\u0e33\\u0e28\\u0e31\\u0e0d\\u0e01\\u0e31\\u0e19\\u0e40\\u0e25\\u0e22\\u0e19\\u0e35\\u0e48\\u0e2b\\u0e19\\u0e32\",\n          \"\\u0e21\\u0e36\\u0e07\\u0e17\\u0e33\\u0e43\\u0e2b\\u0e49\\u0e27\\u0e38\\u0e48\\u0e19\\u0e27\\u0e32\\u0e22\",\n          \"\\u0e2a\\u0e27\\u0e19\\u0e35\\u0e48\\u0e17\\u0e33\\u0e15\\u0e31\\u0e27\\u0e40\\u0e1b\\u0e47\\u0e19\\u0e2d\\u0e30\\u0e44\\u0e23\\u0e41\\u0e15\\u0e30\\u0e44\\u0e21\\u0e48\\u0e44\\u0e14\\u0e49\\u0e27\\u0e34\\u0e08\\u0e32\\u0e23\\u0e13\\u0e4c\\u0e44\\u0e21\\u0e48\\u0e44\\u0e14\\u0e49\\u0e17\\u0e31\\u0e49\\u0e07\\u0e17\\u0e35\\u0e48\\u0e17\\u0e33\\u0e2d\\u0e30\\u0e44\\u0e23\\u0e44\\u0e21\\u0e48\\u0e16\\u0e39\\u0e01\\u0e40\\u0e25\\u0e22\\u0e02\\u0e31\\u0e14\\u0e01\\u0e31\\u0e1a\\u0e23\\u0e30\\u0e1a\\u0e1a\\u0e2d\\u0e1b\\u0e23\\u0e30\\u0e0a\\u0e32\\u0e18\\u0e34\\u0e1b\\u0e44\\u0e15\\u0e22\\u0e44\\u0e21\\u0e48\\u0e14\\u0e39\\u0e40\\u0e25\\u0e22\\u0e27\\u0e48\\u0e32\\u0e15\\u0e31\\u0e27\\u0e40\\u0e2d\\u0e07\\u0e17\\u0e33\\u0e14\\u0e35\\u0e44\\u0e2b\\u0e21\"\n        ],\n        \"semantic_type\": \"\",\n        \"description\": \"\"\n      }\n    },\n    {\n      \"column\": \"clean2_text\",\n      \"properties\": {\n        \"dtype\": \"string\",\n        \"num_unique_values\": 23919,\n        \"samples\": [\n          \"\\u0e42\\u0e2b\\u0e27\\u0e15\\u0e44\\u0e21\\u0e48\\u0e42\\u0e2b\\u0e27\\u0e15\\u0e1c\\u0e21\\u0e44\\u0e21\\u0e48\\u0e23\\u0e39\\u0e49\\u0e2b\\u0e23\\u0e2d\\u0e01\\u0e04\\u0e23\\u0e31\\u0e1a\\u0e41\\u0e15\\u0e48\\u0e17\\u0e33\\u0e44\\u0e21\\u0e44\\u0e21\\u0e48\\u0e21\\u0e32\\u0e01\\u0e31\\u0e19\\u0e2b\\u0e23\\u0e2d\\u0e1e\\u0e27\\u0e01\\u0e04\\u0e38\\u0e13\\u0e44\\u0e21\\u0e48\\u0e43\\u0e2b\\u0e49\\u0e04\\u0e27\\u0e32\\u0e21\\u0e2a\\u0e33\\u0e28\\u0e31\\u0e0d\\u0e01\\u0e31\\u0e19\\u0e40\\u0e25\\u0e22\\u0e19\\u0e35\\u0e48\\u0e2b\\u0e19\\u0e32\",\n          \"\\u0e21\\u0e36\\u0e07\\u0e17\\u0e33\\u0e43\\u0e2b\\u0e49\\u0e27\\u0e38\\u0e48\\u0e19\\u0e27\\u0e32\\u0e22\",\n          \"\\u0e2a\\u0e27\\u0e19\\u0e35\\u0e48\\u0e17\\u0e33\\u0e15\\u0e31\\u0e27\\u0e40\\u0e1b\\u0e47\\u0e19\\u0e2d\\u0e30\\u0e44\\u0e23\\u0e41\\u0e15\\u0e30\\u0e44\\u0e21\\u0e48\\u0e44\\u0e14\\u0e49\\u0e27\\u0e34\\u0e08\\u0e32\\u0e23\\u0e13\\u0e4c\\u0e44\\u0e21\\u0e48\\u0e44\\u0e14\\u0e49\\u0e17\\u0e31\\u0e49\\u0e07\\u0e17\\u0e35\\u0e48\\u0e17\\u0e33\\u0e2d\\u0e30\\u0e44\\u0e23\\u0e44\\u0e21\\u0e48\\u0e16\\u0e39\\u0e01\\u0e40\\u0e25\\u0e22\\u0e02\\u0e31\\u0e14\\u0e01\\u0e31\\u0e1a\\u0e23\\u0e30\\u0e1a\\u0e1a\\u0e2d\\u0e1b\\u0e23\\u0e30\\u0e0a\\u0e32\\u0e18\\u0e34\\u0e1b\\u0e44\\u0e15\\u0e22\\u0e44\\u0e21\\u0e48\\u0e14\\u0e39\\u0e40\\u0e25\\u0e22\\u0e27\\u0e48\\u0e32\\u0e15\\u0e31\\u0e27\\u0e40\\u0e2d\\u0e07\\u0e17\\u0e33\\u0e14\\u0e35\\u0e44\\u0e2b\\u0e21\"\n        ],\n        \"semantic_type\": \"\",\n        \"description\": \"\"\n      }\n    },\n    {\n      \"column\": \"clean3_text\",\n      \"properties\": {\n        \"dtype\": \"string\",\n        \"num_unique_values\": 23919,\n        \"samples\": [\n          \"\\u0e42\\u0e2b\\u0e27\\u0e15\\u0e44\\u0e21\\u0e48\\u0e42\\u0e2b\\u0e27\\u0e15\\u0e1c\\u0e21\\u0e44\\u0e21\\u0e48\\u0e23\\u0e39\\u0e49\\u0e2b\\u0e23\\u0e2d\\u0e01\\u0e04\\u0e23\\u0e31\\u0e1a\\u0e41\\u0e15\\u0e48\\u0e17\\u0e33\\u0e44\\u0e21\\u0e44\\u0e21\\u0e48\\u0e21\\u0e32\\u0e01\\u0e31\\u0e19\\u0e2b\\u0e23\\u0e2d\\u0e1e\\u0e27\\u0e01\\u0e04\\u0e38\\u0e13\\u0e44\\u0e21\\u0e48\\u0e43\\u0e2b\\u0e49\\u0e04\\u0e27\\u0e32\\u0e21\\u0e2a\\u0e33\\u0e28\\u0e31\\u0e0d\\u0e01\\u0e31\\u0e19\\u0e40\\u0e25\\u0e22\\u0e19\\u0e35\\u0e48\\u0e2b\\u0e19\\u0e32\",\n          \"\\u0e21\\u0e36\\u0e07\\u0e17\\u0e33\\u0e43\\u0e2b\\u0e49\\u0e27\\u0e38\\u0e48\\u0e19\\u0e27\\u0e32\\u0e22\",\n          \"\\u0e2a\\u0e27\\u0e19\\u0e35\\u0e48\\u0e17\\u0e33\\u0e15\\u0e31\\u0e27\\u0e40\\u0e1b\\u0e47\\u0e19\\u0e2d\\u0e30\\u0e44\\u0e23\\u0e41\\u0e15\\u0e30\\u0e44\\u0e21\\u0e48\\u0e44\\u0e14\\u0e49\\u0e27\\u0e34\\u0e08\\u0e32\\u0e23\\u0e13\\u0e4c\\u0e44\\u0e21\\u0e48\\u0e44\\u0e14\\u0e49\\u0e17\\u0e31\\u0e49\\u0e07\\u0e17\\u0e35\\u0e48\\u0e17\\u0e33\\u0e2d\\u0e30\\u0e44\\u0e23\\u0e44\\u0e21\\u0e48\\u0e16\\u0e39\\u0e01\\u0e40\\u0e25\\u0e22\\u0e02\\u0e31\\u0e14\\u0e01\\u0e31\\u0e1a\\u0e23\\u0e30\\u0e1a\\u0e1a\\u0e2d\\u0e1b\\u0e23\\u0e30\\u0e0a\\u0e32\\u0e18\\u0e34\\u0e1b\\u0e44\\u0e15\\u0e22\\u0e44\\u0e21\\u0e48\\u0e14\\u0e39\\u0e40\\u0e25\\u0e22\\u0e27\\u0e48\\u0e32\\u0e15\\u0e31\\u0e27\\u0e40\\u0e2d\\u0e07\\u0e17\\u0e33\\u0e14\\u0e35\\u0e44\\u0e2b\\u0e21\"\n        ],\n        \"semantic_type\": \"\",\n        \"description\": \"\"\n      }\n    },\n    {\n      \"column\": \"clean4_text\",\n      \"properties\": {\n        \"dtype\": \"string\",\n        \"num_unique_values\": 23919,\n        \"samples\": [\n          \"\\u0e42\\u0e2b\\u0e27\\u0e15\\u0e44\\u0e21\\u0e48\\u0e42\\u0e2b\\u0e27\\u0e15\\u0e1c\\u0e21\\u0e44\\u0e21\\u0e48\\u0e23\\u0e39\\u0e49\\u0e2b\\u0e23\\u0e2d\\u0e01\\u0e04\\u0e23\\u0e31\\u0e1a\\u0e41\\u0e15\\u0e48\\u0e17\\u0e33\\u0e44\\u0e21\\u0e44\\u0e21\\u0e48\\u0e21\\u0e32\\u0e01\\u0e31\\u0e19\\u0e2b\\u0e23\\u0e2d\\u0e1e\\u0e27\\u0e01\\u0e04\\u0e38\\u0e13\\u0e44\\u0e21\\u0e48\\u0e43\\u0e2b\\u0e49\\u0e04\\u0e27\\u0e32\\u0e21\\u0e2a\\u0e33\\u0e28\\u0e31\\u0e0d\\u0e01\\u0e31\\u0e19\\u0e40\\u0e25\\u0e22\\u0e19\\u0e35\\u0e48\\u0e2b\\u0e19\\u0e32\",\n          \"\\u0e21\\u0e36\\u0e07\\u0e17\\u0e33\\u0e43\\u0e2b\\u0e49\\u0e27\\u0e38\\u0e48\\u0e19\\u0e27\\u0e32\\u0e22\",\n          \"\\u0e2a\\u0e27\\u0e19\\u0e35\\u0e48\\u0e17\\u0e33\\u0e15\\u0e31\\u0e27\\u0e40\\u0e1b\\u0e47\\u0e19\\u0e2d\\u0e30\\u0e44\\u0e23\\u0e41\\u0e15\\u0e30\\u0e44\\u0e21\\u0e48\\u0e44\\u0e14\\u0e49\\u0e27\\u0e34\\u0e08\\u0e32\\u0e23\\u0e13\\u0e4c\\u0e44\\u0e21\\u0e48\\u0e44\\u0e14\\u0e49\\u0e17\\u0e31\\u0e49\\u0e07\\u0e17\\u0e35\\u0e48\\u0e17\\u0e33\\u0e2d\\u0e30\\u0e44\\u0e23\\u0e44\\u0e21\\u0e48\\u0e16\\u0e39\\u0e01\\u0e40\\u0e25\\u0e22\\u0e02\\u0e31\\u0e14\\u0e01\\u0e31\\u0e1a\\u0e23\\u0e30\\u0e1a\\u0e1a\\u0e2d\\u0e1b\\u0e23\\u0e30\\u0e0a\\u0e32\\u0e18\\u0e34\\u0e1b\\u0e44\\u0e15\\u0e22\\u0e44\\u0e21\\u0e48\\u0e14\\u0e39\\u0e40\\u0e25\\u0e22\\u0e27\\u0e48\\u0e32\\u0e15\\u0e31\\u0e27\\u0e40\\u0e2d\\u0e07\\u0e17\\u0e33\\u0e14\\u0e35\\u0e44\\u0e2b\\u0e21\"\n        ],\n        \"semantic_type\": \"\",\n        \"description\": \"\"\n      }\n    },\n    {\n      \"column\": \"wordseged_text\",\n      \"properties\": {\n        \"dtype\": \"string\",\n        \"num_unique_values\": 23919,\n        \"samples\": [\n          \"['\\u0e42\\u0e2b\\u0e27\\u0e15', '\\u0e44\\u0e21\\u0e48', '\\u0e42\\u0e2b\\u0e27\\u0e15', '\\u0e1c\\u0e21', '\\u0e44\\u0e21\\u0e48', '\\u0e23\\u0e39\\u0e49', '\\u0e2b\\u0e23\\u0e2d\\u0e01', '\\u0e04\\u0e23\\u0e31\\u0e1a', '\\u0e41\\u0e15\\u0e48', '\\u0e17\\u0e33\\u0e44\\u0e21', '\\u0e44\\u0e21\\u0e48', '\\u0e21\\u0e32', '\\u0e01\\u0e31\\u0e19', '\\u0e2b\\u0e23\\u0e2d', '\\u0e1e\\u0e27\\u0e01\\u0e04\\u0e38\\u0e13', '\\u0e44\\u0e21\\u0e48', '\\u0e43\\u0e2b\\u0e49', '\\u0e04\\u0e27\\u0e32\\u0e21', '\\u0e2a\\u0e33', '\\u0e28\\u0e31\\u0e0d', '\\u0e01\\u0e31\\u0e19', '\\u0e40\\u0e25\\u0e22', '\\u0e19\\u0e35\\u0e48', '\\u0e2b\\u0e19\\u0e32']\",\n          \"['\\u0e21\\u0e36\\u0e07', '\\u0e17\\u0e33\\u0e43\\u0e2b\\u0e49', '\\u0e27\\u0e38\\u0e48\\u0e19\\u0e27\\u0e32\\u0e22']\",\n          \"['\\u0e2a\\u0e27', '\\u0e19\\u0e35\\u0e48', '\\u0e17\\u0e33\\u0e15\\u0e31\\u0e27', '\\u0e40\\u0e1b\\u0e47\\u0e19', '\\u0e2d\\u0e30\\u0e44\\u0e23', '\\u0e41\\u0e15\\u0e30', '\\u0e44\\u0e21\\u0e48', '\\u0e44\\u0e14\\u0e49', '\\u0e27\\u0e34\\u0e08\\u0e32\\u0e23\\u0e13\\u0e4c', '\\u0e44\\u0e21\\u0e48', '\\u0e44\\u0e14\\u0e49', '\\u0e17\\u0e31\\u0e49\\u0e07\\u0e17\\u0e35\\u0e48', '\\u0e17\\u0e33', '\\u0e2d\\u0e30\\u0e44\\u0e23', '\\u0e44\\u0e21\\u0e48', '\\u0e16\\u0e39\\u0e01', '\\u0e40\\u0e25\\u0e22', '\\u0e02\\u0e31\\u0e14', '\\u0e01\\u0e31\\u0e1a', '\\u0e23\\u0e30\\u0e1a\\u0e1a', '\\u0e2d\\u0e1b', '\\u0e23\\u0e30', '\\u0e0a\\u0e32', '\\u0e18\\u0e34\\u0e1b', '\\u0e44\\u0e15', '\\u0e22', '\\u0e44\\u0e21\\u0e48', '\\u0e14\\u0e39', '\\u0e40\\u0e25\\u0e22', '\\u0e27\\u0e48\\u0e32', '\\u0e15\\u0e31\\u0e27\\u0e40\\u0e2d\\u0e07', '\\u0e17\\u0e33\\u0e14\\u0e35', '\\u0e44\\u0e2b\\u0e21']\"\n        ],\n        \"semantic_type\": \"\",\n        \"description\": \"\"\n      }\n    },\n    {\n      \"column\": \"wordseged_space_text\",\n      \"properties\": {\n        \"dtype\": \"string\",\n        \"num_unique_values\": 23919,\n        \"samples\": [\n          \"\\u0e42\\u0e2b\\u0e27\\u0e15 \\u0e44\\u0e21\\u0e48 \\u0e42\\u0e2b\\u0e27\\u0e15 \\u0e1c\\u0e21 \\u0e44\\u0e21\\u0e48 \\u0e23\\u0e39\\u0e49 \\u0e2b\\u0e23\\u0e2d\\u0e01 \\u0e04\\u0e23\\u0e31\\u0e1a \\u0e41\\u0e15\\u0e48 \\u0e17\\u0e33\\u0e44\\u0e21 \\u0e44\\u0e21\\u0e48 \\u0e21\\u0e32 \\u0e01\\u0e31\\u0e19 \\u0e2b\\u0e23\\u0e2d \\u0e1e\\u0e27\\u0e01\\u0e04\\u0e38\\u0e13 \\u0e44\\u0e21\\u0e48 \\u0e43\\u0e2b\\u0e49 \\u0e04\\u0e27\\u0e32\\u0e21 \\u0e2a\\u0e33 \\u0e28\\u0e31\\u0e0d \\u0e01\\u0e31\\u0e19 \\u0e40\\u0e25\\u0e22 \\u0e19\\u0e35\\u0e48 \\u0e2b\\u0e19\\u0e32\",\n          \"\\u0e21\\u0e36\\u0e07 \\u0e17\\u0e33\\u0e43\\u0e2b\\u0e49 \\u0e27\\u0e38\\u0e48\\u0e19\\u0e27\\u0e32\\u0e22\",\n          \"\\u0e2a\\u0e27 \\u0e19\\u0e35\\u0e48 \\u0e17\\u0e33\\u0e15\\u0e31\\u0e27 \\u0e40\\u0e1b\\u0e47\\u0e19 \\u0e2d\\u0e30\\u0e44\\u0e23 \\u0e41\\u0e15\\u0e30 \\u0e44\\u0e21\\u0e48 \\u0e44\\u0e14\\u0e49 \\u0e27\\u0e34\\u0e08\\u0e32\\u0e23\\u0e13\\u0e4c \\u0e44\\u0e21\\u0e48 \\u0e44\\u0e14\\u0e49 \\u0e17\\u0e31\\u0e49\\u0e07\\u0e17\\u0e35\\u0e48 \\u0e17\\u0e33 \\u0e2d\\u0e30\\u0e44\\u0e23 \\u0e44\\u0e21\\u0e48 \\u0e16\\u0e39\\u0e01 \\u0e40\\u0e25\\u0e22 \\u0e02\\u0e31\\u0e14 \\u0e01\\u0e31\\u0e1a \\u0e23\\u0e30\\u0e1a\\u0e1a \\u0e2d\\u0e1b \\u0e23\\u0e30 \\u0e0a\\u0e32 \\u0e18\\u0e34\\u0e1b \\u0e44\\u0e15 \\u0e22 \\u0e44\\u0e21\\u0e48 \\u0e14\\u0e39 \\u0e40\\u0e25\\u0e22 \\u0e27\\u0e48\\u0e32 \\u0e15\\u0e31\\u0e27\\u0e40\\u0e2d\\u0e07 \\u0e17\\u0e33\\u0e14\\u0e35 \\u0e44\\u0e2b\\u0e21\"\n        ],\n        \"semantic_type\": \"\",\n        \"description\": \"\"\n      }\n    }\n  ]\n}"
            }
          },
          "metadata": {},
          "execution_count": 57
        }
      ]
    },
    {
      "cell_type": "code",
      "source": [],
      "metadata": {
        "id": "qYn40Cgnz91Q"
      },
      "execution_count": null,
      "outputs": []
    },
    {
      "cell_type": "code",
      "source": [
        "# ตรวจสอบค่าที่มี train_encoded_labels เป็น -1\n",
        "indices_with_minus_one = [index for index, label in enumerate(train_encoded_labels) if label == 3]\n",
        "\n",
        "# พิมพ์ค่าที่มี train_encoded_labels เป็น -1\n",
        "for index in indices_with_minus_one:\n",
        "    print(f\"Index: {index}, Label: {train_encoded_labels[index]}\")\n"
      ],
      "metadata": {
        "id": "gL_StQpl1xId"
      },
      "execution_count": null,
      "outputs": []
    },
    {
      "cell_type": "code",
      "source": [
        "import torch\n",
        "import numpy as np\n",
        "\n",
        "# Assuming train_labels, test_labels, etc. are NumPy arrays\n",
        "# Convert the labels to the appropriate data type before creating PyTorch tensors\n",
        "\n",
        "Y_train = torch.squeeze(torch.tensor(train_encoded_labels).long())\n",
        "Y_val = torch.squeeze(torch.tensor(val_encoded_labels).long())  # Corrected from test_labels to val_labels\n",
        "Y_test = torch.squeeze(torch.tensor(test_encoded_labels).long())\n",
        "\n",
        "print(\"Y train shape:\", Y_train.shape)\n",
        "print(\"Y validation shape:\", Y_val.shape)  # Corrected from \"Y shape\" to \"Y validation shape\"\n",
        "print(\"Y test shape:\", Y_test.shape)\n"
      ],
      "metadata": {
        "colab": {
          "base_uri": "https://localhost:8080/"
        },
        "id": "H9VUNuqodlxm",
        "outputId": "c1bcdeec-83b5-49ff-e1d2-140d04b663e0"
      },
      "execution_count": null,
      "outputs": [
        {
          "output_type": "stream",
          "name": "stdout",
          "text": [
            "Y train shape: torch.Size([23454])\n",
            "Y validation shape: torch.Size([7818])\n",
            "Y test shape: torch.Size([7818])\n"
          ]
        }
      ]
    },
    {
      "cell_type": "code",
      "source": [
        "device = torch.device(\"cuda\" if torch.cuda.is_available() else \"cpu\")\n",
        "print(\"Device available for running: \")\n",
        "print(device)"
      ],
      "metadata": {
        "colab": {
          "base_uri": "https://localhost:8080/"
        },
        "id": "MpRamKjZgZ8p",
        "outputId": "62bc29c3-dcb5-4c1b-e9ce-33d1332c2033"
      },
      "execution_count": null,
      "outputs": [
        {
          "output_type": "stream",
          "name": "stdout",
          "text": [
            "Device available for running: \n",
            "cpu\n"
          ]
        }
      ]
    },
    {
      "cell_type": "code",
      "source": [
        "#สร้าง FFNN ขึ้นมา\n",
        "import torch.nn as nn\n",
        "import torch.nn.functional as F\n",
        "import torch.optim as optim\n",
        "import torch\n",
        "\n",
        "class FFNN(nn.Module):\n",
        "    def __init__(self, input_dim, hidden_dim_1, hidden_dim_2, output_dim):\n",
        "        super(FFNN, self).__init__()\n",
        "\n",
        "        # Linear function 1\n",
        "        self.layer_1 = nn.Linear(input_dim, hidden_dim_1)\n",
        "        # self.dropout = nn.Dropout(0.3)\n",
        "        # self.batch1 = nn.BatchNorm1d(hidden_dim)\n",
        "\n",
        "        # Non-linearity 1\n",
        "        self.relu_1 = nn.ReLU()\n",
        "\n",
        "        # Linear function 2\n",
        "        self.layer_2 = nn.Linear(hidden_dim_1, hidden_dim_2)\n",
        "        # Non-linearity 2\n",
        "        self.relu_2 = nn.ReLU()\n",
        "\n",
        "        # Linear function 3\n",
        "        self.layer_3 = nn.Linear(hidden_dim_2, output_dim)\n",
        "\n",
        "    def forward(self, x):\n",
        "        out = self.layer_1(x)\n",
        "        out = self.relu_1(out)\n",
        "\n",
        "        out = self.layer_2(out)\n",
        "        out = self.relu_2(out)\n",
        "\n",
        "        out = self.layer_3(out)\n",
        "\n",
        "        return torch.sigmoid(out)"
      ],
      "metadata": {
        "id": "DvFEr8zngeUD"
      },
      "execution_count": null,
      "outputs": []
    },
    {
      "cell_type": "code",
      "source": [
        "# กำหนดพารามิเตอร์\n",
        "input_dim = tfidfX_train.shape[1]\n",
        "hidden_dim_1 = 512 #จำนวนโหนด\n",
        "hidden_dim_2 = 512\n",
        "output_dim = 3 #จำนวน output dim ใช้ 1 ได้ คือเราอยากจะทำนายค่าออกมาค่าเดียว 0 = negative และ 1 คือ เป็น positive #แก้ label\n",
        "num_epochs = 200\n",
        "\n",
        "# สร้าง model จากคลาส\n",
        "first_model = FFNN(input_dim, hidden_dim_1, hidden_dim_2, output_dim)\n",
        "\n",
        "# Define loss function.\n",
        "criterion = nn.CrossEntropyLoss()\n",
        "\n",
        "\n",
        "# Define as optimizer Adam.\n",
        "optimizer = optim.Adam(first_model.parameters(),lr=0.1e-3,weight_decay=1e-3)\n",
        "\n",
        "# Transfer all the computation to GPU (cuda device).\n",
        "first_model.to(device)\n",
        "criterion = criterion.to(device)"
      ],
      "metadata": {
        "id": "McTfQlZvg8My"
      },
      "execution_count": null,
      "outputs": []
    },
    {
      "cell_type": "code",
      "source": [
        "from torchsummary import summary\n",
        "\n",
        "# กำหนด device ให้เป็น cuda หากใช้ GPU, ไม่งั้นให้ใช้ cpu\n",
        "device = torch.device('cuda' if torch.cuda.is_available() else 'cpu')\n",
        "\n",
        "# ย้ายโมเดลไปที่ GPU หากใช้ cuda\n",
        "first_model.to(device)\n",
        "\n",
        "# ใช้ torchsummary ในการแสดงสรุปของโมเดล\n",
        "summary(first_model, input_size=(input_dim,))\n"
      ],
      "metadata": {
        "colab": {
          "base_uri": "https://localhost:8080/"
        },
        "id": "ngPHCRwg-LoT",
        "outputId": "7b31e53a-eb4e-4406-ce77-38b5b127f053"
      },
      "execution_count": null,
      "outputs": [
        {
          "output_type": "stream",
          "name": "stdout",
          "text": [
            "----------------------------------------------------------------\n",
            "        Layer (type)               Output Shape         Param #\n",
            "================================================================\n",
            "            Linear-1                  [-1, 512]         512,512\n",
            "              ReLU-2                  [-1, 512]               0\n",
            "            Linear-3                  [-1, 512]         262,656\n",
            "              ReLU-4                  [-1, 512]               0\n",
            "            Linear-5                    [-1, 3]           1,539\n",
            "================================================================\n",
            "Total params: 776,707\n",
            "Trainable params: 776,707\n",
            "Non-trainable params: 0\n",
            "----------------------------------------------------------------\n",
            "Input size (MB): 0.00\n",
            "Forward/backward pass size (MB): 0.02\n",
            "Params size (MB): 2.96\n",
            "Estimated Total Size (MB): 2.98\n",
            "----------------------------------------------------------------\n"
          ]
        }
      ]
    },
    {
      "cell_type": "code",
      "source": [
        "from tqdm import tqdm\n",
        "\n",
        "# This is a function that calculate the accuracy manually\n",
        "def calculate_accuracy(y_true, y_pred):\n",
        "  y_pred = torch.round(y_pred)\n",
        "  #print(y_pred.argmax(-1))\n",
        "  correct = (y_true == y_pred.argmax(-1)).float()\n",
        "  acc = correct.sum() / len(correct)\n",
        "  return acc\n",
        "\n",
        "batch_size = 32 #ปรับได้\n",
        "\n",
        "print(tfidfX_train.shape)\n",
        "print(Y_train.shape)\n",
        "# Split train dataset to mini batches\n",
        "X_train_mini_batches = torch.split(tfidfX_train,batch_size)\n",
        "Y_train_mini_batches = torch.split(Y_train,batch_size)\n",
        "\n",
        "\n",
        "\n",
        "train_losses = []\n",
        "train_accuracies = []\n",
        "val_losses = []\n",
        "val_accuracies = []\n",
        "\n",
        "# Start training\n",
        "for epoch in range(num_epochs):\n",
        "  print('epoch',epoch)\n",
        "  epoch_loss = 0\n",
        "  epoch_accuracy = 0\n",
        "  validation_loss=0\n",
        "  val_accuracy=0\n",
        "\n",
        "  for X_train_mini_batch,Y_train_mini_batch in tqdm(zip(X_train_mini_batches,Y_train_mini_batches)):\n",
        "\n",
        "    X_train_mini_batch = X_train_mini_batch.to(device)\n",
        "    Y_train_mini_batch = Y_train_mini_batch.to(device)\n",
        "\n",
        "    if Y_train_mini_batch.shape[0]==0:\n",
        "        continue\n",
        "\n",
        "\n",
        "\n",
        "    # Forward pass to get output\n",
        "    train_prediction = first_model.forward(X_train_mini_batch.float())\n",
        "    train_prediction = torch.squeeze(train_prediction)\n",
        "\n",
        "    #print(Y_train_mini_batch.shape,train_prediction.shape)\n",
        "\n",
        "\n",
        "    # Calculate Loss\n",
        "    train_loss = criterion(train_prediction,Y_train_mini_batch)\n",
        "\n",
        "\n",
        "\n",
        "    # Clearing up accumulated gradients\n",
        "    optimizer.zero_grad()\n",
        "\n",
        "    # Getting gradients\n",
        "    train_loss.backward()\n",
        "\n",
        "    # Updating parameters\n",
        "    optimizer.step()\n",
        "\n",
        "    # Add each mini batch's loss\n",
        "    epoch_loss += train_loss.item()\n",
        "\n",
        "    # Add each mini batch's accuracy\n",
        "    epoch_accuracy += calculate_accuracy(Y_train_mini_batch,train_prediction)\n",
        "\n",
        "  # For some epochs print loss and accucary of train and validation set.\n",
        "  if epoch % 1 == 0:\n",
        "\n",
        "    tfidfX_val = tfidfX_val.to(device)\n",
        "    Y_val = Y_val.to(device)\n",
        "\n",
        "    # Forward pass to get output\n",
        "    val_prediction = first_model.forward(tfidfX_val.float())\n",
        "    val_prediction = torch.squeeze(val_prediction)\n",
        "\n",
        "    # Calculate Loss\n",
        "    print(val_prediction.shape,Y_val.shape)\n",
        "    val_loss = criterion(val_prediction,Y_val)\n",
        "\n",
        "    # Add each mini batch's loss\n",
        "    validation_loss = val_loss.item()\n",
        "\n",
        "    # Add each mini batch's accuracy\n",
        "    val_accuracy = calculate_accuracy(Y_val,val_prediction)\n",
        "\n",
        "    epoch_loss /= len(X_train_mini_batches)\n",
        "    epoch_accuracy /= len(X_train_mini_batches)\n",
        "    val_losses.append(validation_loss)\n",
        "    train_losses.append(epoch_loss)\n",
        "    train_accuracies.append(epoch_accuracy)\n",
        "    val_accuracies.append(val_accuracy)\n",
        "    print(\"Epoch:\",epoch, \"\\n\"\n",
        "           \"Train_loss:\",round(epoch_loss,4), \"Train Accuracy:\",round(epoch_accuracy.item(),4), \"\\n\"\n",
        "           \"Validation_loss:  \",round(validation_loss,4), \"Validation Accuracy:  \",round(val_accuracy.item(),4), \"\\n\")\n",
        "\n",
        "# Save PyTorch model state dict to a file\n",
        "torch.save(first_model.state_dict(), 'FFNN_model.pth')"
      ],
      "metadata": {
        "colab": {
          "base_uri": "https://localhost:8080/"
        },
        "id": "UFDX86txhvdx",
        "outputId": "4abf1de8-aee0-47da-ea71-37a1e8311874"
      },
      "execution_count": null,
      "outputs": [
        {
          "metadata": {
            "tags": null
          },
          "name": "stdout",
          "output_type": "stream",
          "text": [
            "torch.Size([23454, 1000])\n",
            "torch.Size([23454])\n",
            "epoch 0\n"
          ]
        },
        {
          "metadata": {
            "tags": null
          },
          "name": "stderr",
          "output_type": "stream",
          "text": [
            "733it [00:06, 115.86it/s]\n"
          ]
        },
        {
          "metadata": {
            "tags": null
          },
          "name": "stdout",
          "output_type": "stream",
          "text": [
            "torch.Size([7818, 3]) torch.Size([7818])\n",
            "Epoch: 0 \n",
            "Train_loss: 0.995 Train Accuracy: 0.5356 \n",
            "Validation_loss:   0.8935 Validation Accuracy:   0.6238 \n",
            "\n",
            "epoch 1\n"
          ]
        },
        {
          "metadata": {
            "tags": null
          },
          "name": "stderr",
          "output_type": "stream",
          "text": [
            "733it [00:08, 89.25it/s]\n"
          ]
        },
        {
          "metadata": {
            "tags": null
          },
          "name": "stdout",
          "output_type": "stream",
          "text": [
            "torch.Size([7818, 3]) torch.Size([7818])\n",
            "Epoch: 1 \n",
            "Train_loss: 0.8748 Train Accuracy: 0.6537 \n",
            "Validation_loss:   0.8697 Validation Accuracy:   0.6618 \n",
            "\n",
            "epoch 2\n"
          ]
        },
        {
          "metadata": {
            "tags": null
          },
          "name": "stderr",
          "output_type": "stream",
          "text": [
            "733it [00:50, 14.59it/s]\n"
          ]
        },
        {
          "metadata": {
            "tags": null
          },
          "name": "stdout",
          "output_type": "stream",
          "text": [
            "torch.Size([7818, 3]) torch.Size([7818])\n",
            "Epoch: 2 \n",
            "Train_loss: 0.8579 Train Accuracy: 0.6711 \n",
            "Validation_loss:   0.8592 Validation Accuracy:   0.6646 \n",
            "\n",
            "epoch 3\n"
          ]
        },
        {
          "metadata": {
            "tags": null
          },
          "name": "stderr",
          "output_type": "stream",
          "text": [
            "733it [00:57, 12.76it/s]\n"
          ]
        },
        {
          "metadata": {
            "tags": null
          },
          "name": "stdout",
          "output_type": "stream",
          "text": [
            "torch.Size([7818, 3]) torch.Size([7818])\n",
            "Epoch: 3 \n",
            "Train_loss: 0.849 Train Accuracy: 0.6822 \n",
            "Validation_loss:   0.8534 Validation Accuracy:   0.6715 \n",
            "\n",
            "epoch 4\n"
          ]
        },
        {
          "metadata": {
            "tags": null
          },
          "name": "stderr",
          "output_type": "stream",
          "text": [
            "733it [00:55, 13.11it/s]\n"
          ]
        },
        {
          "metadata": {
            "tags": null
          },
          "name": "stdout",
          "output_type": "stream",
          "text": [
            "torch.Size([7818, 3]) torch.Size([7818])\n",
            "Epoch: 4 \n",
            "Train_loss: 0.8437 Train Accuracy: 0.6911 \n",
            "Validation_loss:   0.8498 Validation Accuracy:   0.6766 \n",
            "\n",
            "epoch 5\n"
          ]
        },
        {
          "metadata": {
            "tags": null
          },
          "name": "stderr",
          "output_type": "stream",
          "text": [
            "733it [00:59, 12.24it/s]\n"
          ]
        },
        {
          "metadata": {
            "tags": null
          },
          "name": "stdout",
          "output_type": "stream",
          "text": [
            "torch.Size([7818, 3]) torch.Size([7818])\n",
            "Epoch: 5 \n",
            "Train_loss: 0.8402 Train Accuracy: 0.6983 \n",
            "Validation_loss:   0.8473 Validation Accuracy:   0.6825 \n",
            "\n",
            "epoch 6\n"
          ]
        },
        {
          "metadata": {
            "tags": null
          },
          "name": "stderr",
          "output_type": "stream",
          "text": [
            "733it [01:07, 10.89it/s]\n"
          ]
        },
        {
          "metadata": {
            "tags": null
          },
          "name": "stdout",
          "output_type": "stream",
          "text": [
            "torch.Size([7818, 3]) torch.Size([7818])\n",
            "Epoch: 6 \n",
            "Train_loss: 0.8375 Train Accuracy: 0.7032 \n",
            "Validation_loss:   0.8453 Validation Accuracy:   0.6866 \n",
            "\n",
            "epoch 7\n"
          ]
        },
        {
          "metadata": {
            "tags": null
          },
          "name": "stderr",
          "output_type": "stream",
          "text": [
            "733it [01:04, 11.39it/s]\n"
          ]
        },
        {
          "metadata": {
            "tags": null
          },
          "name": "stdout",
          "output_type": "stream",
          "text": [
            "torch.Size([7818, 3]) torch.Size([7818])\n",
            "Epoch: 7 \n",
            "Train_loss: 0.8354 Train Accuracy: 0.7069 \n",
            "Validation_loss:   0.8435 Validation Accuracy:   0.6905 \n",
            "\n",
            "epoch 8\n"
          ]
        },
        {
          "metadata": {
            "tags": null
          },
          "name": "stderr",
          "output_type": "stream",
          "text": [
            "733it [00:53, 13.81it/s]\n"
          ]
        },
        {
          "metadata": {
            "tags": null
          },
          "name": "stdout",
          "output_type": "stream",
          "text": [
            "torch.Size([7818, 3]) torch.Size([7818])\n",
            "Epoch: 8 \n",
            "Train_loss: 0.8334 Train Accuracy: 0.7123 \n",
            "Validation_loss:   0.8416 Validation Accuracy:   0.6972 \n",
            "\n",
            "epoch 9\n"
          ]
        },
        {
          "metadata": {
            "tags": null
          },
          "name": "stderr",
          "output_type": "stream",
          "text": [
            "733it [00:41, 17.85it/s]\n"
          ]
        },
        {
          "metadata": {
            "tags": null
          },
          "name": "stdout",
          "output_type": "stream",
          "text": [
            "torch.Size([7818, 3]) torch.Size([7818])\n",
            "Epoch: 9 \n",
            "Train_loss: 0.8314 Train Accuracy: 0.7168 \n",
            "Validation_loss:   0.8396 Validation Accuracy:   0.7017 \n",
            "\n",
            "epoch 10\n"
          ]
        },
        {
          "metadata": {
            "tags": null
          },
          "name": "stderr",
          "output_type": "stream",
          "text": [
            "733it [00:38, 18.90it/s]\n"
          ]
        },
        {
          "metadata": {
            "tags": null
          },
          "name": "stdout",
          "output_type": "stream",
          "text": [
            "torch.Size([7818, 3]) torch.Size([7818])\n",
            "Epoch: 10 \n",
            "Train_loss: 0.8293 Train Accuracy: 0.7223 \n",
            "Validation_loss:   0.8372 Validation Accuracy:   0.7087 \n",
            "\n",
            "epoch 11\n"
          ]
        },
        {
          "metadata": {
            "tags": null
          },
          "name": "stderr",
          "output_type": "stream",
          "text": [
            "733it [00:42, 17.26it/s]\n"
          ]
        },
        {
          "metadata": {
            "tags": null
          },
          "name": "stdout",
          "output_type": "stream",
          "text": [
            "torch.Size([7818, 3]) torch.Size([7818])\n",
            "Epoch: 11 \n",
            "Train_loss: 0.8266 Train Accuracy: 0.7281 \n",
            "Validation_loss:   0.8341 Validation Accuracy:   0.7174 \n",
            "\n",
            "epoch 12\n"
          ]
        },
        {
          "metadata": {
            "tags": null
          },
          "name": "stderr",
          "output_type": "stream",
          "text": [
            "733it [00:44, 16.47it/s]\n"
          ]
        },
        {
          "metadata": {
            "tags": null
          },
          "name": "stdout",
          "output_type": "stream",
          "text": [
            "torch.Size([7818, 3]) torch.Size([7818])\n",
            "Epoch: 12 \n",
            "Train_loss: 0.8224 Train Accuracy: 0.7378 \n",
            "Validation_loss:   0.8275 Validation Accuracy:   0.7279 \n",
            "\n",
            "epoch 13\n"
          ]
        },
        {
          "metadata": {
            "tags": null
          },
          "name": "stderr",
          "output_type": "stream",
          "text": [
            "733it [00:42, 17.29it/s]\n"
          ]
        },
        {
          "metadata": {
            "tags": null
          },
          "name": "stdout",
          "output_type": "stream",
          "text": [
            "torch.Size([7818, 3]) torch.Size([7818])\n",
            "Epoch: 13 \n",
            "Train_loss: 0.8048 Train Accuracy: 0.7412 \n",
            "Validation_loss:   0.8024 Validation Accuracy:   0.7355 \n",
            "\n",
            "epoch 14\n"
          ]
        },
        {
          "metadata": {
            "tags": null
          },
          "name": "stderr",
          "output_type": "stream",
          "text": [
            "733it [00:44, 16.63it/s]\n"
          ]
        },
        {
          "metadata": {
            "tags": null
          },
          "name": "stdout",
          "output_type": "stream",
          "text": [
            "torch.Size([7818, 3]) torch.Size([7818])\n",
            "Epoch: 14 \n",
            "Train_loss: 0.787 Train Accuracy: 0.7438 \n",
            "Validation_loss:   0.7944 Validation Accuracy:   0.7419 \n",
            "\n",
            "epoch 15\n"
          ]
        },
        {
          "metadata": {
            "tags": null
          },
          "name": "stderr",
          "output_type": "stream",
          "text": [
            "733it [00:45, 16.12it/s]\n"
          ]
        },
        {
          "metadata": {
            "tags": null
          },
          "name": "stdout",
          "output_type": "stream",
          "text": [
            "torch.Size([7818, 3]) torch.Size([7818])\n",
            "Epoch: 15 \n",
            "Train_loss: 0.7803 Train Accuracy: 0.7477 \n",
            "Validation_loss:   0.7909 Validation Accuracy:   0.741 \n",
            "\n",
            "epoch 16\n"
          ]
        },
        {
          "metadata": {
            "tags": null
          },
          "name": "stderr",
          "output_type": "stream",
          "text": [
            "733it [00:45, 15.97it/s]\n"
          ]
        },
        {
          "metadata": {
            "tags": null
          },
          "name": "stdout",
          "output_type": "stream",
          "text": [
            "torch.Size([7818, 3]) torch.Size([7818])\n",
            "Epoch: 16 \n",
            "Train_loss: 0.7767 Train Accuracy: 0.7507 \n",
            "Validation_loss:   0.7891 Validation Accuracy:   0.7414 \n",
            "\n",
            "epoch 17\n"
          ]
        },
        {
          "metadata": {
            "tags": null
          },
          "name": "stderr",
          "output_type": "stream",
          "text": [
            "733it [00:44, 16.48it/s]\n"
          ]
        },
        {
          "metadata": {
            "tags": null
          },
          "name": "stdout",
          "output_type": "stream",
          "text": [
            "torch.Size([7818, 3]) torch.Size([7818])\n",
            "Epoch: 17 \n",
            "Train_loss: 0.7745 Train Accuracy: 0.7522 \n",
            "Validation_loss:   0.788 Validation Accuracy:   0.743 \n",
            "\n",
            "epoch 18\n"
          ]
        },
        {
          "metadata": {
            "tags": null
          },
          "name": "stderr",
          "output_type": "stream",
          "text": [
            "733it [00:43, 16.74it/s]\n"
          ]
        },
        {
          "metadata": {
            "tags": null
          },
          "name": "stdout",
          "output_type": "stream",
          "text": [
            "torch.Size([7818, 3]) torch.Size([7818])\n",
            "Epoch: 18 \n",
            "Train_loss: 0.7729 Train Accuracy: 0.7536 \n",
            "Validation_loss:   0.7872 Validation Accuracy:   0.7429 \n",
            "\n",
            "epoch 19\n"
          ]
        },
        {
          "metadata": {
            "tags": null
          },
          "name": "stderr",
          "output_type": "stream",
          "text": [
            "733it [00:43, 16.82it/s]\n"
          ]
        },
        {
          "metadata": {
            "tags": null
          },
          "name": "stdout",
          "output_type": "stream",
          "text": [
            "torch.Size([7818, 3]) torch.Size([7818])\n",
            "Epoch: 19 \n",
            "Train_loss: 0.7717 Train Accuracy: 0.7549 \n",
            "Validation_loss:   0.7867 Validation Accuracy:   0.7433 \n",
            "\n",
            "epoch 20\n"
          ]
        },
        {
          "metadata": {
            "tags": null
          },
          "name": "stderr",
          "output_type": "stream",
          "text": [
            "733it [00:44, 16.52it/s]\n"
          ]
        },
        {
          "metadata": {
            "tags": null
          },
          "name": "stdout",
          "output_type": "stream",
          "text": [
            "torch.Size([7818, 3]) torch.Size([7818])\n",
            "Epoch: 20 \n",
            "Train_loss: 0.7708 Train Accuracy: 0.7554 \n",
            "Validation_loss:   0.7863 Validation Accuracy:   0.7428 \n",
            "\n",
            "epoch 21\n"
          ]
        },
        {
          "metadata": {
            "tags": null
          },
          "name": "stderr",
          "output_type": "stream",
          "text": [
            "733it [00:42, 17.16it/s]\n"
          ]
        },
        {
          "metadata": {
            "tags": null
          },
          "name": "stdout",
          "output_type": "stream",
          "text": [
            "torch.Size([7818, 3]) torch.Size([7818])\n",
            "Epoch: 21 \n",
            "Train_loss: 0.7701 Train Accuracy: 0.7562 \n",
            "Validation_loss:   0.7859 Validation Accuracy:   0.743 \n",
            "\n",
            "epoch 22\n"
          ]
        },
        {
          "metadata": {
            "tags": null
          },
          "name": "stderr",
          "output_type": "stream",
          "text": [
            "733it [00:42, 17.36it/s]\n"
          ]
        },
        {
          "metadata": {
            "tags": null
          },
          "name": "stdout",
          "output_type": "stream",
          "text": [
            "torch.Size([7818, 3]) torch.Size([7818])\n",
            "Epoch: 22 \n",
            "Train_loss: 0.7696 Train Accuracy: 0.7562 \n",
            "Validation_loss:   0.7857 Validation Accuracy:   0.7425 \n",
            "\n",
            "epoch 23\n"
          ]
        },
        {
          "metadata": {
            "tags": null
          },
          "name": "stderr",
          "output_type": "stream",
          "text": [
            "733it [00:45, 16.16it/s]\n"
          ]
        },
        {
          "metadata": {
            "tags": null
          },
          "name": "stdout",
          "output_type": "stream",
          "text": [
            "torch.Size([7818, 3]) torch.Size([7818])\n",
            "Epoch: 23 \n",
            "Train_loss: 0.7691 Train Accuracy: 0.7569 \n",
            "Validation_loss:   0.7855 Validation Accuracy:   0.7419 \n",
            "\n",
            "epoch 24\n"
          ]
        },
        {
          "metadata": {
            "tags": null
          },
          "name": "stderr",
          "output_type": "stream",
          "text": [
            "733it [00:47, 15.52it/s]\n"
          ]
        },
        {
          "metadata": {
            "tags": null
          },
          "name": "stdout",
          "output_type": "stream",
          "text": [
            "torch.Size([7818, 3]) torch.Size([7818])\n",
            "Epoch: 24 \n",
            "Train_loss: 0.7687 Train Accuracy: 0.7575 \n",
            "Validation_loss:   0.7853 Validation Accuracy:   0.7424 \n",
            "\n",
            "epoch 25\n"
          ]
        },
        {
          "metadata": {
            "tags": null
          },
          "name": "stderr",
          "output_type": "stream",
          "text": [
            "733it [00:47, 15.34it/s]\n"
          ]
        },
        {
          "metadata": {
            "tags": null
          },
          "name": "stdout",
          "output_type": "stream",
          "text": [
            "torch.Size([7818, 3]) torch.Size([7818])\n",
            "Epoch: 25 \n",
            "Train_loss: 0.7683 Train Accuracy: 0.7577 \n",
            "Validation_loss:   0.7851 Validation Accuracy:   0.7434 \n",
            "\n",
            "epoch 26\n"
          ]
        },
        {
          "metadata": {
            "tags": null
          },
          "name": "stderr",
          "output_type": "stream",
          "text": [
            "733it [00:48, 15.25it/s]\n"
          ]
        },
        {
          "metadata": {
            "tags": null
          },
          "name": "stdout",
          "output_type": "stream",
          "text": [
            "torch.Size([7818, 3]) torch.Size([7818])\n",
            "Epoch: 26 \n",
            "Train_loss: 0.768 Train Accuracy: 0.7588 \n",
            "Validation_loss:   0.7849 Validation Accuracy:   0.7428 \n",
            "\n",
            "epoch 27\n"
          ]
        },
        {
          "metadata": {
            "tags": null
          },
          "name": "stderr",
          "output_type": "stream",
          "text": [
            "733it [00:46, 15.65it/s]\n"
          ]
        },
        {
          "metadata": {
            "tags": null
          },
          "name": "stdout",
          "output_type": "stream",
          "text": [
            "torch.Size([7818, 3]) torch.Size([7818])\n",
            "Epoch: 27 \n",
            "Train_loss: 0.7678 Train Accuracy: 0.7594 \n",
            "Validation_loss:   0.7848 Validation Accuracy:   0.7425 \n",
            "\n",
            "epoch 28\n"
          ]
        },
        {
          "metadata": {
            "tags": null
          },
          "name": "stderr",
          "output_type": "stream",
          "text": [
            "733it [00:45, 16.25it/s]\n"
          ]
        },
        {
          "metadata": {
            "tags": null
          },
          "name": "stdout",
          "output_type": "stream",
          "text": [
            "torch.Size([7818, 3]) torch.Size([7818])\n",
            "Epoch: 28 \n",
            "Train_loss: 0.7675 Train Accuracy: 0.7603 \n",
            "Validation_loss:   0.7846 Validation Accuracy:   0.7424 \n",
            "\n",
            "epoch 29\n"
          ]
        },
        {
          "metadata": {
            "tags": null
          },
          "name": "stderr",
          "output_type": "stream",
          "text": [
            "733it [00:43, 16.78it/s]\n"
          ]
        },
        {
          "metadata": {
            "tags": null
          },
          "name": "stdout",
          "output_type": "stream",
          "text": [
            "torch.Size([7818, 3]) torch.Size([7818])\n",
            "Epoch: 29 \n",
            "Train_loss: 0.7673 Train Accuracy: 0.7608 \n",
            "Validation_loss:   0.7845 Validation Accuracy:   0.743 \n",
            "\n",
            "epoch 30\n"
          ]
        },
        {
          "metadata": {
            "tags": null
          },
          "name": "stderr",
          "output_type": "stream",
          "text": [
            "733it [00:43, 16.90it/s]\n"
          ]
        },
        {
          "metadata": {
            "tags": null
          },
          "name": "stdout",
          "output_type": "stream",
          "text": [
            "torch.Size([7818, 3]) torch.Size([7818])\n",
            "Epoch: 30 \n",
            "Train_loss: 0.767 Train Accuracy: 0.7609 \n",
            "Validation_loss:   0.7843 Validation Accuracy:   0.7438 \n",
            "\n",
            "epoch 31\n"
          ]
        },
        {
          "metadata": {
            "tags": null
          },
          "name": "stderr",
          "output_type": "stream",
          "text": [
            "733it [00:42, 17.12it/s]\n"
          ]
        },
        {
          "metadata": {
            "tags": null
          },
          "name": "stdout",
          "output_type": "stream",
          "text": [
            "torch.Size([7818, 3]) torch.Size([7818])\n",
            "Epoch: 31 \n",
            "Train_loss: 0.7668 Train Accuracy: 0.7613 \n",
            "Validation_loss:   0.7842 Validation Accuracy:   0.7441 \n",
            "\n",
            "epoch 32\n"
          ]
        },
        {
          "metadata": {
            "tags": null
          },
          "name": "stderr",
          "output_type": "stream",
          "text": [
            "733it [00:42, 17.38it/s]\n"
          ]
        },
        {
          "metadata": {
            "tags": null
          },
          "name": "stdout",
          "output_type": "stream",
          "text": [
            "torch.Size([7818, 3]) torch.Size([7818])\n",
            "Epoch: 32 \n",
            "Train_loss: 0.7667 Train Accuracy: 0.7615 \n",
            "Validation_loss:   0.7841 Validation Accuracy:   0.7442 \n",
            "\n",
            "epoch 33\n"
          ]
        },
        {
          "metadata": {
            "tags": null
          },
          "name": "stderr",
          "output_type": "stream",
          "text": [
            "733it [00:40, 18.02it/s]\n"
          ]
        },
        {
          "metadata": {
            "tags": null
          },
          "name": "stdout",
          "output_type": "stream",
          "text": [
            "torch.Size([7818, 3]) torch.Size([7818])\n",
            "Epoch: 33 \n",
            "Train_loss: 0.7665 Train Accuracy: 0.7616 \n",
            "Validation_loss:   0.784 Validation Accuracy:   0.7443 \n",
            "\n",
            "epoch 34\n"
          ]
        },
        {
          "metadata": {
            "tags": null
          },
          "name": "stderr",
          "output_type": "stream",
          "text": [
            "733it [00:39, 18.35it/s]\n"
          ]
        },
        {
          "metadata": {
            "tags": null
          },
          "name": "stdout",
          "output_type": "stream",
          "text": [
            "torch.Size([7818, 3]) torch.Size([7818])\n",
            "Epoch: 34 \n",
            "Train_loss: 0.7663 Train Accuracy: 0.7623 \n",
            "Validation_loss:   0.7839 Validation Accuracy:   0.7444 \n",
            "\n",
            "epoch 35\n"
          ]
        },
        {
          "metadata": {
            "tags": null
          },
          "name": "stderr",
          "output_type": "stream",
          "text": [
            "733it [00:40, 18.11it/s]\n"
          ]
        },
        {
          "metadata": {
            "tags": null
          },
          "name": "stdout",
          "output_type": "stream",
          "text": [
            "torch.Size([7818, 3]) torch.Size([7818])\n",
            "Epoch: 35 \n",
            "Train_loss: 0.7662 Train Accuracy: 0.7623 \n",
            "Validation_loss:   0.7839 Validation Accuracy:   0.7443 \n",
            "\n",
            "epoch 36\n"
          ]
        },
        {
          "metadata": {
            "tags": null
          },
          "name": "stderr",
          "output_type": "stream",
          "text": [
            "733it [00:42, 17.16it/s]\n"
          ]
        },
        {
          "metadata": {
            "tags": null
          },
          "name": "stdout",
          "output_type": "stream",
          "text": [
            "torch.Size([7818, 3]) torch.Size([7818])\n",
            "Epoch: 36 \n",
            "Train_loss: 0.7661 Train Accuracy: 0.7625 \n",
            "Validation_loss:   0.7838 Validation Accuracy:   0.7442 \n",
            "\n",
            "epoch 37\n"
          ]
        },
        {
          "metadata": {
            "tags": null
          },
          "name": "stderr",
          "output_type": "stream",
          "text": [
            "733it [00:44, 16.60it/s]\n"
          ]
        },
        {
          "metadata": {
            "tags": null
          },
          "name": "stdout",
          "output_type": "stream",
          "text": [
            "torch.Size([7818, 3]) torch.Size([7818])\n",
            "Epoch: 37 \n",
            "Train_loss: 0.766 Train Accuracy: 0.7625 \n",
            "Validation_loss:   0.7837 Validation Accuracy:   0.7441 \n",
            "\n",
            "epoch 38\n"
          ]
        },
        {
          "metadata": {
            "tags": null
          },
          "name": "stderr",
          "output_type": "stream",
          "text": [
            "733it [00:44, 16.57it/s]\n"
          ]
        },
        {
          "metadata": {
            "tags": null
          },
          "name": "stdout",
          "output_type": "stream",
          "text": [
            "torch.Size([7818, 3]) torch.Size([7818])\n",
            "Epoch: 38 \n",
            "Train_loss: 0.7659 Train Accuracy: 0.7629 \n",
            "Validation_loss:   0.7837 Validation Accuracy:   0.7442 \n",
            "\n",
            "epoch 39\n"
          ]
        },
        {
          "metadata": {
            "tags": null
          },
          "name": "stderr",
          "output_type": "stream",
          "text": [
            "733it [00:44, 16.45it/s]\n"
          ]
        },
        {
          "metadata": {
            "tags": null
          },
          "name": "stdout",
          "output_type": "stream",
          "text": [
            "torch.Size([7818, 3]) torch.Size([7818])\n",
            "Epoch: 39 \n",
            "Train_loss: 0.7658 Train Accuracy: 0.7629 \n",
            "Validation_loss:   0.7836 Validation Accuracy:   0.7442 \n",
            "\n",
            "epoch 40\n"
          ]
        },
        {
          "metadata": {
            "tags": null
          },
          "name": "stderr",
          "output_type": "stream",
          "text": [
            "733it [00:44, 16.56it/s]\n"
          ]
        },
        {
          "metadata": {
            "tags": null
          },
          "name": "stdout",
          "output_type": "stream",
          "text": [
            "torch.Size([7818, 3]) torch.Size([7818])\n",
            "Epoch: 40 \n",
            "Train_loss: 0.7657 Train Accuracy: 0.7631 \n",
            "Validation_loss:   0.7836 Validation Accuracy:   0.7442 \n",
            "\n",
            "epoch 41\n"
          ]
        },
        {
          "metadata": {
            "tags": null
          },
          "name": "stderr",
          "output_type": "stream",
          "text": [
            "733it [00:42, 17.10it/s]\n"
          ]
        },
        {
          "metadata": {
            "tags": null
          },
          "name": "stdout",
          "output_type": "stream",
          "text": [
            "torch.Size([7818, 3]) torch.Size([7818])\n",
            "Epoch: 41 \n",
            "Train_loss: 0.7656 Train Accuracy: 0.7632 \n",
            "Validation_loss:   0.7836 Validation Accuracy:   0.7442 \n",
            "\n",
            "epoch 42\n"
          ]
        },
        {
          "metadata": {
            "tags": null
          },
          "name": "stderr",
          "output_type": "stream",
          "text": [
            "733it [00:41, 17.46it/s]\n"
          ]
        },
        {
          "metadata": {
            "tags": null
          },
          "name": "stdout",
          "output_type": "stream",
          "text": [
            "torch.Size([7818, 3]) torch.Size([7818])\n",
            "Epoch: 42 \n",
            "Train_loss: 0.7655 Train Accuracy: 0.7633 \n",
            "Validation_loss:   0.7835 Validation Accuracy:   0.7443 \n",
            "\n",
            "epoch 43\n"
          ]
        },
        {
          "metadata": {
            "tags": null
          },
          "name": "stderr",
          "output_type": "stream",
          "text": [
            "733it [00:43, 16.72it/s]\n"
          ]
        },
        {
          "metadata": {
            "tags": null
          },
          "name": "stdout",
          "output_type": "stream",
          "text": [
            "torch.Size([7818, 3]) torch.Size([7818])\n",
            "Epoch: 43 \n",
            "Train_loss: 0.7655 Train Accuracy: 0.7633 \n",
            "Validation_loss:   0.7835 Validation Accuracy:   0.7451 \n",
            "\n",
            "epoch 44\n"
          ]
        },
        {
          "metadata": {
            "tags": null
          },
          "name": "stderr",
          "output_type": "stream",
          "text": [
            "733it [00:43, 16.89it/s]\n"
          ]
        },
        {
          "metadata": {
            "tags": null
          },
          "name": "stdout",
          "output_type": "stream",
          "text": [
            "torch.Size([7818, 3]) torch.Size([7818])\n",
            "Epoch: 44 \n",
            "Train_loss: 0.7654 Train Accuracy: 0.7635 \n",
            "Validation_loss:   0.7834 Validation Accuracy:   0.7449 \n",
            "\n",
            "epoch 45\n"
          ]
        },
        {
          "metadata": {
            "tags": null
          },
          "name": "stderr",
          "output_type": "stream",
          "text": [
            "733it [00:45, 16.01it/s]\n"
          ]
        },
        {
          "metadata": {
            "tags": null
          },
          "name": "stdout",
          "output_type": "stream",
          "text": [
            "torch.Size([7818, 3]) torch.Size([7818])\n",
            "Epoch: 45 \n",
            "Train_loss: 0.7653 Train Accuracy: 0.7636 \n",
            "Validation_loss:   0.7834 Validation Accuracy:   0.7451 \n",
            "\n",
            "epoch 46\n"
          ]
        },
        {
          "metadata": {
            "tags": null
          },
          "name": "stderr",
          "output_type": "stream",
          "text": [
            "733it [00:44, 16.61it/s]\n"
          ]
        },
        {
          "metadata": {
            "tags": null
          },
          "name": "stdout",
          "output_type": "stream",
          "text": [
            "torch.Size([7818, 3]) torch.Size([7818])\n",
            "Epoch: 46 \n",
            "Train_loss: 0.7653 Train Accuracy: 0.7638 \n",
            "Validation_loss:   0.7834 Validation Accuracy:   0.7456 \n",
            "\n",
            "epoch 47\n"
          ]
        },
        {
          "metadata": {
            "tags": null
          },
          "name": "stderr",
          "output_type": "stream",
          "text": [
            "733it [00:43, 16.72it/s]\n"
          ]
        },
        {
          "metadata": {
            "tags": null
          },
          "name": "stdout",
          "output_type": "stream",
          "text": [
            "torch.Size([7818, 3]) torch.Size([7818])\n",
            "Epoch: 47 \n",
            "Train_loss: 0.7652 Train Accuracy: 0.7638 \n",
            "Validation_loss:   0.7834 Validation Accuracy:   0.7456 \n",
            "\n",
            "epoch 48\n"
          ]
        },
        {
          "metadata": {
            "tags": null
          },
          "name": "stderr",
          "output_type": "stream",
          "text": [
            "733it [00:43, 16.81it/s]\n"
          ]
        },
        {
          "metadata": {
            "tags": null
          },
          "name": "stdout",
          "output_type": "stream",
          "text": [
            "torch.Size([7818, 3]) torch.Size([7818])\n",
            "Epoch: 48 \n",
            "Train_loss: 0.7652 Train Accuracy: 0.764 \n",
            "Validation_loss:   0.7833 Validation Accuracy:   0.7456 \n",
            "\n",
            "epoch 49\n"
          ]
        },
        {
          "metadata": {
            "tags": null
          },
          "name": "stderr",
          "output_type": "stream",
          "text": [
            "733it [00:43, 16.97it/s]\n"
          ]
        },
        {
          "metadata": {
            "tags": null
          },
          "name": "stdout",
          "output_type": "stream",
          "text": [
            "torch.Size([7818, 3]) torch.Size([7818])\n",
            "Epoch: 49 \n",
            "Train_loss: 0.7651 Train Accuracy: 0.7641 \n",
            "Validation_loss:   0.7833 Validation Accuracy:   0.7456 \n",
            "\n",
            "epoch 50\n"
          ]
        },
        {
          "metadata": {
            "tags": null
          },
          "name": "stderr",
          "output_type": "stream",
          "text": [
            "733it [00:43, 16.69it/s]\n"
          ]
        },
        {
          "metadata": {
            "tags": null
          },
          "name": "stdout",
          "output_type": "stream",
          "text": [
            "torch.Size([7818, 3]) torch.Size([7818])\n",
            "Epoch: 50 \n",
            "Train_loss: 0.7651 Train Accuracy: 0.7643 \n",
            "Validation_loss:   0.7833 Validation Accuracy:   0.7455 \n",
            "\n",
            "epoch 51\n"
          ]
        },
        {
          "metadata": {
            "tags": null
          },
          "name": "stderr",
          "output_type": "stream",
          "text": [
            "733it [00:42, 17.14it/s]\n"
          ]
        },
        {
          "metadata": {
            "tags": null
          },
          "name": "stdout",
          "output_type": "stream",
          "text": [
            "torch.Size([7818, 3]) torch.Size([7818])\n",
            "Epoch: 51 \n",
            "Train_loss: 0.765 Train Accuracy: 0.7644 \n",
            "Validation_loss:   0.7833 Validation Accuracy:   0.7458 \n",
            "\n",
            "epoch 52\n"
          ]
        },
        {
          "metadata": {
            "tags": null
          },
          "name": "stderr",
          "output_type": "stream",
          "text": [
            "733it [00:44, 16.31it/s]\n"
          ]
        },
        {
          "metadata": {
            "tags": null
          },
          "name": "stdout",
          "output_type": "stream",
          "text": [
            "torch.Size([7818, 3]) torch.Size([7818])\n",
            "Epoch: 52 \n",
            "Train_loss: 0.765 Train Accuracy: 0.7644 \n",
            "Validation_loss:   0.7833 Validation Accuracy:   0.7462 \n",
            "\n",
            "epoch 53\n"
          ]
        },
        {
          "metadata": {
            "tags": null
          },
          "name": "stderr",
          "output_type": "stream",
          "text": [
            "733it [00:45, 15.97it/s]\n"
          ]
        },
        {
          "metadata": {
            "tags": null
          },
          "name": "stdout",
          "output_type": "stream",
          "text": [
            "torch.Size([7818, 3]) torch.Size([7818])\n",
            "Epoch: 53 \n",
            "Train_loss: 0.7649 Train Accuracy: 0.7647 \n",
            "Validation_loss:   0.7832 Validation Accuracy:   0.7462 \n",
            "\n",
            "epoch 54\n"
          ]
        },
        {
          "metadata": {
            "tags": null
          },
          "name": "stderr",
          "output_type": "stream",
          "text": [
            "733it [00:45, 16.05it/s]\n"
          ]
        },
        {
          "metadata": {
            "tags": null
          },
          "name": "stdout",
          "output_type": "stream",
          "text": [
            "torch.Size([7818, 3]) torch.Size([7818])\n",
            "Epoch: 54 \n",
            "Train_loss: 0.7649 Train Accuracy: 0.7649 \n",
            "Validation_loss:   0.7832 Validation Accuracy:   0.7461 \n",
            "\n",
            "epoch 55\n"
          ]
        },
        {
          "metadata": {
            "tags": null
          },
          "name": "stderr",
          "output_type": "stream",
          "text": [
            "733it [00:43, 16.77it/s]\n"
          ]
        },
        {
          "metadata": {
            "tags": null
          },
          "name": "stdout",
          "output_type": "stream",
          "text": [
            "torch.Size([7818, 3]) torch.Size([7818])\n",
            "Epoch: 55 \n",
            "Train_loss: 0.7648 Train Accuracy: 0.7649 \n",
            "Validation_loss:   0.7832 Validation Accuracy:   0.746 \n",
            "\n",
            "epoch 56\n"
          ]
        },
        {
          "metadata": {
            "tags": null
          },
          "name": "stderr",
          "output_type": "stream",
          "text": [
            "733it [00:45, 15.94it/s]\n"
          ]
        },
        {
          "metadata": {
            "tags": null
          },
          "name": "stdout",
          "output_type": "stream",
          "text": [
            "torch.Size([7818, 3]) torch.Size([7818])\n",
            "Epoch: 56 \n",
            "Train_loss: 0.7648 Train Accuracy: 0.765 \n",
            "Validation_loss:   0.7832 Validation Accuracy:   0.7461 \n",
            "\n",
            "epoch 57\n"
          ]
        },
        {
          "metadata": {
            "tags": null
          },
          "name": "stderr",
          "output_type": "stream",
          "text": [
            "733it [00:47, 15.34it/s]\n"
          ]
        },
        {
          "metadata": {
            "tags": null
          },
          "name": "stdout",
          "output_type": "stream",
          "text": [
            "torch.Size([7818, 3]) torch.Size([7818])\n",
            "Epoch: 57 \n",
            "Train_loss: 0.7647 Train Accuracy: 0.7651 \n",
            "Validation_loss:   0.7832 Validation Accuracy:   0.746 \n",
            "\n",
            "epoch 58\n"
          ]
        },
        {
          "metadata": {
            "tags": null
          },
          "name": "stderr",
          "output_type": "stream",
          "text": [
            "733it [00:46, 15.81it/s]\n"
          ]
        },
        {
          "metadata": {
            "tags": null
          },
          "name": "stdout",
          "output_type": "stream",
          "text": [
            "torch.Size([7818, 3]) torch.Size([7818])\n",
            "Epoch: 58 \n",
            "Train_loss: 0.7647 Train Accuracy: 0.7652 \n",
            "Validation_loss:   0.7831 Validation Accuracy:   0.7461 \n",
            "\n",
            "epoch 59\n"
          ]
        },
        {
          "metadata": {
            "tags": null
          },
          "name": "stderr",
          "output_type": "stream",
          "text": [
            "733it [00:47, 15.57it/s]\n"
          ]
        },
        {
          "metadata": {
            "tags": null
          },
          "name": "stdout",
          "output_type": "stream",
          "text": [
            "torch.Size([7818, 3]) torch.Size([7818])\n",
            "Epoch: 59 \n",
            "Train_loss: 0.7647 Train Accuracy: 0.7654 \n",
            "Validation_loss:   0.7831 Validation Accuracy:   0.7458 \n",
            "\n",
            "epoch 60\n"
          ]
        },
        {
          "metadata": {
            "tags": null
          },
          "name": "stderr",
          "output_type": "stream",
          "text": [
            "733it [00:45, 16.13it/s]\n"
          ]
        },
        {
          "metadata": {
            "tags": null
          },
          "name": "stdout",
          "output_type": "stream",
          "text": [
            "torch.Size([7818, 3]) torch.Size([7818])\n",
            "Epoch: 60 \n",
            "Train_loss: 0.7646 Train Accuracy: 0.7656 \n",
            "Validation_loss:   0.7831 Validation Accuracy:   0.7458 \n",
            "\n",
            "epoch 61\n"
          ]
        },
        {
          "metadata": {
            "tags": null
          },
          "name": "stderr",
          "output_type": "stream",
          "text": [
            "733it [00:44, 16.34it/s]\n"
          ]
        },
        {
          "metadata": {
            "tags": null
          },
          "name": "stdout",
          "output_type": "stream",
          "text": [
            "torch.Size([7818, 3]) torch.Size([7818])\n",
            "Epoch: 61 \n",
            "Train_loss: 0.7646 Train Accuracy: 0.7657 \n",
            "Validation_loss:   0.7831 Validation Accuracy:   0.7461 \n",
            "\n",
            "epoch 62\n"
          ]
        },
        {
          "metadata": {
            "tags": null
          },
          "name": "stderr",
          "output_type": "stream",
          "text": [
            "733it [00:44, 16.54it/s]\n"
          ]
        },
        {
          "metadata": {
            "tags": null
          },
          "name": "stdout",
          "output_type": "stream",
          "text": [
            "torch.Size([7818, 3]) torch.Size([7818])\n",
            "Epoch: 62 \n",
            "Train_loss: 0.7645 Train Accuracy: 0.7658 \n",
            "Validation_loss:   0.7831 Validation Accuracy:   0.7461 \n",
            "\n",
            "epoch 63\n"
          ]
        },
        {
          "metadata": {
            "tags": null
          },
          "name": "stderr",
          "output_type": "stream",
          "text": [
            "733it [00:45, 16.01it/s]\n"
          ]
        },
        {
          "metadata": {
            "tags": null
          },
          "name": "stdout",
          "output_type": "stream",
          "text": [
            "torch.Size([7818, 3]) torch.Size([7818])\n",
            "Epoch: 63 \n",
            "Train_loss: 0.7645 Train Accuracy: 0.7659 \n",
            "Validation_loss:   0.783 Validation Accuracy:   0.7465 \n",
            "\n",
            "epoch 64\n"
          ]
        },
        {
          "metadata": {
            "tags": null
          },
          "name": "stderr",
          "output_type": "stream",
          "text": [
            "733it [00:46, 15.74it/s]\n"
          ]
        },
        {
          "metadata": {
            "tags": null
          },
          "name": "stdout",
          "output_type": "stream",
          "text": [
            "torch.Size([7818, 3]) torch.Size([7818])\n",
            "Epoch: 64 \n",
            "Train_loss: 0.7644 Train Accuracy: 0.7658 \n",
            "Validation_loss:   0.783 Validation Accuracy:   0.7464 \n",
            "\n",
            "epoch 65\n"
          ]
        },
        {
          "metadata": {
            "tags": null
          },
          "name": "stderr",
          "output_type": "stream",
          "text": [
            "733it [00:47, 15.56it/s]\n"
          ]
        },
        {
          "metadata": {
            "tags": null
          },
          "name": "stdout",
          "output_type": "stream",
          "text": [
            "torch.Size([7818, 3]) torch.Size([7818])\n",
            "Epoch: 65 \n",
            "Train_loss: 0.7644 Train Accuracy: 0.7659 \n",
            "Validation_loss:   0.783 Validation Accuracy:   0.7464 \n",
            "\n",
            "epoch 66\n"
          ]
        },
        {
          "metadata": {
            "tags": null
          },
          "name": "stderr",
          "output_type": "stream",
          "text": [
            "733it [00:47, 15.57it/s]\n"
          ]
        },
        {
          "metadata": {
            "tags": null
          },
          "name": "stdout",
          "output_type": "stream",
          "text": [
            "torch.Size([7818, 3]) torch.Size([7818])\n",
            "Epoch: 66 \n",
            "Train_loss: 0.7644 Train Accuracy: 0.7659 \n",
            "Validation_loss:   0.783 Validation Accuracy:   0.7461 \n",
            "\n",
            "epoch 67\n"
          ]
        },
        {
          "metadata": {
            "tags": null
          },
          "name": "stderr",
          "output_type": "stream",
          "text": [
            "733it [00:48, 15.22it/s]\n"
          ]
        },
        {
          "metadata": {
            "tags": null
          },
          "name": "stdout",
          "output_type": "stream",
          "text": [
            "torch.Size([7818, 3]) torch.Size([7818])\n",
            "Epoch: 67 \n",
            "Train_loss: 0.7643 Train Accuracy: 0.7659 \n",
            "Validation_loss:   0.783 Validation Accuracy:   0.7462 \n",
            "\n",
            "epoch 68\n"
          ]
        },
        {
          "metadata": {
            "tags": null
          },
          "name": "stderr",
          "output_type": "stream",
          "text": [
            "733it [00:48, 15.09it/s]\n"
          ]
        },
        {
          "metadata": {
            "tags": null
          },
          "name": "stdout",
          "output_type": "stream",
          "text": [
            "torch.Size([7818, 3]) torch.Size([7818])\n",
            "Epoch: 68 \n",
            "Train_loss: 0.7643 Train Accuracy: 0.766 \n",
            "Validation_loss:   0.783 Validation Accuracy:   0.7461 \n",
            "\n",
            "epoch 69\n"
          ]
        },
        {
          "metadata": {
            "tags": null
          },
          "name": "stderr",
          "output_type": "stream",
          "text": [
            "733it [00:48, 15.13it/s]\n"
          ]
        },
        {
          "metadata": {
            "tags": null
          },
          "name": "stdout",
          "output_type": "stream",
          "text": [
            "torch.Size([7818, 3]) torch.Size([7818])\n",
            "Epoch: 69 \n",
            "Train_loss: 0.7642 Train Accuracy: 0.766 \n",
            "Validation_loss:   0.7829 Validation Accuracy:   0.7462 \n",
            "\n",
            "epoch 70\n"
          ]
        },
        {
          "metadata": {
            "tags": null
          },
          "name": "stderr",
          "output_type": "stream",
          "text": [
            "733it [00:48, 15.18it/s]\n"
          ]
        },
        {
          "metadata": {
            "tags": null
          },
          "name": "stdout",
          "output_type": "stream",
          "text": [
            "torch.Size([7818, 3]) torch.Size([7818])\n",
            "Epoch: 70 \n",
            "Train_loss: 0.7642 Train Accuracy: 0.7661 \n",
            "Validation_loss:   0.7829 Validation Accuracy:   0.7465 \n",
            "\n",
            "epoch 71\n"
          ]
        },
        {
          "metadata": {
            "tags": null
          },
          "name": "stderr",
          "output_type": "stream",
          "text": [
            "733it [00:46, 15.64it/s]\n"
          ]
        },
        {
          "metadata": {
            "tags": null
          },
          "name": "stdout",
          "output_type": "stream",
          "text": [
            "torch.Size([7818, 3]) torch.Size([7818])\n",
            "Epoch: 71 \n",
            "Train_loss: 0.7642 Train Accuracy: 0.7661 \n",
            "Validation_loss:   0.7829 Validation Accuracy:   0.7465 \n",
            "\n",
            "epoch 72\n"
          ]
        },
        {
          "metadata": {
            "tags": null
          },
          "name": "stderr",
          "output_type": "stream",
          "text": [
            "733it [00:47, 15.41it/s]\n"
          ]
        },
        {
          "metadata": {
            "tags": null
          },
          "name": "stdout",
          "output_type": "stream",
          "text": [
            "torch.Size([7818, 3]) torch.Size([7818])\n",
            "Epoch: 72 \n",
            "Train_loss: 0.7641 Train Accuracy: 0.7664 \n",
            "Validation_loss:   0.7829 Validation Accuracy:   0.7462 \n",
            "\n",
            "epoch 73\n"
          ]
        },
        {
          "metadata": {
            "tags": null
          },
          "name": "stderr",
          "output_type": "stream",
          "text": [
            "733it [00:47, 15.48it/s]\n"
          ]
        },
        {
          "metadata": {
            "tags": null
          },
          "name": "stdout",
          "output_type": "stream",
          "text": [
            "torch.Size([7818, 3]) torch.Size([7818])\n",
            "Epoch: 73 \n",
            "Train_loss: 0.7641 Train Accuracy: 0.7663 \n",
            "Validation_loss:   0.7829 Validation Accuracy:   0.7464 \n",
            "\n",
            "epoch 74\n"
          ]
        },
        {
          "metadata": {
            "tags": null
          },
          "name": "stderr",
          "output_type": "stream",
          "text": [
            "733it [00:49, 14.92it/s]\n"
          ]
        },
        {
          "metadata": {
            "tags": null
          },
          "name": "stdout",
          "output_type": "stream",
          "text": [
            "torch.Size([7818, 3]) torch.Size([7818])\n",
            "Epoch: 74 \n",
            "Train_loss: 0.7641 Train Accuracy: 0.7663 \n",
            "Validation_loss:   0.7829 Validation Accuracy:   0.7464 \n",
            "\n",
            "epoch 75\n"
          ]
        },
        {
          "metadata": {
            "tags": null
          },
          "name": "stderr",
          "output_type": "stream",
          "text": [
            "733it [00:48, 15.15it/s]\n"
          ]
        },
        {
          "metadata": {
            "tags": null
          },
          "name": "stdout",
          "output_type": "stream",
          "text": [
            "torch.Size([7818, 3]) torch.Size([7818])\n",
            "Epoch: 75 \n",
            "Train_loss: 0.764 Train Accuracy: 0.7662 \n",
            "Validation_loss:   0.7829 Validation Accuracy:   0.7462 \n",
            "\n",
            "epoch 76\n"
          ]
        },
        {
          "metadata": {
            "tags": null
          },
          "name": "stderr",
          "output_type": "stream",
          "text": [
            "733it [00:49, 14.74it/s]\n"
          ]
        },
        {
          "metadata": {
            "tags": null
          },
          "name": "stdout",
          "output_type": "stream",
          "text": [
            "torch.Size([7818, 3]) torch.Size([7818])\n",
            "Epoch: 76 \n",
            "Train_loss: 0.764 Train Accuracy: 0.7664 \n",
            "Validation_loss:   0.7829 Validation Accuracy:   0.7462 \n",
            "\n",
            "epoch 77\n"
          ]
        },
        {
          "metadata": {
            "tags": null
          },
          "name": "stderr",
          "output_type": "stream",
          "text": [
            "733it [00:49, 14.74it/s]\n"
          ]
        },
        {
          "metadata": {
            "tags": null
          },
          "name": "stdout",
          "output_type": "stream",
          "text": [
            "torch.Size([7818, 3]) torch.Size([7818])\n",
            "Epoch: 77 \n",
            "Train_loss: 0.764 Train Accuracy: 0.7664 \n",
            "Validation_loss:   0.7828 Validation Accuracy:   0.7462 \n",
            "\n",
            "epoch 78\n"
          ]
        },
        {
          "metadata": {
            "tags": null
          },
          "name": "stderr",
          "output_type": "stream",
          "text": [
            "733it [00:49, 14.92it/s]\n"
          ]
        },
        {
          "metadata": {
            "tags": null
          },
          "name": "stdout",
          "output_type": "stream",
          "text": [
            "torch.Size([7818, 3]) torch.Size([7818])\n",
            "Epoch: 78 \n",
            "Train_loss: 0.7639 Train Accuracy: 0.7665 \n",
            "Validation_loss:   0.7828 Validation Accuracy:   0.7464 \n",
            "\n",
            "epoch 79\n"
          ]
        },
        {
          "metadata": {
            "tags": null
          },
          "name": "stderr",
          "output_type": "stream",
          "text": [
            "733it [00:48, 15.07it/s]\n"
          ]
        },
        {
          "metadata": {
            "tags": null
          },
          "name": "stdout",
          "output_type": "stream",
          "text": [
            "torch.Size([7818, 3]) torch.Size([7818])\n",
            "Epoch: 79 \n",
            "Train_loss: 0.7639 Train Accuracy: 0.7664 \n",
            "Validation_loss:   0.7828 Validation Accuracy:   0.7464 \n",
            "\n",
            "epoch 80\n"
          ]
        },
        {
          "metadata": {
            "tags": null
          },
          "name": "stderr",
          "output_type": "stream",
          "text": [
            "733it [00:48, 15.24it/s]\n"
          ]
        },
        {
          "metadata": {
            "tags": null
          },
          "name": "stdout",
          "output_type": "stream",
          "text": [
            "torch.Size([7818, 3]) torch.Size([7818])\n",
            "Epoch: 80 \n",
            "Train_loss: 0.7638 Train Accuracy: 0.7666 \n",
            "Validation_loss:   0.7828 Validation Accuracy:   0.7467 \n",
            "\n",
            "epoch 81\n"
          ]
        },
        {
          "metadata": {
            "tags": null
          },
          "name": "stderr",
          "output_type": "stream",
          "text": [
            "733it [00:49, 14.75it/s]\n"
          ]
        },
        {
          "metadata": {
            "tags": null
          },
          "name": "stdout",
          "output_type": "stream",
          "text": [
            "torch.Size([7818, 3]) torch.Size([7818])\n",
            "Epoch: 81 \n",
            "Train_loss: 0.7638 Train Accuracy: 0.7665 \n",
            "Validation_loss:   0.7828 Validation Accuracy:   0.7467 \n",
            "\n",
            "epoch 82\n"
          ]
        },
        {
          "metadata": {
            "tags": null
          },
          "name": "stderr",
          "output_type": "stream",
          "text": [
            "733it [00:51, 14.16it/s]\n"
          ]
        },
        {
          "metadata": {
            "tags": null
          },
          "name": "stdout",
          "output_type": "stream",
          "text": [
            "torch.Size([7818, 3]) torch.Size([7818])\n",
            "Epoch: 82 \n",
            "Train_loss: 0.7638 Train Accuracy: 0.7667 \n",
            "Validation_loss:   0.7828 Validation Accuracy:   0.7467 \n",
            "\n",
            "epoch 83\n"
          ]
        },
        {
          "metadata": {
            "tags": null
          },
          "name": "stderr",
          "output_type": "stream",
          "text": [
            "733it [00:50, 14.58it/s]\n"
          ]
        },
        {
          "metadata": {
            "tags": null
          },
          "name": "stdout",
          "output_type": "stream",
          "text": [
            "torch.Size([7818, 3]) torch.Size([7818])\n",
            "Epoch: 83 \n",
            "Train_loss: 0.7637 Train Accuracy: 0.7669 \n",
            "Validation_loss:   0.7828 Validation Accuracy:   0.7465 \n",
            "\n",
            "epoch 84\n"
          ]
        },
        {
          "metadata": {
            "tags": null
          },
          "name": "stderr",
          "output_type": "stream",
          "text": [
            "733it [00:50, 14.48it/s]\n"
          ]
        },
        {
          "metadata": {
            "tags": null
          },
          "name": "stdout",
          "output_type": "stream",
          "text": [
            "torch.Size([7818, 3]) torch.Size([7818])\n",
            "Epoch: 84 \n",
            "Train_loss: 0.7637 Train Accuracy: 0.7667 \n",
            "Validation_loss:   0.7828 Validation Accuracy:   0.7467 \n",
            "\n",
            "epoch 85\n"
          ]
        },
        {
          "metadata": {
            "tags": null
          },
          "name": "stderr",
          "output_type": "stream",
          "text": [
            "733it [00:51, 14.32it/s]\n"
          ]
        },
        {
          "metadata": {
            "tags": null
          },
          "name": "stdout",
          "output_type": "stream",
          "text": [
            "torch.Size([7818, 3]) torch.Size([7818])\n",
            "Epoch: 85 \n",
            "Train_loss: 0.7637 Train Accuracy: 0.7669 \n",
            "Validation_loss:   0.7828 Validation Accuracy:   0.7466 \n",
            "\n",
            "epoch 86\n"
          ]
        },
        {
          "metadata": {
            "tags": null
          },
          "name": "stderr",
          "output_type": "stream",
          "text": [
            "733it [00:51, 14.19it/s]\n"
          ]
        },
        {
          "metadata": {
            "tags": null
          },
          "name": "stdout",
          "output_type": "stream",
          "text": [
            "torch.Size([7818, 3]) torch.Size([7818])\n",
            "Epoch: 86 \n",
            "Train_loss: 0.7636 Train Accuracy: 0.767 \n",
            "Validation_loss:   0.7828 Validation Accuracy:   0.7466 \n",
            "\n",
            "epoch 87\n"
          ]
        },
        {
          "metadata": {
            "tags": null
          },
          "name": "stderr",
          "output_type": "stream",
          "text": [
            "733it [00:50, 14.60it/s]\n"
          ]
        },
        {
          "metadata": {
            "tags": null
          },
          "name": "stdout",
          "output_type": "stream",
          "text": [
            "torch.Size([7818, 3]) torch.Size([7818])\n",
            "Epoch: 87 \n",
            "Train_loss: 0.7636 Train Accuracy: 0.767 \n",
            "Validation_loss:   0.7827 Validation Accuracy:   0.7466 \n",
            "\n",
            "epoch 88\n"
          ]
        },
        {
          "metadata": {
            "tags": null
          },
          "name": "stderr",
          "output_type": "stream",
          "text": [
            "733it [00:49, 14.69it/s]\n"
          ]
        },
        {
          "metadata": {
            "tags": null
          },
          "name": "stdout",
          "output_type": "stream",
          "text": [
            "torch.Size([7818, 3]) torch.Size([7818])\n",
            "Epoch: 88 \n",
            "Train_loss: 0.7636 Train Accuracy: 0.767 \n",
            "Validation_loss:   0.7827 Validation Accuracy:   0.7466 \n",
            "\n",
            "epoch 89\n"
          ]
        },
        {
          "metadata": {
            "tags": null
          },
          "name": "stderr",
          "output_type": "stream",
          "text": [
            "733it [00:49, 14.77it/s]\n"
          ]
        },
        {
          "metadata": {
            "tags": null
          },
          "name": "stdout",
          "output_type": "stream",
          "text": [
            "torch.Size([7818, 3]) torch.Size([7818])\n",
            "Epoch: 89 \n",
            "Train_loss: 0.7636 Train Accuracy: 0.767 \n",
            "Validation_loss:   0.7827 Validation Accuracy:   0.7465 \n",
            "\n",
            "epoch 90\n"
          ]
        },
        {
          "metadata": {
            "tags": null
          },
          "name": "stderr",
          "output_type": "stream",
          "text": [
            "733it [00:50, 14.38it/s]\n"
          ]
        },
        {
          "metadata": {
            "tags": null
          },
          "name": "stdout",
          "output_type": "stream",
          "text": [
            "torch.Size([7818, 3]) torch.Size([7818])\n",
            "Epoch: 90 \n",
            "Train_loss: 0.7635 Train Accuracy: 0.767 \n",
            "Validation_loss:   0.7827 Validation Accuracy:   0.7464 \n",
            "\n",
            "epoch 91\n"
          ]
        },
        {
          "metadata": {
            "tags": null
          },
          "name": "stderr",
          "output_type": "stream",
          "text": [
            "733it [00:52, 14.08it/s]\n"
          ]
        },
        {
          "metadata": {
            "tags": null
          },
          "name": "stdout",
          "output_type": "stream",
          "text": [
            "torch.Size([7818, 3]) torch.Size([7818])\n",
            "Epoch: 91 \n",
            "Train_loss: 0.7635 Train Accuracy: 0.767 \n",
            "Validation_loss:   0.7827 Validation Accuracy:   0.7461 \n",
            "\n",
            "epoch 92\n"
          ]
        },
        {
          "metadata": {
            "tags": null
          },
          "name": "stderr",
          "output_type": "stream",
          "text": [
            "733it [00:53, 13.82it/s]\n"
          ]
        },
        {
          "metadata": {
            "tags": null
          },
          "name": "stdout",
          "output_type": "stream",
          "text": [
            "torch.Size([7818, 3]) torch.Size([7818])\n",
            "Epoch: 92 \n",
            "Train_loss: 0.7635 Train Accuracy: 0.7672 \n",
            "Validation_loss:   0.7827 Validation Accuracy:   0.7461 \n",
            "\n",
            "epoch 93\n"
          ]
        },
        {
          "metadata": {
            "tags": null
          },
          "name": "stderr",
          "output_type": "stream",
          "text": [
            "733it [00:53, 13.76it/s]\n"
          ]
        },
        {
          "metadata": {
            "tags": null
          },
          "name": "stdout",
          "output_type": "stream",
          "text": [
            "torch.Size([7818, 3]) torch.Size([7818])\n",
            "Epoch: 93 \n",
            "Train_loss: 0.7634 Train Accuracy: 0.7671 \n",
            "Validation_loss:   0.7827 Validation Accuracy:   0.7462 \n",
            "\n",
            "epoch 94\n"
          ]
        },
        {
          "metadata": {
            "tags": null
          },
          "name": "stderr",
          "output_type": "stream",
          "text": [
            "733it [00:53, 13.68it/s]\n"
          ]
        },
        {
          "metadata": {
            "tags": null
          },
          "name": "stdout",
          "output_type": "stream",
          "text": [
            "torch.Size([7818, 3]) torch.Size([7818])\n",
            "Epoch: 94 \n",
            "Train_loss: 0.7634 Train Accuracy: 0.7673 \n",
            "Validation_loss:   0.7827 Validation Accuracy:   0.7461 \n",
            "\n",
            "epoch 95\n"
          ]
        },
        {
          "metadata": {
            "tags": null
          },
          "name": "stderr",
          "output_type": "stream",
          "text": [
            "733it [00:52, 13.83it/s]\n"
          ]
        },
        {
          "metadata": {
            "tags": null
          },
          "name": "stdout",
          "output_type": "stream",
          "text": [
            "torch.Size([7818, 3]) torch.Size([7818])\n",
            "Epoch: 95 \n",
            "Train_loss: 0.7634 Train Accuracy: 0.7672 \n",
            "Validation_loss:   0.7826 Validation Accuracy:   0.7464 \n",
            "\n",
            "epoch 96\n"
          ]
        },
        {
          "metadata": {
            "tags": null
          },
          "name": "stderr",
          "output_type": "stream",
          "text": [
            "733it [00:51, 14.19it/s]\n"
          ]
        },
        {
          "metadata": {
            "tags": null
          },
          "name": "stdout",
          "output_type": "stream",
          "text": [
            "torch.Size([7818, 3]) torch.Size([7818])\n",
            "Epoch: 96 \n",
            "Train_loss: 0.7633 Train Accuracy: 0.7672 \n",
            "Validation_loss:   0.7826 Validation Accuracy:   0.7462 \n",
            "\n",
            "epoch 97\n"
          ]
        },
        {
          "metadata": {
            "tags": null
          },
          "name": "stderr",
          "output_type": "stream",
          "text": [
            "733it [00:51, 14.20it/s]\n"
          ]
        },
        {
          "metadata": {
            "tags": null
          },
          "name": "stdout",
          "output_type": "stream",
          "text": [
            "torch.Size([7818, 3]) torch.Size([7818])\n",
            "Epoch: 97 \n",
            "Train_loss: 0.7633 Train Accuracy: 0.7673 \n",
            "Validation_loss:   0.7826 Validation Accuracy:   0.7465 \n",
            "\n",
            "epoch 98\n"
          ]
        },
        {
          "metadata": {
            "tags": null
          },
          "name": "stderr",
          "output_type": "stream",
          "text": [
            "733it [00:51, 14.27it/s]\n"
          ]
        },
        {
          "metadata": {
            "tags": null
          },
          "name": "stdout",
          "output_type": "stream",
          "text": [
            "torch.Size([7818, 3]) torch.Size([7818])\n",
            "Epoch: 98 \n",
            "Train_loss: 0.7633 Train Accuracy: 0.7672 \n",
            "Validation_loss:   0.7826 Validation Accuracy:   0.7461 \n",
            "\n",
            "epoch 99\n"
          ]
        },
        {
          "metadata": {
            "tags": null
          },
          "name": "stderr",
          "output_type": "stream",
          "text": [
            "733it [00:51, 14.10it/s]\n"
          ]
        },
        {
          "metadata": {
            "tags": null
          },
          "name": "stdout",
          "output_type": "stream",
          "text": [
            "torch.Size([7818, 3]) torch.Size([7818])\n",
            "Epoch: 99 \n",
            "Train_loss: 0.7632 Train Accuracy: 0.7672 \n",
            "Validation_loss:   0.7826 Validation Accuracy:   0.7465 \n",
            "\n",
            "epoch 100\n"
          ]
        },
        {
          "metadata": {
            "tags": null
          },
          "name": "stderr",
          "output_type": "stream",
          "text": [
            "733it [00:52, 13.95it/s]\n"
          ]
        },
        {
          "metadata": {
            "tags": null
          },
          "name": "stdout",
          "output_type": "stream",
          "text": [
            "torch.Size([7818, 3]) torch.Size([7818])\n",
            "Epoch: 100 \n",
            "Train_loss: 0.7632 Train Accuracy: 0.7674 \n",
            "Validation_loss:   0.7826 Validation Accuracy:   0.7464 \n",
            "\n",
            "epoch 101\n"
          ]
        },
        {
          "metadata": {
            "tags": null
          },
          "name": "stderr",
          "output_type": "stream",
          "text": [
            "733it [00:52, 13.89it/s]\n"
          ]
        },
        {
          "metadata": {
            "tags": null
          },
          "name": "stdout",
          "output_type": "stream",
          "text": [
            "torch.Size([7818, 3]) torch.Size([7818])\n",
            "Epoch: 101 \n",
            "Train_loss: 0.7632 Train Accuracy: 0.7672 \n",
            "Validation_loss:   0.7826 Validation Accuracy:   0.7465 \n",
            "\n",
            "epoch 102\n"
          ]
        },
        {
          "metadata": {
            "tags": null
          },
          "name": "stderr",
          "output_type": "stream",
          "text": [
            "733it [00:52, 13.87it/s]\n"
          ]
        },
        {
          "metadata": {
            "tags": null
          },
          "name": "stdout",
          "output_type": "stream",
          "text": [
            "torch.Size([7818, 3]) torch.Size([7818])\n",
            "Epoch: 102 \n",
            "Train_loss: 0.7632 Train Accuracy: 0.7674 \n",
            "Validation_loss:   0.7826 Validation Accuracy:   0.7462 \n",
            "\n",
            "epoch 103\n"
          ]
        },
        {
          "metadata": {
            "tags": null
          },
          "name": "stderr",
          "output_type": "stream",
          "text": [
            "733it [00:53, 13.59it/s]\n"
          ]
        },
        {
          "metadata": {
            "tags": null
          },
          "name": "stdout",
          "output_type": "stream",
          "text": [
            "torch.Size([7818, 3]) torch.Size([7818])\n",
            "Epoch: 103 \n",
            "Train_loss: 0.7631 Train Accuracy: 0.7675 \n",
            "Validation_loss:   0.7826 Validation Accuracy:   0.7465 \n",
            "\n",
            "epoch 104\n"
          ]
        },
        {
          "metadata": {
            "tags": null
          },
          "name": "stderr",
          "output_type": "stream",
          "text": [
            "733it [00:54, 13.55it/s]\n"
          ]
        },
        {
          "metadata": {
            "tags": null
          },
          "name": "stdout",
          "output_type": "stream",
          "text": [
            "torch.Size([7818, 3]) torch.Size([7818])\n",
            "Epoch: 104 \n",
            "Train_loss: 0.7631 Train Accuracy: 0.7674 \n",
            "Validation_loss:   0.7826 Validation Accuracy:   0.7464 \n",
            "\n",
            "epoch 105\n"
          ]
        },
        {
          "metadata": {
            "tags": null
          },
          "name": "stderr",
          "output_type": "stream",
          "text": [
            "733it [00:53, 13.61it/s]\n"
          ]
        },
        {
          "metadata": {
            "tags": null
          },
          "name": "stdout",
          "output_type": "stream",
          "text": [
            "torch.Size([7818, 3]) torch.Size([7818])\n",
            "Epoch: 105 \n",
            "Train_loss: 0.7631 Train Accuracy: 0.7674 \n",
            "Validation_loss:   0.7825 Validation Accuracy:   0.7466 \n",
            "\n",
            "epoch 106\n"
          ]
        },
        {
          "metadata": {
            "tags": null
          },
          "name": "stderr",
          "output_type": "stream",
          "text": [
            "733it [00:53, 13.78it/s]\n"
          ]
        },
        {
          "metadata": {
            "tags": null
          },
          "name": "stdout",
          "output_type": "stream",
          "text": [
            "torch.Size([7818, 3]) torch.Size([7818])\n",
            "Epoch: 106 \n",
            "Train_loss: 0.7631 Train Accuracy: 0.7674 \n",
            "Validation_loss:   0.7825 Validation Accuracy:   0.7466 \n",
            "\n",
            "epoch 107\n"
          ]
        },
        {
          "metadata": {
            "tags": null
          },
          "name": "stderr",
          "output_type": "stream",
          "text": [
            "733it [00:52, 13.90it/s]\n"
          ]
        },
        {
          "metadata": {
            "tags": null
          },
          "name": "stdout",
          "output_type": "stream",
          "text": [
            "torch.Size([7818, 3]) torch.Size([7818])\n",
            "Epoch: 107 \n",
            "Train_loss: 0.763 Train Accuracy: 0.7673 \n",
            "Validation_loss:   0.7825 Validation Accuracy:   0.7466 \n",
            "\n",
            "epoch 108\n"
          ]
        },
        {
          "metadata": {
            "tags": null
          },
          "name": "stderr",
          "output_type": "stream",
          "text": [
            "733it [00:53, 13.81it/s]\n"
          ]
        },
        {
          "metadata": {
            "tags": null
          },
          "name": "stdout",
          "output_type": "stream",
          "text": [
            "torch.Size([7818, 3]) torch.Size([7818])\n",
            "Epoch: 108 \n",
            "Train_loss: 0.763 Train Accuracy: 0.7675 \n",
            "Validation_loss:   0.7825 Validation Accuracy:   0.7466 \n",
            "\n",
            "epoch 109\n"
          ]
        },
        {
          "metadata": {
            "tags": null
          },
          "name": "stderr",
          "output_type": "stream",
          "text": [
            "733it [00:53, 13.68it/s]\n"
          ]
        },
        {
          "metadata": {
            "tags": null
          },
          "name": "stdout",
          "output_type": "stream",
          "text": [
            "torch.Size([7818, 3]) torch.Size([7818])\n",
            "Epoch: 109 \n",
            "Train_loss: 0.763 Train Accuracy: 0.7674 \n",
            "Validation_loss:   0.7825 Validation Accuracy:   0.7467 \n",
            "\n",
            "epoch 110\n"
          ]
        },
        {
          "metadata": {
            "tags": null
          },
          "name": "stderr",
          "output_type": "stream",
          "text": [
            "733it [00:52, 13.84it/s]\n"
          ]
        },
        {
          "metadata": {
            "tags": null
          },
          "name": "stdout",
          "output_type": "stream",
          "text": [
            "torch.Size([7818, 3]) torch.Size([7818])\n",
            "Epoch: 110 \n",
            "Train_loss: 0.763 Train Accuracy: 0.7674 \n",
            "Validation_loss:   0.7825 Validation Accuracy:   0.7467 \n",
            "\n",
            "epoch 111\n"
          ]
        },
        {
          "metadata": {
            "tags": null
          },
          "name": "stderr",
          "output_type": "stream",
          "text": [
            "733it [00:52, 13.90it/s]\n"
          ]
        },
        {
          "metadata": {
            "tags": null
          },
          "name": "stdout",
          "output_type": "stream",
          "text": [
            "torch.Size([7818, 3]) torch.Size([7818])\n",
            "Epoch: 111 \n",
            "Train_loss: 0.7629 Train Accuracy: 0.7674 \n",
            "Validation_loss:   0.7825 Validation Accuracy:   0.7467 \n",
            "\n",
            "epoch 112\n"
          ]
        },
        {
          "metadata": {
            "tags": null
          },
          "name": "stderr",
          "output_type": "stream",
          "text": [
            "733it [00:54, 13.57it/s]\n"
          ]
        },
        {
          "metadata": {
            "tags": null
          },
          "name": "stdout",
          "output_type": "stream",
          "text": [
            "torch.Size([7818, 3]) torch.Size([7818])\n",
            "Epoch: 112 \n",
            "Train_loss: 0.7629 Train Accuracy: 0.7675 \n",
            "Validation_loss:   0.7825 Validation Accuracy:   0.7467 \n",
            "\n",
            "epoch 113\n"
          ]
        },
        {
          "metadata": {
            "tags": null
          },
          "name": "stderr",
          "output_type": "stream",
          "text": [
            "733it [00:53, 13.77it/s]\n"
          ]
        },
        {
          "metadata": {
            "tags": null
          },
          "name": "stdout",
          "output_type": "stream",
          "text": [
            "torch.Size([7818, 3]) torch.Size([7818])\n",
            "Epoch: 113 \n",
            "Train_loss: 0.7629 Train Accuracy: 0.7674 \n",
            "Validation_loss:   0.7825 Validation Accuracy:   0.7466 \n",
            "\n",
            "epoch 114\n"
          ]
        },
        {
          "metadata": {
            "tags": null
          },
          "name": "stderr",
          "output_type": "stream",
          "text": [
            "733it [00:54, 13.44it/s]\n"
          ]
        },
        {
          "metadata": {
            "tags": null
          },
          "name": "stdout",
          "output_type": "stream",
          "text": [
            "torch.Size([7818, 3]) torch.Size([7818])\n",
            "Epoch: 114 \n",
            "Train_loss: 0.7629 Train Accuracy: 0.7675 \n",
            "Validation_loss:   0.7825 Validation Accuracy:   0.7466 \n",
            "\n",
            "epoch 115\n"
          ]
        },
        {
          "metadata": {
            "tags": null
          },
          "name": "stderr",
          "output_type": "stream",
          "text": [
            "733it [00:57, 12.84it/s]\n"
          ]
        },
        {
          "metadata": {
            "tags": null
          },
          "name": "stdout",
          "output_type": "stream",
          "text": [
            "torch.Size([7818, 3]) torch.Size([7818])\n",
            "Epoch: 115 \n",
            "Train_loss: 0.7628 Train Accuracy: 0.7675 \n",
            "Validation_loss:   0.7825 Validation Accuracy:   0.7466 \n",
            "\n",
            "epoch 116\n"
          ]
        },
        {
          "metadata": {
            "tags": null
          },
          "name": "stderr",
          "output_type": "stream",
          "text": [
            "733it [00:55, 13.11it/s]\n"
          ]
        },
        {
          "metadata": {
            "tags": null
          },
          "name": "stdout",
          "output_type": "stream",
          "text": [
            "torch.Size([7818, 3]) torch.Size([7818])\n",
            "Epoch: 116 \n",
            "Train_loss: 0.7628 Train Accuracy: 0.7677 \n",
            "Validation_loss:   0.7825 Validation Accuracy:   0.7466 \n",
            "\n",
            "epoch 117\n"
          ]
        },
        {
          "metadata": {
            "tags": null
          },
          "name": "stderr",
          "output_type": "stream",
          "text": [
            "733it [00:57, 12.73it/s]\n"
          ]
        },
        {
          "metadata": {
            "tags": null
          },
          "name": "stdout",
          "output_type": "stream",
          "text": [
            "torch.Size([7818, 3]) torch.Size([7818])\n",
            "Epoch: 117 \n",
            "Train_loss: 0.7628 Train Accuracy: 0.7674 \n",
            "Validation_loss:   0.7825 Validation Accuracy:   0.7466 \n",
            "\n",
            "epoch 118\n"
          ]
        },
        {
          "metadata": {
            "tags": null
          },
          "name": "stderr",
          "output_type": "stream",
          "text": [
            "733it [00:52, 14.06it/s]\n"
          ]
        },
        {
          "metadata": {
            "tags": null
          },
          "name": "stdout",
          "output_type": "stream",
          "text": [
            "torch.Size([7818, 3]) torch.Size([7818])\n",
            "Epoch: 118 \n",
            "Train_loss: 0.7628 Train Accuracy: 0.7676 \n",
            "Validation_loss:   0.7824 Validation Accuracy:   0.7465 \n",
            "\n",
            "epoch 119\n"
          ]
        },
        {
          "metadata": {
            "tags": null
          },
          "name": "stderr",
          "output_type": "stream",
          "text": [
            "733it [00:52, 13.90it/s]\n"
          ]
        },
        {
          "metadata": {
            "tags": null
          },
          "name": "stdout",
          "output_type": "stream",
          "text": [
            "torch.Size([7818, 3]) torch.Size([7818])\n",
            "Epoch: 119 \n",
            "Train_loss: 0.7628 Train Accuracy: 0.7677 \n",
            "Validation_loss:   0.7824 Validation Accuracy:   0.7465 \n",
            "\n",
            "epoch 120\n"
          ]
        },
        {
          "metadata": {
            "tags": null
          },
          "name": "stderr",
          "output_type": "stream",
          "text": [
            "733it [00:53, 13.67it/s]\n"
          ]
        },
        {
          "metadata": {
            "tags": null
          },
          "name": "stdout",
          "output_type": "stream",
          "text": [
            "torch.Size([7818, 3]) torch.Size([7818])\n",
            "Epoch: 120 \n",
            "Train_loss: 0.7627 Train Accuracy: 0.7678 \n",
            "Validation_loss:   0.7824 Validation Accuracy:   0.7465 \n",
            "\n",
            "epoch 121\n"
          ]
        },
        {
          "metadata": {
            "tags": null
          },
          "name": "stderr",
          "output_type": "stream",
          "text": [
            "733it [00:55, 13.15it/s]\n"
          ]
        },
        {
          "metadata": {
            "tags": null
          },
          "name": "stdout",
          "output_type": "stream",
          "text": [
            "torch.Size([7818, 3]) torch.Size([7818])\n",
            "Epoch: 121 \n",
            "Train_loss: 0.7627 Train Accuracy: 0.7678 \n",
            "Validation_loss:   0.7824 Validation Accuracy:   0.7465 \n",
            "\n",
            "epoch 122\n"
          ]
        },
        {
          "metadata": {
            "tags": null
          },
          "name": "stderr",
          "output_type": "stream",
          "text": [
            "733it [00:56, 13.04it/s]\n"
          ]
        },
        {
          "metadata": {
            "tags": null
          },
          "name": "stdout",
          "output_type": "stream",
          "text": [
            "torch.Size([7818, 3]) torch.Size([7818])\n",
            "Epoch: 122 \n",
            "Train_loss: 0.7627 Train Accuracy: 0.7678 \n",
            "Validation_loss:   0.7824 Validation Accuracy:   0.7465 \n",
            "\n",
            "epoch 123\n"
          ]
        },
        {
          "metadata": {
            "tags": null
          },
          "name": "stderr",
          "output_type": "stream",
          "text": [
            "733it [00:55, 13.30it/s]\n"
          ]
        },
        {
          "metadata": {
            "tags": null
          },
          "name": "stdout",
          "output_type": "stream",
          "text": [
            "torch.Size([7818, 3]) torch.Size([7818])\n",
            "Epoch: 123 \n",
            "Train_loss: 0.7627 Train Accuracy: 0.7678 \n",
            "Validation_loss:   0.7824 Validation Accuracy:   0.7465 \n",
            "\n",
            "epoch 124\n"
          ]
        },
        {
          "metadata": {
            "tags": null
          },
          "name": "stderr",
          "output_type": "stream",
          "text": [
            "733it [00:53, 13.66it/s]\n"
          ]
        },
        {
          "metadata": {
            "tags": null
          },
          "name": "stdout",
          "output_type": "stream",
          "text": [
            "torch.Size([7818, 3]) torch.Size([7818])\n",
            "Epoch: 124 \n",
            "Train_loss: 0.7626 Train Accuracy: 0.768 \n",
            "Validation_loss:   0.7824 Validation Accuracy:   0.7465 \n",
            "\n",
            "epoch 125\n"
          ]
        },
        {
          "metadata": {
            "tags": null
          },
          "name": "stderr",
          "output_type": "stream",
          "text": [
            "733it [00:54, 13.38it/s]\n"
          ]
        },
        {
          "metadata": {
            "tags": null
          },
          "name": "stdout",
          "output_type": "stream",
          "text": [
            "torch.Size([7818, 3]) torch.Size([7818])\n",
            "Epoch: 125 \n",
            "Train_loss: 0.7626 Train Accuracy: 0.7681 \n",
            "Validation_loss:   0.7824 Validation Accuracy:   0.7466 \n",
            "\n",
            "epoch 126\n"
          ]
        },
        {
          "metadata": {
            "tags": null
          },
          "name": "stderr",
          "output_type": "stream",
          "text": [
            "733it [00:53, 13.63it/s]\n"
          ]
        },
        {
          "metadata": {
            "tags": null
          },
          "name": "stdout",
          "output_type": "stream",
          "text": [
            "torch.Size([7818, 3]) torch.Size([7818])\n",
            "Epoch: 126 \n",
            "Train_loss: 0.7626 Train Accuracy: 0.7681 \n",
            "Validation_loss:   0.7824 Validation Accuracy:   0.7464 \n",
            "\n",
            "epoch 127\n"
          ]
        },
        {
          "metadata": {
            "tags": null
          },
          "name": "stderr",
          "output_type": "stream",
          "text": [
            "733it [00:53, 13.61it/s]\n"
          ]
        },
        {
          "metadata": {
            "tags": null
          },
          "name": "stdout",
          "output_type": "stream",
          "text": [
            "torch.Size([7818, 3]) torch.Size([7818])\n",
            "Epoch: 127 \n",
            "Train_loss: 0.7626 Train Accuracy: 0.7681 \n",
            "Validation_loss:   0.7824 Validation Accuracy:   0.7466 \n",
            "\n",
            "epoch 128\n"
          ]
        },
        {
          "metadata": {
            "tags": null
          },
          "name": "stderr",
          "output_type": "stream",
          "text": [
            "733it [00:54, 13.50it/s]\n"
          ]
        },
        {
          "metadata": {
            "tags": null
          },
          "name": "stdout",
          "output_type": "stream",
          "text": [
            "torch.Size([7818, 3]) torch.Size([7818])\n",
            "Epoch: 128 \n",
            "Train_loss: 0.7626 Train Accuracy: 0.7682 \n",
            "Validation_loss:   0.7824 Validation Accuracy:   0.7466 \n",
            "\n",
            "epoch 129\n"
          ]
        },
        {
          "metadata": {
            "tags": null
          },
          "name": "stderr",
          "output_type": "stream",
          "text": [
            "733it [00:55, 13.29it/s]\n"
          ]
        },
        {
          "metadata": {
            "tags": null
          },
          "name": "stdout",
          "output_type": "stream",
          "text": [
            "torch.Size([7818, 3]) torch.Size([7818])\n",
            "Epoch: 129 \n",
            "Train_loss: 0.7625 Train Accuracy: 0.7683 \n",
            "Validation_loss:   0.7824 Validation Accuracy:   0.7465 \n",
            "\n",
            "epoch 130\n"
          ]
        },
        {
          "metadata": {
            "tags": null
          },
          "name": "stderr",
          "output_type": "stream",
          "text": [
            "733it [00:54, 13.46it/s]\n"
          ]
        },
        {
          "metadata": {
            "tags": null
          },
          "name": "stdout",
          "output_type": "stream",
          "text": [
            "torch.Size([7818, 3]) torch.Size([7818])\n",
            "Epoch: 130 \n",
            "Train_loss: 0.7625 Train Accuracy: 0.7684 \n",
            "Validation_loss:   0.7824 Validation Accuracy:   0.7467 \n",
            "\n",
            "epoch 131\n"
          ]
        },
        {
          "metadata": {
            "tags": null
          },
          "name": "stderr",
          "output_type": "stream",
          "text": [
            "733it [00:53, 13.64it/s]\n"
          ]
        },
        {
          "metadata": {
            "tags": null
          },
          "name": "stdout",
          "output_type": "stream",
          "text": [
            "torch.Size([7818, 3]) torch.Size([7818])\n",
            "Epoch: 131 \n",
            "Train_loss: 0.7625 Train Accuracy: 0.7684 \n",
            "Validation_loss:   0.7824 Validation Accuracy:   0.7465 \n",
            "\n",
            "epoch 132\n"
          ]
        },
        {
          "metadata": {
            "tags": null
          },
          "name": "stderr",
          "output_type": "stream",
          "text": [
            "733it [00:55, 13.22it/s]\n"
          ]
        },
        {
          "metadata": {
            "tags": null
          },
          "name": "stdout",
          "output_type": "stream",
          "text": [
            "torch.Size([7818, 3]) torch.Size([7818])\n",
            "Epoch: 132 \n",
            "Train_loss: 0.7625 Train Accuracy: 0.7684 \n",
            "Validation_loss:   0.7824 Validation Accuracy:   0.7464 \n",
            "\n",
            "epoch 133\n"
          ]
        },
        {
          "metadata": {
            "tags": null
          },
          "name": "stderr",
          "output_type": "stream",
          "text": [
            "733it [00:54, 13.48it/s]\n"
          ]
        },
        {
          "metadata": {
            "tags": null
          },
          "name": "stdout",
          "output_type": "stream",
          "text": [
            "torch.Size([7818, 3]) torch.Size([7818])\n",
            "Epoch: 133 \n",
            "Train_loss: 0.7625 Train Accuracy: 0.7684 \n",
            "Validation_loss:   0.7824 Validation Accuracy:   0.7465 \n",
            "\n",
            "epoch 134\n"
          ]
        },
        {
          "metadata": {
            "tags": null
          },
          "name": "stderr",
          "output_type": "stream",
          "text": [
            "733it [00:54, 13.51it/s]\n"
          ]
        },
        {
          "metadata": {
            "tags": null
          },
          "name": "stdout",
          "output_type": "stream",
          "text": [
            "torch.Size([7818, 3]) torch.Size([7818])\n",
            "Epoch: 134 \n",
            "Train_loss: 0.7625 Train Accuracy: 0.7683 \n",
            "Validation_loss:   0.7824 Validation Accuracy:   0.7464 \n",
            "\n",
            "epoch 135\n"
          ]
        },
        {
          "metadata": {
            "tags": null
          },
          "name": "stderr",
          "output_type": "stream",
          "text": [
            "733it [00:55, 13.25it/s]\n"
          ]
        },
        {
          "metadata": {
            "tags": null
          },
          "name": "stdout",
          "output_type": "stream",
          "text": [
            "torch.Size([7818, 3]) torch.Size([7818])\n",
            "Epoch: 135 \n",
            "Train_loss: 0.7624 Train Accuracy: 0.7684 \n",
            "Validation_loss:   0.7824 Validation Accuracy:   0.7465 \n",
            "\n",
            "epoch 136\n"
          ]
        },
        {
          "metadata": {
            "tags": null
          },
          "name": "stderr",
          "output_type": "stream",
          "text": [
            "733it [00:56, 13.02it/s]\n"
          ]
        },
        {
          "metadata": {
            "tags": null
          },
          "name": "stdout",
          "output_type": "stream",
          "text": [
            "torch.Size([7818, 3]) torch.Size([7818])\n",
            "Epoch: 136 \n",
            "Train_loss: 0.7624 Train Accuracy: 0.7684 \n",
            "Validation_loss:   0.7824 Validation Accuracy:   0.7465 \n",
            "\n",
            "epoch 137\n"
          ]
        },
        {
          "metadata": {
            "tags": null
          },
          "name": "stderr",
          "output_type": "stream",
          "text": [
            "733it [00:57, 12.82it/s]\n"
          ]
        },
        {
          "metadata": {
            "tags": null
          },
          "name": "stdout",
          "output_type": "stream",
          "text": [
            "torch.Size([7818, 3]) torch.Size([7818])\n",
            "Epoch: 137 \n",
            "Train_loss: 0.7624 Train Accuracy: 0.7684 \n",
            "Validation_loss:   0.7824 Validation Accuracy:   0.7466 \n",
            "\n",
            "epoch 138\n"
          ]
        },
        {
          "metadata": {
            "tags": null
          },
          "name": "stderr",
          "output_type": "stream",
          "text": [
            "733it [00:57, 12.83it/s]\n"
          ]
        },
        {
          "metadata": {
            "tags": null
          },
          "name": "stdout",
          "output_type": "stream",
          "text": [
            "torch.Size([7818, 3]) torch.Size([7818])\n",
            "Epoch: 138 \n",
            "Train_loss: 0.7624 Train Accuracy: 0.7684 \n",
            "Validation_loss:   0.7824 Validation Accuracy:   0.7465 \n",
            "\n",
            "epoch 139\n"
          ]
        },
        {
          "metadata": {
            "tags": null
          },
          "name": "stderr",
          "output_type": "stream",
          "text": [
            "733it [00:55, 13.16it/s]\n"
          ]
        },
        {
          "metadata": {
            "tags": null
          },
          "name": "stdout",
          "output_type": "stream",
          "text": [
            "torch.Size([7818, 3]) torch.Size([7818])\n",
            "Epoch: 139 \n",
            "Train_loss: 0.7624 Train Accuracy: 0.7685 \n",
            "Validation_loss:   0.7824 Validation Accuracy:   0.7465 \n",
            "\n",
            "epoch 140\n"
          ]
        },
        {
          "metadata": {
            "tags": null
          },
          "name": "stderr",
          "output_type": "stream",
          "text": [
            "733it [00:54, 13.44it/s]\n"
          ]
        },
        {
          "metadata": {
            "tags": null
          },
          "name": "stdout",
          "output_type": "stream",
          "text": [
            "torch.Size([7818, 3]) torch.Size([7818])\n",
            "Epoch: 140 \n",
            "Train_loss: 0.7624 Train Accuracy: 0.7684 \n",
            "Validation_loss:   0.7823 Validation Accuracy:   0.7464 \n",
            "\n",
            "epoch 141\n"
          ]
        },
        {
          "metadata": {
            "tags": null
          },
          "name": "stderr",
          "output_type": "stream",
          "text": [
            "733it [00:54, 13.53it/s]\n"
          ]
        },
        {
          "metadata": {
            "tags": null
          },
          "name": "stdout",
          "output_type": "stream",
          "text": [
            "torch.Size([7818, 3]) torch.Size([7818])\n",
            "Epoch: 141 \n",
            "Train_loss: 0.7623 Train Accuracy: 0.7685 \n",
            "Validation_loss:   0.7823 Validation Accuracy:   0.7464 \n",
            "\n",
            "epoch 142\n"
          ]
        },
        {
          "metadata": {
            "tags": null
          },
          "name": "stderr",
          "output_type": "stream",
          "text": [
            "733it [00:56, 13.09it/s]\n"
          ]
        },
        {
          "metadata": {
            "tags": null
          },
          "name": "stdout",
          "output_type": "stream",
          "text": [
            "torch.Size([7818, 3]) torch.Size([7818])\n",
            "Epoch: 142 \n",
            "Train_loss: 0.7623 Train Accuracy: 0.7684 \n",
            "Validation_loss:   0.7823 Validation Accuracy:   0.7464 \n",
            "\n",
            "epoch 143\n"
          ]
        },
        {
          "metadata": {
            "tags": null
          },
          "name": "stderr",
          "output_type": "stream",
          "text": [
            "733it [00:54, 13.53it/s]\n"
          ]
        },
        {
          "metadata": {
            "tags": null
          },
          "name": "stdout",
          "output_type": "stream",
          "text": [
            "torch.Size([7818, 3]) torch.Size([7818])\n",
            "Epoch: 143 \n",
            "Train_loss: 0.7623 Train Accuracy: 0.7685 \n",
            "Validation_loss:   0.7823 Validation Accuracy:   0.7466 \n",
            "\n",
            "epoch 144\n"
          ]
        },
        {
          "metadata": {
            "tags": null
          },
          "name": "stderr",
          "output_type": "stream",
          "text": [
            "733it [00:54, 13.48it/s]\n"
          ]
        },
        {
          "metadata": {
            "tags": null
          },
          "name": "stdout",
          "output_type": "stream",
          "text": [
            "torch.Size([7818, 3]) torch.Size([7818])\n",
            "Epoch: 144 \n",
            "Train_loss: 0.7623 Train Accuracy: 0.7685 \n",
            "Validation_loss:   0.7823 Validation Accuracy:   0.7465 \n",
            "\n",
            "epoch 145\n"
          ]
        },
        {
          "output_type": "stream",
          "name": "stderr",
          "text": [
            "733it [00:55, 13.19it/s]\n"
          ]
        },
        {
          "output_type": "stream",
          "name": "stdout",
          "text": [
            "torch.Size([7818, 3]) torch.Size([7818])\n",
            "Epoch: 145 \n",
            "Train_loss: 0.7623 Train Accuracy: 0.7684 \n",
            "Validation_loss:   0.7823 Validation Accuracy:   0.7465 \n",
            "\n",
            "epoch 146\n"
          ]
        },
        {
          "output_type": "stream",
          "name": "stderr",
          "text": [
            "733it [00:56, 12.96it/s]\n"
          ]
        },
        {
          "output_type": "stream",
          "name": "stdout",
          "text": [
            "torch.Size([7818, 3]) torch.Size([7818])\n",
            "Epoch: 146 \n",
            "Train_loss: 0.7623 Train Accuracy: 0.7685 \n",
            "Validation_loss:   0.7823 Validation Accuracy:   0.7465 \n",
            "\n",
            "epoch 147\n"
          ]
        },
        {
          "output_type": "stream",
          "name": "stderr",
          "text": [
            "733it [00:56, 13.04it/s]\n"
          ]
        },
        {
          "output_type": "stream",
          "name": "stdout",
          "text": [
            "torch.Size([7818, 3]) torch.Size([7818])\n",
            "Epoch: 147 \n",
            "Train_loss: 0.7622 Train Accuracy: 0.7686 \n",
            "Validation_loss:   0.7823 Validation Accuracy:   0.7462 \n",
            "\n",
            "epoch 148\n"
          ]
        },
        {
          "output_type": "stream",
          "name": "stderr",
          "text": [
            "733it [00:55, 13.26it/s]\n"
          ]
        },
        {
          "output_type": "stream",
          "name": "stdout",
          "text": [
            "torch.Size([7818, 3]) torch.Size([7818])\n",
            "Epoch: 148 \n",
            "Train_loss: 0.7622 Train Accuracy: 0.7687 \n",
            "Validation_loss:   0.7823 Validation Accuracy:   0.7462 \n",
            "\n",
            "epoch 149\n"
          ]
        },
        {
          "output_type": "stream",
          "name": "stderr",
          "text": [
            "733it [00:56, 13.04it/s]\n"
          ]
        },
        {
          "output_type": "stream",
          "name": "stdout",
          "text": [
            "torch.Size([7818, 3]) torch.Size([7818])\n",
            "Epoch: 149 \n",
            "Train_loss: 0.7622 Train Accuracy: 0.7687 \n",
            "Validation_loss:   0.7823 Validation Accuracy:   0.7461 \n",
            "\n",
            "epoch 150\n"
          ]
        },
        {
          "output_type": "stream",
          "name": "stderr",
          "text": [
            "733it [00:56, 13.04it/s]\n"
          ]
        },
        {
          "output_type": "stream",
          "name": "stdout",
          "text": [
            "torch.Size([7818, 3]) torch.Size([7818])\n",
            "Epoch: 150 \n",
            "Train_loss: 0.7622 Train Accuracy: 0.7687 \n",
            "Validation_loss:   0.7823 Validation Accuracy:   0.7464 \n",
            "\n",
            "epoch 151\n"
          ]
        },
        {
          "output_type": "stream",
          "name": "stderr",
          "text": [
            "733it [00:55, 13.14it/s]\n"
          ]
        },
        {
          "output_type": "stream",
          "name": "stdout",
          "text": [
            "torch.Size([7818, 3]) torch.Size([7818])\n",
            "Epoch: 151 \n",
            "Train_loss: 0.7622 Train Accuracy: 0.7688 \n",
            "Validation_loss:   0.7823 Validation Accuracy:   0.7464 \n",
            "\n",
            "epoch 152\n"
          ]
        },
        {
          "output_type": "stream",
          "name": "stderr",
          "text": [
            "733it [00:56, 13.05it/s]\n"
          ]
        },
        {
          "output_type": "stream",
          "name": "stdout",
          "text": [
            "torch.Size([7818, 3]) torch.Size([7818])\n",
            "Epoch: 152 \n",
            "Train_loss: 0.7621 Train Accuracy: 0.7687 \n",
            "Validation_loss:   0.7823 Validation Accuracy:   0.7464 \n",
            "\n",
            "epoch 153\n"
          ]
        },
        {
          "output_type": "stream",
          "name": "stderr",
          "text": [
            "733it [00:54, 13.34it/s]\n"
          ]
        },
        {
          "output_type": "stream",
          "name": "stdout",
          "text": [
            "torch.Size([7818, 3]) torch.Size([7818])\n",
            "Epoch: 153 \n",
            "Train_loss: 0.7621 Train Accuracy: 0.7688 \n",
            "Validation_loss:   0.7823 Validation Accuracy:   0.7465 \n",
            "\n",
            "epoch 154\n"
          ]
        },
        {
          "output_type": "stream",
          "name": "stderr",
          "text": [
            "733it [00:54, 13.55it/s]\n"
          ]
        },
        {
          "output_type": "stream",
          "name": "stdout",
          "text": [
            "torch.Size([7818, 3]) torch.Size([7818])\n",
            "Epoch: 154 \n",
            "Train_loss: 0.7621 Train Accuracy: 0.7687 \n",
            "Validation_loss:   0.7823 Validation Accuracy:   0.7466 \n",
            "\n",
            "epoch 155\n"
          ]
        },
        {
          "output_type": "stream",
          "name": "stderr",
          "text": [
            "733it [00:55, 13.28it/s]\n"
          ]
        },
        {
          "output_type": "stream",
          "name": "stdout",
          "text": [
            "torch.Size([7818, 3]) torch.Size([7818])\n",
            "Epoch: 155 \n",
            "Train_loss: 0.7621 Train Accuracy: 0.7688 \n",
            "Validation_loss:   0.7823 Validation Accuracy:   0.7466 \n",
            "\n",
            "epoch 156\n"
          ]
        },
        {
          "output_type": "stream",
          "name": "stderr",
          "text": [
            "733it [00:57, 12.83it/s]\n"
          ]
        },
        {
          "output_type": "stream",
          "name": "stdout",
          "text": [
            "torch.Size([7818, 3]) torch.Size([7818])\n",
            "Epoch: 156 \n",
            "Train_loss: 0.7621 Train Accuracy: 0.7687 \n",
            "Validation_loss:   0.7823 Validation Accuracy:   0.7466 \n",
            "\n",
            "epoch 157\n"
          ]
        },
        {
          "output_type": "stream",
          "name": "stderr",
          "text": [
            "733it [00:54, 13.39it/s]\n"
          ]
        },
        {
          "output_type": "stream",
          "name": "stdout",
          "text": [
            "torch.Size([7818, 3]) torch.Size([7818])\n",
            "Epoch: 157 \n",
            "Train_loss: 0.7621 Train Accuracy: 0.7688 \n",
            "Validation_loss:   0.7823 Validation Accuracy:   0.7465 \n",
            "\n",
            "epoch 158\n"
          ]
        },
        {
          "output_type": "stream",
          "name": "stderr",
          "text": [
            "733it [00:54, 13.48it/s]\n"
          ]
        },
        {
          "output_type": "stream",
          "name": "stdout",
          "text": [
            "torch.Size([7818, 3]) torch.Size([7818])\n",
            "Epoch: 158 \n",
            "Train_loss: 0.762 Train Accuracy: 0.7687 \n",
            "Validation_loss:   0.7823 Validation Accuracy:   0.7466 \n",
            "\n",
            "epoch 159\n"
          ]
        },
        {
          "output_type": "stream",
          "name": "stderr",
          "text": [
            "733it [00:54, 13.40it/s]\n"
          ]
        },
        {
          "output_type": "stream",
          "name": "stdout",
          "text": [
            "torch.Size([7818, 3]) torch.Size([7818])\n",
            "Epoch: 159 \n",
            "Train_loss: 0.762 Train Accuracy: 0.7688 \n",
            "Validation_loss:   0.7823 Validation Accuracy:   0.7465 \n",
            "\n",
            "epoch 160\n"
          ]
        },
        {
          "output_type": "stream",
          "name": "stderr",
          "text": [
            "733it [00:55, 13.28it/s]\n"
          ]
        },
        {
          "output_type": "stream",
          "name": "stdout",
          "text": [
            "torch.Size([7818, 3]) torch.Size([7818])\n",
            "Epoch: 160 \n",
            "Train_loss: 0.762 Train Accuracy: 0.7689 \n",
            "Validation_loss:   0.7823 Validation Accuracy:   0.7464 \n",
            "\n",
            "epoch 161\n"
          ]
        },
        {
          "output_type": "stream",
          "name": "stderr",
          "text": [
            "733it [00:55, 13.12it/s]\n"
          ]
        },
        {
          "output_type": "stream",
          "name": "stdout",
          "text": [
            "torch.Size([7818, 3]) torch.Size([7818])\n",
            "Epoch: 161 \n",
            "Train_loss: 0.762 Train Accuracy: 0.7688 \n",
            "Validation_loss:   0.7823 Validation Accuracy:   0.7466 \n",
            "\n",
            "epoch 162\n"
          ]
        },
        {
          "output_type": "stream",
          "name": "stderr",
          "text": [
            "733it [00:54, 13.37it/s]\n"
          ]
        },
        {
          "output_type": "stream",
          "name": "stdout",
          "text": [
            "torch.Size([7818, 3]) torch.Size([7818])\n",
            "Epoch: 162 \n",
            "Train_loss: 0.762 Train Accuracy: 0.7688 \n",
            "Validation_loss:   0.7822 Validation Accuracy:   0.7464 \n",
            "\n",
            "epoch 163\n"
          ]
        },
        {
          "output_type": "stream",
          "name": "stderr",
          "text": [
            "733it [00:53, 13.59it/s]\n"
          ]
        },
        {
          "output_type": "stream",
          "name": "stdout",
          "text": [
            "torch.Size([7818, 3]) torch.Size([7818])\n",
            "Epoch: 163 \n",
            "Train_loss: 0.762 Train Accuracy: 0.7688 \n",
            "Validation_loss:   0.7822 Validation Accuracy:   0.7467 \n",
            "\n",
            "epoch 164\n"
          ]
        },
        {
          "output_type": "stream",
          "name": "stderr",
          "text": [
            "733it [00:55, 13.30it/s]\n"
          ]
        },
        {
          "output_type": "stream",
          "name": "stdout",
          "text": [
            "torch.Size([7818, 3]) torch.Size([7818])\n",
            "Epoch: 164 \n",
            "Train_loss: 0.7619 Train Accuracy: 0.769 \n",
            "Validation_loss:   0.7822 Validation Accuracy:   0.7465 \n",
            "\n",
            "epoch 165\n"
          ]
        },
        {
          "output_type": "stream",
          "name": "stderr",
          "text": [
            "733it [00:54, 13.34it/s]\n"
          ]
        },
        {
          "output_type": "stream",
          "name": "stdout",
          "text": [
            "torch.Size([7818, 3]) torch.Size([7818])\n",
            "Epoch: 165 \n",
            "Train_loss: 0.7619 Train Accuracy: 0.769 \n",
            "Validation_loss:   0.7822 Validation Accuracy:   0.7466 \n",
            "\n",
            "epoch 166\n"
          ]
        },
        {
          "output_type": "stream",
          "name": "stderr",
          "text": [
            "733it [00:54, 13.46it/s]\n"
          ]
        },
        {
          "output_type": "stream",
          "name": "stdout",
          "text": [
            "torch.Size([7818, 3]) torch.Size([7818])\n",
            "Epoch: 166 \n",
            "Train_loss: 0.7619 Train Accuracy: 0.769 \n",
            "Validation_loss:   0.7822 Validation Accuracy:   0.7466 \n",
            "\n",
            "epoch 167\n"
          ]
        },
        {
          "output_type": "stream",
          "name": "stderr",
          "text": [
            "733it [00:55, 13.19it/s]\n"
          ]
        },
        {
          "output_type": "stream",
          "name": "stdout",
          "text": [
            "torch.Size([7818, 3]) torch.Size([7818])\n",
            "Epoch: 167 \n",
            "Train_loss: 0.7619 Train Accuracy: 0.7691 \n",
            "Validation_loss:   0.7822 Validation Accuracy:   0.7467 \n",
            "\n",
            "epoch 168\n"
          ]
        },
        {
          "output_type": "stream",
          "name": "stderr",
          "text": [
            "733it [00:54, 13.44it/s]\n"
          ]
        },
        {
          "output_type": "stream",
          "name": "stdout",
          "text": [
            "torch.Size([7818, 3]) torch.Size([7818])\n",
            "Epoch: 168 \n",
            "Train_loss: 0.7619 Train Accuracy: 0.769 \n",
            "Validation_loss:   0.7822 Validation Accuracy:   0.7466 \n",
            "\n",
            "epoch 169\n"
          ]
        },
        {
          "output_type": "stream",
          "name": "stderr",
          "text": [
            "733it [00:54, 13.40it/s]\n"
          ]
        },
        {
          "output_type": "stream",
          "name": "stdout",
          "text": [
            "torch.Size([7818, 3]) torch.Size([7818])\n",
            "Epoch: 169 \n",
            "Train_loss: 0.7619 Train Accuracy: 0.7692 \n",
            "Validation_loss:   0.7822 Validation Accuracy:   0.7466 \n",
            "\n",
            "epoch 170\n"
          ]
        },
        {
          "output_type": "stream",
          "name": "stderr",
          "text": [
            "733it [00:55, 13.15it/s]\n"
          ]
        },
        {
          "output_type": "stream",
          "name": "stdout",
          "text": [
            "torch.Size([7818, 3]) torch.Size([7818])\n",
            "Epoch: 170 \n",
            "Train_loss: 0.7619 Train Accuracy: 0.7691 \n",
            "Validation_loss:   0.7822 Validation Accuracy:   0.7467 \n",
            "\n",
            "epoch 171\n"
          ]
        },
        {
          "output_type": "stream",
          "name": "stderr",
          "text": [
            "733it [00:55, 13.31it/s]\n"
          ]
        },
        {
          "output_type": "stream",
          "name": "stdout",
          "text": [
            "torch.Size([7818, 3]) torch.Size([7818])\n",
            "Epoch: 171 \n",
            "Train_loss: 0.7618 Train Accuracy: 0.7692 \n",
            "Validation_loss:   0.7822 Validation Accuracy:   0.7467 \n",
            "\n",
            "epoch 172\n"
          ]
        },
        {
          "output_type": "stream",
          "name": "stderr",
          "text": [
            "733it [00:54, 13.46it/s]\n"
          ]
        },
        {
          "output_type": "stream",
          "name": "stdout",
          "text": [
            "torch.Size([7818, 3]) torch.Size([7818])\n",
            "Epoch: 172 \n",
            "Train_loss: 0.7618 Train Accuracy: 0.7692 \n",
            "Validation_loss:   0.7822 Validation Accuracy:   0.7467 \n",
            "\n",
            "epoch 173\n"
          ]
        },
        {
          "output_type": "stream",
          "name": "stderr",
          "text": [
            "733it [00:55, 13.15it/s]\n"
          ]
        },
        {
          "output_type": "stream",
          "name": "stdout",
          "text": [
            "torch.Size([7818, 3]) torch.Size([7818])\n",
            "Epoch: 173 \n",
            "Train_loss: 0.7618 Train Accuracy: 0.7693 \n",
            "Validation_loss:   0.7822 Validation Accuracy:   0.7467 \n",
            "\n",
            "epoch 174\n"
          ]
        },
        {
          "output_type": "stream",
          "name": "stderr",
          "text": [
            "733it [00:55, 13.30it/s]\n"
          ]
        },
        {
          "output_type": "stream",
          "name": "stdout",
          "text": [
            "torch.Size([7818, 3]) torch.Size([7818])\n",
            "Epoch: 174 \n",
            "Train_loss: 0.7618 Train Accuracy: 0.7692 \n",
            "Validation_loss:   0.7822 Validation Accuracy:   0.7467 \n",
            "\n",
            "epoch 175\n"
          ]
        },
        {
          "output_type": "stream",
          "name": "stderr",
          "text": [
            "733it [00:55, 13.26it/s]\n"
          ]
        },
        {
          "output_type": "stream",
          "name": "stdout",
          "text": [
            "torch.Size([7818, 3]) torch.Size([7818])\n",
            "Epoch: 175 \n",
            "Train_loss: 0.7618 Train Accuracy: 0.7693 \n",
            "Validation_loss:   0.7822 Validation Accuracy:   0.7467 \n",
            "\n",
            "epoch 176\n"
          ]
        },
        {
          "output_type": "stream",
          "name": "stderr",
          "text": [
            "733it [00:54, 13.34it/s]\n"
          ]
        },
        {
          "output_type": "stream",
          "name": "stdout",
          "text": [
            "torch.Size([7818, 3]) torch.Size([7818])\n",
            "Epoch: 176 \n",
            "Train_loss: 0.7618 Train Accuracy: 0.7694 \n",
            "Validation_loss:   0.7822 Validation Accuracy:   0.7467 \n",
            "\n",
            "epoch 177\n"
          ]
        },
        {
          "output_type": "stream",
          "name": "stderr",
          "text": [
            "733it [00:55, 13.22it/s]\n"
          ]
        },
        {
          "output_type": "stream",
          "name": "stdout",
          "text": [
            "torch.Size([7818, 3]) torch.Size([7818])\n",
            "Epoch: 177 \n",
            "Train_loss: 0.7618 Train Accuracy: 0.7694 \n",
            "Validation_loss:   0.7822 Validation Accuracy:   0.7467 \n",
            "\n",
            "epoch 178\n"
          ]
        },
        {
          "output_type": "stream",
          "name": "stderr",
          "text": [
            "733it [00:54, 13.35it/s]\n"
          ]
        },
        {
          "output_type": "stream",
          "name": "stdout",
          "text": [
            "torch.Size([7818, 3]) torch.Size([7818])\n",
            "Epoch: 178 \n",
            "Train_loss: 0.7618 Train Accuracy: 0.7695 \n",
            "Validation_loss:   0.7822 Validation Accuracy:   0.7467 \n",
            "\n",
            "epoch 179\n"
          ]
        },
        {
          "output_type": "stream",
          "name": "stderr",
          "text": [
            "733it [00:55, 13.10it/s]\n"
          ]
        },
        {
          "output_type": "stream",
          "name": "stdout",
          "text": [
            "torch.Size([7818, 3]) torch.Size([7818])\n",
            "Epoch: 179 \n",
            "Train_loss: 0.7617 Train Accuracy: 0.7694 \n",
            "Validation_loss:   0.7822 Validation Accuracy:   0.7467 \n",
            "\n",
            "epoch 180\n"
          ]
        },
        {
          "output_type": "stream",
          "name": "stderr",
          "text": [
            "733it [00:55, 13.14it/s]\n"
          ]
        },
        {
          "output_type": "stream",
          "name": "stdout",
          "text": [
            "torch.Size([7818, 3]) torch.Size([7818])\n",
            "Epoch: 180 \n",
            "Train_loss: 0.7617 Train Accuracy: 0.7695 \n",
            "Validation_loss:   0.7822 Validation Accuracy:   0.7467 \n",
            "\n",
            "epoch 181\n"
          ]
        },
        {
          "output_type": "stream",
          "name": "stderr",
          "text": [
            "733it [00:55, 13.31it/s]\n"
          ]
        },
        {
          "output_type": "stream",
          "name": "stdout",
          "text": [
            "torch.Size([7818, 3]) torch.Size([7818])\n",
            "Epoch: 181 \n",
            "Train_loss: 0.7617 Train Accuracy: 0.7696 \n",
            "Validation_loss:   0.7822 Validation Accuracy:   0.7467 \n",
            "\n",
            "epoch 182\n"
          ]
        },
        {
          "output_type": "stream",
          "name": "stderr",
          "text": [
            "733it [00:55, 13.16it/s]\n"
          ]
        },
        {
          "output_type": "stream",
          "name": "stdout",
          "text": [
            "torch.Size([7818, 3]) torch.Size([7818])\n",
            "Epoch: 182 \n",
            "Train_loss: 0.7617 Train Accuracy: 0.7695 \n",
            "Validation_loss:   0.7822 Validation Accuracy:   0.7467 \n",
            "\n",
            "epoch 183\n"
          ]
        },
        {
          "output_type": "stream",
          "name": "stderr",
          "text": [
            "733it [00:56, 12.94it/s]\n"
          ]
        },
        {
          "output_type": "stream",
          "name": "stdout",
          "text": [
            "torch.Size([7818, 3]) torch.Size([7818])\n",
            "Epoch: 183 \n",
            "Train_loss: 0.7617 Train Accuracy: 0.7696 \n",
            "Validation_loss:   0.7822 Validation Accuracy:   0.7467 \n",
            "\n",
            "epoch 184\n"
          ]
        },
        {
          "output_type": "stream",
          "name": "stderr",
          "text": [
            "733it [00:55, 13.19it/s]\n"
          ]
        },
        {
          "output_type": "stream",
          "name": "stdout",
          "text": [
            "torch.Size([7818, 3]) torch.Size([7818])\n",
            "Epoch: 184 \n",
            "Train_loss: 0.7617 Train Accuracy: 0.7695 \n",
            "Validation_loss:   0.7822 Validation Accuracy:   0.7469 \n",
            "\n",
            "epoch 185\n"
          ]
        },
        {
          "output_type": "stream",
          "name": "stderr",
          "text": [
            "733it [00:54, 13.37it/s]\n"
          ]
        },
        {
          "output_type": "stream",
          "name": "stdout",
          "text": [
            "torch.Size([7818, 3]) torch.Size([7818])\n",
            "Epoch: 185 \n",
            "Train_loss: 0.7617 Train Accuracy: 0.7695 \n",
            "Validation_loss:   0.7822 Validation Accuracy:   0.7467 \n",
            "\n",
            "epoch 186\n"
          ]
        },
        {
          "output_type": "stream",
          "name": "stderr",
          "text": [
            "733it [00:55, 13.15it/s]\n"
          ]
        },
        {
          "output_type": "stream",
          "name": "stdout",
          "text": [
            "torch.Size([7818, 3]) torch.Size([7818])\n",
            "Epoch: 186 \n",
            "Train_loss: 0.7616 Train Accuracy: 0.7695 \n",
            "Validation_loss:   0.7822 Validation Accuracy:   0.7467 \n",
            "\n",
            "epoch 187\n"
          ]
        },
        {
          "output_type": "stream",
          "name": "stderr",
          "text": [
            "733it [00:55, 13.31it/s]\n"
          ]
        },
        {
          "output_type": "stream",
          "name": "stdout",
          "text": [
            "torch.Size([7818, 3]) torch.Size([7818])\n",
            "Epoch: 187 \n",
            "Train_loss: 0.7616 Train Accuracy: 0.7696 \n",
            "Validation_loss:   0.7822 Validation Accuracy:   0.7467 \n",
            "\n",
            "epoch 188\n"
          ]
        },
        {
          "output_type": "stream",
          "name": "stderr",
          "text": [
            "733it [00:55, 13.14it/s]\n"
          ]
        },
        {
          "output_type": "stream",
          "name": "stdout",
          "text": [
            "torch.Size([7818, 3]) torch.Size([7818])\n",
            "Epoch: 188 \n",
            "Train_loss: 0.7616 Train Accuracy: 0.7697 \n",
            "Validation_loss:   0.7821 Validation Accuracy:   0.7467 \n",
            "\n",
            "epoch 189\n"
          ]
        },
        {
          "output_type": "stream",
          "name": "stderr",
          "text": [
            "733it [00:56, 12.88it/s]\n"
          ]
        },
        {
          "output_type": "stream",
          "name": "stdout",
          "text": [
            "torch.Size([7818, 3]) torch.Size([7818])\n",
            "Epoch: 189 \n",
            "Train_loss: 0.7616 Train Accuracy: 0.7697 \n",
            "Validation_loss:   0.7821 Validation Accuracy:   0.7469 \n",
            "\n",
            "epoch 190\n"
          ]
        },
        {
          "output_type": "stream",
          "name": "stderr",
          "text": [
            "733it [00:56, 12.91it/s]\n"
          ]
        },
        {
          "output_type": "stream",
          "name": "stdout",
          "text": [
            "torch.Size([7818, 3]) torch.Size([7818])\n",
            "Epoch: 190 \n",
            "Train_loss: 0.7616 Train Accuracy: 0.7697 \n",
            "Validation_loss:   0.7821 Validation Accuracy:   0.7467 \n",
            "\n",
            "epoch 191\n"
          ]
        },
        {
          "output_type": "stream",
          "name": "stderr",
          "text": [
            "733it [00:56, 12.95it/s]\n"
          ]
        },
        {
          "output_type": "stream",
          "name": "stdout",
          "text": [
            "torch.Size([7818, 3]) torch.Size([7818])\n",
            "Epoch: 191 \n",
            "Train_loss: 0.7616 Train Accuracy: 0.7698 \n",
            "Validation_loss:   0.7821 Validation Accuracy:   0.7467 \n",
            "\n",
            "epoch 192\n"
          ]
        },
        {
          "output_type": "stream",
          "name": "stderr",
          "text": [
            "733it [00:57, 12.75it/s]\n"
          ]
        },
        {
          "output_type": "stream",
          "name": "stdout",
          "text": [
            "torch.Size([7818, 3]) torch.Size([7818])\n",
            "Epoch: 192 \n",
            "Train_loss: 0.7616 Train Accuracy: 0.7697 \n",
            "Validation_loss:   0.7821 Validation Accuracy:   0.7466 \n",
            "\n",
            "epoch 193\n"
          ]
        },
        {
          "output_type": "stream",
          "name": "stderr",
          "text": [
            "733it [00:57, 12.84it/s]\n"
          ]
        },
        {
          "output_type": "stream",
          "name": "stdout",
          "text": [
            "torch.Size([7818, 3]) torch.Size([7818])\n",
            "Epoch: 193 \n",
            "Train_loss: 0.7615 Train Accuracy: 0.7697 \n",
            "Validation_loss:   0.7821 Validation Accuracy:   0.7466 \n",
            "\n",
            "epoch 194\n"
          ]
        },
        {
          "output_type": "stream",
          "name": "stderr",
          "text": [
            "733it [00:56, 12.89it/s]\n"
          ]
        },
        {
          "output_type": "stream",
          "name": "stdout",
          "text": [
            "torch.Size([7818, 3]) torch.Size([7818])\n",
            "Epoch: 194 \n",
            "Train_loss: 0.7615 Train Accuracy: 0.7696 \n",
            "Validation_loss:   0.7821 Validation Accuracy:   0.7467 \n",
            "\n",
            "epoch 195\n"
          ]
        },
        {
          "output_type": "stream",
          "name": "stderr",
          "text": [
            "733it [00:55, 13.14it/s]\n"
          ]
        },
        {
          "output_type": "stream",
          "name": "stdout",
          "text": [
            "torch.Size([7818, 3]) torch.Size([7818])\n",
            "Epoch: 195 \n",
            "Train_loss: 0.7615 Train Accuracy: 0.7696 \n",
            "Validation_loss:   0.7821 Validation Accuracy:   0.7467 \n",
            "\n",
            "epoch 196\n"
          ]
        },
        {
          "output_type": "stream",
          "name": "stderr",
          "text": [
            "733it [00:56, 13.03it/s]\n"
          ]
        },
        {
          "output_type": "stream",
          "name": "stdout",
          "text": [
            "torch.Size([7818, 3]) torch.Size([7818])\n",
            "Epoch: 196 \n",
            "Train_loss: 0.7615 Train Accuracy: 0.7696 \n",
            "Validation_loss:   0.7821 Validation Accuracy:   0.747 \n",
            "\n",
            "epoch 197\n"
          ]
        },
        {
          "output_type": "stream",
          "name": "stderr",
          "text": [
            "733it [00:57, 12.75it/s]\n"
          ]
        },
        {
          "output_type": "stream",
          "name": "stdout",
          "text": [
            "torch.Size([7818, 3]) torch.Size([7818])\n",
            "Epoch: 197 \n",
            "Train_loss: 0.7615 Train Accuracy: 0.7696 \n",
            "Validation_loss:   0.7821 Validation Accuracy:   0.747 \n",
            "\n",
            "epoch 198\n"
          ]
        },
        {
          "output_type": "stream",
          "name": "stderr",
          "text": [
            "733it [00:57, 12.80it/s]\n"
          ]
        },
        {
          "output_type": "stream",
          "name": "stdout",
          "text": [
            "torch.Size([7818, 3]) torch.Size([7818])\n",
            "Epoch: 198 \n",
            "Train_loss: 0.7615 Train Accuracy: 0.7697 \n",
            "Validation_loss:   0.7821 Validation Accuracy:   0.747 \n",
            "\n",
            "epoch 199\n"
          ]
        },
        {
          "output_type": "stream",
          "name": "stderr",
          "text": [
            "733it [00:57, 12.84it/s]\n"
          ]
        },
        {
          "output_type": "stream",
          "name": "stdout",
          "text": [
            "torch.Size([7818, 3]) torch.Size([7818])\n",
            "Epoch: 199 \n",
            "Train_loss: 0.7615 Train Accuracy: 0.7697 \n",
            "Validation_loss:   0.7821 Validation Accuracy:   0.747 \n",
            "\n"
          ]
        }
      ]
    },
    {
      "cell_type": "code",
      "source": [
        "import matplotlib.pyplot as plt\n",
        "import numpy as np\n",
        "import torch\n",
        "\n",
        "# Save training and validation loss and accuracy\n",
        "data = {\n",
        "    'train_losses': train_losses,\n",
        "    'train_accuracies': train_accuracies,\n",
        "    'val_losses': val_losses,\n",
        "    'val_accuracies': val_accuracies\n",
        "}\n",
        "\n",
        "np.save('training_history_FFNN.npy', data)\n"
      ],
      "metadata": {
        "id": "MyqhXvcg1god"
      },
      "execution_count": null,
      "outputs": []
    },
    {
      "cell_type": "code",
      "source": [
        "import matplotlib.pyplot as plt\n",
        "from matplotlib.pyplot import figure\n",
        "\n",
        "figure(figsize=(8,8))\n",
        "plt.plot(train_losses)\n",
        "plt.plot(val_losses)\n",
        "plt.title('FFNN Loss')\n",
        "plt.ylabel('Loss')\n",
        "plt.xlabel('Epoch')\n",
        "\n",
        "plt.legend(['train', 'val'], loc='upper right')\n",
        "plt.show()\n"
      ],
      "metadata": {
        "colab": {
          "base_uri": "https://localhost:8080/",
          "height": 718
        },
        "id": "hDYGVcI1kEQp",
        "outputId": "8168db46-9d02-4c07-e3b1-ae8d0fa5442d"
      },
      "execution_count": null,
      "outputs": [
        {
          "output_type": "display_data",
          "data": {
            "text/plain": [
              "<Figure size 800x800 with 1 Axes>"
            ],
            "image/png": "[encoded data removed]"
          },
          "metadata": {}
        }
      ]
    },
    {
      "cell_type": "code",
      "source": [
        "figure(figsize=(8,8))\n",
        "plt.plot(train_accuracies)\n",
        "plt.plot(val_accuracies)\n",
        "plt.title('FFNN Accuracy')\n",
        "plt.ylabel('Accuracy')\n",
        "plt.xlabel('Epoch')\n",
        "plt.legend(['train', 'val'], loc='upper left')\n",
        "plt.show()"
      ],
      "metadata": {
        "colab": {
          "base_uri": "https://localhost:8080/",
          "height": 718
        },
        "id": "mYlQdWoRk3Ss",
        "outputId": "78e14aa0-72d2-4329-c418-f2038f9ee2d7"
      },
      "execution_count": null,
      "outputs": [
        {
          "output_type": "display_data",
          "data": {
            "text/plain": [
              "<Figure size 800x800 with 1 Axes>"
            ],
            "image/png": "[encoded data removed]"
          },
          "metadata": {}
        }
      ]
    },
    {
      "cell_type": "code",
      "source": [
        "#ลองทำนายจากชุดเทส\n",
        "tfidfX_test = tfidfX_test.to(device)\n",
        "Y_test = Y_test.to(device)\n",
        "\n",
        "# Forward pass to get output\n",
        "first_model.eval()\n",
        "test_prediction = first_model.forward(tfidfX_test.float())\n",
        "#test_prediction = torch.squeeze(test_prediction)\n",
        "\n",
        "#Calculate accuracy on test set\n",
        "test_accuracy = calculate_accuracy(Y_test,test_prediction)\n",
        "\n",
        "print(\"Test Accuracy:\",round(test_accuracy.item(),4), \"\\n\")"
      ],
      "metadata": {
        "colab": {
          "base_uri": "https://localhost:8080/"
        },
        "id": "t69e57b4k_2m",
        "outputId": "a442e17d-f2b9-411b-fd0d-fc5f060bb8cd"
      },
      "execution_count": null,
      "outputs": [
        {
          "output_type": "stream",
          "name": "stdout",
          "text": [
            "Test Accuracy: 0.7435 \n",
            "\n"
          ]
        }
      ]
    },
    {
      "cell_type": "code",
      "source": [
        "import torch\n",
        "\n",
        "# สมมติว่า tensor เป็น tensor ที่ต้องการ gradient\n",
        "tensor_with_grad = torch.tensor([1.0, 2.0, 3.0], requires_grad=True)\n",
        "\n",
        "# ใช้ .detach().numpy() แทน .numpy()\n",
        "numpy_array = tensor_with_grad.detach().numpy()\n",
        "\n",
        "# หรือจะใช้ .detach().cpu().numpy() หาก tensor อยู่บน GPU\n",
        "numpy_array_on_cpu = tensor_with_grad.detach().cpu().numpy()\n"
      ],
      "metadata": {
        "id": "TCyFtKUnkmNE"
      },
      "execution_count": null,
      "outputs": []
    },
    {
      "cell_type": "code",
      "source": [
        "import torch\n",
        "import torch.nn as nn\n",
        "\n",
        "class FFNN(nn.Module):\n",
        "    def __init__(self, input_dim, hidden_dim_1, hidden_dim_2, output_dim):\n",
        "        super(FFNN, self).__init__()\n",
        "\n",
        "        # Linear function 1\n",
        "        self.layer_1 = nn.Linear(input_dim, hidden_dim_1)\n",
        "        # Non-linearity 1\n",
        "        self.relu_1 = nn.ReLU()\n",
        "\n",
        "        # Linear function 2\n",
        "        self.layer_2 = nn.Linear(hidden_dim_1, hidden_dim_2)\n",
        "        # Non-linearity 2\n",
        "        self.relu_2 = nn.ReLU()\n",
        "\n",
        "        # Linear function 3\n",
        "        self.layer_3 = nn.Linear(hidden_dim_2, output_dim)\n",
        "\n",
        "    def forward(self, x):\n",
        "        out = self.layer_1(x)\n",
        "        out = self.relu_1(out)\n",
        "\n",
        "        out = self.layer_2(out)\n",
        "        out = self.relu_2(out)\n",
        "\n",
        "        out = self.layer_3(out)\n",
        "\n",
        "        return torch.sigmoid(out)\n",
        "\n",
        "\n",
        "# สร้างอ็อบเจ็กต์ของโมเดล\n",
        "model = FFNN(input_dim = tfidfX_train.shape[1], hidden_dim_1 = 512, hidden_dim_2 = 512, output_dim = 3)\n",
        "\n",
        "# โหลด state dictionary จากไฟล์\n",
        "model_path = 'FFNN_model.pth'\n",
        "state_dict = torch.load(model_path)\n",
        "\n",
        "# โหลด state dictionary เข้าไปในโมเดล\n",
        "model.load_state_dict(state_dict)\n",
        "\n",
        "# ตั้งค่าโมเดลในโหมด eval (หรือ test) เพื่อป้องกันการปรับแต่งค่าของพารามิเตอร์\n",
        "model.eval()\n",
        "\n",
        "# ตอนนี้คุณสามารถใช้โมเดลที่โหลดมาในการทำนายได้\n"
      ],
      "metadata": {
        "colab": {
          "base_uri": "https://localhost:8080/"
        },
        "id": "8z-OrM40cRFk",
        "outputId": "e3a31f33-5043-4c70-c090-138d9934b3d5"
      },
      "execution_count": null,
      "outputs": [
        {
          "output_type": "execute_result",
          "data": {
            "text/plain": [
              "FFNN(\n",
              "  (layer_1): Linear(in_features=1000, out_features=512, bias=True)\n",
              "  (relu_1): ReLU()\n",
              "  (layer_2): Linear(in_features=512, out_features=512, bias=True)\n",
              "  (relu_2): ReLU()\n",
              "  (layer_3): Linear(in_features=512, out_features=3, bias=True)\n",
              ")"
            ]
          },
          "metadata": {},
          "execution_count": 51
        }
      ]
    },
    {
      "cell_type": "code",
      "source": [
        "from sklearn.metrics import confusion_matrix, classification_report\n",
        "\n",
        "# Assuming val_prediction and Y_val are your predicted and true labels\n",
        "# Convert the probabilities to class labels (0, 1, or 2) based on a threshold (e.g., 0.5)\n",
        "threshold = 0.5\n",
        "# Convert probabilities to class labels\n",
        "predicted_labels = (val_prediction > threshold).float().argmax(-1).cpu().numpy()\n",
        "\n",
        "\n",
        "# Print Confusion Matrix\n",
        "conf_matrix = confusion_matrix(Y_val.cpu().numpy(), predicted_labels)\n",
        "print(\"Confusion Matrix:\")\n",
        "print(conf_matrix)\n",
        "\n",
        "# Print Classification Report\n",
        "print(\"\\nClassification Report:\")\n",
        "print(classification_report(Y_val.cpu().numpy(), predicted_labels, target_names=['Class 0', 'Class 1', 'Class 2']))\n"
      ],
      "metadata": {
        "colab": {
          "base_uri": "https://localhost:8080/"
        },
        "id": "Gm1qgYJv7_VB",
        "outputId": "c0d8e07f-3fc2-4562-c844-cda704f42cf9"
      },
      "execution_count": null,
      "outputs": [
        {
          "output_type": "stream",
          "name": "stdout",
          "text": [
            "Confusion Matrix:\n",
            "[[2240  265  101]\n",
            " [ 843 1577  186]\n",
            " [ 210  373 2023]]\n",
            "\n",
            "Classification Report:\n",
            "              precision    recall  f1-score   support\n",
            "\n",
            "     Class 0       0.68      0.86      0.76      2606\n",
            "     Class 1       0.71      0.61      0.65      2606\n",
            "     Class 2       0.88      0.78      0.82      2606\n",
            "\n",
            "    accuracy                           0.75      7818\n",
            "   macro avg       0.76      0.75      0.75      7818\n",
            "weighted avg       0.76      0.75      0.75      7818\n",
            "\n"
          ]
        }
      ]
    },
    {
      "cell_type": "code",
      "source": [
        "import seaborn as sns\n",
        "import matplotlib.pyplot as plt\n",
        "\n",
        "# Print Confusion Matrix\n",
        "conf_matrix = confusion_matrix(Y_val.cpu().numpy(), predicted_labels)\n",
        "print(\"Confusion Matrix:\")\n",
        "print(conf_matrix)\n",
        "\n",
        "# Plot Confusion Matrix as Heatmap\n",
        "plt.figure(figsize=(8, 6))\n",
        "sns.heatmap(conf_matrix, annot=True, fmt='d', cmap='Blues', xticklabels=['Class 0', 'Class 1', 'Class 2'], yticklabels=['Class 0', 'Class 1', 'Class 2'])\n",
        "plt.xlabel('Predicted Label')\n",
        "plt.ylabel('True Label')\n",
        "plt.title('Confusion Matrix')\n",
        "plt.show()\n"
      ],
      "metadata": {
        "colab": {
          "base_uri": "https://localhost:8080/",
          "height": 633
        },
        "id": "4-ZB_1yH5xfV",
        "outputId": "b46ec5b9-3542-4f45-e353-c873b268c599"
      },
      "execution_count": null,
      "outputs": [
        {
          "output_type": "stream",
          "name": "stdout",
          "text": [
            "Confusion Matrix:\n",
            "[[2240  265  101]\n",
            " [ 843 1577  186]\n",
            " [ 210  373 2023]]\n"
          ]
        },
        {
          "output_type": "display_data",
          "data": {
            "text/plain": [
              "<Figure size 800x600 with 2 Axes>"
            ],
            "image/png": "[encoded data removed]"
          },
          "metadata": {}
        }
      ]
    },
    {
      "cell_type": "code",
      "source": [
        "print(len(Y_test))\n",
        "print(len(predicted_labels))\n"
      ],
      "metadata": {
        "colab": {
          "base_uri": "https://localhost:8080/"
        },
        "id": "CpINYjfKxuKT",
        "outputId": "d23102b7-eb24-4dde-d721-087119a9b4d7"
      },
      "execution_count": null,
      "outputs": [
        {
          "output_type": "stream",
          "name": "stdout",
          "text": [
            "7818\n",
            "7818\n"
          ]
        }
      ]
    },
    {
      "cell_type": "code",
      "source": [
        "#Show the classification report\n",
        "test_prediction = test_prediction.to(device)\n",
        "print(test_prediction.shape)\n",
        "test_prediction = test_prediction.cpu().argmax(-1)\n",
        "Y_test = Y_test.cpu()\n",
        "print(Y_test.shape)\n",
        "print(classification_report(Y_test,test_prediction))"
      ],
      "metadata": {
        "colab": {
          "base_uri": "https://localhost:8080/"
        },
        "id": "l1pr16W5lElT",
        "outputId": "3f77c367-88a3-4240-ce5e-637c38a4f9bb"
      },
      "execution_count": null,
      "outputs": [
        {
          "output_type": "stream",
          "name": "stdout",
          "text": [
            "torch.Size([7818, 3])\n",
            "torch.Size([7818])\n",
            "              precision    recall  f1-score   support\n",
            "\n",
            "           0       0.74      0.80      0.77      2606\n",
            "           1       0.71      0.66      0.68      2606\n",
            "           2       0.84      0.83      0.84      2606\n",
            "\n",
            "    accuracy                           0.76      7818\n",
            "   macro avg       0.76      0.76      0.76      7818\n",
            "weighted avg       0.76      0.76      0.76      7818\n",
            "\n"
          ]
        }
      ]
    }
  ]
}