{
  "nbformat": 4,
  "nbformat_minor": 0,
  "metadata": {
    "colab": {
      "provenance": []
    },
    "kernelspec": {
      "name": "python3",
      "display_name": "Python 3"
    },
    "language_info": {
      "name": "python"
    }
  },
  "cells": [
    {
      "cell_type": "markdown",
      "source": [
        "# HW06 : Text Classification with RNN, LSTM, GRU\n",
        "\n",
        "ในหัวข้อนี้จะได้เรียนรู้การสร้างโมเดลสำหรับจำแนกข้อความ โดยใช้วิธีต่างๆ ดังนี้\n",
        "\n",
        "1) TF-IDF (used as input features) + Feed Forward Neural network\n",
        "\n",
        "2) สร้าางโมเดลจำแนกข้อความโดยใช้ RNN ประเภทต่างๆ เช่น Simple RNN, LSTM, GRU\n",
        "\n",
        "รวมไปถึงการประเมินประสิทธิภาพของแบบจำลอง\n"
      ],
      "metadata": {
        "id": "NNtiuKMW-qHa"
      }
    },
    {
      "cell_type": "code",
      "source": [
        "import pandas as pd\n",
        "from google.colab import drive\n",
        "\n",
        "# Mount Google Drive\n",
        "drive.mount('/content/drive')\n",
        "\n",
        "# Path to the CSV file in Google Drive\n",
        "st = '/content/drive/MyDrive/project/data/Vote/Vote_check/cdata/st_vote.csv'\n",
        "tr = '/content/drive/MyDrive/project/data/Vote/Vote_check/cdata/thairath.csv'\n",
        "tns = '/content/drive/MyDrive/project/data/Vote/Vote_check/cdata/topnews.csv'\n",
        "eig = '/content/drive/MyDrive/project/data/Vote/Vote_check/cdata/eigth.csv'\n",
        "o = '/content/drive/MyDrive/project/data/Vote/Vote_check/cdata/one.csv'\n",
        "\n",
        "# Read the CSV file into a pandas DataFrame\n",
        "stdf = pd.read_csv(st, usecols=['text', 'vote','comment_id'])\n",
        "thair= pd.read_csv(tr, usecols=['text', 'vote','comment_id'])\n",
        "tnews = pd.read_csv(tns , usecols=['text', 'vote','comment_id'])\n",
        "eigth = pd.read_csv(eig, usecols=['text', 'vote','comment_id'])\n",
        "one = pd.read_csv(o, usecols=['text', 'vote','comment_id'])\n",
        "# Merge DataFrames\n",
        "merged_df = pd.concat([stdf, thair, tnews, eigth, one], ignore_index=True)\n",
        "# Rename the 'vote' column to 'sentiment'\n",
        "merged_df = merged_df.rename(columns={'vote': 'sentiment'})\n",
        "merged_df = merged_df.drop_duplicates(subset='comment_id', keep='first')\n",
        "print(len(stdf))\n",
        "print(len(thair))\n",
        "print(len(tnews))\n",
        "print(len(eigth))\n",
        "print(len(one))\n",
        "print('รวม',len(merged_df))\n",
        "merged_df\n"
      ],
      "metadata": {
        "colab": {
          "base_uri": "https://localhost:8080/",
          "height": 545
        },
        "id": "7nrI-k2LuLiq",
        "outputId": "414cb16a-ed20-4a67-c54d-e78028a688a5"
      },
      "execution_count": null,
      "outputs": [
        {
          "output_type": "stream",
          "name": "stdout",
          "text": [
            "Mounted at /content/drive\n",
            "10149\n",
            "53637\n",
            "28944\n",
            "39351\n",
            "16862\n",
            "รวม 134656\n"
          ]
        },
        {
          "output_type": "execute_result",
          "data": {
            "text/plain": [
              "                        comment_id  \\\n",
              "0       Ugyh4l_S6n_BoyEENvp4AaABAg   \n",
              "1       UgxBWKoCa98brokBWAJ4AaABAg   \n",
              "2       Ugx0uyvH2i22DY1Fo9F4AaABAg   \n",
              "3       UgwYvslC2R3Hlmw8K7p4AaABAg   \n",
              "4       Ugw1SUgwqa8y2LCZCZB4AaABAg   \n",
              "...                            ...   \n",
              "148938  UgyM472fzhhlJm7GC254AaABAg   \n",
              "148939  Ugx5qr4_4aKmmxjGi-h4AaABAg   \n",
              "148940  Ugw5xq_wdeqCYymU91Z4AaABAg   \n",
              "148941  UgwzSUMvtvL1maMoWgx4AaABAg   \n",
              "148942  UgzCdNKzlbxHRuQyCsF4AaABAg   \n",
              "\n",
              "                                                     text sentiment  \n",
              "0                                  ศาลก็เหมือนโจรปล้นชาติ       neg  \n",
              "1       เราต้องเคารพกฏแต่พวกมันไม่ต้องเล่นตามกฏประเทศไ...       neg  \n",
              "2       งงครับเป็นสสมาได้4ปีแต่จะเป็นนายกโดนตรวจสอบถ้า...       neg  \n",
              "3       คนดีๆเค้าจะมาช่วยประชาชนไอ้พวกชั่วนี้ก็ทำแบบเด...       neg  \n",
              "4                                         เหมือนธนาธรเดะๆ       neu  \n",
              "...                                                   ...       ...  \n",
              "148938  แล้วที่ทำไปเป็นเรื่องดีๆทั้งนั้นเลยนะครับสงสาร...       neu  \n",
              "148939                                    รักนายกพิธานะคะ       pos  \n",
              "148940  8พรรคจับมือกันได้27ล้านเสียงส่วนพรรคที่เหลือได...       neu  \n",
              "148941                                           เสียเวลา       neg  \n",
              "148942     รอบเดียวก็พอแล้วไม่ได้ก็คือไม่ได้ไม่ต้องพยายาม       neg  \n",
              "\n",
              "[134656 rows x 3 columns]"
            ],
            "text/html": [
              "\n",
              "  <div id=\"df-537b495b-9b7d-4c59-bb6c-2f16388ee6dd\" class=\"colab-df-container\">\n",
              "    <div>\n",
              "<style scoped>\n",
              "    .dataframe tbody tr th:only-of-type {\n",
              "        vertical-align: middle;\n",
              "    }\n",
              "\n",
              "    .dataframe tbody tr th {\n",
              "        vertical-align: top;\n",
              "    }\n",
              "\n",
              "    .dataframe thead th {\n",
              "        text-align: right;\n",
              "    }\n",
              "</style>\n",
              "<table border=\"1\" class=\"dataframe\">\n",
              "  <thead>\n",
              "    <tr style=\"text-align: right;\">\n",
              "      <th></th>\n",
              "      <th>comment_id</th>\n",
              "      <th>text</th>\n",
              "      <th>sentiment</th>\n",
              "    </tr>\n",
              "  </thead>\n",
              "  <tbody>\n",
              "    <tr>\n",
              "      <th>0</th>\n",
              "      <td>Ugyh4l_S6n_BoyEENvp4AaABAg</td>\n",
              "      <td>ศาลก็เหมือนโจรปล้นชาติ</td>\n",
              "      <td>neg</td>\n",
              "    </tr>\n",
              "    <tr>\n",
              "      <th>1</th>\n",
              "      <td>UgxBWKoCa98brokBWAJ4AaABAg</td>\n",
              "      <td>เราต้องเคารพกฏแต่พวกมันไม่ต้องเล่นตามกฏประเทศไ...</td>\n",
              "      <td>neg</td>\n",
              "    </tr>\n",
              "    <tr>\n",
              "      <th>2</th>\n",
              "      <td>Ugx0uyvH2i22DY1Fo9F4AaABAg</td>\n",
              "      <td>งงครับเป็นสสมาได้4ปีแต่จะเป็นนายกโดนตรวจสอบถ้า...</td>\n",
              "      <td>neg</td>\n",
              "    </tr>\n",
              "    <tr>\n",
              "      <th>3</th>\n",
              "      <td>UgwYvslC2R3Hlmw8K7p4AaABAg</td>\n",
              "      <td>คนดีๆเค้าจะมาช่วยประชาชนไอ้พวกชั่วนี้ก็ทำแบบเด...</td>\n",
              "      <td>neg</td>\n",
              "    </tr>\n",
              "    <tr>\n",
              "      <th>4</th>\n",
              "      <td>Ugw1SUgwqa8y2LCZCZB4AaABAg</td>\n",
              "      <td>เหมือนธนาธรเดะๆ</td>\n",
              "      <td>neu</td>\n",
              "    </tr>\n",
              "    <tr>\n",
              "      <th>...</th>\n",
              "      <td>...</td>\n",
              "      <td>...</td>\n",
              "      <td>...</td>\n",
              "    </tr>\n",
              "    <tr>\n",
              "      <th>148938</th>\n",
              "      <td>UgyM472fzhhlJm7GC254AaABAg</td>\n",
              "      <td>แล้วที่ทำไปเป็นเรื่องดีๆทั้งนั้นเลยนะครับสงสาร...</td>\n",
              "      <td>neu</td>\n",
              "    </tr>\n",
              "    <tr>\n",
              "      <th>148939</th>\n",
              "      <td>Ugx5qr4_4aKmmxjGi-h4AaABAg</td>\n",
              "      <td>รักนายกพิธานะคะ</td>\n",
              "      <td>pos</td>\n",
              "    </tr>\n",
              "    <tr>\n",
              "      <th>148940</th>\n",
              "      <td>Ugw5xq_wdeqCYymU91Z4AaABAg</td>\n",
              "      <td>8พรรคจับมือกันได้27ล้านเสียงส่วนพรรคที่เหลือได...</td>\n",
              "      <td>neu</td>\n",
              "    </tr>\n",
              "    <tr>\n",
              "      <th>148941</th>\n",
              "      <td>UgwzSUMvtvL1maMoWgx4AaABAg</td>\n",
              "      <td>เสียเวลา</td>\n",
              "      <td>neg</td>\n",
              "    </tr>\n",
              "    <tr>\n",
              "      <th>148942</th>\n",
              "      <td>UgzCdNKzlbxHRuQyCsF4AaABAg</td>\n",
              "      <td>รอบเดียวก็พอแล้วไม่ได้ก็คือไม่ได้ไม่ต้องพยายาม</td>\n",
              "      <td>neg</td>\n",
              "    </tr>\n",
              "  </tbody>\n",
              "</table>\n",
              "<p>134656 rows × 3 columns</p>\n",
              "</div>\n",
              "    <div class=\"colab-df-buttons\">\n",
              "\n",
              "  <div class=\"colab-df-container\">\n",
              "    <button class=\"colab-df-convert\" onclick=\"convertToInteractive('df-537b495b-9b7d-4c59-bb6c-2f16388ee6dd')\"\n",
              "            title=\"Convert this dataframe to an interactive table.\"\n",
              "            style=\"display:none;\">\n",
              "\n",
              "  <svg xmlns=\"http://www.w3.org/2000/svg\" height=\"24px\" viewBox=\"0 -960 960 960\">\n",
              "    <path d=\"M120-120v-720h720v720H120Zm60-500h600v-160H180v160Zm220 220h160v-160H400v160Zm0 220h160v-160H400v160ZM180-400h160v-160H180v160Zm440 0h160v-160H620v160ZM180-180h160v-160H180v160Zm440 0h160v-160H620v160Z\"/>\n",
              "  </svg>\n",
              "    </button>\n",
              "\n",
              "  <style>\n",
              "    .colab-df-container {\n",
              "      display:flex;\n",
              "      gap: 12px;\n",
              "    }\n",
              "\n",
              "    .colab-df-convert {\n",
              "      background-color: #E8F0FE;\n",
              "      border: none;\n",
              "      border-radius: 50%;\n",
              "      cursor: pointer;\n",
              "      display: none;\n",
              "      fill: #1967D2;\n",
              "      height: 32px;\n",
              "      padding: 0 0 0 0;\n",
              "      width: 32px;\n",
              "    }\n",
              "\n",
              "    .colab-df-convert:hover {\n",
              "      background-color: #E2EBFA;\n",
              "      box-shadow: 0px 1px 2px rgba(60, 64, 67, 0.3), 0px 1px 3px 1px rgba(60, 64, 67, 0.15);\n",
              "      fill: #174EA6;\n",
              "    }\n",
              "\n",
              "    .colab-df-buttons div {\n",
              "      margin-bottom: 4px;\n",
              "    }\n",
              "\n",
              "    [theme=dark] .colab-df-convert {\n",
              "      background-color: #3B4455;\n",
              "      fill: #D2E3FC;\n",
              "    }\n",
              "\n",
              "    [theme=dark] .colab-df-convert:hover {\n",
              "      background-color: #434B5C;\n",
              "      box-shadow: 0px 1px 3px 1px rgba(0, 0, 0, 0.15);\n",
              "      filter: drop-shadow(0px 1px 2px rgba(0, 0, 0, 0.3));\n",
              "      fill: #FFFFFF;\n",
              "    }\n",
              "  </style>\n",
              "\n",
              "    <script>\n",
              "      const buttonEl =\n",
              "        document.querySelector('#df-537b495b-9b7d-4c59-bb6c-2f16388ee6dd button.colab-df-convert');\n",
              "      buttonEl.style.display =\n",
              "        google.colab.kernel.accessAllowed ? 'block' : 'none';\n",
              "\n",
              "      async function convertToInteractive(key) {\n",
              "        const element = document.querySelector('#df-537b495b-9b7d-4c59-bb6c-2f16388ee6dd');\n",
              "        const dataTable =\n",
              "          await google.colab.kernel.invokeFunction('convertToInteractive',\n",
              "                                                    [key], {});\n",
              "        if (!dataTable) return;\n",
              "\n",
              "        const docLinkHtml = 'Like what you see? Visit the ' +\n",
              "          '<a target=\"_blank\" href=https://colab.research.google.com/notebooks/data_table.ipynb>data table notebook</a>'\n",
              "          + ' to learn more about interactive tables.';\n",
              "        element.innerHTML = '';\n",
              "        dataTable['output_type'] = 'display_data';\n",
              "        await google.colab.output.renderOutput(dataTable, element);\n",
              "        const docLink = document.createElement('div');\n",
              "        docLink.innerHTML = docLinkHtml;\n",
              "        element.appendChild(docLink);\n",
              "      }\n",
              "    </script>\n",
              "  </div>\n",
              "\n",
              "\n",
              "<div id=\"df-5e6491a9-3aa2-4523-a9eb-7cc4d90a6d3e\">\n",
              "  <button class=\"colab-df-quickchart\" onclick=\"quickchart('df-5e6491a9-3aa2-4523-a9eb-7cc4d90a6d3e')\"\n",
              "            title=\"Suggest charts\"\n",
              "            style=\"display:none;\">\n",
              "\n",
              "<svg xmlns=\"http://www.w3.org/2000/svg\" height=\"24px\"viewBox=\"0 0 24 24\"\n",
              "     width=\"24px\">\n",
              "    <g>\n",
              "        <path d=\"M19 3H5c-1.1 0-2 .9-2 2v14c0 1.1.9 2 2 2h14c1.1 0 2-.9 2-2V5c0-1.1-.9-2-2-2zM9 17H7v-7h2v7zm4 0h-2V7h2v10zm4 0h-2v-4h2v4z\"/>\n",
              "    </g>\n",
              "</svg>\n",
              "  </button>\n",
              "\n",
              "<style>\n",
              "  .colab-df-quickchart {\n",
              "      --bg-color: #E8F0FE;\n",
              "      --fill-color: #1967D2;\n",
              "      --hover-bg-color: #E2EBFA;\n",
              "      --hover-fill-color: #174EA6;\n",
              "      --disabled-fill-color: #AAA;\n",
              "      --disabled-bg-color: #DDD;\n",
              "  }\n",
              "\n",
              "  [theme=dark] .colab-df-quickchart {\n",
              "      --bg-color: #3B4455;\n",
              "      --fill-color: #D2E3FC;\n",
              "      --hover-bg-color: #434B5C;\n",
              "      --hover-fill-color: #FFFFFF;\n",
              "      --disabled-bg-color: #3B4455;\n",
              "      --disabled-fill-color: #666;\n",
              "  }\n",
              "\n",
              "  .colab-df-quickchart {\n",
              "    background-color: var(--bg-color);\n",
              "    border: none;\n",
              "    border-radius: 50%;\n",
              "    cursor: pointer;\n",
              "    display: none;\n",
              "    fill: var(--fill-color);\n",
              "    height: 32px;\n",
              "    padding: 0;\n",
              "    width: 32px;\n",
              "  }\n",
              "\n",
              "  .colab-df-quickchart:hover {\n",
              "    background-color: var(--hover-bg-color);\n",
              "    box-shadow: 0 1px 2px rgba(60, 64, 67, 0.3), 0 1px 3px 1px rgba(60, 64, 67, 0.15);\n",
              "    fill: var(--button-hover-fill-color);\n",
              "  }\n",
              "\n",
              "  .colab-df-quickchart-complete:disabled,\n",
              "  .colab-df-quickchart-complete:disabled:hover {\n",
              "    background-color: var(--disabled-bg-color);\n",
              "    fill: var(--disabled-fill-color);\n",
              "    box-shadow: none;\n",
              "  }\n",
              "\n",
              "  .colab-df-spinner {\n",
              "    border: 2px solid var(--fill-color);\n",
              "    border-color: transparent;\n",
              "    border-bottom-color: var(--fill-color);\n",
              "    animation:\n",
              "      spin 1s steps(1) infinite;\n",
              "  }\n",
              "\n",
              "  @keyframes spin {\n",
              "    0% {\n",
              "      border-color: transparent;\n",
              "      border-bottom-color: var(--fill-color);\n",
              "      border-left-color: var(--fill-color);\n",
              "    }\n",
              "    20% {\n",
              "      border-color: transparent;\n",
              "      border-left-color: var(--fill-color);\n",
              "      border-top-color: var(--fill-color);\n",
              "    }\n",
              "    30% {\n",
              "      border-color: transparent;\n",
              "      border-left-color: var(--fill-color);\n",
              "      border-top-color: var(--fill-color);\n",
              "      border-right-color: var(--fill-color);\n",
              "    }\n",
              "    40% {\n",
              "      border-color: transparent;\n",
              "      border-right-color: var(--fill-color);\n",
              "      border-top-color: var(--fill-color);\n",
              "    }\n",
              "    60% {\n",
              "      border-color: transparent;\n",
              "      border-right-color: var(--fill-color);\n",
              "    }\n",
              "    80% {\n",
              "      border-color: transparent;\n",
              "      border-right-color: var(--fill-color);\n",
              "      border-bottom-color: var(--fill-color);\n",
              "    }\n",
              "    90% {\n",
              "      border-color: transparent;\n",
              "      border-bottom-color: var(--fill-color);\n",
              "    }\n",
              "  }\n",
              "</style>\n",
              "\n",
              "  <script>\n",
              "    async function quickchart(key) {\n",
              "      const quickchartButtonEl =\n",
              "        document.querySelector('#' + key + ' button');\n",
              "      quickchartButtonEl.disabled = true;  // To prevent multiple clicks.\n",
              "      quickchartButtonEl.classList.add('colab-df-spinner');\n",
              "      try {\n",
              "        const charts = await google.colab.kernel.invokeFunction(\n",
              "            'suggestCharts', [key], {});\n",
              "      } catch (error) {\n",
              "        console.error('Error during call to suggestCharts:', error);\n",
              "      }\n",
              "      quickchartButtonEl.classList.remove('colab-df-spinner');\n",
              "      quickchartButtonEl.classList.add('colab-df-quickchart-complete');\n",
              "    }\n",
              "    (() => {\n",
              "      let quickchartButtonEl =\n",
              "        document.querySelector('#df-5e6491a9-3aa2-4523-a9eb-7cc4d90a6d3e button');\n",
              "      quickchartButtonEl.style.display =\n",
              "        google.colab.kernel.accessAllowed ? 'block' : 'none';\n",
              "    })();\n",
              "  </script>\n",
              "</div>\n",
              "    </div>\n",
              "  </div>\n"
            ],
            "application/vnd.google.colaboratory.intrinsic+json": {
              "type": "dataframe",
              "variable_name": "merged_df"
            }
          },
          "metadata": {},
          "execution_count": 1
        }
      ]
    },
    {
      "cell_type": "code",
      "source": [
        "merged_df['sentiment']= merged_df['sentiment'].replace('negneg', 'neg')\n",
        "merged_df['sentiment']= merged_df['sentiment'].replace('neuneu', 'neu')\n",
        "merged_df['sentiment']= merged_df['sentiment'].replace('Ugz9C5TAmKoeTvFpbY54AaABAg', 'neu')\n",
        "merged_df['sentiment']= merged_df['sentiment'].replace('negneu', 'neu')\n",
        "merged_df['sentiment']= merged_df['sentiment'].replace('1neg', 'neg')\n",
        "merged_df['sentiment']= merged_df['sentiment'].replace('UgxkLO4h_6atMp9pTNR4AaABAg', 'neg')\n",
        "merged_df['sentiment']= merged_df['sentiment'].replace('Ugy2QAmA6OttftxtT354AaABAg', 'neu')\n",
        "merged_df['sentiment']= merged_df['sentiment'].replace('UgwtggQRyDPrI1ZJ3SF4AaABAg', 'neu')\n",
        "merged_df['sentiment']= merged_df['sentiment'].replace('Ugxh80FmUbqYxse1F0F4AaABAg', 'neg')"
      ],
      "metadata": {
        "id": "v0ZRn3_0vNWo"
      },
      "execution_count": null,
      "outputs": []
    },
    {
      "cell_type": "code",
      "source": [
        "# Assuming 'sentiment' is the column name in your DataFrame\n",
        "sentiment_counts = merged_df['sentiment'].value_counts()\n",
        "\n",
        "# Display the counts\n",
        "print(sentiment_counts)"
      ],
      "metadata": {
        "colab": {
          "base_uri": "https://localhost:8080/"
        },
        "id": "dXC_jgFuqg3u",
        "outputId": "0b9c5a99-edc4-4c5a-d32a-4d3b7c08593b"
      },
      "execution_count": null,
      "outputs": [
        {
          "output_type": "stream",
          "name": "stdout",
          "text": [
            "neu    80514\n",
            "neg    41081\n",
            "pos    13030\n",
            "Name: sentiment, dtype: int64\n"
          ]
        }
      ]
    },
    {
      "cell_type": "code",
      "source": [
        "selected_data = merged_df[merged_df['sentiment'].isin(['pos', 'neg', 'neu'])]\n",
        "selected_data = selected_data.groupby('sentiment').head(13030)\n",
        "selected_data"
      ],
      "metadata": {
        "colab": {
          "base_uri": "https://localhost:8080/",
          "height": 424
        },
        "id": "w8-PE5_Qqk3l",
        "outputId": "a0d98c3e-0807-4788-c902-f653ebc5e0e2"
      },
      "execution_count": null,
      "outputs": [
        {
          "output_type": "execute_result",
          "data": {
            "text/plain": [
              "                        comment_id  \\\n",
              "0       Ugyh4l_S6n_BoyEENvp4AaABAg   \n",
              "1       UgxBWKoCa98brokBWAJ4AaABAg   \n",
              "2       Ugx0uyvH2i22DY1Fo9F4AaABAg   \n",
              "3       UgwYvslC2R3Hlmw8K7p4AaABAg   \n",
              "4       Ugw1SUgwqa8y2LCZCZB4AaABAg   \n",
              "...                            ...   \n",
              "148882  Ugy7wTbOd4fuJwgPMYZ4AaABAg   \n",
              "148906  Ugxqy5KQJv3wNEJQrr54AaABAg   \n",
              "148922  UgxCFTmAgVJq63nqBa54AaABAg   \n",
              "148927  UgyCRG80MThcA4GRfMx4AaABAg   \n",
              "148939  Ugx5qr4_4aKmmxjGi-h4AaABAg   \n",
              "\n",
              "                                                     text sentiment  \n",
              "0                                  ศาลก็เหมือนโจรปล้นชาติ       neg  \n",
              "1       เราต้องเคารพกฏแต่พวกมันไม่ต้องเล่นตามกฏประเทศไ...       neg  \n",
              "2       งงครับเป็นสสมาได้4ปีแต่จะเป็นนายกโดนตรวจสอบถ้า...       neg  \n",
              "3       คนดีๆเค้าจะมาช่วยประชาชนไอ้พวกชั่วนี้ก็ทำแบบเด...       neg  \n",
              "4                                         เหมือนธนาธรเดะๆ       neu  \n",
              "...                                                   ...       ...  \n",
              "148882                                           ผมชอบมาก       pos  \n",
              "148906                                         ลุงป้มสู้ๆ       pos  \n",
              "148922           ขอบคุณเพื่อไทยที่ยึดมั่นจับมือกันไว้นะคะ       pos  \n",
              "148927  ขอให้8พรรคจับมือกันให้แน่นอย่าข้ามขั้วเป็นฝ่าย...       pos  \n",
              "148939                                    รักนายกพิธานะคะ       pos  \n",
              "\n",
              "[39090 rows x 3 columns]"
            ],
            "text/html": [
              "\n",
              "  <div id=\"df-7301cfbf-c4a8-4214-bc3f-e3c173eccae7\" class=\"colab-df-container\">\n",
              "    <div>\n",
              "<style scoped>\n",
              "    .dataframe tbody tr th:only-of-type {\n",
              "        vertical-align: middle;\n",
              "    }\n",
              "\n",
              "    .dataframe tbody tr th {\n",
              "        vertical-align: top;\n",
              "    }\n",
              "\n",
              "    .dataframe thead th {\n",
              "        text-align: right;\n",
              "    }\n",
              "</style>\n",
              "<table border=\"1\" class=\"dataframe\">\n",
              "  <thead>\n",
              "    <tr style=\"text-align: right;\">\n",
              "      <th></th>\n",
              "      <th>comment_id</th>\n",
              "      <th>text</th>\n",
              "      <th>sentiment</th>\n",
              "    </tr>\n",
              "  </thead>\n",
              "  <tbody>\n",
              "    <tr>\n",
              "      <th>0</th>\n",
              "      <td>Ugyh4l_S6n_BoyEENvp4AaABAg</td>\n",
              "      <td>ศาลก็เหมือนโจรปล้นชาติ</td>\n",
              "      <td>neg</td>\n",
              "    </tr>\n",
              "    <tr>\n",
              "      <th>1</th>\n",
              "      <td>UgxBWKoCa98brokBWAJ4AaABAg</td>\n",
              "      <td>เราต้องเคารพกฏแต่พวกมันไม่ต้องเล่นตามกฏประเทศไ...</td>\n",
              "      <td>neg</td>\n",
              "    </tr>\n",
              "    <tr>\n",
              "      <th>2</th>\n",
              "      <td>Ugx0uyvH2i22DY1Fo9F4AaABAg</td>\n",
              "      <td>งงครับเป็นสสมาได้4ปีแต่จะเป็นนายกโดนตรวจสอบถ้า...</td>\n",
              "      <td>neg</td>\n",
              "    </tr>\n",
              "    <tr>\n",
              "      <th>3</th>\n",
              "      <td>UgwYvslC2R3Hlmw8K7p4AaABAg</td>\n",
              "      <td>คนดีๆเค้าจะมาช่วยประชาชนไอ้พวกชั่วนี้ก็ทำแบบเด...</td>\n",
              "      <td>neg</td>\n",
              "    </tr>\n",
              "    <tr>\n",
              "      <th>4</th>\n",
              "      <td>Ugw1SUgwqa8y2LCZCZB4AaABAg</td>\n",
              "      <td>เหมือนธนาธรเดะๆ</td>\n",
              "      <td>neu</td>\n",
              "    </tr>\n",
              "    <tr>\n",
              "      <th>...</th>\n",
              "      <td>...</td>\n",
              "      <td>...</td>\n",
              "      <td>...</td>\n",
              "    </tr>\n",
              "    <tr>\n",
              "      <th>148882</th>\n",
              "      <td>Ugy7wTbOd4fuJwgPMYZ4AaABAg</td>\n",
              "      <td>ผมชอบมาก</td>\n",
              "      <td>pos</td>\n",
              "    </tr>\n",
              "    <tr>\n",
              "      <th>148906</th>\n",
              "      <td>Ugxqy5KQJv3wNEJQrr54AaABAg</td>\n",
              "      <td>ลุงป้มสู้ๆ</td>\n",
              "      <td>pos</td>\n",
              "    </tr>\n",
              "    <tr>\n",
              "      <th>148922</th>\n",
              "      <td>UgxCFTmAgVJq63nqBa54AaABAg</td>\n",
              "      <td>ขอบคุณเพื่อไทยที่ยึดมั่นจับมือกันไว้นะคะ</td>\n",
              "      <td>pos</td>\n",
              "    </tr>\n",
              "    <tr>\n",
              "      <th>148927</th>\n",
              "      <td>UgyCRG80MThcA4GRfMx4AaABAg</td>\n",
              "      <td>ขอให้8พรรคจับมือกันให้แน่นอย่าข้ามขั้วเป็นฝ่าย...</td>\n",
              "      <td>pos</td>\n",
              "    </tr>\n",
              "    <tr>\n",
              "      <th>148939</th>\n",
              "      <td>Ugx5qr4_4aKmmxjGi-h4AaABAg</td>\n",
              "      <td>รักนายกพิธานะคะ</td>\n",
              "      <td>pos</td>\n",
              "    </tr>\n",
              "  </tbody>\n",
              "</table>\n",
              "<p>39090 rows × 3 columns</p>\n",
              "</div>\n",
              "    <div class=\"colab-df-buttons\">\n",
              "\n",
              "  <div class=\"colab-df-container\">\n",
              "    <button class=\"colab-df-convert\" onclick=\"convertToInteractive('df-7301cfbf-c4a8-4214-bc3f-e3c173eccae7')\"\n",
              "            title=\"Convert this dataframe to an interactive table.\"\n",
              "            style=\"display:none;\">\n",
              "\n",
              "  <svg xmlns=\"http://www.w3.org/2000/svg\" height=\"24px\" viewBox=\"0 -960 960 960\">\n",
              "    <path d=\"M120-120v-720h720v720H120Zm60-500h600v-160H180v160Zm220 220h160v-160H400v160Zm0 220h160v-160H400v160ZM180-400h160v-160H180v160Zm440 0h160v-160H620v160ZM180-180h160v-160H180v160Zm440 0h160v-160H620v160Z\"/>\n",
              "  </svg>\n",
              "    </button>\n",
              "\n",
              "  <style>\n",
              "    .colab-df-container {\n",
              "      display:flex;\n",
              "      gap: 12px;\n",
              "    }\n",
              "\n",
              "    .colab-df-convert {\n",
              "      background-color: #E8F0FE;\n",
              "      border: none;\n",
              "      border-radius: 50%;\n",
              "      cursor: pointer;\n",
              "      display: none;\n",
              "      fill: #1967D2;\n",
              "      height: 32px;\n",
              "      padding: 0 0 0 0;\n",
              "      width: 32px;\n",
              "    }\n",
              "\n",
              "    .colab-df-convert:hover {\n",
              "      background-color: #E2EBFA;\n",
              "      box-shadow: 0px 1px 2px rgba(60, 64, 67, 0.3), 0px 1px 3px 1px rgba(60, 64, 67, 0.15);\n",
              "      fill: #174EA6;\n",
              "    }\n",
              "\n",
              "    .colab-df-buttons div {\n",
              "      margin-bottom: 4px;\n",
              "    }\n",
              "\n",
              "    [theme=dark] .colab-df-convert {\n",
              "      background-color: #3B4455;\n",
              "      fill: #D2E3FC;\n",
              "    }\n",
              "\n",
              "    [theme=dark] .colab-df-convert:hover {\n",
              "      background-color: #434B5C;\n",
              "      box-shadow: 0px 1px 3px 1px rgba(0, 0, 0, 0.15);\n",
              "      filter: drop-shadow(0px 1px 2px rgba(0, 0, 0, 0.3));\n",
              "      fill: #FFFFFF;\n",
              "    }\n",
              "  </style>\n",
              "\n",
              "    <script>\n",
              "      const buttonEl =\n",
              "        document.querySelector('#df-7301cfbf-c4a8-4214-bc3f-e3c173eccae7 button.colab-df-convert');\n",
              "      buttonEl.style.display =\n",
              "        google.colab.kernel.accessAllowed ? 'block' : 'none';\n",
              "\n",
              "      async function convertToInteractive(key) {\n",
              "        const element = document.querySelector('#df-7301cfbf-c4a8-4214-bc3f-e3c173eccae7');\n",
              "        const dataTable =\n",
              "          await google.colab.kernel.invokeFunction('convertToInteractive',\n",
              "                                                    [key], {});\n",
              "        if (!dataTable) return;\n",
              "\n",
              "        const docLinkHtml = 'Like what you see? Visit the ' +\n",
              "          '<a target=\"_blank\" href=https://colab.research.google.com/notebooks/data_table.ipynb>data table notebook</a>'\n",
              "          + ' to learn more about interactive tables.';\n",
              "        element.innerHTML = '';\n",
              "        dataTable['output_type'] = 'display_data';\n",
              "        await google.colab.output.renderOutput(dataTable, element);\n",
              "        const docLink = document.createElement('div');\n",
              "        docLink.innerHTML = docLinkHtml;\n",
              "        element.appendChild(docLink);\n",
              "      }\n",
              "    </script>\n",
              "  </div>\n",
              "\n",
              "\n",
              "<div id=\"df-240d0753-d2d2-40ba-8cd0-a10113515c1a\">\n",
              "  <button class=\"colab-df-quickchart\" onclick=\"quickchart('df-240d0753-d2d2-40ba-8cd0-a10113515c1a')\"\n",
              "            title=\"Suggest charts\"\n",
              "            style=\"display:none;\">\n",
              "\n",
              "<svg xmlns=\"http://www.w3.org/2000/svg\" height=\"24px\"viewBox=\"0 0 24 24\"\n",
              "     width=\"24px\">\n",
              "    <g>\n",
              "        <path d=\"M19 3H5c-1.1 0-2 .9-2 2v14c0 1.1.9 2 2 2h14c1.1 0 2-.9 2-2V5c0-1.1-.9-2-2-2zM9 17H7v-7h2v7zm4 0h-2V7h2v10zm4 0h-2v-4h2v4z\"/>\n",
              "    </g>\n",
              "</svg>\n",
              "  </button>\n",
              "\n",
              "<style>\n",
              "  .colab-df-quickchart {\n",
              "      --bg-color: #E8F0FE;\n",
              "      --fill-color: #1967D2;\n",
              "      --hover-bg-color: #E2EBFA;\n",
              "      --hover-fill-color: #174EA6;\n",
              "      --disabled-fill-color: #AAA;\n",
              "      --disabled-bg-color: #DDD;\n",
              "  }\n",
              "\n",
              "  [theme=dark] .colab-df-quickchart {\n",
              "      --bg-color: #3B4455;\n",
              "      --fill-color: #D2E3FC;\n",
              "      --hover-bg-color: #434B5C;\n",
              "      --hover-fill-color: #FFFFFF;\n",
              "      --disabled-bg-color: #3B4455;\n",
              "      --disabled-fill-color: #666;\n",
              "  }\n",
              "\n",
              "  .colab-df-quickchart {\n",
              "    background-color: var(--bg-color);\n",
              "    border: none;\n",
              "    border-radius: 50%;\n",
              "    cursor: pointer;\n",
              "    display: none;\n",
              "    fill: var(--fill-color);\n",
              "    height: 32px;\n",
              "    padding: 0;\n",
              "    width: 32px;\n",
              "  }\n",
              "\n",
              "  .colab-df-quickchart:hover {\n",
              "    background-color: var(--hover-bg-color);\n",
              "    box-shadow: 0 1px 2px rgba(60, 64, 67, 0.3), 0 1px 3px 1px rgba(60, 64, 67, 0.15);\n",
              "    fill: var(--button-hover-fill-color);\n",
              "  }\n",
              "\n",
              "  .colab-df-quickchart-complete:disabled,\n",
              "  .colab-df-quickchart-complete:disabled:hover {\n",
              "    background-color: var(--disabled-bg-color);\n",
              "    fill: var(--disabled-fill-color);\n",
              "    box-shadow: none;\n",
              "  }\n",
              "\n",
              "  .colab-df-spinner {\n",
              "    border: 2px solid var(--fill-color);\n",
              "    border-color: transparent;\n",
              "    border-bottom-color: var(--fill-color);\n",
              "    animation:\n",
              "      spin 1s steps(1) infinite;\n",
              "  }\n",
              "\n",
              "  @keyframes spin {\n",
              "    0% {\n",
              "      border-color: transparent;\n",
              "      border-bottom-color: var(--fill-color);\n",
              "      border-left-color: var(--fill-color);\n",
              "    }\n",
              "    20% {\n",
              "      border-color: transparent;\n",
              "      border-left-color: var(--fill-color);\n",
              "      border-top-color: var(--fill-color);\n",
              "    }\n",
              "    30% {\n",
              "      border-color: transparent;\n",
              "      border-left-color: var(--fill-color);\n",
              "      border-top-color: var(--fill-color);\n",
              "      border-right-color: var(--fill-color);\n",
              "    }\n",
              "    40% {\n",
              "      border-color: transparent;\n",
              "      border-right-color: var(--fill-color);\n",
              "      border-top-color: var(--fill-color);\n",
              "    }\n",
              "    60% {\n",
              "      border-color: transparent;\n",
              "      border-right-color: var(--fill-color);\n",
              "    }\n",
              "    80% {\n",
              "      border-color: transparent;\n",
              "      border-right-color: var(--fill-color);\n",
              "      border-bottom-color: var(--fill-color);\n",
              "    }\n",
              "    90% {\n",
              "      border-color: transparent;\n",
              "      border-bottom-color: var(--fill-color);\n",
              "    }\n",
              "  }\n",
              "</style>\n",
              "\n",
              "  <script>\n",
              "    async function quickchart(key) {\n",
              "      const quickchartButtonEl =\n",
              "        document.querySelector('#' + key + ' button');\n",
              "      quickchartButtonEl.disabled = true;  // To prevent multiple clicks.\n",
              "      quickchartButtonEl.classList.add('colab-df-spinner');\n",
              "      try {\n",
              "        const charts = await google.colab.kernel.invokeFunction(\n",
              "            'suggestCharts', [key], {});\n",
              "      } catch (error) {\n",
              "        console.error('Error during call to suggestCharts:', error);\n",
              "      }\n",
              "      quickchartButtonEl.classList.remove('colab-df-spinner');\n",
              "      quickchartButtonEl.classList.add('colab-df-quickchart-complete');\n",
              "    }\n",
              "    (() => {\n",
              "      let quickchartButtonEl =\n",
              "        document.querySelector('#df-240d0753-d2d2-40ba-8cd0-a10113515c1a button');\n",
              "      quickchartButtonEl.style.display =\n",
              "        google.colab.kernel.accessAllowed ? 'block' : 'none';\n",
              "    })();\n",
              "  </script>\n",
              "</div>\n",
              "    </div>\n",
              "  </div>\n"
            ],
            "application/vnd.google.colaboratory.intrinsic+json": {
              "type": "dataframe",
              "variable_name": "selected_data",
              "summary": "{\n  \"name\": \"selected_data\",\n  \"rows\": 39090,\n  \"fields\": [\n    {\n      \"column\": \"comment_id\",\n      \"properties\": {\n        \"dtype\": \"string\",\n        \"num_unique_values\": 39090,\n        \"samples\": [\n          \"Ugw4DKWICnrYbXLiheF4AaABAg\",\n          \"UgzwbLEuhU-jbgkJKjp4AaABAg\",\n          \"Ugwg4JdnR9zvgFfdDrR4AaABAg\"\n        ],\n        \"semantic_type\": \"\",\n        \"description\": \"\"\n      }\n    },\n    {\n      \"column\": \"text\",\n      \"properties\": {\n        \"dtype\": \"string\",\n        \"num_unique_values\": 37133,\n        \"samples\": [\n          \"\\u0e17\\u0e38\\u0e01\\u0e2d\\u0e22\\u0e48\\u0e32\\u0e07\\u0e2d\\u0e22\\u0e48\\u0e32\\u0e44\\u0e1b\\u0e40\\u0e2a\\u0e35\\u0e22\\u0e43\\u0e08\\u0e01\\u0e31\\u0e1a\\u0e2a\\u0e34\\u0e48\\u0e07\\u0e17\\u0e35\\u0e48\\u0e15\\u0e19\\u0e40\\u0e2d\\u0e07\\u0e40\\u0e02\\u0e32\\u0e44\\u0e21\\u0e48\\u0e22\\u0e2d\\u0e21\\u0e23\\u0e31\\u0e1a\\u0e08\\u0e07\\u0e41\\u0e01\\u0e49\\u0e44\\u0e02\\u0e1b\\u0e31\\u0e0d\\u0e2b\\u0e32\\u0e17\\u0e35\\u0e48\\u0e21\\u0e31\\u0e19\\u0e40\\u0e01\\u0e34\\u0e14\\u0e41\\u0e15\\u0e48\\u0e16\\u0e49\\u0e32\\u0e25\\u0e07\\u0e16\\u0e19\\u0e19\\u0e27\\u0e31\\u0e19\\u0e43\\u0e14\\u0e27\\u0e31\\u0e19\\u0e19\\u0e31\\u0e49\\u0e19\\u0e1b\\u0e31\\u0e0d\\u0e2b\\u0e32\\u0e08\\u0e30\\u0e40\\u0e23\\u0e34\\u0e48\\u0e21\\u0e40\\u0e01\\u0e34\\u0e14\",\n          \"\\u0e08\\u0e30\\u0e0b\\u0e37\\u0e49\\u0e2d\\u0e2b\\u0e23\\u0e37\\u0e2d\\u0e2b\\u0e19\\u0e49\\u0e32\\u0e14\\u0e49\\u0e32\\u0e19\\u0e44\\u0e23\\u0e22\\u0e32\\u0e07\\u0e2d\\u0e32\\u0e22\\u0e08\\u0e34\\u0e15\\u0e43\\u0e08\\u0e40\\u0e2a\\u0e37\\u0e48\\u0e2d\\u0e21\\u0e43\\u0e1a\\u0e2b\\u0e19\\u0e49\\u0e32\\u0e22\\u0e34\\u0e49\\u0e21\\u0e41\\u0e22\\u0e49\\u0e21\\u0e14\\u0e49\\u0e27\\u0e22\\u0e14\\u0e27\\u0e07\\u0e15\\u0e32\\u0e17\\u0e35\\u0e48\\u0e22\\u0e34\\u0e49\\u0e21\\u0e41\\u0e22\\u0e49\\u0e21\",\n          \"\\u0e1e\\u0e27\\u0e01\\u0e04\\u0e38\\u0e13\\u0e44\\u0e21\\u0e48\\u0e2a\\u0e31\\u0e07\\u0e40\\u0e01\\u0e15\\u0e38\\u0e40\\u0e25\\u0e22\\u0e23\\u0e36\\u0e04\\u0e23\\u0e31\\u0e1a\\u0e27\\u0e48\\u0e32\\u0e21\\u0e31\\u0e19\\u0e44\\u0e21\\u0e48\\u0e21\\u0e35\\u0e02\\u0e2d\\u0e07\\u0e27\\u0e32\\u0e07\\u0e02\\u0e32\\u0e22\\u0e40\\u0e25\\u0e22\\u0e41\\u0e2a\\u0e14\\u0e07\\u0e27\\u0e48\\u0e32\\u0e1c\\u0e39\\u0e49\\u0e2b\\u0e0d\\u0e34\\u0e07\\u0e17\\u0e35\\u0e48\\u0e21\\u0e32\\u0e2d\\u0e22\\u0e39\\u0e48\\u0e15\\u0e23\\u0e07\\u0e19\\u0e35\\u0e49\\u0e21\\u0e32\\u0e40\\u0e1e\\u0e37\\u0e48\\u0e2d\\u0e02\\u0e32\\u0e22\\u0e2d\\u0e22\\u0e48\\u0e32\\u0e07\\u0e2d\\u0e37\\u0e48\\u0e19\\u0e21\\u0e32\\u0e01\\u0e01\\u0e27\\u0e48\\u0e32\\u0e04\\u0e23\\u0e31\\u0e1a\"\n        ],\n        \"semantic_type\": \"\",\n        \"description\": \"\"\n      }\n    },\n    {\n      \"column\": \"sentiment\",\n      \"properties\": {\n        \"dtype\": \"category\",\n        \"num_unique_values\": 3,\n        \"samples\": [\n          \"neg\",\n          \"neu\",\n          \"pos\"\n        ],\n        \"semantic_type\": \"\",\n        \"description\": \"\"\n      }\n    }\n  ]\n}"
            }
          },
          "metadata": {},
          "execution_count": 4
        }
      ]
    },
    {
      "cell_type": "markdown",
      "source": [
        "# Data Preparation\n",
        "\n",
        "ในบทนี้เราจะใช้ข้อมูลของ Wongnai Sentiment Corpus มาใช้ในการสร้างแบบจำลอง\n",
        "\n"
      ],
      "metadata": {
        "id": "_VLhhpYhAieG"
      }
    },
    {
      "cell_type": "code",
      "source": [
        "!pip install pythainlp"
      ],
      "metadata": {
        "colab": {
          "base_uri": "https://localhost:8080/"
        },
        "id": "Sx3AVKC3DLrH",
        "outputId": "3c01e83d-2387-42e2-dbad-e7442d209254"
      },
      "execution_count": null,
      "outputs": [
        {
          "output_type": "stream",
          "name": "stdout",
          "text": [
            "Collecting pythainlp\n",
            "  Downloading pythainlp-5.0.1-py3-none-any.whl (17.9 MB)\n",
            "\u001b[2K     \u001b[90m━━━━━━━━━━━━━━━━━━━━━━━━━━━━━━━━━━━━━━━━\u001b[0m \u001b[32m17.9/17.9 MB\u001b[0m \u001b[31m62.6 MB/s\u001b[0m eta \u001b[36m0:00:00\u001b[0m\n",
            "\u001b[?25hRequirement already satisfied: requests>=2.22.0 in /usr/local/lib/python3.10/dist-packages (from pythainlp) (2.31.0)\n",
            "Requirement already satisfied: charset-normalizer<4,>=2 in /usr/local/lib/python3.10/dist-packages (from requests>=2.22.0->pythainlp) (3.3.2)\n",
            "Requirement already satisfied: idna<4,>=2.5 in /usr/local/lib/python3.10/dist-packages (from requests>=2.22.0->pythainlp) (3.6)\n",
            "Requirement already satisfied: urllib3<3,>=1.21.1 in /usr/local/lib/python3.10/dist-packages (from requests>=2.22.0->pythainlp) (2.0.7)\n",
            "Requirement already satisfied: certifi>=2017.4.17 in /usr/local/lib/python3.10/dist-packages (from requests>=2.22.0->pythainlp) (2024.2.2)\n",
            "Installing collected packages: pythainlp\n",
            "Successfully installed pythainlp-5.0.1\n"
          ]
        }
      ]
    },
    {
      "cell_type": "code",
      "source": [
        "import pandas as pd\n",
        "\n",
        "sentiment_df = selected_data.copy()\n",
        "\n"
      ],
      "metadata": {
        "id": "K8b5hqc_BH_Y"
      },
      "execution_count": null,
      "outputs": []
    },
    {
      "cell_type": "code",
      "source": [
        "sentiment_df"
      ],
      "metadata": {
        "colab": {
          "base_uri": "https://localhost:8080/",
          "height": 424
        },
        "id": "Vkh6LT25JIZU",
        "outputId": "b18d9f9e-f08c-4ee3-f832-9732e4785a56"
      },
      "execution_count": null,
      "outputs": [
        {
          "output_type": "execute_result",
          "data": {
            "text/plain": [
              "                        comment_id  \\\n",
              "0       Ugyh4l_S6n_BoyEENvp4AaABAg   \n",
              "1       UgxBWKoCa98brokBWAJ4AaABAg   \n",
              "2       Ugx0uyvH2i22DY1Fo9F4AaABAg   \n",
              "3       UgwYvslC2R3Hlmw8K7p4AaABAg   \n",
              "4       Ugw1SUgwqa8y2LCZCZB4AaABAg   \n",
              "...                            ...   \n",
              "148882  Ugy7wTbOd4fuJwgPMYZ4AaABAg   \n",
              "148906  Ugxqy5KQJv3wNEJQrr54AaABAg   \n",
              "148922  UgxCFTmAgVJq63nqBa54AaABAg   \n",
              "148927  UgyCRG80MThcA4GRfMx4AaABAg   \n",
              "148939  Ugx5qr4_4aKmmxjGi-h4AaABAg   \n",
              "\n",
              "                                                     text sentiment  \n",
              "0                                  ศาลก็เหมือนโจรปล้นชาติ       neg  \n",
              "1       เราต้องเคารพกฏแต่พวกมันไม่ต้องเล่นตามกฏประเทศไ...       neg  \n",
              "2       งงครับเป็นสสมาได้4ปีแต่จะเป็นนายกโดนตรวจสอบถ้า...       neg  \n",
              "3       คนดีๆเค้าจะมาช่วยประชาชนไอ้พวกชั่วนี้ก็ทำแบบเด...       neg  \n",
              "4                                         เหมือนธนาธรเดะๆ       neu  \n",
              "...                                                   ...       ...  \n",
              "148882                                           ผมชอบมาก       pos  \n",
              "148906                                         ลุงป้มสู้ๆ       pos  \n",
              "148922           ขอบคุณเพื่อไทยที่ยึดมั่นจับมือกันไว้นะคะ       pos  \n",
              "148927  ขอให้8พรรคจับมือกันให้แน่นอย่าข้ามขั้วเป็นฝ่าย...       pos  \n",
              "148939                                    รักนายกพิธานะคะ       pos  \n",
              "\n",
              "[39090 rows x 3 columns]"
            ],
            "text/html": [
              "\n",
              "  <div id=\"df-f67fb6ab-96f2-4f9c-bc9c-55a20bfb8776\" class=\"colab-df-container\">\n",
              "    <div>\n",
              "<style scoped>\n",
              "    .dataframe tbody tr th:only-of-type {\n",
              "        vertical-align: middle;\n",
              "    }\n",
              "\n",
              "    .dataframe tbody tr th {\n",
              "        vertical-align: top;\n",
              "    }\n",
              "\n",
              "    .dataframe thead th {\n",
              "        text-align: right;\n",
              "    }\n",
              "</style>\n",
              "<table border=\"1\" class=\"dataframe\">\n",
              "  <thead>\n",
              "    <tr style=\"text-align: right;\">\n",
              "      <th></th>\n",
              "      <th>comment_id</th>\n",
              "      <th>text</th>\n",
              "      <th>sentiment</th>\n",
              "    </tr>\n",
              "  </thead>\n",
              "  <tbody>\n",
              "    <tr>\n",
              "      <th>0</th>\n",
              "      <td>Ugyh4l_S6n_BoyEENvp4AaABAg</td>\n",
              "      <td>ศาลก็เหมือนโจรปล้นชาติ</td>\n",
              "      <td>neg</td>\n",
              "    </tr>\n",
              "    <tr>\n",
              "      <th>1</th>\n",
              "      <td>UgxBWKoCa98brokBWAJ4AaABAg</td>\n",
              "      <td>เราต้องเคารพกฏแต่พวกมันไม่ต้องเล่นตามกฏประเทศไ...</td>\n",
              "      <td>neg</td>\n",
              "    </tr>\n",
              "    <tr>\n",
              "      <th>2</th>\n",
              "      <td>Ugx0uyvH2i22DY1Fo9F4AaABAg</td>\n",
              "      <td>งงครับเป็นสสมาได้4ปีแต่จะเป็นนายกโดนตรวจสอบถ้า...</td>\n",
              "      <td>neg</td>\n",
              "    </tr>\n",
              "    <tr>\n",
              "      <th>3</th>\n",
              "      <td>UgwYvslC2R3Hlmw8K7p4AaABAg</td>\n",
              "      <td>คนดีๆเค้าจะมาช่วยประชาชนไอ้พวกชั่วนี้ก็ทำแบบเด...</td>\n",
              "      <td>neg</td>\n",
              "    </tr>\n",
              "    <tr>\n",
              "      <th>4</th>\n",
              "      <td>Ugw1SUgwqa8y2LCZCZB4AaABAg</td>\n",
              "      <td>เหมือนธนาธรเดะๆ</td>\n",
              "      <td>neu</td>\n",
              "    </tr>\n",
              "    <tr>\n",
              "      <th>...</th>\n",
              "      <td>...</td>\n",
              "      <td>...</td>\n",
              "      <td>...</td>\n",
              "    </tr>\n",
              "    <tr>\n",
              "      <th>148882</th>\n",
              "      <td>Ugy7wTbOd4fuJwgPMYZ4AaABAg</td>\n",
              "      <td>ผมชอบมาก</td>\n",
              "      <td>pos</td>\n",
              "    </tr>\n",
              "    <tr>\n",
              "      <th>148906</th>\n",
              "      <td>Ugxqy5KQJv3wNEJQrr54AaABAg</td>\n",
              "      <td>ลุงป้มสู้ๆ</td>\n",
              "      <td>pos</td>\n",
              "    </tr>\n",
              "    <tr>\n",
              "      <th>148922</th>\n",
              "      <td>UgxCFTmAgVJq63nqBa54AaABAg</td>\n",
              "      <td>ขอบคุณเพื่อไทยที่ยึดมั่นจับมือกันไว้นะคะ</td>\n",
              "      <td>pos</td>\n",
              "    </tr>\n",
              "    <tr>\n",
              "      <th>148927</th>\n",
              "      <td>UgyCRG80MThcA4GRfMx4AaABAg</td>\n",
              "      <td>ขอให้8พรรคจับมือกันให้แน่นอย่าข้ามขั้วเป็นฝ่าย...</td>\n",
              "      <td>pos</td>\n",
              "    </tr>\n",
              "    <tr>\n",
              "      <th>148939</th>\n",
              "      <td>Ugx5qr4_4aKmmxjGi-h4AaABAg</td>\n",
              "      <td>รักนายกพิธานะคะ</td>\n",
              "      <td>pos</td>\n",
              "    </tr>\n",
              "  </tbody>\n",
              "</table>\n",
              "<p>39090 rows × 3 columns</p>\n",
              "</div>\n",
              "    <div class=\"colab-df-buttons\">\n",
              "\n",
              "  <div class=\"colab-df-container\">\n",
              "    <button class=\"colab-df-convert\" onclick=\"convertToInteractive('df-f67fb6ab-96f2-4f9c-bc9c-55a20bfb8776')\"\n",
              "            title=\"Convert this dataframe to an interactive table.\"\n",
              "            style=\"display:none;\">\n",
              "\n",
              "  <svg xmlns=\"http://www.w3.org/2000/svg\" height=\"24px\" viewBox=\"0 -960 960 960\">\n",
              "    <path d=\"M120-120v-720h720v720H120Zm60-500h600v-160H180v160Zm220 220h160v-160H400v160Zm0 220h160v-160H400v160ZM180-400h160v-160H180v160Zm440 0h160v-160H620v160ZM180-180h160v-160H180v160Zm440 0h160v-160H620v160Z\"/>\n",
              "  </svg>\n",
              "    </button>\n",
              "\n",
              "  <style>\n",
              "    .colab-df-container {\n",
              "      display:flex;\n",
              "      gap: 12px;\n",
              "    }\n",
              "\n",
              "    .colab-df-convert {\n",
              "      background-color: #E8F0FE;\n",
              "      border: none;\n",
              "      border-radius: 50%;\n",
              "      cursor: pointer;\n",
              "      display: none;\n",
              "      fill: #1967D2;\n",
              "      height: 32px;\n",
              "      padding: 0 0 0 0;\n",
              "      width: 32px;\n",
              "    }\n",
              "\n",
              "    .colab-df-convert:hover {\n",
              "      background-color: #E2EBFA;\n",
              "      box-shadow: 0px 1px 2px rgba(60, 64, 67, 0.3), 0px 1px 3px 1px rgba(60, 64, 67, 0.15);\n",
              "      fill: #174EA6;\n",
              "    }\n",
              "\n",
              "    .colab-df-buttons div {\n",
              "      margin-bottom: 4px;\n",
              "    }\n",
              "\n",
              "    [theme=dark] .colab-df-convert {\n",
              "      background-color: #3B4455;\n",
              "      fill: #D2E3FC;\n",
              "    }\n",
              "\n",
              "    [theme=dark] .colab-df-convert:hover {\n",
              "      background-color: #434B5C;\n",
              "      box-shadow: 0px 1px 3px 1px rgba(0, 0, 0, 0.15);\n",
              "      filter: drop-shadow(0px 1px 2px rgba(0, 0, 0, 0.3));\n",
              "      fill: #FFFFFF;\n",
              "    }\n",
              "  </style>\n",
              "\n",
              "    <script>\n",
              "      const buttonEl =\n",
              "        document.querySelector('#df-f67fb6ab-96f2-4f9c-bc9c-55a20bfb8776 button.colab-df-convert');\n",
              "      buttonEl.style.display =\n",
              "        google.colab.kernel.accessAllowed ? 'block' : 'none';\n",
              "\n",
              "      async function convertToInteractive(key) {\n",
              "        const element = document.querySelector('#df-f67fb6ab-96f2-4f9c-bc9c-55a20bfb8776');\n",
              "        const dataTable =\n",
              "          await google.colab.kernel.invokeFunction('convertToInteractive',\n",
              "                                                    [key], {});\n",
              "        if (!dataTable) return;\n",
              "\n",
              "        const docLinkHtml = 'Like what you see? Visit the ' +\n",
              "          '<a target=\"_blank\" href=https://colab.research.google.com/notebooks/data_table.ipynb>data table notebook</a>'\n",
              "          + ' to learn more about interactive tables.';\n",
              "        element.innerHTML = '';\n",
              "        dataTable['output_type'] = 'display_data';\n",
              "        await google.colab.output.renderOutput(dataTable, element);\n",
              "        const docLink = document.createElement('div');\n",
              "        docLink.innerHTML = docLinkHtml;\n",
              "        element.appendChild(docLink);\n",
              "      }\n",
              "    </script>\n",
              "  </div>\n",
              "\n",
              "\n",
              "<div id=\"df-e1452a61-6ad4-4a34-b0d1-55504f32b2a5\">\n",
              "  <button class=\"colab-df-quickchart\" onclick=\"quickchart('df-e1452a61-6ad4-4a34-b0d1-55504f32b2a5')\"\n",
              "            title=\"Suggest charts\"\n",
              "            style=\"display:none;\">\n",
              "\n",
              "<svg xmlns=\"http://www.w3.org/2000/svg\" height=\"24px\"viewBox=\"0 0 24 24\"\n",
              "     width=\"24px\">\n",
              "    <g>\n",
              "        <path d=\"M19 3H5c-1.1 0-2 .9-2 2v14c0 1.1.9 2 2 2h14c1.1 0 2-.9 2-2V5c0-1.1-.9-2-2-2zM9 17H7v-7h2v7zm4 0h-2V7h2v10zm4 0h-2v-4h2v4z\"/>\n",
              "    </g>\n",
              "</svg>\n",
              "  </button>\n",
              "\n",
              "<style>\n",
              "  .colab-df-quickchart {\n",
              "      --bg-color: #E8F0FE;\n",
              "      --fill-color: #1967D2;\n",
              "      --hover-bg-color: #E2EBFA;\n",
              "      --hover-fill-color: #174EA6;\n",
              "      --disabled-fill-color: #AAA;\n",
              "      --disabled-bg-color: #DDD;\n",
              "  }\n",
              "\n",
              "  [theme=dark] .colab-df-quickchart {\n",
              "      --bg-color: #3B4455;\n",
              "      --fill-color: #D2E3FC;\n",
              "      --hover-bg-color: #434B5C;\n",
              "      --hover-fill-color: #FFFFFF;\n",
              "      --disabled-bg-color: #3B4455;\n",
              "      --disabled-fill-color: #666;\n",
              "  }\n",
              "\n",
              "  .colab-df-quickchart {\n",
              "    background-color: var(--bg-color);\n",
              "    border: none;\n",
              "    border-radius: 50%;\n",
              "    cursor: pointer;\n",
              "    display: none;\n",
              "    fill: var(--fill-color);\n",
              "    height: 32px;\n",
              "    padding: 0;\n",
              "    width: 32px;\n",
              "  }\n",
              "\n",
              "  .colab-df-quickchart:hover {\n",
              "    background-color: var(--hover-bg-color);\n",
              "    box-shadow: 0 1px 2px rgba(60, 64, 67, 0.3), 0 1px 3px 1px rgba(60, 64, 67, 0.15);\n",
              "    fill: var(--button-hover-fill-color);\n",
              "  }\n",
              "\n",
              "  .colab-df-quickchart-complete:disabled,\n",
              "  .colab-df-quickchart-complete:disabled:hover {\n",
              "    background-color: var(--disabled-bg-color);\n",
              "    fill: var(--disabled-fill-color);\n",
              "    box-shadow: none;\n",
              "  }\n",
              "\n",
              "  .colab-df-spinner {\n",
              "    border: 2px solid var(--fill-color);\n",
              "    border-color: transparent;\n",
              "    border-bottom-color: var(--fill-color);\n",
              "    animation:\n",
              "      spin 1s steps(1) infinite;\n",
              "  }\n",
              "\n",
              "  @keyframes spin {\n",
              "    0% {\n",
              "      border-color: transparent;\n",
              "      border-bottom-color: var(--fill-color);\n",
              "      border-left-color: var(--fill-color);\n",
              "    }\n",
              "    20% {\n",
              "      border-color: transparent;\n",
              "      border-left-color: var(--fill-color);\n",
              "      border-top-color: var(--fill-color);\n",
              "    }\n",
              "    30% {\n",
              "      border-color: transparent;\n",
              "      border-left-color: var(--fill-color);\n",
              "      border-top-color: var(--fill-color);\n",
              "      border-right-color: var(--fill-color);\n",
              "    }\n",
              "    40% {\n",
              "      border-color: transparent;\n",
              "      border-right-color: var(--fill-color);\n",
              "      border-top-color: var(--fill-color);\n",
              "    }\n",
              "    60% {\n",
              "      border-color: transparent;\n",
              "      border-right-color: var(--fill-color);\n",
              "    }\n",
              "    80% {\n",
              "      border-color: transparent;\n",
              "      border-right-color: var(--fill-color);\n",
              "      border-bottom-color: var(--fill-color);\n",
              "    }\n",
              "    90% {\n",
              "      border-color: transparent;\n",
              "      border-bottom-color: var(--fill-color);\n",
              "    }\n",
              "  }\n",
              "</style>\n",
              "\n",
              "  <script>\n",
              "    async function quickchart(key) {\n",
              "      const quickchartButtonEl =\n",
              "        document.querySelector('#' + key + ' button');\n",
              "      quickchartButtonEl.disabled = true;  // To prevent multiple clicks.\n",
              "      quickchartButtonEl.classList.add('colab-df-spinner');\n",
              "      try {\n",
              "        const charts = await google.colab.kernel.invokeFunction(\n",
              "            'suggestCharts', [key], {});\n",
              "      } catch (error) {\n",
              "        console.error('Error during call to suggestCharts:', error);\n",
              "      }\n",
              "      quickchartButtonEl.classList.remove('colab-df-spinner');\n",
              "      quickchartButtonEl.classList.add('colab-df-quickchart-complete');\n",
              "    }\n",
              "    (() => {\n",
              "      let quickchartButtonEl =\n",
              "        document.querySelector('#df-e1452a61-6ad4-4a34-b0d1-55504f32b2a5 button');\n",
              "      quickchartButtonEl.style.display =\n",
              "        google.colab.kernel.accessAllowed ? 'block' : 'none';\n",
              "    })();\n",
              "  </script>\n",
              "</div>\n",
              "    </div>\n",
              "  </div>\n"
            ],
            "application/vnd.google.colaboratory.intrinsic+json": {
              "type": "dataframe",
              "variable_name": "sentiment_df",
              "summary": "{\n  \"name\": \"sentiment_df\",\n  \"rows\": 39090,\n  \"fields\": [\n    {\n      \"column\": \"comment_id\",\n      \"properties\": {\n        \"dtype\": \"string\",\n        \"num_unique_values\": 39090,\n        \"samples\": [\n          \"Ugw4DKWICnrYbXLiheF4AaABAg\",\n          \"UgzwbLEuhU-jbgkJKjp4AaABAg\",\n          \"Ugwg4JdnR9zvgFfdDrR4AaABAg\"\n        ],\n        \"semantic_type\": \"\",\n        \"description\": \"\"\n      }\n    },\n    {\n      \"column\": \"text\",\n      \"properties\": {\n        \"dtype\": \"string\",\n        \"num_unique_values\": 37133,\n        \"samples\": [\n          \"\\u0e17\\u0e38\\u0e01\\u0e2d\\u0e22\\u0e48\\u0e32\\u0e07\\u0e2d\\u0e22\\u0e48\\u0e32\\u0e44\\u0e1b\\u0e40\\u0e2a\\u0e35\\u0e22\\u0e43\\u0e08\\u0e01\\u0e31\\u0e1a\\u0e2a\\u0e34\\u0e48\\u0e07\\u0e17\\u0e35\\u0e48\\u0e15\\u0e19\\u0e40\\u0e2d\\u0e07\\u0e40\\u0e02\\u0e32\\u0e44\\u0e21\\u0e48\\u0e22\\u0e2d\\u0e21\\u0e23\\u0e31\\u0e1a\\u0e08\\u0e07\\u0e41\\u0e01\\u0e49\\u0e44\\u0e02\\u0e1b\\u0e31\\u0e0d\\u0e2b\\u0e32\\u0e17\\u0e35\\u0e48\\u0e21\\u0e31\\u0e19\\u0e40\\u0e01\\u0e34\\u0e14\\u0e41\\u0e15\\u0e48\\u0e16\\u0e49\\u0e32\\u0e25\\u0e07\\u0e16\\u0e19\\u0e19\\u0e27\\u0e31\\u0e19\\u0e43\\u0e14\\u0e27\\u0e31\\u0e19\\u0e19\\u0e31\\u0e49\\u0e19\\u0e1b\\u0e31\\u0e0d\\u0e2b\\u0e32\\u0e08\\u0e30\\u0e40\\u0e23\\u0e34\\u0e48\\u0e21\\u0e40\\u0e01\\u0e34\\u0e14\",\n          \"\\u0e08\\u0e30\\u0e0b\\u0e37\\u0e49\\u0e2d\\u0e2b\\u0e23\\u0e37\\u0e2d\\u0e2b\\u0e19\\u0e49\\u0e32\\u0e14\\u0e49\\u0e32\\u0e19\\u0e44\\u0e23\\u0e22\\u0e32\\u0e07\\u0e2d\\u0e32\\u0e22\\u0e08\\u0e34\\u0e15\\u0e43\\u0e08\\u0e40\\u0e2a\\u0e37\\u0e48\\u0e2d\\u0e21\\u0e43\\u0e1a\\u0e2b\\u0e19\\u0e49\\u0e32\\u0e22\\u0e34\\u0e49\\u0e21\\u0e41\\u0e22\\u0e49\\u0e21\\u0e14\\u0e49\\u0e27\\u0e22\\u0e14\\u0e27\\u0e07\\u0e15\\u0e32\\u0e17\\u0e35\\u0e48\\u0e22\\u0e34\\u0e49\\u0e21\\u0e41\\u0e22\\u0e49\\u0e21\",\n          \"\\u0e1e\\u0e27\\u0e01\\u0e04\\u0e38\\u0e13\\u0e44\\u0e21\\u0e48\\u0e2a\\u0e31\\u0e07\\u0e40\\u0e01\\u0e15\\u0e38\\u0e40\\u0e25\\u0e22\\u0e23\\u0e36\\u0e04\\u0e23\\u0e31\\u0e1a\\u0e27\\u0e48\\u0e32\\u0e21\\u0e31\\u0e19\\u0e44\\u0e21\\u0e48\\u0e21\\u0e35\\u0e02\\u0e2d\\u0e07\\u0e27\\u0e32\\u0e07\\u0e02\\u0e32\\u0e22\\u0e40\\u0e25\\u0e22\\u0e41\\u0e2a\\u0e14\\u0e07\\u0e27\\u0e48\\u0e32\\u0e1c\\u0e39\\u0e49\\u0e2b\\u0e0d\\u0e34\\u0e07\\u0e17\\u0e35\\u0e48\\u0e21\\u0e32\\u0e2d\\u0e22\\u0e39\\u0e48\\u0e15\\u0e23\\u0e07\\u0e19\\u0e35\\u0e49\\u0e21\\u0e32\\u0e40\\u0e1e\\u0e37\\u0e48\\u0e2d\\u0e02\\u0e32\\u0e22\\u0e2d\\u0e22\\u0e48\\u0e32\\u0e07\\u0e2d\\u0e37\\u0e48\\u0e19\\u0e21\\u0e32\\u0e01\\u0e01\\u0e27\\u0e48\\u0e32\\u0e04\\u0e23\\u0e31\\u0e1a\"\n        ],\n        \"semantic_type\": \"\",\n        \"description\": \"\"\n      }\n    },\n    {\n      \"column\": \"sentiment\",\n      \"properties\": {\n        \"dtype\": \"category\",\n        \"num_unique_values\": 3,\n        \"samples\": [\n          \"neg\",\n          \"neu\",\n          \"pos\"\n        ],\n        \"semantic_type\": \"\",\n        \"description\": \"\"\n      }\n    }\n  ]\n}"
            }
          },
          "metadata": {},
          "execution_count": 7
        }
      ]
    },
    {
      "cell_type": "code",
      "source": [
        "from pythainlp.tokenize import word_tokenize\n",
        "import re\n",
        "\n",
        "def deEmojify(text):\n",
        "    regrex_pattern = re.compile(pattern = \"[\"\n",
        "        u\"\\U0001F600-\\U0001F64F\"  # emoticons\n",
        "        u\"\\U0001F300-\\U0001F5FF\"  # symbols & pictographs\n",
        "        u\"\\U0001F680-\\U0001F6FF\"  # transport & map symbols\n",
        "        u\"\\U0001F1E0-\\U0001F1FF\"  # flags (iOS)\n",
        "                           \"]+\", flags = re.UNICODE)\n",
        "    return regrex_pattern.sub(r'',text)\n",
        "\n",
        "def thai_clean_text(text):\n",
        "    st = \"\"\n",
        "\n",
        "    #สามารถเพิ่มโค้ด สำหรับคลีน ข้อความ เช่น ลบ emoji ออก เป็นต้น\n",
        "    text = deEmojify(text)\n",
        "    text = text.replace(\"\\n\",\" \")\n",
        "    for w in word_tokenize(text):\n",
        "        st = st + w + \" \"\n",
        "\n",
        "    return  re.sub(' +', ' ', st)\n",
        "\n",
        "sentiment_df['text'] = sentiment_df.text.apply(thai_clean_text)\n",
        "sentiment_df = sentiment_df.dropna()"
      ],
      "metadata": {
        "id": "LDW6TCViDYcT"
      },
      "execution_count": null,
      "outputs": []
    },
    {
      "cell_type": "code",
      "source": [
        "\n",
        "# ใช้ .str.strip() เพื่อลบช่องว่างที่อยู่ที่เริ่มหรือสิ้นสุดข้อความ\n",
        "sentiment_df['sentiment'] = sentiment_df['sentiment'].str.strip()\n",
        "\n",
        "# หรือถ้าคุณต้องการลบ white spaces ทั้งหมดในข้อความ\n",
        "sentiment_df['sentiment'] = sentiment_df['sentiment'].str.replace(r'\\s+', '', regex=True)\n"
      ],
      "metadata": {
        "id": "Ug82sEdY42Aj"
      },
      "execution_count": null,
      "outputs": []
    },
    {
      "cell_type": "code",
      "source": [
        "import matplotlib.pyplot as plt\n",
        "from matplotlib.pyplot import figure\n",
        "\n",
        "# Print information about the dataset\n",
        "print('จำนวนข้อความทั้งหมด', len(sentiment_df))\n",
        "print(sentiment_df['sentiment'].value_counts())\n",
        "\n",
        "# Create histogram\n",
        "ax = sentiment_df[\"sentiment\"].value_counts().plot(kind='bar', color='cadetblue')\n",
        "plt.grid(True)\n",
        "\n",
        "\n",
        "# Set x-axis labels and positions with right alignment\n",
        "plt.xticks(ticks=[0, 1, 2], labels=[ 'Neutral','Negative', 'Positive'], ha='center')\n",
        "plt.xticks(rotation=0)\n",
        "# Add values on top of the bars\n",
        "for i, value in enumerate(sentiment_df['sentiment'].value_counts()):\n",
        "    plt.text(i, value + 0.1, str(value), ha='center', va='bottom')\n",
        "\n",
        "# Show the plot\n",
        "plt.show()\n",
        "\n",
        "# Show the plot\n",
        "plt.show()\n"
      ],
      "metadata": {
        "colab": {
          "base_uri": "https://localhost:8080/",
          "height": 517
        },
        "id": "sO3uRHwc5aTL",
        "outputId": "98d59d84-8145-4f71-ed99-bf9597f05dd2"
      },
      "execution_count": null,
      "outputs": [
        {
          "output_type": "stream",
          "name": "stdout",
          "text": [
            "จำนวนข้อความทั้งหมด 42543\n",
            "neg    14181\n",
            "neu    14181\n",
            "pos    14181\n",
            "Name: sentiment, dtype: int64\n"
          ]
        },
        {
          "output_type": "display_data",
          "data": {
            "text/plain": [
              "<Figure size 640x480 with 1 Axes>"
            ],
            "image/png": "[encoded data removed]"
          },
          "metadata": {}
        }
      ]
    },
    {
      "cell_type": "code",
      "source": [
        "sentiment_df[2887:]\n"
      ],
      "metadata": {
        "colab": {
          "base_uri": "https://localhost:8080/",
          "height": 423
        },
        "id": "w_5-hPInCJC5",
        "outputId": "afff2387-5dc1-453e-eb92-541224c6465b"
      },
      "execution_count": null,
      "outputs": [
        {
          "output_type": "execute_result",
          "data": {
            "text/plain": [
              "                                                    text sentiment\n",
              "2887   อย่า พูด คำ ว่า ตลอดไป เพราะ ความเป็นจริง นี้ ...       neu\n",
              "2888                                              กาฝาก        neu\n",
              "2889                                    มัน น่า ยิ่งนัก        neu\n",
              "2890                                                  ค        neu\n",
              "2891                                 เอา มัน ไป เก็บ ดิ        neu\n",
              "...                                                  ...       ...\n",
              "10144                                     โคตร จัญ เฮ้อ        neu\n",
              "10145  ใช่ พลาด มาก และ ผิดหวัง กับ ประธาน สภา มาก เล...       neg\n",
              "10146  ประ ยุทธ ตั้ง สว สว ตั้ง กก ตสว ตั้ง ศาลรัฐธรร...       neg\n",
              "10147                       กู ละ เชื่อ เลย แบบนี้ ตลอด        neu\n",
              "10148  ทำไม ประธาน ไม่ วินิจฉัย ตา มก ฏ หมาย ทำไม ต้อ...       neu\n",
              "\n",
              "[7262 rows x 2 columns]"
            ],
            "text/html": [
              "\n",
              "  <div id=\"df-0c497b01-4148-4e10-a1a3-0470410f95b4\" class=\"colab-df-container\">\n",
              "    <div>\n",
              "<style scoped>\n",
              "    .dataframe tbody tr th:only-of-type {\n",
              "        vertical-align: middle;\n",
              "    }\n",
              "\n",
              "    .dataframe tbody tr th {\n",
              "        vertical-align: top;\n",
              "    }\n",
              "\n",
              "    .dataframe thead th {\n",
              "        text-align: right;\n",
              "    }\n",
              "</style>\n",
              "<table border=\"1\" class=\"dataframe\">\n",
              "  <thead>\n",
              "    <tr style=\"text-align: right;\">\n",
              "      <th></th>\n",
              "      <th>text</th>\n",
              "      <th>sentiment</th>\n",
              "    </tr>\n",
              "  </thead>\n",
              "  <tbody>\n",
              "    <tr>\n",
              "      <th>2887</th>\n",
              "      <td>อย่า พูด คำ ว่า ตลอดไป เพราะ ความเป็นจริง นี้ ...</td>\n",
              "      <td>neu</td>\n",
              "    </tr>\n",
              "    <tr>\n",
              "      <th>2888</th>\n",
              "      <td>กาฝาก</td>\n",
              "      <td>neu</td>\n",
              "    </tr>\n",
              "    <tr>\n",
              "      <th>2889</th>\n",
              "      <td>มัน น่า ยิ่งนัก</td>\n",
              "      <td>neu</td>\n",
              "    </tr>\n",
              "    <tr>\n",
              "      <th>2890</th>\n",
              "      <td>ค</td>\n",
              "      <td>neu</td>\n",
              "    </tr>\n",
              "    <tr>\n",
              "      <th>2891</th>\n",
              "      <td>เอา มัน ไป เก็บ ดิ</td>\n",
              "      <td>neu</td>\n",
              "    </tr>\n",
              "    <tr>\n",
              "      <th>...</th>\n",
              "      <td>...</td>\n",
              "      <td>...</td>\n",
              "    </tr>\n",
              "    <tr>\n",
              "      <th>10144</th>\n",
              "      <td>โคตร จัญ เฮ้อ</td>\n",
              "      <td>neu</td>\n",
              "    </tr>\n",
              "    <tr>\n",
              "      <th>10145</th>\n",
              "      <td>ใช่ พลาด มาก และ ผิดหวัง กับ ประธาน สภา มาก เล...</td>\n",
              "      <td>neg</td>\n",
              "    </tr>\n",
              "    <tr>\n",
              "      <th>10146</th>\n",
              "      <td>ประ ยุทธ ตั้ง สว สว ตั้ง กก ตสว ตั้ง ศาลรัฐธรร...</td>\n",
              "      <td>neg</td>\n",
              "    </tr>\n",
              "    <tr>\n",
              "      <th>10147</th>\n",
              "      <td>กู ละ เชื่อ เลย แบบนี้ ตลอด</td>\n",
              "      <td>neu</td>\n",
              "    </tr>\n",
              "    <tr>\n",
              "      <th>10148</th>\n",
              "      <td>ทำไม ประธาน ไม่ วินิจฉัย ตา มก ฏ หมาย ทำไม ต้อ...</td>\n",
              "      <td>neu</td>\n",
              "    </tr>\n",
              "  </tbody>\n",
              "</table>\n",
              "<p>7262 rows × 2 columns</p>\n",
              "</div>\n",
              "    <div class=\"colab-df-buttons\">\n",
              "\n",
              "  <div class=\"colab-df-container\">\n",
              "    <button class=\"colab-df-convert\" onclick=\"convertToInteractive('df-0c497b01-4148-4e10-a1a3-0470410f95b4')\"\n",
              "            title=\"Convert this dataframe to an interactive table.\"\n",
              "            style=\"display:none;\">\n",
              "\n",
              "  <svg xmlns=\"http://www.w3.org/2000/svg\" height=\"24px\" viewBox=\"0 -960 960 960\">\n",
              "    <path d=\"M120-120v-720h720v720H120Zm60-500h600v-160H180v160Zm220 220h160v-160H400v160Zm0 220h160v-160H400v160ZM180-400h160v-160H180v160Zm440 0h160v-160H620v160ZM180-180h160v-160H180v160Zm440 0h160v-160H620v160Z\"/>\n",
              "  </svg>\n",
              "    </button>\n",
              "\n",
              "  <style>\n",
              "    .colab-df-container {\n",
              "      display:flex;\n",
              "      gap: 12px;\n",
              "    }\n",
              "\n",
              "    .colab-df-convert {\n",
              "      background-color: #E8F0FE;\n",
              "      border: none;\n",
              "      border-radius: 50%;\n",
              "      cursor: pointer;\n",
              "      display: none;\n",
              "      fill: #1967D2;\n",
              "      height: 32px;\n",
              "      padding: 0 0 0 0;\n",
              "      width: 32px;\n",
              "    }\n",
              "\n",
              "    .colab-df-convert:hover {\n",
              "      background-color: #E2EBFA;\n",
              "      box-shadow: 0px 1px 2px rgba(60, 64, 67, 0.3), 0px 1px 3px 1px rgba(60, 64, 67, 0.15);\n",
              "      fill: #174EA6;\n",
              "    }\n",
              "\n",
              "    .colab-df-buttons div {\n",
              "      margin-bottom: 4px;\n",
              "    }\n",
              "\n",
              "    [theme=dark] .colab-df-convert {\n",
              "      background-color: #3B4455;\n",
              "      fill: #D2E3FC;\n",
              "    }\n",
              "\n",
              "    [theme=dark] .colab-df-convert:hover {\n",
              "      background-color: #434B5C;\n",
              "      box-shadow: 0px 1px 3px 1px rgba(0, 0, 0, 0.15);\n",
              "      filter: drop-shadow(0px 1px 2px rgba(0, 0, 0, 0.3));\n",
              "      fill: #FFFFFF;\n",
              "    }\n",
              "  </style>\n",
              "\n",
              "    <script>\n",
              "      const buttonEl =\n",
              "        document.querySelector('#df-0c497b01-4148-4e10-a1a3-0470410f95b4 button.colab-df-convert');\n",
              "      buttonEl.style.display =\n",
              "        google.colab.kernel.accessAllowed ? 'block' : 'none';\n",
              "\n",
              "      async function convertToInteractive(key) {\n",
              "        const element = document.querySelector('#df-0c497b01-4148-4e10-a1a3-0470410f95b4');\n",
              "        const dataTable =\n",
              "          await google.colab.kernel.invokeFunction('convertToInteractive',\n",
              "                                                    [key], {});\n",
              "        if (!dataTable) return;\n",
              "\n",
              "        const docLinkHtml = 'Like what you see? Visit the ' +\n",
              "          '<a target=\"_blank\" href=https://colab.research.google.com/notebooks/data_table.ipynb>data table notebook</a>'\n",
              "          + ' to learn more about interactive tables.';\n",
              "        element.innerHTML = '';\n",
              "        dataTable['output_type'] = 'display_data';\n",
              "        await google.colab.output.renderOutput(dataTable, element);\n",
              "        const docLink = document.createElement('div');\n",
              "        docLink.innerHTML = docLinkHtml;\n",
              "        element.appendChild(docLink);\n",
              "      }\n",
              "    </script>\n",
              "  </div>\n",
              "\n",
              "\n",
              "<div id=\"df-539d7ebe-b5cb-4575-bc8d-58627e16fa71\">\n",
              "  <button class=\"colab-df-quickchart\" onclick=\"quickchart('df-539d7ebe-b5cb-4575-bc8d-58627e16fa71')\"\n",
              "            title=\"Suggest charts\"\n",
              "            style=\"display:none;\">\n",
              "\n",
              "<svg xmlns=\"http://www.w3.org/2000/svg\" height=\"24px\"viewBox=\"0 0 24 24\"\n",
              "     width=\"24px\">\n",
              "    <g>\n",
              "        <path d=\"M19 3H5c-1.1 0-2 .9-2 2v14c0 1.1.9 2 2 2h14c1.1 0 2-.9 2-2V5c0-1.1-.9-2-2-2zM9 17H7v-7h2v7zm4 0h-2V7h2v10zm4 0h-2v-4h2v4z\"/>\n",
              "    </g>\n",
              "</svg>\n",
              "  </button>\n",
              "\n",
              "<style>\n",
              "  .colab-df-quickchart {\n",
              "      --bg-color: #E8F0FE;\n",
              "      --fill-color: #1967D2;\n",
              "      --hover-bg-color: #E2EBFA;\n",
              "      --hover-fill-color: #174EA6;\n",
              "      --disabled-fill-color: #AAA;\n",
              "      --disabled-bg-color: #DDD;\n",
              "  }\n",
              "\n",
              "  [theme=dark] .colab-df-quickchart {\n",
              "      --bg-color: #3B4455;\n",
              "      --fill-color: #D2E3FC;\n",
              "      --hover-bg-color: #434B5C;\n",
              "      --hover-fill-color: #FFFFFF;\n",
              "      --disabled-bg-color: #3B4455;\n",
              "      --disabled-fill-color: #666;\n",
              "  }\n",
              "\n",
              "  .colab-df-quickchart {\n",
              "    background-color: var(--bg-color);\n",
              "    border: none;\n",
              "    border-radius: 50%;\n",
              "    cursor: pointer;\n",
              "    display: none;\n",
              "    fill: var(--fill-color);\n",
              "    height: 32px;\n",
              "    padding: 0;\n",
              "    width: 32px;\n",
              "  }\n",
              "\n",
              "  .colab-df-quickchart:hover {\n",
              "    background-color: var(--hover-bg-color);\n",
              "    box-shadow: 0 1px 2px rgba(60, 64, 67, 0.3), 0 1px 3px 1px rgba(60, 64, 67, 0.15);\n",
              "    fill: var(--button-hover-fill-color);\n",
              "  }\n",
              "\n",
              "  .colab-df-quickchart-complete:disabled,\n",
              "  .colab-df-quickchart-complete:disabled:hover {\n",
              "    background-color: var(--disabled-bg-color);\n",
              "    fill: var(--disabled-fill-color);\n",
              "    box-shadow: none;\n",
              "  }\n",
              "\n",
              "  .colab-df-spinner {\n",
              "    border: 2px solid var(--fill-color);\n",
              "    border-color: transparent;\n",
              "    border-bottom-color: var(--fill-color);\n",
              "    animation:\n",
              "      spin 1s steps(1) infinite;\n",
              "  }\n",
              "\n",
              "  @keyframes spin {\n",
              "    0% {\n",
              "      border-color: transparent;\n",
              "      border-bottom-color: var(--fill-color);\n",
              "      border-left-color: var(--fill-color);\n",
              "    }\n",
              "    20% {\n",
              "      border-color: transparent;\n",
              "      border-left-color: var(--fill-color);\n",
              "      border-top-color: var(--fill-color);\n",
              "    }\n",
              "    30% {\n",
              "      border-color: transparent;\n",
              "      border-left-color: var(--fill-color);\n",
              "      border-top-color: var(--fill-color);\n",
              "      border-right-color: var(--fill-color);\n",
              "    }\n",
              "    40% {\n",
              "      border-color: transparent;\n",
              "      border-right-color: var(--fill-color);\n",
              "      border-top-color: var(--fill-color);\n",
              "    }\n",
              "    60% {\n",
              "      border-color: transparent;\n",
              "      border-right-color: var(--fill-color);\n",
              "    }\n",
              "    80% {\n",
              "      border-color: transparent;\n",
              "      border-right-color: var(--fill-color);\n",
              "      border-bottom-color: var(--fill-color);\n",
              "    }\n",
              "    90% {\n",
              "      border-color: transparent;\n",
              "      border-bottom-color: var(--fill-color);\n",
              "    }\n",
              "  }\n",
              "</style>\n",
              "\n",
              "  <script>\n",
              "    async function quickchart(key) {\n",
              "      const quickchartButtonEl =\n",
              "        document.querySelector('#' + key + ' button');\n",
              "      quickchartButtonEl.disabled = true;  // To prevent multiple clicks.\n",
              "      quickchartButtonEl.classList.add('colab-df-spinner');\n",
              "      try {\n",
              "        const charts = await google.colab.kernel.invokeFunction(\n",
              "            'suggestCharts', [key], {});\n",
              "      } catch (error) {\n",
              "        console.error('Error during call to suggestCharts:', error);\n",
              "      }\n",
              "      quickchartButtonEl.classList.remove('colab-df-spinner');\n",
              "      quickchartButtonEl.classList.add('colab-df-quickchart-complete');\n",
              "    }\n",
              "    (() => {\n",
              "      let quickchartButtonEl =\n",
              "        document.querySelector('#df-539d7ebe-b5cb-4575-bc8d-58627e16fa71 button');\n",
              "      quickchartButtonEl.style.display =\n",
              "        google.colab.kernel.accessAllowed ? 'block' : 'none';\n",
              "    })();\n",
              "  </script>\n",
              "</div>\n",
              "    </div>\n",
              "  </div>\n"
            ]
          },
          "metadata": {},
          "execution_count": 8
        }
      ]
    },
    {
      "cell_type": "code",
      "source": [],
      "metadata": {
        "id": "IZKhd03X9EmA"
      },
      "execution_count": null,
      "outputs": []
    },
    {
      "cell_type": "code",
      "source": [
        "balanced_data[\"sentiment\"].hist()"
      ],
      "metadata": {
        "colab": {
          "base_uri": "https://localhost:8080/",
          "height": 141
        },
        "id": "vi_yjiqO7PVw",
        "outputId": "e12e4c48-a269-496f-cf2c-b5534772c400"
      },
      "execution_count": null,
      "outputs": [
        {
          "output_type": "error",
          "ename": "NameError",
          "evalue": "name 'balanced_data' is not defined",
          "traceback": [
            "\u001b[0;31m---------------------------------------------------------------------------\u001b[0m",
            "\u001b[0;31mNameError\u001b[0m                                 Traceback (most recent call last)",
            "\u001b[0;32m<ipython-input-11-0afdb21737b7>\u001b[0m in \u001b[0;36m<cell line: 1>\u001b[0;34m()\u001b[0m\n\u001b[0;32m----> 1\u001b[0;31m \u001b[0mbalanced_data\u001b[0m\u001b[0;34m[\u001b[0m\u001b[0;34m\"sentiment\"\u001b[0m\u001b[0;34m]\u001b[0m\u001b[0;34m.\u001b[0m\u001b[0mhist\u001b[0m\u001b[0;34m(\u001b[0m\u001b[0;34m)\u001b[0m\u001b[0;34m\u001b[0m\u001b[0;34m\u001b[0m\u001b[0m\n\u001b[0m",
            "\u001b[0;31mNameError\u001b[0m: name 'balanced_data' is not defined"
          ]
        }
      ]
    },
    {
      "cell_type": "code",
      "source": [
        "balanced_data[balanced_data['sentiment'] == 'neu']"
      ],
      "metadata": {
        "colab": {
          "base_uri": "https://localhost:8080/",
          "height": 423
        },
        "id": "qDv8YmJn7moR",
        "outputId": "c0cf47fe-230b-4ff5-f41e-85fc898ab986"
      },
      "execution_count": null,
      "outputs": [
        {
          "output_type": "execute_result",
          "data": {
            "text/plain": [
              "                                                   text sentiment\n",
              "3540                               เหมือน ธนา ธร เดะ ๆ        neu\n",
              "3541       เลือกตั้ง ครั้ง ไห ม่ รับรอง ใฉไล กว่า เดิม        neu\n",
              "3542                โดน เหมือน ธนา ธร เลย น้ำตา จะ ไหล        neu\n",
              "3543  เลือกตั้ง ครั้งหน้า กิน เต็ม แบบ ไม่ มี คู่แข่...       neu\n",
              "3544                                 คนเลว ออก ไป แล้ว        neu\n",
              "...                                                 ...       ...\n",
              "5305               ศาสนา วัด บาง คลาน 555 หลวงพ่อ เงิน        neu\n",
              "5306                                                 ค        neu\n",
              "5307                  งั้น ไม่ แก้ 112 จะ โหวต ให้ ไหม        neu\n",
              "5308                         ไป รายงานตัว รึ ยัง คุก ๆ        neu\n",
              "5309  จนกว่า จะ พบกัน ใหม่ พิธา อำลา สภา หลัง หยุด ป...       neu\n",
              "\n",
              "[1770 rows x 2 columns]"
            ],
            "text/html": [
              "\n",
              "  <div id=\"df-bc3028dd-a163-4432-9245-135e33393ecc\" class=\"colab-df-container\">\n",
              "    <div>\n",
              "<style scoped>\n",
              "    .dataframe tbody tr th:only-of-type {\n",
              "        vertical-align: middle;\n",
              "    }\n",
              "\n",
              "    .dataframe tbody tr th {\n",
              "        vertical-align: top;\n",
              "    }\n",
              "\n",
              "    .dataframe thead th {\n",
              "        text-align: right;\n",
              "    }\n",
              "</style>\n",
              "<table border=\"1\" class=\"dataframe\">\n",
              "  <thead>\n",
              "    <tr style=\"text-align: right;\">\n",
              "      <th></th>\n",
              "      <th>text</th>\n",
              "      <th>sentiment</th>\n",
              "    </tr>\n",
              "  </thead>\n",
              "  <tbody>\n",
              "    <tr>\n",
              "      <th>3540</th>\n",
              "      <td>เหมือน ธนา ธร เดะ ๆ</td>\n",
              "      <td>neu</td>\n",
              "    </tr>\n",
              "    <tr>\n",
              "      <th>3541</th>\n",
              "      <td>เลือกตั้ง ครั้ง ไห ม่ รับรอง ใฉไล กว่า เดิม</td>\n",
              "      <td>neu</td>\n",
              "    </tr>\n",
              "    <tr>\n",
              "      <th>3542</th>\n",
              "      <td>โดน เหมือน ธนา ธร เลย น้ำตา จะ ไหล</td>\n",
              "      <td>neu</td>\n",
              "    </tr>\n",
              "    <tr>\n",
              "      <th>3543</th>\n",
              "      <td>เลือกตั้ง ครั้งหน้า กิน เต็ม แบบ ไม่ มี คู่แข่...</td>\n",
              "      <td>neu</td>\n",
              "    </tr>\n",
              "    <tr>\n",
              "      <th>3544</th>\n",
              "      <td>คนเลว ออก ไป แล้ว</td>\n",
              "      <td>neu</td>\n",
              "    </tr>\n",
              "    <tr>\n",
              "      <th>...</th>\n",
              "      <td>...</td>\n",
              "      <td>...</td>\n",
              "    </tr>\n",
              "    <tr>\n",
              "      <th>5305</th>\n",
              "      <td>ศาสนา วัด บาง คลาน 555 หลวงพ่อ เงิน</td>\n",
              "      <td>neu</td>\n",
              "    </tr>\n",
              "    <tr>\n",
              "      <th>5306</th>\n",
              "      <td>ค</td>\n",
              "      <td>neu</td>\n",
              "    </tr>\n",
              "    <tr>\n",
              "      <th>5307</th>\n",
              "      <td>งั้น ไม่ แก้ 112 จะ โหวต ให้ ไหม</td>\n",
              "      <td>neu</td>\n",
              "    </tr>\n",
              "    <tr>\n",
              "      <th>5308</th>\n",
              "      <td>ไป รายงานตัว รึ ยัง คุก ๆ</td>\n",
              "      <td>neu</td>\n",
              "    </tr>\n",
              "    <tr>\n",
              "      <th>5309</th>\n",
              "      <td>จนกว่า จะ พบกัน ใหม่ พิธา อำลา สภา หลัง หยุด ป...</td>\n",
              "      <td>neu</td>\n",
              "    </tr>\n",
              "  </tbody>\n",
              "</table>\n",
              "<p>1770 rows × 2 columns</p>\n",
              "</div>\n",
              "    <div class=\"colab-df-buttons\">\n",
              "\n",
              "  <div class=\"colab-df-container\">\n",
              "    <button class=\"colab-df-convert\" onclick=\"convertToInteractive('df-bc3028dd-a163-4432-9245-135e33393ecc')\"\n",
              "            title=\"Convert this dataframe to an interactive table.\"\n",
              "            style=\"display:none;\">\n",
              "\n",
              "  <svg xmlns=\"http://www.w3.org/2000/svg\" height=\"24px\" viewBox=\"0 -960 960 960\">\n",
              "    <path d=\"M120-120v-720h720v720H120Zm60-500h600v-160H180v160Zm220 220h160v-160H400v160Zm0 220h160v-160H400v160ZM180-400h160v-160H180v160Zm440 0h160v-160H620v160ZM180-180h160v-160H180v160Zm440 0h160v-160H620v160Z\"/>\n",
              "  </svg>\n",
              "    </button>\n",
              "\n",
              "  <style>\n",
              "    .colab-df-container {\n",
              "      display:flex;\n",
              "      gap: 12px;\n",
              "    }\n",
              "\n",
              "    .colab-df-convert {\n",
              "      background-color: #E8F0FE;\n",
              "      border: none;\n",
              "      border-radius: 50%;\n",
              "      cursor: pointer;\n",
              "      display: none;\n",
              "      fill: #1967D2;\n",
              "      height: 32px;\n",
              "      padding: 0 0 0 0;\n",
              "      width: 32px;\n",
              "    }\n",
              "\n",
              "    .colab-df-convert:hover {\n",
              "      background-color: #E2EBFA;\n",
              "      box-shadow: 0px 1px 2px rgba(60, 64, 67, 0.3), 0px 1px 3px 1px rgba(60, 64, 67, 0.15);\n",
              "      fill: #174EA6;\n",
              "    }\n",
              "\n",
              "    .colab-df-buttons div {\n",
              "      margin-bottom: 4px;\n",
              "    }\n",
              "\n",
              "    [theme=dark] .colab-df-convert {\n",
              "      background-color: #3B4455;\n",
              "      fill: #D2E3FC;\n",
              "    }\n",
              "\n",
              "    [theme=dark] .colab-df-convert:hover {\n",
              "      background-color: #434B5C;\n",
              "      box-shadow: 0px 1px 3px 1px rgba(0, 0, 0, 0.15);\n",
              "      filter: drop-shadow(0px 1px 2px rgba(0, 0, 0, 0.3));\n",
              "      fill: #FFFFFF;\n",
              "    }\n",
              "  </style>\n",
              "\n",
              "    <script>\n",
              "      const buttonEl =\n",
              "        document.querySelector('#df-bc3028dd-a163-4432-9245-135e33393ecc button.colab-df-convert');\n",
              "      buttonEl.style.display =\n",
              "        google.colab.kernel.accessAllowed ? 'block' : 'none';\n",
              "\n",
              "      async function convertToInteractive(key) {\n",
              "        const element = document.querySelector('#df-bc3028dd-a163-4432-9245-135e33393ecc');\n",
              "        const dataTable =\n",
              "          await google.colab.kernel.invokeFunction('convertToInteractive',\n",
              "                                                    [key], {});\n",
              "        if (!dataTable) return;\n",
              "\n",
              "        const docLinkHtml = 'Like what you see? Visit the ' +\n",
              "          '<a target=\"_blank\" href=https://colab.research.google.com/notebooks/data_table.ipynb>data table notebook</a>'\n",
              "          + ' to learn more about interactive tables.';\n",
              "        element.innerHTML = '';\n",
              "        dataTable['output_type'] = 'display_data';\n",
              "        await google.colab.output.renderOutput(dataTable, element);\n",
              "        const docLink = document.createElement('div');\n",
              "        docLink.innerHTML = docLinkHtml;\n",
              "        element.appendChild(docLink);\n",
              "      }\n",
              "    </script>\n",
              "  </div>\n",
              "\n",
              "\n",
              "<div id=\"df-dae6af5d-add9-4790-9c2e-1f4af7c6c6b7\">\n",
              "  <button class=\"colab-df-quickchart\" onclick=\"quickchart('df-dae6af5d-add9-4790-9c2e-1f4af7c6c6b7')\"\n",
              "            title=\"Suggest charts\"\n",
              "            style=\"display:none;\">\n",
              "\n",
              "<svg xmlns=\"http://www.w3.org/2000/svg\" height=\"24px\"viewBox=\"0 0 24 24\"\n",
              "     width=\"24px\">\n",
              "    <g>\n",
              "        <path d=\"M19 3H5c-1.1 0-2 .9-2 2v14c0 1.1.9 2 2 2h14c1.1 0 2-.9 2-2V5c0-1.1-.9-2-2-2zM9 17H7v-7h2v7zm4 0h-2V7h2v10zm4 0h-2v-4h2v4z\"/>\n",
              "    </g>\n",
              "</svg>\n",
              "  </button>\n",
              "\n",
              "<style>\n",
              "  .colab-df-quickchart {\n",
              "      --bg-color: #E8F0FE;\n",
              "      --fill-color: #1967D2;\n",
              "      --hover-bg-color: #E2EBFA;\n",
              "      --hover-fill-color: #174EA6;\n",
              "      --disabled-fill-color: #AAA;\n",
              "      --disabled-bg-color: #DDD;\n",
              "  }\n",
              "\n",
              "  [theme=dark] .colab-df-quickchart {\n",
              "      --bg-color: #3B4455;\n",
              "      --fill-color: #D2E3FC;\n",
              "      --hover-bg-color: #434B5C;\n",
              "      --hover-fill-color: #FFFFFF;\n",
              "      --disabled-bg-color: #3B4455;\n",
              "      --disabled-fill-color: #666;\n",
              "  }\n",
              "\n",
              "  .colab-df-quickchart {\n",
              "    background-color: var(--bg-color);\n",
              "    border: none;\n",
              "    border-radius: 50%;\n",
              "    cursor: pointer;\n",
              "    display: none;\n",
              "    fill: var(--fill-color);\n",
              "    height: 32px;\n",
              "    padding: 0;\n",
              "    width: 32px;\n",
              "  }\n",
              "\n",
              "  .colab-df-quickchart:hover {\n",
              "    background-color: var(--hover-bg-color);\n",
              "    box-shadow: 0 1px 2px rgba(60, 64, 67, 0.3), 0 1px 3px 1px rgba(60, 64, 67, 0.15);\n",
              "    fill: var(--button-hover-fill-color);\n",
              "  }\n",
              "\n",
              "  .colab-df-quickchart-complete:disabled,\n",
              "  .colab-df-quickchart-complete:disabled:hover {\n",
              "    background-color: var(--disabled-bg-color);\n",
              "    fill: var(--disabled-fill-color);\n",
              "    box-shadow: none;\n",
              "  }\n",
              "\n",
              "  .colab-df-spinner {\n",
              "    border: 2px solid var(--fill-color);\n",
              "    border-color: transparent;\n",
              "    border-bottom-color: var(--fill-color);\n",
              "    animation:\n",
              "      spin 1s steps(1) infinite;\n",
              "  }\n",
              "\n",
              "  @keyframes spin {\n",
              "    0% {\n",
              "      border-color: transparent;\n",
              "      border-bottom-color: var(--fill-color);\n",
              "      border-left-color: var(--fill-color);\n",
              "    }\n",
              "    20% {\n",
              "      border-color: transparent;\n",
              "      border-left-color: var(--fill-color);\n",
              "      border-top-color: var(--fill-color);\n",
              "    }\n",
              "    30% {\n",
              "      border-color: transparent;\n",
              "      border-left-color: var(--fill-color);\n",
              "      border-top-color: var(--fill-color);\n",
              "      border-right-color: var(--fill-color);\n",
              "    }\n",
              "    40% {\n",
              "      border-color: transparent;\n",
              "      border-right-color: var(--fill-color);\n",
              "      border-top-color: var(--fill-color);\n",
              "    }\n",
              "    60% {\n",
              "      border-color: transparent;\n",
              "      border-right-color: var(--fill-color);\n",
              "    }\n",
              "    80% {\n",
              "      border-color: transparent;\n",
              "      border-right-color: var(--fill-color);\n",
              "      border-bottom-color: var(--fill-color);\n",
              "    }\n",
              "    90% {\n",
              "      border-color: transparent;\n",
              "      border-bottom-color: var(--fill-color);\n",
              "    }\n",
              "  }\n",
              "</style>\n",
              "\n",
              "  <script>\n",
              "    async function quickchart(key) {\n",
              "      const quickchartButtonEl =\n",
              "        document.querySelector('#' + key + ' button');\n",
              "      quickchartButtonEl.disabled = true;  // To prevent multiple clicks.\n",
              "      quickchartButtonEl.classList.add('colab-df-spinner');\n",
              "      try {\n",
              "        const charts = await google.colab.kernel.invokeFunction(\n",
              "            'suggestCharts', [key], {});\n",
              "      } catch (error) {\n",
              "        console.error('Error during call to suggestCharts:', error);\n",
              "      }\n",
              "      quickchartButtonEl.classList.remove('colab-df-spinner');\n",
              "      quickchartButtonEl.classList.add('colab-df-quickchart-complete');\n",
              "    }\n",
              "    (() => {\n",
              "      let quickchartButtonEl =\n",
              "        document.querySelector('#df-dae6af5d-add9-4790-9c2e-1f4af7c6c6b7 button');\n",
              "      quickchartButtonEl.style.display =\n",
              "        google.colab.kernel.accessAllowed ? 'block' : 'none';\n",
              "    })();\n",
              "  </script>\n",
              "</div>\n",
              "    </div>\n",
              "  </div>\n"
            ]
          },
          "metadata": {},
          "execution_count": 12
        }
      ]
    },
    {
      "cell_type": "markdown",
      "source": [
        "# TF-IDF + Feed Forward Neural Network\n",
        "\n",
        "ในส่วนนี้เราจะใช้ข้อมูลชุดเดิมและใช้ TF-IDF ในการแทนแต่ละประโยคหลังจากนั้นก็เทรน ด้วย Feed Forward Neural Network\n",
        "\n",
        "โค้ดดัดแปลงมาจาก https://colab.research.google.com/drive/1SR_j7FUYcJ21CCsIT8fkRjGOteevQEPa#scrollTo=4Wf_YSr78IMO"
      ],
      "metadata": {
        "id": "Tgd4UPfxV0fi"
      }
    },
    {
      "cell_type": "code",
      "source": [
        "import pandas as pd\n",
        "import re\n",
        "import pandas as pd\n",
        "import numpy as np\n",
        "from sklearn.preprocessing import LabelEncoder\n",
        "from sklearn.model_selection import train_test_split\n",
        "from sklearn.metrics import classification_report\n",
        "from sklearn.metrics import accuracy_score\n",
        "import math\n",
        "import nltk\n",
        "from sklearn.feature_extraction.text import CountVectorizer\n",
        "from collections import defaultdict"
      ],
      "metadata": {
        "id": "WQRwTj6pYmgF"
      },
      "execution_count": null,
      "outputs": []
    },
    {
      "cell_type": "code",
      "source": [
        "# ตรวจสอบ column ใน DataFrame\n",
        "print(sentiment_df.columns)\n",
        "\n",
        "# ตั้งชื่อ column ที่ถูกต้อง (เช่น 'text' และ 'sentiment')\n",
        "texts = sentiment_df['text'].values\n",
        "labels = sentiment_df['sentiment'].values\n",
        "\n",
        "# ตรวจสอบว่ามีข้อมูลใน labels หรือไม่\n",
        "labels\n",
        "print(sentiment_df.columns)"
      ],
      "metadata": {
        "colab": {
          "base_uri": "https://localhost:8080/"
        },
        "id": "NbUo-w5K3mFB",
        "outputId": "a0b56e87-c1d7-4596-9273-f012dabe5d10"
      },
      "execution_count": null,
      "outputs": [
        {
          "output_type": "stream",
          "name": "stdout",
          "text": [
            "Index(['comment_id', 'text', 'sentiment'], dtype='object')\n",
            "Index(['comment_id', 'text', 'sentiment'], dtype='object')\n"
          ]
        }
      ]
    },
    {
      "cell_type": "code",
      "source": [
        "from sklearn.model_selection import train_test_split\n",
        "from sklearn.preprocessing import LabelEncoder\n",
        "from sklearn.feature_extraction.text import TfidfVectorizer\n",
        "from pythainlp.util import normalize\n",
        "from pythainlp.corpus import thai_stopwords\n",
        "from pythainlp.tokenize import word_tokenize\n",
        "import torch\n",
        "import numpy as np\n",
        "\n",
        "train_data = pd.read_csv('train.csv')\n",
        "test_data = pd.read_csv('test.csv')\n",
        "\n",
        "# แบ่งข้อมูลเป็น train 80% validation 20%\n",
        "train_data, val_data = train_test_split(train_data, test_size=0.2, random_state=42, stratify=train_data['sentiment'])\n",
        "\n",
        "# เตรียมข้อมูลสำหรับการเทรนและทดสอบ\n",
        "train_sentences = train_data['wordseged_space_text'].values\n",
        "train_labels = train_data['sentiment'].values\n",
        "\n",
        "val_sentences = val_data['wordseged_space_text'].values\n",
        "val_labels = val_data['sentiment'].values\n",
        "\n",
        "test_sentences = test_data['wordseged_space_text'].values\n",
        "test_labels = test_data['sentiment'].values\n",
        "\n",
        "# ทำการเข้ารหัส labels\n",
        "encoder = LabelEncoder()\n",
        "train_encoded_labels = encoder.fit_transform(train_labels)\n",
        "val_encoded_labels = encoder.transform(val_labels)\n",
        "test_encoded_labels = encoder.transform(test_labels)\n",
        "\n",
        "# สร้าง vectorizer\n",
        "tfidf_vectorizer = TfidfVectorizer(max_features=1000, dtype=np.float32)\n",
        "\n",
        "# ใช้ชุดเทรนในการสร้าง vectorizer\n",
        "tfidfX_train = tfidf_vectorizer.fit_transform(train_sentences)\n",
        "tfidfX_train = torch.tensor(tfidfX_train.toarray())\n",
        "\n",
        "# ใช้ vectorizer ในการแปลงชุดตรวจสอบและทดสอบ\n",
        "tfidfX_val = tfidf_vectorizer.transform(val_sentences)\n",
        "tfidfX_val = torch.tensor(tfidfX_val.toarray())\n",
        "\n",
        "tfidfX_test = tfidf_vectorizer.transform(test_sentences)\n",
        "tfidfX_test = torch.tensor(tfidfX_test.toarray())\n",
        "\n",
        "print(\"TF-IDF train shape:\", tfidfX_train.shape)\n",
        "print(\"TF-IDF test shape:\", tfidfX_test.shape)\n",
        "print(\"TF-IDF val shape:\", tfidfX_val.shape)\n"
      ],
      "metadata": {
        "colab": {
          "base_uri": "https://localhost:8080/"
        },
        "id": "aYf9LqeXaeK3",
        "outputId": "1ed6aeea-2801-400d-e6ae-584fd26246de"
      },
      "execution_count": null,
      "outputs": [
        {
          "output_type": "stream",
          "name": "stdout",
          "text": [
            "TF-IDF train shape: torch.Size([25017, 1000])\n",
            "TF-IDF test shape: torch.Size([7818, 1000])\n",
            "TF-IDF val shape: torch.Size([6255, 1000])\n"
          ]
        }
      ]
    },
    {
      "cell_type": "code",
      "source": [
        "train_sentences"
      ],
      "metadata": {
        "colab": {
          "base_uri": "https://localhost:8080/"
        },
        "id": "fAHT0k_lzy2T",
        "outputId": "031c03d7-aaae-47d0-8223-5dee36e1e95a"
      },
      "execution_count": null,
      "outputs": [
        {
          "output_type": "execute_result",
          "data": {
            "text/plain": [
              "array(['ไล่ สว 237 ออก', 'ก้าวไกล เพื่อ ไทย อย่า ยอมแพ้',\n",
              "       'เขา ด่า สว แต่ โยง ว่า ทำลาย ชาติ', ...,\n",
              "       'ร้อง ได้ ดีมาก ๆ เลย ค่ะ มัน ตรง กับ ใจ มาก ที่สุด เลย ขอ ขอบคุณ ที่ แต่งเพลง นี้ และ ร้อง ได้ เพราะ มาก ค่ะ',\n",
              "       'คุณ พิธา คุณ คือ นายก ของ ใจ คนไทย ทั้งปวง',\n",
              "       'ชอบ เพลง มาก ๆๆ สู้ ๆพื่น้อง เพื่อ นายก พิธา'], dtype=object)"
            ]
          },
          "metadata": {},
          "execution_count": 13
        }
      ]
    },
    {
      "cell_type": "code",
      "source": [
        "# from sklearn.preprocessing import LabelEncoder\n",
        "# from sklearn.model_selection import train_test_split\n",
        "\n",
        "# texts = balanced_data['text'].values\n",
        "# labels = balanced_data['sentiment'].values\n",
        "# encoder = LabelEncoder()\n",
        "\n",
        "# # ทำการเข้ารหัส labels\n",
        "# encoded_labels = encoder.fit_transform(labels)\n",
        "\n",
        "# train_sentences, test_sentences, train_labels, test_labels = train_test_split(texts, encoded_labels, stratify = encoded_labels,test_size=0.2, random_state=123)\n",
        "\n"
      ],
      "metadata": {
        "id": "dpB5jHMrfG19"
      },
      "execution_count": null,
      "outputs": []
    },
    {
      "cell_type": "code",
      "source": [
        "# import numpy as np\n",
        "\n",
        "# # สมมติว่าคุณมี train_encoded_labels ซึ่งเก็บค่าของป้ายกำกับที่ถูกเข้ารหัส\n",
        "# # และคุณต้องการสุ่มแถวของ train_encoded_labels ที่มีขนาด 2 ตัวอย่าง\n",
        "# sampled_rows = np.random.choice(train_encoded_labels.shape[0], size=10, replace=True)\n",
        "\n",
        "# # ดึงค่าของป้ายกำกับที่ถูกเข้ารหัสจาก sampled_rows\n",
        "# sampled_labels = train_encoded_labels[sampled_rows]\n",
        "\n",
        "# # แสดงค่าที่ถูกสุ่มขึ้นมา\n",
        "# print(\"Sampled Labels:\\n\", sampled_labels)\n"
      ],
      "metadata": {
        "colab": {
          "base_uri": "https://localhost:8080/"
        },
        "id": "4LDsmWZIEwgI",
        "outputId": "7a5451f4-73cb-4074-f76a-82150c8317aa"
      },
      "execution_count": null,
      "outputs": [
        {
          "output_type": "stream",
          "name": "stdout",
          "text": [
            "Sampled Labels:\n",
            " [0 0 1 1 0 2 1 0 1 0]\n"
          ]
        }
      ]
    },
    {
      "cell_type": "code",
      "source": [],
      "metadata": {
        "id": "qYn40Cgnz91Q"
      },
      "execution_count": null,
      "outputs": []
    },
    {
      "cell_type": "code",
      "source": [
        "# สมมติว่า encoder เป็น LabelEncoder ที่ถูกใช้ในการเข้ารหัส\n",
        "# encoded_labels เป็นค่าที่ได้จากการเข้ารหัส\n",
        "\n",
        "# ใช้ inverse_transform เพื่อแปลงค่าที่เข้ารหัสกลับไปเป็นค่าเดิม\n",
        "original_labels = encoder.inverse_transform(encoded_labels)\n",
        "\n",
        "# ตอนนี้ original_labels จะเป็นค่าเดิมของ sentimets\n",
        "print(original_labels[2000])\n",
        "print(encoded_labels[2000])"
      ],
      "metadata": {
        "colab": {
          "base_uri": "https://localhost:8080/",
          "height": 246
        },
        "id": "TaVhhrvjz4HI",
        "outputId": "1a0612dd-d616-4e0d-97c1-af80facd4f7b"
      },
      "execution_count": null,
      "outputs": [
        {
          "output_type": "error",
          "ename": "NameError",
          "evalue": "name 'encoded_labels' is not defined",
          "traceback": [
            "\u001b[0;31m---------------------------------------------------------------------------\u001b[0m",
            "\u001b[0;31mNameError\u001b[0m                                 Traceback (most recent call last)",
            "\u001b[0;32m<ipython-input-18-aa3df3a1837b>\u001b[0m in \u001b[0;36m<cell line: 5>\u001b[0;34m()\u001b[0m\n\u001b[1;32m      3\u001b[0m \u001b[0;34m\u001b[0m\u001b[0m\n\u001b[1;32m      4\u001b[0m \u001b[0;31m# ใช้ inverse_transform เพื่อแปลงค่าที่เข้ารหัสกลับไปเป็นค่าเดิม\u001b[0m\u001b[0;34m\u001b[0m\u001b[0;34m\u001b[0m\u001b[0m\n\u001b[0;32m----> 5\u001b[0;31m \u001b[0moriginal_labels\u001b[0m \u001b[0;34m=\u001b[0m \u001b[0mencoder\u001b[0m\u001b[0;34m.\u001b[0m\u001b[0minverse_transform\u001b[0m\u001b[0;34m(\u001b[0m\u001b[0mencoded_labels\u001b[0m\u001b[0;34m)\u001b[0m\u001b[0;34m\u001b[0m\u001b[0;34m\u001b[0m\u001b[0m\n\u001b[0m\u001b[1;32m      6\u001b[0m \u001b[0;34m\u001b[0m\u001b[0m\n\u001b[1;32m      7\u001b[0m \u001b[0;31m# ตอนนี้ original_labels จะเป็นค่าเดิมของ sentimets\u001b[0m\u001b[0;34m\u001b[0m\u001b[0;34m\u001b[0m\u001b[0m\n",
            "\u001b[0;31mNameError\u001b[0m: name 'encoded_labels' is not defined"
          ]
        }
      ]
    },
    {
      "cell_type": "code",
      "source": [
        "balanced_data[\"sentiment\"].hist()"
      ],
      "metadata": {
        "colab": {
          "base_uri": "https://localhost:8080/",
          "height": 447
        },
        "id": "_9e1_Mls6a8G",
        "outputId": "90834728-aa6e-4f7e-a9cb-09fa7226b12e"
      },
      "execution_count": null,
      "outputs": [
        {
          "output_type": "execute_result",
          "data": {
            "text/plain": [
              "<Axes: >"
            ]
          },
          "metadata": {},
          "execution_count": 19
        },
        {
          "output_type": "display_data",
          "data": {
            "text/plain": [
              "<Figure size 640x480 with 1 Axes>"
            ],
            "image/png": "[encoded data removed]"
          },
          "metadata": {}
        }
      ]
    },
    {
      "cell_type": "code",
      "source": [
        "# ตรวจสอบค่าที่มี train_encoded_labels เป็น -1\n",
        "indices_with_minus_one = [index for index, label in enumerate(train_encoded_labels) if label == 3]\n",
        "\n",
        "# พิมพ์ค่าที่มี train_encoded_labels เป็น -1\n",
        "for index in indices_with_minus_one:\n",
        "    print(f\"Index: {index}, Label: {train_encoded_labels[index]}\")\n"
      ],
      "metadata": {
        "id": "gL_StQpl1xId"
      },
      "execution_count": null,
      "outputs": []
    },
    {
      "cell_type": "code",
      "source": [
        "# from sklearn.feature_extraction.text import TfidfVectorizer\n",
        "# import torch\n",
        "# from pythainlp.util import normalize\n",
        "# from pythainlp.corpus import thai_stopwords\n",
        "# from pythainlp.tokenize import word_tokenize\n",
        "\n",
        "\n",
        "# train = list(train_sentences)\n",
        "# val = list(test_sentences)[:int(len(test_sentences)/2)]\n",
        "# test = list(test_sentences)[int(len(test_sentences)/2):]\n",
        "\n",
        "\n",
        "# stopwords = list(thai_stopwords())\n",
        "# stopwords.append(\"nan\")\n",
        "# stopwords.append(\"-\")\n",
        "# stopwords.append(\"_\")\n",
        "# stopwords.append(\"\")\n",
        "# stopwords.append(\" \")\n",
        "\n",
        "# tfidf_vectorizer = TfidfVectorizer(max_features=1000, dtype=np.float32)\n",
        "\n",
        "# #ใช้ชุดเทรน ทำ vectorizer\n",
        "# tfidfX_train = tfidf_vectorizer.fit_transform(train)\n",
        "# tfidfX_train = torch.tensor(tfidfX_train.toarray())\n",
        "\n",
        "# tfidfX_val = tfidf_vectorizer.transform(val)\n",
        "# tfidfX_val = torch.tensor(tfidfX_val.toarray())\n",
        "\n",
        "# tfidfX_test = tfidf_vectorizer.transform(test)\n",
        "# tfidfX_test = torch.tensor(tfidfX_test.toarray())\n",
        "\n",
        "# print(\"TF-IDF train shape:\", tfidfX_train.shape)\n",
        "# print(\"TF-IDF test shape:\", tfidfX_test.shape)\n",
        "# print(\"TF-IDF val shape:\", tfidfX_val.shape)"
      ],
      "metadata": {
        "id": "98qwTFjBMek0"
      },
      "execution_count": null,
      "outputs": []
    },
    {
      "cell_type": "code",
      "source": [
        "import torch\n",
        "import numpy as np\n",
        "\n",
        "# Assuming train_labels, test_labels, etc. are NumPy arrays\n",
        "# Convert the labels to the appropriate data type before creating PyTorch tensors\n",
        "\n",
        "Y_train = torch.squeeze(torch.tensor(train_encoded_labels).long())\n",
        "Y_val = torch.squeeze(torch.tensor(val_encoded_labels).long())  # Corrected from test_labels to val_labels\n",
        "Y_test = torch.squeeze(torch.tensor(test_encoded_labels).long())\n",
        "\n",
        "print(\"Y train shape:\", Y_train.shape)\n",
        "print(\"Y validation shape:\", Y_val.shape)  # Corrected from \"Y shape\" to \"Y validation shape\"\n",
        "print(\"Y test shape:\", Y_test.shape)\n"
      ],
      "metadata": {
        "colab": {
          "base_uri": "https://localhost:8080/"
        },
        "id": "H9VUNuqodlxm",
        "outputId": "398d7278-7ad4-49f5-cd21-1b0968cab68f"
      },
      "execution_count": null,
      "outputs": [
        {
          "output_type": "stream",
          "name": "stdout",
          "text": [
            "Y train shape: torch.Size([25017])\n",
            "Y validation shape: torch.Size([6255])\n",
            "Y test shape: torch.Size([7818])\n"
          ]
        }
      ]
    },
    {
      "cell_type": "code",
      "source": [
        "# import torch\n",
        "# Y_train = torch.squeeze(torch.tensor(train_labels).long())\n",
        "# Y_val = torch.squeeze(torch.tensor(test_labels[:int(len(test_sentences)/2)]).long())\n",
        "# Y_test = torch.squeeze(torch.tensor(test_labels[int(len(test_sentences)/2):]).long())\n",
        "\n",
        "# print(\"Y train shape:\", Y_train.shape)\n",
        "# print(\"Y test shape:\", Y_test.shape)\n",
        "# print(\"Y shape:\", Y_val.shape)"
      ],
      "metadata": {
        "id": "wTfN8wRbf0o_"
      },
      "execution_count": null,
      "outputs": []
    },
    {
      "cell_type": "code",
      "source": [
        "device = torch.device(\"cuda\" if torch.cuda.is_available() else \"cpu\")\n",
        "print(\"Device available for running: \")\n",
        "print(device)"
      ],
      "metadata": {
        "colab": {
          "base_uri": "https://localhost:8080/"
        },
        "id": "MpRamKjZgZ8p",
        "outputId": "2c8d3ec0-fcdd-40f7-8c2e-6f0c18eba3fc"
      },
      "execution_count": null,
      "outputs": [
        {
          "output_type": "stream",
          "name": "stdout",
          "text": [
            "Device available for running: \n",
            "cpu\n"
          ]
        }
      ]
    },
    {
      "cell_type": "code",
      "source": [
        "#สร้าง FFNN ขึ้นมา\n",
        "import torch.nn as nn\n",
        "import torch.nn.functional as F\n",
        "import torch.optim as optim\n",
        "import torch\n",
        "\n",
        "class FFNN(nn.Module):\n",
        "    def __init__(self, input_dim, hidden_dim_1, hidden_dim_2, output_dim):\n",
        "        super(FFNN, self).__init__()\n",
        "\n",
        "        # Linear function 1\n",
        "        self.layer_1 = nn.Linear(input_dim, hidden_dim_1)\n",
        "        # self.dropout = nn.Dropout(0.3)\n",
        "        # self.batch1 = nn.BatchNorm1d(hidden_dim)\n",
        "\n",
        "        # Non-linearity 1\n",
        "        self.relu_1 = nn.ReLU()\n",
        "\n",
        "        # Linear function 2\n",
        "        self.layer_2 = nn.Linear(hidden_dim_1, hidden_dim_2)\n",
        "        # Non-linearity 2\n",
        "        self.relu_2 = nn.ReLU()\n",
        "\n",
        "        # Linear function 3\n",
        "        self.layer_3 = nn.Linear(hidden_dim_2, output_dim)\n",
        "\n",
        "    def forward(self, x):\n",
        "        out = self.layer_1(x)\n",
        "        out = self.relu_1(out)\n",
        "\n",
        "        out = self.layer_2(out)\n",
        "        out = self.relu_2(out)\n",
        "\n",
        "        out = self.layer_3(out)\n",
        "\n",
        "        return torch.sigmoid(out)"
      ],
      "metadata": {
        "id": "DvFEr8zngeUD"
      },
      "execution_count": null,
      "outputs": []
    },
    {
      "cell_type": "code",
      "source": [
        "# กำหนดพารามิเตอร์\n",
        "input_dim = tfidfX_train.shape[1]\n",
        "hidden_dim_1 = 512 #จำนวนโหนด\n",
        "hidden_dim_2 = 512\n",
        "output_dim = 3 #จำนวน output dim ใช้ 1 ได้ คือเราอยากจะทำนายค่าออกมาค่าเดียว 0 = negative และ 1 คือ เป็น positive #แก้ label\n",
        "num_epochs = 200\n",
        "\n",
        "# สร้าง model จากคลาส\n",
        "first_model = FFNN(input_dim, hidden_dim_1, hidden_dim_2, output_dim)\n",
        "\n",
        "# Define loss function.\n",
        "criterion = nn.CrossEntropyLoss()\n",
        "\n",
        "\n",
        "# Define as optimizer Adam.\n",
        "optimizer = optim.Adam(first_model.parameters(),lr=0.1e-3,weight_decay=1e-3)\n",
        "\n",
        "# Transfer all the computation to GPU (cuda device).\n",
        "first_model.to(device)\n",
        "criterion = criterion.to(device)"
      ],
      "metadata": {
        "id": "McTfQlZvg8My"
      },
      "execution_count": null,
      "outputs": []
    },
    {
      "cell_type": "code",
      "source": [
        "from torchsummary import summary\n",
        "\n",
        "# กำหนด device ให้เป็น cuda หากใช้ GPU, ไม่งั้นให้ใช้ cpu\n",
        "device = torch.device('cuda' if torch.cuda.is_available() else 'cpu')\n",
        "\n",
        "# ย้ายโมเดลไปที่ GPU หากใช้ cuda\n",
        "first_model.to(device)\n",
        "\n",
        "# ใช้ torchsummary ในการแสดงสรุปของโมเดล\n",
        "summary(first_model, input_size=(input_dim,))\n"
      ],
      "metadata": {
        "colab": {
          "base_uri": "https://localhost:8080/"
        },
        "id": "ngPHCRwg-LoT",
        "outputId": "d7c610df-b398-4874-cf51-dc73ce017bf7"
      },
      "execution_count": null,
      "outputs": [
        {
          "output_type": "stream",
          "name": "stdout",
          "text": [
            "----------------------------------------------------------------\n",
            "        Layer (type)               Output Shape         Param #\n",
            "================================================================\n",
            "            Linear-1                  [-1, 512]         512,512\n",
            "              ReLU-2                  [-1, 512]               0\n",
            "            Linear-3                  [-1, 512]         262,656\n",
            "              ReLU-4                  [-1, 512]               0\n",
            "            Linear-5                    [-1, 3]           1,539\n",
            "================================================================\n",
            "Total params: 776,707\n",
            "Trainable params: 776,707\n",
            "Non-trainable params: 0\n",
            "----------------------------------------------------------------\n",
            "Input size (MB): 0.00\n",
            "Forward/backward pass size (MB): 0.02\n",
            "Params size (MB): 2.96\n",
            "Estimated Total Size (MB): 2.98\n",
            "----------------------------------------------------------------\n"
          ]
        }
      ]
    },
    {
      "cell_type": "code",
      "source": [
        "from tqdm import tqdm\n",
        "\n",
        "# This is a function that calculate the accuracy manually\n",
        "def calculate_accuracy(y_true, y_pred):\n",
        "  y_pred = torch.round(y_pred)\n",
        "  #print(y_pred.argmax(-1))\n",
        "  correct = (y_true == y_pred.argmax(-1)).float()\n",
        "  acc = correct.sum() / len(correct)\n",
        "  return acc\n",
        "\n",
        "batch_size = 32 #ปรับได้\n",
        "\n",
        "print(tfidfX_train.shape)\n",
        "print(Y_train.shape)\n",
        "# Split train dataset to mini batches\n",
        "X_train_mini_batches = torch.split(tfidfX_train,batch_size)\n",
        "Y_train_mini_batches = torch.split(Y_train,batch_size)\n",
        "\n",
        "\n",
        "\n",
        "train_losses = []\n",
        "train_accuracies = []\n",
        "val_losses = []\n",
        "val_accuracies = []\n",
        "\n",
        "# Start training\n",
        "for epoch in range(num_epochs):\n",
        "  print('epoch',epoch)\n",
        "  epoch_loss = 0\n",
        "  epoch_accuracy = 0\n",
        "  validation_loss=0\n",
        "  val_accuracy=0\n",
        "\n",
        "  for X_train_mini_batch,Y_train_mini_batch in tqdm(zip(X_train_mini_batches,Y_train_mini_batches)):\n",
        "\n",
        "    X_train_mini_batch = X_train_mini_batch.to(device)\n",
        "    Y_train_mini_batch = Y_train_mini_batch.to(device)\n",
        "\n",
        "    if Y_train_mini_batch.shape[0]==0:\n",
        "        continue\n",
        "\n",
        "\n",
        "\n",
        "    # Forward pass to get output\n",
        "    train_prediction = first_model.forward(X_train_mini_batch.float())\n",
        "    train_prediction = torch.squeeze(train_prediction)\n",
        "\n",
        "    #print(Y_train_mini_batch.shape,train_prediction.shape)\n",
        "\n",
        "\n",
        "    # Calculate Loss\n",
        "    train_loss = criterion(train_prediction,Y_train_mini_batch)\n",
        "\n",
        "\n",
        "\n",
        "    # Clearing up accumulated gradients\n",
        "    optimizer.zero_grad()\n",
        "\n",
        "    # Getting gradients\n",
        "    train_loss.backward()\n",
        "\n",
        "    # Updating parameters\n",
        "    optimizer.step()\n",
        "\n",
        "    # Add each mini batch's loss\n",
        "    epoch_loss += train_loss.item()\n",
        "\n",
        "    # Add each mini batch's accuracy\n",
        "    epoch_accuracy += calculate_accuracy(Y_train_mini_batch,train_prediction)\n",
        "\n",
        "  # For some epochs print loss and accucary of train and validation set.\n",
        "  if epoch % 1 == 0:\n",
        "\n",
        "    tfidfX_val = tfidfX_val.to(device)\n",
        "    Y_val = Y_val.to(device)\n",
        "\n",
        "    # Forward pass to get output\n",
        "    val_prediction = first_model.forward(tfidfX_val.float())\n",
        "    val_prediction = torch.squeeze(val_prediction)\n",
        "\n",
        "    # Calculate Loss\n",
        "    print(val_prediction.shape,Y_val.shape)\n",
        "    val_loss = criterion(val_prediction,Y_val)\n",
        "\n",
        "    # Add each mini batch's loss\n",
        "    validation_loss = val_loss.item()\n",
        "\n",
        "    # Add each mini batch's accuracy\n",
        "    val_accuracy = calculate_accuracy(Y_val,val_prediction)\n",
        "\n",
        "    epoch_loss /= len(X_train_mini_batches)\n",
        "    epoch_accuracy /= len(X_train_mini_batches)\n",
        "    val_losses.append(validation_loss)\n",
        "    train_losses.append(epoch_loss)\n",
        "    train_accuracies.append(epoch_accuracy)\n",
        "    val_accuracies.append(val_accuracy)\n",
        "    print(\"Epoch:\",epoch, \"\\n\"\n",
        "           \"Train_loss:\",round(epoch_loss,4), \"Train Accuracy:\",round(epoch_accuracy.item(),4), \"\\n\"\n",
        "           \"Validation_loss:  \",round(validation_loss,4), \"Validation Accuracy:  \",round(val_accuracy.item(),4), \"\\n\")\n",
        "\n",
        "# Save PyTorch model state dict to a file\n",
        "torch.save(first_model.state_dict(), 'FFNN_model.pth')"
      ],
      "metadata": {
        "colab": {
          "base_uri": "https://localhost:8080/"
        },
        "id": "UFDX86txhvdx",
        "outputId": "807c95fd-5259-4fbb-edc7-6b864dd5b00c"
      },
      "execution_count": null,
      "outputs": [
        {
          "output_type": "stream",
          "name": "stdout",
          "text": [
            "torch.Size([25017, 1000])\n",
            "torch.Size([25017])\n",
            "epoch 0\n"
          ]
        },
        {
          "output_type": "stream",
          "name": "stderr",
          "text": [
            "782it [00:06, 115.01it/s]\n"
          ]
        },
        {
          "output_type": "stream",
          "name": "stdout",
          "text": [
            "torch.Size([6255, 3]) torch.Size([6255])\n",
            "Epoch: 0 \n",
            "Train_loss: 0.988 Train Accuracy: 0.5549 \n",
            "Validation_loss:   0.8893 Validation Accuracy:   0.6406 \n",
            "\n",
            "epoch 1\n"
          ]
        },
        {
          "output_type": "stream",
          "name": "stderr",
          "text": [
            "782it [00:08, 91.87it/s]\n"
          ]
        },
        {
          "output_type": "stream",
          "name": "stdout",
          "text": [
            "torch.Size([6255, 3]) torch.Size([6255])\n",
            "Epoch: 1 \n",
            "Train_loss: 0.8715 Train Accuracy: 0.6558 \n",
            "Validation_loss:   0.8672 Validation Accuracy:   0.6635 \n",
            "\n",
            "epoch 2\n"
          ]
        },
        {
          "output_type": "stream",
          "name": "stderr",
          "text": [
            "782it [00:42, 18.59it/s]\n"
          ]
        },
        {
          "output_type": "stream",
          "name": "stdout",
          "text": [
            "torch.Size([6255, 3]) torch.Size([6255])\n",
            "Epoch: 2 \n",
            "Train_loss: 0.8549 Train Accuracy: 0.6752 \n",
            "Validation_loss:   0.8568 Validation Accuracy:   0.6729 \n",
            "\n",
            "epoch 3\n"
          ]
        },
        {
          "output_type": "stream",
          "name": "stderr",
          "text": [
            "782it [00:56, 13.78it/s]\n"
          ]
        },
        {
          "output_type": "stream",
          "name": "stdout",
          "text": [
            "torch.Size([6255, 3]) torch.Size([6255])\n",
            "Epoch: 3 \n",
            "Train_loss: 0.8457 Train Accuracy: 0.6909 \n",
            "Validation_loss:   0.8502 Validation Accuracy:   0.683 \n",
            "\n",
            "epoch 4\n"
          ]
        },
        {
          "output_type": "stream",
          "name": "stderr",
          "text": [
            "782it [01:00, 12.88it/s]\n"
          ]
        },
        {
          "output_type": "stream",
          "name": "stdout",
          "text": [
            "torch.Size([6255, 3]) torch.Size([6255])\n",
            "Epoch: 4 \n",
            "Train_loss: 0.8389 Train Accuracy: 0.704 \n",
            "Validation_loss:   0.8439 Validation Accuracy:   0.6988 \n",
            "\n",
            "epoch 5\n"
          ]
        },
        {
          "output_type": "stream",
          "name": "stderr",
          "text": [
            "782it [01:09, 11.30it/s]\n"
          ]
        },
        {
          "output_type": "stream",
          "name": "stdout",
          "text": [
            "torch.Size([6255, 3]) torch.Size([6255])\n",
            "Epoch: 5 \n",
            "Train_loss: 0.8297 Train Accuracy: 0.7211 \n",
            "Validation_loss:   0.8273 Validation Accuracy:   0.7209 \n",
            "\n",
            "epoch 6\n"
          ]
        },
        {
          "output_type": "stream",
          "name": "stderr",
          "text": [
            "782it [01:12, 10.80it/s]\n"
          ]
        },
        {
          "output_type": "stream",
          "name": "stdout",
          "text": [
            "torch.Size([6255, 3]) torch.Size([6255])\n",
            "Epoch: 6 \n",
            "Train_loss: 0.803 Train Accuracy: 0.7311 \n",
            "Validation_loss:   0.8035 Validation Accuracy:   0.7378 \n",
            "\n",
            "epoch 7\n"
          ]
        },
        {
          "output_type": "stream",
          "name": "stderr",
          "text": [
            "782it [01:06, 11.71it/s]\n"
          ]
        },
        {
          "output_type": "stream",
          "name": "stdout",
          "text": [
            "torch.Size([6255, 3]) torch.Size([6255])\n",
            "Epoch: 7 \n",
            "Train_loss: 0.7878 Train Accuracy: 0.7399 \n",
            "Validation_loss:   0.7964 Validation Accuracy:   0.7434 \n",
            "\n",
            "epoch 8\n"
          ]
        },
        {
          "output_type": "stream",
          "name": "stderr",
          "text": [
            "782it [00:52, 14.89it/s]\n"
          ]
        },
        {
          "output_type": "stream",
          "name": "stdout",
          "text": [
            "torch.Size([6255, 3]) torch.Size([6255])\n",
            "Epoch: 8 \n",
            "Train_loss: 0.7814 Train Accuracy: 0.7465 \n",
            "Validation_loss:   0.7929 Validation Accuracy:   0.7447 \n",
            "\n",
            "epoch 9\n"
          ]
        },
        {
          "output_type": "stream",
          "name": "stderr",
          "text": [
            "782it [00:39, 19.82it/s]\n"
          ]
        },
        {
          "output_type": "stream",
          "name": "stdout",
          "text": [
            "torch.Size([6255, 3]) torch.Size([6255])\n",
            "Epoch: 9 \n",
            "Train_loss: 0.7778 Train Accuracy: 0.7507 \n",
            "Validation_loss:   0.791 Validation Accuracy:   0.7448 \n",
            "\n",
            "epoch 10\n"
          ]
        },
        {
          "output_type": "stream",
          "name": "stderr",
          "text": [
            "782it [00:41, 18.91it/s]\n"
          ]
        },
        {
          "output_type": "stream",
          "name": "stdout",
          "text": [
            "torch.Size([6255, 3]) torch.Size([6255])\n",
            "Epoch: 10 \n",
            "Train_loss: 0.7754 Train Accuracy: 0.752 \n",
            "Validation_loss:   0.7897 Validation Accuracy:   0.746 \n",
            "\n",
            "epoch 11\n"
          ]
        },
        {
          "output_type": "stream",
          "name": "stderr",
          "text": [
            "782it [00:48, 16.28it/s]\n"
          ]
        },
        {
          "output_type": "stream",
          "name": "stdout",
          "text": [
            "torch.Size([6255, 3]) torch.Size([6255])\n",
            "Epoch: 11 \n",
            "Train_loss: 0.7737 Train Accuracy: 0.7541 \n",
            "Validation_loss:   0.7888 Validation Accuracy:   0.7461 \n",
            "\n",
            "epoch 12\n"
          ]
        },
        {
          "output_type": "stream",
          "name": "stderr",
          "text": [
            "782it [00:48, 16.09it/s]\n"
          ]
        },
        {
          "output_type": "stream",
          "name": "stdout",
          "text": [
            "torch.Size([6255, 3]) torch.Size([6255])\n",
            "Epoch: 12 \n",
            "Train_loss: 0.7725 Train Accuracy: 0.755 \n",
            "Validation_loss:   0.7881 Validation Accuracy:   0.7461 \n",
            "\n",
            "epoch 13\n"
          ]
        },
        {
          "output_type": "stream",
          "name": "stderr",
          "text": [
            "782it [00:49, 15.65it/s]\n"
          ]
        },
        {
          "output_type": "stream",
          "name": "stdout",
          "text": [
            "torch.Size([6255, 3]) torch.Size([6255])\n",
            "Epoch: 13 \n",
            "Train_loss: 0.7716 Train Accuracy: 0.7553 \n",
            "Validation_loss:   0.7875 Validation Accuracy:   0.7471 \n",
            "\n",
            "epoch 14\n"
          ]
        },
        {
          "output_type": "stream",
          "name": "stderr",
          "text": [
            "782it [00:51, 15.21it/s]\n"
          ]
        },
        {
          "output_type": "stream",
          "name": "stdout",
          "text": [
            "torch.Size([6255, 3]) torch.Size([6255])\n",
            "Epoch: 14 \n",
            "Train_loss: 0.7708 Train Accuracy: 0.756 \n",
            "Validation_loss:   0.7871 Validation Accuracy:   0.7477 \n",
            "\n",
            "epoch 15\n"
          ]
        },
        {
          "output_type": "stream",
          "name": "stderr",
          "text": [
            "782it [00:50, 15.39it/s]\n"
          ]
        },
        {
          "output_type": "stream",
          "name": "stdout",
          "text": [
            "torch.Size([6255, 3]) torch.Size([6255])\n",
            "Epoch: 15 \n",
            "Train_loss: 0.7702 Train Accuracy: 0.7572 \n",
            "Validation_loss:   0.7868 Validation Accuracy:   0.7474 \n",
            "\n",
            "epoch 16\n"
          ]
        },
        {
          "output_type": "stream",
          "name": "stderr",
          "text": [
            "782it [00:52, 14.95it/s]\n"
          ]
        },
        {
          "output_type": "stream",
          "name": "stdout",
          "text": [
            "torch.Size([6255, 3]) torch.Size([6255])\n",
            "Epoch: 16 \n",
            "Train_loss: 0.7697 Train Accuracy: 0.7574 \n",
            "Validation_loss:   0.7865 Validation Accuracy:   0.7477 \n",
            "\n",
            "epoch 17\n"
          ]
        },
        {
          "output_type": "stream",
          "name": "stderr",
          "text": [
            "782it [00:50, 15.49it/s]\n"
          ]
        },
        {
          "output_type": "stream",
          "name": "stdout",
          "text": [
            "torch.Size([6255, 3]) torch.Size([6255])\n",
            "Epoch: 17 \n",
            "Train_loss: 0.7693 Train Accuracy: 0.7583 \n",
            "Validation_loss:   0.7863 Validation Accuracy:   0.7474 \n",
            "\n",
            "epoch 18\n"
          ]
        },
        {
          "output_type": "stream",
          "name": "stderr",
          "text": [
            "782it [00:48, 16.27it/s]\n"
          ]
        },
        {
          "output_type": "stream",
          "name": "stdout",
          "text": [
            "torch.Size([6255, 3]) torch.Size([6255])\n",
            "Epoch: 18 \n",
            "Train_loss: 0.769 Train Accuracy: 0.7591 \n",
            "Validation_loss:   0.786 Validation Accuracy:   0.7479 \n",
            "\n",
            "epoch 19\n"
          ]
        },
        {
          "output_type": "stream",
          "name": "stderr",
          "text": [
            "782it [00:45, 17.08it/s]\n"
          ]
        },
        {
          "output_type": "stream",
          "name": "stdout",
          "text": [
            "torch.Size([6255, 3]) torch.Size([6255])\n",
            "Epoch: 19 \n",
            "Train_loss: 0.7687 Train Accuracy: 0.7598 \n",
            "Validation_loss:   0.7859 Validation Accuracy:   0.7482 \n",
            "\n",
            "epoch 20\n"
          ]
        },
        {
          "output_type": "stream",
          "name": "stderr",
          "text": [
            "782it [00:46, 16.99it/s]\n"
          ]
        },
        {
          "output_type": "stream",
          "name": "stdout",
          "text": [
            "torch.Size([6255, 3]) torch.Size([6255])\n",
            "Epoch: 20 \n",
            "Train_loss: 0.7684 Train Accuracy: 0.7603 \n",
            "Validation_loss:   0.7857 Validation Accuracy:   0.7484 \n",
            "\n",
            "epoch 21\n"
          ]
        },
        {
          "output_type": "stream",
          "name": "stderr",
          "text": [
            "782it [00:47, 16.45it/s]\n"
          ]
        },
        {
          "output_type": "stream",
          "name": "stdout",
          "text": [
            "torch.Size([6255, 3]) torch.Size([6255])\n",
            "Epoch: 21 \n",
            "Train_loss: 0.7682 Train Accuracy: 0.7608 \n",
            "Validation_loss:   0.7856 Validation Accuracy:   0.7482 \n",
            "\n",
            "epoch 22\n"
          ]
        },
        {
          "output_type": "stream",
          "name": "stderr",
          "text": [
            "782it [00:45, 17.10it/s]\n"
          ]
        },
        {
          "output_type": "stream",
          "name": "stdout",
          "text": [
            "torch.Size([6255, 3]) torch.Size([6255])\n",
            "Epoch: 22 \n",
            "Train_loss: 0.768 Train Accuracy: 0.761 \n",
            "Validation_loss:   0.7855 Validation Accuracy:   0.7485 \n",
            "\n",
            "epoch 23\n"
          ]
        },
        {
          "output_type": "stream",
          "name": "stderr",
          "text": [
            "782it [00:43, 18.19it/s]\n"
          ]
        },
        {
          "output_type": "stream",
          "name": "stdout",
          "text": [
            "torch.Size([6255, 3]) torch.Size([6255])\n",
            "Epoch: 23 \n",
            "Train_loss: 0.7678 Train Accuracy: 0.7612 \n",
            "Validation_loss:   0.7853 Validation Accuracy:   0.7488 \n",
            "\n",
            "epoch 24\n"
          ]
        },
        {
          "output_type": "stream",
          "name": "stderr",
          "text": [
            "782it [00:44, 17.63it/s]\n"
          ]
        },
        {
          "output_type": "stream",
          "name": "stdout",
          "text": [
            "torch.Size([6255, 3]) torch.Size([6255])\n",
            "Epoch: 24 \n",
            "Train_loss: 0.7677 Train Accuracy: 0.7613 \n",
            "Validation_loss:   0.7852 Validation Accuracy:   0.7488 \n",
            "\n",
            "epoch 25\n"
          ]
        },
        {
          "output_type": "stream",
          "name": "stderr",
          "text": [
            "782it [00:47, 16.35it/s]\n"
          ]
        },
        {
          "output_type": "stream",
          "name": "stdout",
          "text": [
            "torch.Size([6255, 3]) torch.Size([6255])\n",
            "Epoch: 25 \n",
            "Train_loss: 0.7675 Train Accuracy: 0.7615 \n",
            "Validation_loss:   0.7852 Validation Accuracy:   0.749 \n",
            "\n",
            "epoch 26\n"
          ]
        },
        {
          "output_type": "stream",
          "name": "stderr",
          "text": [
            "782it [00:49, 15.94it/s]\n"
          ]
        },
        {
          "output_type": "stream",
          "name": "stdout",
          "text": [
            "torch.Size([6255, 3]) torch.Size([6255])\n",
            "Epoch: 26 \n",
            "Train_loss: 0.7674 Train Accuracy: 0.7619 \n",
            "Validation_loss:   0.7851 Validation Accuracy:   0.7488 \n",
            "\n",
            "epoch 27\n"
          ]
        },
        {
          "output_type": "stream",
          "name": "stderr",
          "text": [
            "782it [00:46, 16.73it/s]\n"
          ]
        },
        {
          "output_type": "stream",
          "name": "stdout",
          "text": [
            "torch.Size([6255, 3]) torch.Size([6255])\n",
            "Epoch: 27 \n",
            "Train_loss: 0.7673 Train Accuracy: 0.7622 \n",
            "Validation_loss:   0.785 Validation Accuracy:   0.7485 \n",
            "\n",
            "epoch 28\n"
          ]
        },
        {
          "output_type": "stream",
          "name": "stderr",
          "text": [
            "782it [00:47, 16.35it/s]\n"
          ]
        },
        {
          "output_type": "stream",
          "name": "stdout",
          "text": [
            "torch.Size([6255, 3]) torch.Size([6255])\n",
            "Epoch: 28 \n",
            "Train_loss: 0.7672 Train Accuracy: 0.7624 \n",
            "Validation_loss:   0.7849 Validation Accuracy:   0.7482 \n",
            "\n",
            "epoch 29\n"
          ]
        },
        {
          "output_type": "stream",
          "name": "stderr",
          "text": [
            "782it [00:46, 16.75it/s]\n"
          ]
        },
        {
          "output_type": "stream",
          "name": "stdout",
          "text": [
            "torch.Size([6255, 3]) torch.Size([6255])\n",
            "Epoch: 29 \n",
            "Train_loss: 0.7671 Train Accuracy: 0.7625 \n",
            "Validation_loss:   0.7848 Validation Accuracy:   0.7479 \n",
            "\n",
            "epoch 30\n"
          ]
        },
        {
          "output_type": "stream",
          "name": "stderr",
          "text": [
            "782it [00:48, 16.17it/s]\n"
          ]
        },
        {
          "output_type": "stream",
          "name": "stdout",
          "text": [
            "torch.Size([6255, 3]) torch.Size([6255])\n",
            "Epoch: 30 \n",
            "Train_loss: 0.767 Train Accuracy: 0.7627 \n",
            "Validation_loss:   0.7848 Validation Accuracy:   0.7477 \n",
            "\n",
            "epoch 31\n"
          ]
        },
        {
          "output_type": "stream",
          "name": "stderr",
          "text": [
            "782it [00:48, 16.08it/s]\n"
          ]
        },
        {
          "output_type": "stream",
          "name": "stdout",
          "text": [
            "torch.Size([6255, 3]) torch.Size([6255])\n",
            "Epoch: 31 \n",
            "Train_loss: 0.7669 Train Accuracy: 0.7627 \n",
            "Validation_loss:   0.7847 Validation Accuracy:   0.7484 \n",
            "\n",
            "epoch 32\n"
          ]
        },
        {
          "output_type": "stream",
          "name": "stderr",
          "text": [
            "782it [00:45, 17.18it/s]\n"
          ]
        },
        {
          "output_type": "stream",
          "name": "stdout",
          "text": [
            "torch.Size([6255, 3]) torch.Size([6255])\n",
            "Epoch: 32 \n",
            "Train_loss: 0.7668 Train Accuracy: 0.7632 \n",
            "Validation_loss:   0.7847 Validation Accuracy:   0.7482 \n",
            "\n",
            "epoch 33\n"
          ]
        },
        {
          "output_type": "stream",
          "name": "stderr",
          "text": [
            "782it [00:48, 15.97it/s]\n"
          ]
        },
        {
          "output_type": "stream",
          "name": "stdout",
          "text": [
            "torch.Size([6255, 3]) torch.Size([6255])\n",
            "Epoch: 33 \n",
            "Train_loss: 0.7667 Train Accuracy: 0.7632 \n",
            "Validation_loss:   0.7846 Validation Accuracy:   0.748 \n",
            "\n",
            "epoch 34\n"
          ]
        },
        {
          "output_type": "stream",
          "name": "stderr",
          "text": [
            "782it [00:49, 15.65it/s]\n"
          ]
        },
        {
          "output_type": "stream",
          "name": "stdout",
          "text": [
            "torch.Size([6255, 3]) torch.Size([6255])\n",
            "Epoch: 34 \n",
            "Train_loss: 0.7666 Train Accuracy: 0.7636 \n",
            "Validation_loss:   0.7846 Validation Accuracy:   0.7487 \n",
            "\n",
            "epoch 35\n"
          ]
        },
        {
          "output_type": "stream",
          "name": "stderr",
          "text": [
            "782it [00:45, 17.16it/s]\n"
          ]
        },
        {
          "output_type": "stream",
          "name": "stdout",
          "text": [
            "torch.Size([6255, 3]) torch.Size([6255])\n",
            "Epoch: 35 \n",
            "Train_loss: 0.7666 Train Accuracy: 0.7637 \n",
            "Validation_loss:   0.7845 Validation Accuracy:   0.7484 \n",
            "\n",
            "epoch 36\n"
          ]
        },
        {
          "output_type": "stream",
          "name": "stderr",
          "text": [
            "782it [00:44, 17.75it/s]\n"
          ]
        },
        {
          "output_type": "stream",
          "name": "stdout",
          "text": [
            "torch.Size([6255, 3]) torch.Size([6255])\n",
            "Epoch: 36 \n",
            "Train_loss: 0.7665 Train Accuracy: 0.7638 \n",
            "Validation_loss:   0.7845 Validation Accuracy:   0.7482 \n",
            "\n",
            "epoch 37\n"
          ]
        },
        {
          "output_type": "stream",
          "name": "stderr",
          "text": [
            "782it [00:42, 18.28it/s]\n"
          ]
        },
        {
          "output_type": "stream",
          "name": "stdout",
          "text": [
            "torch.Size([6255, 3]) torch.Size([6255])\n",
            "Epoch: 37 \n",
            "Train_loss: 0.7664 Train Accuracy: 0.7639 \n",
            "Validation_loss:   0.7844 Validation Accuracy:   0.7482 \n",
            "\n",
            "epoch 38\n"
          ]
        },
        {
          "output_type": "stream",
          "name": "stderr",
          "text": [
            "782it [00:46, 16.91it/s]\n"
          ]
        },
        {
          "output_type": "stream",
          "name": "stdout",
          "text": [
            "torch.Size([6255, 3]) torch.Size([6255])\n",
            "Epoch: 38 \n",
            "Train_loss: 0.7664 Train Accuracy: 0.764 \n",
            "Validation_loss:   0.7844 Validation Accuracy:   0.7484 \n",
            "\n",
            "epoch 39\n"
          ]
        },
        {
          "output_type": "stream",
          "name": "stderr",
          "text": [
            "782it [00:46, 16.94it/s]\n"
          ]
        },
        {
          "output_type": "stream",
          "name": "stdout",
          "text": [
            "torch.Size([6255, 3]) torch.Size([6255])\n",
            "Epoch: 39 \n",
            "Train_loss: 0.7663 Train Accuracy: 0.7641 \n",
            "Validation_loss:   0.7843 Validation Accuracy:   0.748 \n",
            "\n",
            "epoch 40\n"
          ]
        },
        {
          "output_type": "stream",
          "name": "stderr",
          "text": [
            "782it [00:49, 15.71it/s]\n"
          ]
        },
        {
          "output_type": "stream",
          "name": "stdout",
          "text": [
            "torch.Size([6255, 3]) torch.Size([6255])\n",
            "Epoch: 40 \n",
            "Train_loss: 0.7662 Train Accuracy: 0.7643 \n",
            "Validation_loss:   0.7843 Validation Accuracy:   0.7487 \n",
            "\n",
            "epoch 41\n"
          ]
        },
        {
          "output_type": "stream",
          "name": "stderr",
          "text": [
            "782it [00:49, 15.65it/s]\n"
          ]
        },
        {
          "output_type": "stream",
          "name": "stdout",
          "text": [
            "torch.Size([6255, 3]) torch.Size([6255])\n",
            "Epoch: 41 \n",
            "Train_loss: 0.7662 Train Accuracy: 0.7643 \n",
            "Validation_loss:   0.7842 Validation Accuracy:   0.749 \n",
            "\n",
            "epoch 42\n"
          ]
        },
        {
          "output_type": "stream",
          "name": "stderr",
          "text": [
            "782it [00:48, 15.99it/s]\n"
          ]
        },
        {
          "output_type": "stream",
          "name": "stdout",
          "text": [
            "torch.Size([6255, 3]) torch.Size([6255])\n",
            "Epoch: 42 \n",
            "Train_loss: 0.7661 Train Accuracy: 0.7644 \n",
            "Validation_loss:   0.7842 Validation Accuracy:   0.749 \n",
            "\n",
            "epoch 43\n"
          ]
        },
        {
          "output_type": "stream",
          "name": "stderr",
          "text": [
            "782it [00:49, 15.77it/s]\n"
          ]
        },
        {
          "output_type": "stream",
          "name": "stdout",
          "text": [
            "torch.Size([6255, 3]) torch.Size([6255])\n",
            "Epoch: 43 \n",
            "Train_loss: 0.766 Train Accuracy: 0.7645 \n",
            "Validation_loss:   0.7842 Validation Accuracy:   0.7488 \n",
            "\n",
            "epoch 44\n"
          ]
        },
        {
          "output_type": "stream",
          "name": "stderr",
          "text": [
            "782it [00:52, 14.92it/s]\n"
          ]
        },
        {
          "output_type": "stream",
          "name": "stdout",
          "text": [
            "torch.Size([6255, 3]) torch.Size([6255])\n",
            "Epoch: 44 \n",
            "Train_loss: 0.766 Train Accuracy: 0.7647 \n",
            "Validation_loss:   0.7841 Validation Accuracy:   0.7488 \n",
            "\n",
            "epoch 45\n"
          ]
        },
        {
          "output_type": "stream",
          "name": "stderr",
          "text": [
            "782it [00:48, 15.97it/s]\n"
          ]
        },
        {
          "output_type": "stream",
          "name": "stdout",
          "text": [
            "torch.Size([6255, 3]) torch.Size([6255])\n",
            "Epoch: 45 \n",
            "Train_loss: 0.7659 Train Accuracy: 0.7648 \n",
            "Validation_loss:   0.7841 Validation Accuracy:   0.7492 \n",
            "\n",
            "epoch 46\n"
          ]
        },
        {
          "output_type": "stream",
          "name": "stderr",
          "text": [
            "782it [00:45, 17.12it/s]\n"
          ]
        },
        {
          "output_type": "stream",
          "name": "stdout",
          "text": [
            "torch.Size([6255, 3]) torch.Size([6255])\n",
            "Epoch: 46 \n",
            "Train_loss: 0.7659 Train Accuracy: 0.7649 \n",
            "Validation_loss:   0.7841 Validation Accuracy:   0.7492 \n",
            "\n",
            "epoch 47\n"
          ]
        },
        {
          "output_type": "stream",
          "name": "stderr",
          "text": [
            "782it [00:45, 17.34it/s]\n"
          ]
        },
        {
          "output_type": "stream",
          "name": "stdout",
          "text": [
            "torch.Size([6255, 3]) torch.Size([6255])\n",
            "Epoch: 47 \n",
            "Train_loss: 0.7658 Train Accuracy: 0.7649 \n",
            "Validation_loss:   0.784 Validation Accuracy:   0.7492 \n",
            "\n",
            "epoch 48\n"
          ]
        },
        {
          "output_type": "stream",
          "name": "stderr",
          "text": [
            "782it [00:47, 16.34it/s]\n"
          ]
        },
        {
          "output_type": "stream",
          "name": "stdout",
          "text": [
            "torch.Size([6255, 3]) torch.Size([6255])\n",
            "Epoch: 48 \n",
            "Train_loss: 0.7658 Train Accuracy: 0.7651 \n",
            "Validation_loss:   0.784 Validation Accuracy:   0.7493 \n",
            "\n",
            "epoch 49\n"
          ]
        },
        {
          "output_type": "stream",
          "name": "stderr",
          "text": [
            "782it [00:47, 16.42it/s]\n"
          ]
        },
        {
          "output_type": "stream",
          "name": "stdout",
          "text": [
            "torch.Size([6255, 3]) torch.Size([6255])\n",
            "Epoch: 49 \n",
            "Train_loss: 0.7657 Train Accuracy: 0.7653 \n",
            "Validation_loss:   0.784 Validation Accuracy:   0.749 \n",
            "\n",
            "epoch 50\n"
          ]
        },
        {
          "output_type": "stream",
          "name": "stderr",
          "text": [
            "782it [00:50, 15.64it/s]\n"
          ]
        },
        {
          "output_type": "stream",
          "name": "stdout",
          "text": [
            "torch.Size([6255, 3]) torch.Size([6255])\n",
            "Epoch: 50 \n",
            "Train_loss: 0.7657 Train Accuracy: 0.7655 \n",
            "Validation_loss:   0.784 Validation Accuracy:   0.7488 \n",
            "\n",
            "epoch 51\n"
          ]
        },
        {
          "output_type": "stream",
          "name": "stderr",
          "text": [
            "782it [00:50, 15.36it/s]\n"
          ]
        },
        {
          "output_type": "stream",
          "name": "stdout",
          "text": [
            "torch.Size([6255, 3]) torch.Size([6255])\n",
            "Epoch: 51 \n",
            "Train_loss: 0.7656 Train Accuracy: 0.7656 \n",
            "Validation_loss:   0.7839 Validation Accuracy:   0.7488 \n",
            "\n",
            "epoch 52\n"
          ]
        },
        {
          "output_type": "stream",
          "name": "stderr",
          "text": [
            "782it [00:52, 14.96it/s]\n"
          ]
        },
        {
          "output_type": "stream",
          "name": "stdout",
          "text": [
            "torch.Size([6255, 3]) torch.Size([6255])\n",
            "Epoch: 52 \n",
            "Train_loss: 0.7656 Train Accuracy: 0.7658 \n",
            "Validation_loss:   0.7839 Validation Accuracy:   0.7488 \n",
            "\n",
            "epoch 53\n"
          ]
        },
        {
          "output_type": "stream",
          "name": "stderr",
          "text": [
            "782it [00:52, 14.85it/s]\n"
          ]
        },
        {
          "output_type": "stream",
          "name": "stdout",
          "text": [
            "torch.Size([6255, 3]) torch.Size([6255])\n",
            "Epoch: 53 \n",
            "Train_loss: 0.7655 Train Accuracy: 0.7658 \n",
            "Validation_loss:   0.7839 Validation Accuracy:   0.7488 \n",
            "\n",
            "epoch 54\n"
          ]
        },
        {
          "output_type": "stream",
          "name": "stderr",
          "text": [
            "782it [00:52, 14.85it/s]\n"
          ]
        },
        {
          "output_type": "stream",
          "name": "stdout",
          "text": [
            "torch.Size([6255, 3]) torch.Size([6255])\n",
            "Epoch: 54 \n",
            "Train_loss: 0.7655 Train Accuracy: 0.7657 \n",
            "Validation_loss:   0.7839 Validation Accuracy:   0.749 \n",
            "\n",
            "epoch 55\n"
          ]
        },
        {
          "output_type": "stream",
          "name": "stderr",
          "text": [
            "782it [00:54, 14.30it/s]\n"
          ]
        },
        {
          "output_type": "stream",
          "name": "stdout",
          "text": [
            "torch.Size([6255, 3]) torch.Size([6255])\n",
            "Epoch: 55 \n",
            "Train_loss: 0.7654 Train Accuracy: 0.7657 \n",
            "Validation_loss:   0.7838 Validation Accuracy:   0.7488 \n",
            "\n",
            "epoch 56\n"
          ]
        },
        {
          "output_type": "stream",
          "name": "stderr",
          "text": [
            "782it [01:00, 12.94it/s]\n"
          ]
        },
        {
          "output_type": "stream",
          "name": "stdout",
          "text": [
            "torch.Size([6255, 3]) torch.Size([6255])\n",
            "Epoch: 56 \n",
            "Train_loss: 0.7654 Train Accuracy: 0.7658 \n",
            "Validation_loss:   0.7838 Validation Accuracy:   0.7492 \n",
            "\n",
            "epoch 57\n"
          ]
        },
        {
          "output_type": "stream",
          "name": "stderr",
          "text": [
            "782it [00:50, 15.60it/s]\n"
          ]
        },
        {
          "output_type": "stream",
          "name": "stdout",
          "text": [
            "torch.Size([6255, 3]) torch.Size([6255])\n",
            "Epoch: 57 \n",
            "Train_loss: 0.7653 Train Accuracy: 0.7658 \n",
            "Validation_loss:   0.7838 Validation Accuracy:   0.749 \n",
            "\n",
            "epoch 58\n"
          ]
        },
        {
          "output_type": "stream",
          "name": "stderr",
          "text": [
            "782it [00:50, 15.56it/s]\n"
          ]
        },
        {
          "output_type": "stream",
          "name": "stdout",
          "text": [
            "torch.Size([6255, 3]) torch.Size([6255])\n",
            "Epoch: 58 \n",
            "Train_loss: 0.7653 Train Accuracy: 0.7661 \n",
            "Validation_loss:   0.7838 Validation Accuracy:   0.7487 \n",
            "\n",
            "epoch 59\n"
          ]
        },
        {
          "output_type": "stream",
          "name": "stderr",
          "text": [
            "782it [00:51, 15.09it/s]\n"
          ]
        },
        {
          "output_type": "stream",
          "name": "stdout",
          "text": [
            "torch.Size([6255, 3]) torch.Size([6255])\n",
            "Epoch: 59 \n",
            "Train_loss: 0.7652 Train Accuracy: 0.766 \n",
            "Validation_loss:   0.7837 Validation Accuracy:   0.749 \n",
            "\n",
            "epoch 60\n"
          ]
        },
        {
          "output_type": "stream",
          "name": "stderr",
          "text": [
            "782it [00:48, 16.08it/s]\n"
          ]
        },
        {
          "output_type": "stream",
          "name": "stdout",
          "text": [
            "torch.Size([6255, 3]) torch.Size([6255])\n",
            "Epoch: 60 \n",
            "Train_loss: 0.7652 Train Accuracy: 0.7661 \n",
            "Validation_loss:   0.7837 Validation Accuracy:   0.7492 \n",
            "\n",
            "epoch 61\n"
          ]
        },
        {
          "output_type": "stream",
          "name": "stderr",
          "text": [
            "782it [00:51, 15.23it/s]\n"
          ]
        },
        {
          "output_type": "stream",
          "name": "stdout",
          "text": [
            "torch.Size([6255, 3]) torch.Size([6255])\n",
            "Epoch: 61 \n",
            "Train_loss: 0.7652 Train Accuracy: 0.766 \n",
            "Validation_loss:   0.7837 Validation Accuracy:   0.7493 \n",
            "\n",
            "epoch 62\n"
          ]
        },
        {
          "output_type": "stream",
          "name": "stderr",
          "text": [
            "782it [01:02, 12.48it/s]\n"
          ]
        },
        {
          "output_type": "stream",
          "name": "stdout",
          "text": [
            "torch.Size([6255, 3]) torch.Size([6255])\n",
            "Epoch: 62 \n",
            "Train_loss: 0.7651 Train Accuracy: 0.7661 \n",
            "Validation_loss:   0.7836 Validation Accuracy:   0.749 \n",
            "\n",
            "epoch 63\n"
          ]
        },
        {
          "output_type": "stream",
          "name": "stderr",
          "text": [
            "782it [01:02, 12.57it/s]\n"
          ]
        },
        {
          "output_type": "stream",
          "name": "stdout",
          "text": [
            "torch.Size([6255, 3]) torch.Size([6255])\n",
            "Epoch: 63 \n",
            "Train_loss: 0.7651 Train Accuracy: 0.7662 \n",
            "Validation_loss:   0.7836 Validation Accuracy:   0.7492 \n",
            "\n",
            "epoch 64\n"
          ]
        },
        {
          "output_type": "stream",
          "name": "stderr",
          "text": [
            "782it [01:06, 11.72it/s]\n"
          ]
        },
        {
          "output_type": "stream",
          "name": "stdout",
          "text": [
            "torch.Size([6255, 3]) torch.Size([6255])\n",
            "Epoch: 64 \n",
            "Train_loss: 0.765 Train Accuracy: 0.7665 \n",
            "Validation_loss:   0.7836 Validation Accuracy:   0.7493 \n",
            "\n",
            "epoch 65\n"
          ]
        },
        {
          "output_type": "stream",
          "name": "stderr",
          "text": [
            "782it [01:05, 11.87it/s]\n"
          ]
        },
        {
          "output_type": "stream",
          "name": "stdout",
          "text": [
            "torch.Size([6255, 3]) torch.Size([6255])\n",
            "Epoch: 65 \n",
            "Train_loss: 0.765 Train Accuracy: 0.7665 \n",
            "Validation_loss:   0.7836 Validation Accuracy:   0.7495 \n",
            "\n",
            "epoch 66\n"
          ]
        },
        {
          "output_type": "stream",
          "name": "stderr",
          "text": [
            "782it [00:56, 13.84it/s]\n"
          ]
        },
        {
          "output_type": "stream",
          "name": "stdout",
          "text": [
            "torch.Size([6255, 3]) torch.Size([6255])\n",
            "Epoch: 66 \n",
            "Train_loss: 0.7649 Train Accuracy: 0.7662 \n",
            "Validation_loss:   0.7835 Validation Accuracy:   0.749 \n",
            "\n",
            "epoch 67\n"
          ]
        },
        {
          "output_type": "stream",
          "name": "stderr",
          "text": [
            "782it [01:04, 12.19it/s]\n"
          ]
        },
        {
          "output_type": "stream",
          "name": "stdout",
          "text": [
            "torch.Size([6255, 3]) torch.Size([6255])\n",
            "Epoch: 67 \n",
            "Train_loss: 0.7649 Train Accuracy: 0.7666 \n",
            "Validation_loss:   0.7835 Validation Accuracy:   0.7495 \n",
            "\n",
            "epoch 68\n"
          ]
        },
        {
          "output_type": "stream",
          "name": "stderr",
          "text": [
            "782it [01:10, 11.13it/s]\n"
          ]
        },
        {
          "output_type": "stream",
          "name": "stdout",
          "text": [
            "torch.Size([6255, 3]) torch.Size([6255])\n",
            "Epoch: 68 \n",
            "Train_loss: 0.7649 Train Accuracy: 0.7666 \n",
            "Validation_loss:   0.7835 Validation Accuracy:   0.749 \n",
            "\n",
            "epoch 69\n"
          ]
        },
        {
          "output_type": "stream",
          "name": "stderr",
          "text": [
            "782it [01:01, 12.81it/s]\n"
          ]
        },
        {
          "output_type": "stream",
          "name": "stdout",
          "text": [
            "torch.Size([6255, 3]) torch.Size([6255])\n",
            "Epoch: 69 \n",
            "Train_loss: 0.7648 Train Accuracy: 0.7667 \n",
            "Validation_loss:   0.7835 Validation Accuracy:   0.749 \n",
            "\n",
            "epoch 70\n"
          ]
        },
        {
          "output_type": "stream",
          "name": "stderr",
          "text": [
            "782it [01:07, 11.52it/s]\n"
          ]
        },
        {
          "output_type": "stream",
          "name": "stdout",
          "text": [
            "torch.Size([6255, 3]) torch.Size([6255])\n",
            "Epoch: 70 \n",
            "Train_loss: 0.7648 Train Accuracy: 0.7667 \n",
            "Validation_loss:   0.7834 Validation Accuracy:   0.7488 \n",
            "\n",
            "epoch 71\n"
          ]
        },
        {
          "output_type": "stream",
          "name": "stderr",
          "text": [
            "782it [01:08, 11.38it/s]\n"
          ]
        },
        {
          "output_type": "stream",
          "name": "stdout",
          "text": [
            "torch.Size([6255, 3]) torch.Size([6255])\n",
            "Epoch: 71 \n",
            "Train_loss: 0.7647 Train Accuracy: 0.7667 \n",
            "Validation_loss:   0.7834 Validation Accuracy:   0.7488 \n",
            "\n",
            "epoch 72\n"
          ]
        },
        {
          "output_type": "stream",
          "name": "stderr",
          "text": [
            "782it [01:10, 11.04it/s]\n"
          ]
        },
        {
          "output_type": "stream",
          "name": "stdout",
          "text": [
            "torch.Size([6255, 3]) torch.Size([6255])\n",
            "Epoch: 72 \n",
            "Train_loss: 0.7647 Train Accuracy: 0.7668 \n",
            "Validation_loss:   0.7834 Validation Accuracy:   0.7498 \n",
            "\n",
            "epoch 73\n"
          ]
        },
        {
          "output_type": "stream",
          "name": "stderr",
          "text": [
            "782it [01:04, 12.06it/s]\n"
          ]
        },
        {
          "output_type": "stream",
          "name": "stdout",
          "text": [
            "torch.Size([6255, 3]) torch.Size([6255])\n",
            "Epoch: 73 \n",
            "Train_loss: 0.7647 Train Accuracy: 0.7668 \n",
            "Validation_loss:   0.7834 Validation Accuracy:   0.7498 \n",
            "\n",
            "epoch 74\n"
          ]
        },
        {
          "output_type": "stream",
          "name": "stderr",
          "text": [
            "782it [01:04, 12.20it/s]\n"
          ]
        },
        {
          "output_type": "stream",
          "name": "stdout",
          "text": [
            "torch.Size([6255, 3]) torch.Size([6255])\n",
            "Epoch: 74 \n",
            "Train_loss: 0.7646 Train Accuracy: 0.7668 \n",
            "Validation_loss:   0.7833 Validation Accuracy:   0.7496 \n",
            "\n",
            "epoch 75\n"
          ]
        },
        {
          "output_type": "stream",
          "name": "stderr",
          "text": [
            "782it [01:00, 12.94it/s]\n"
          ]
        },
        {
          "output_type": "stream",
          "name": "stdout",
          "text": [
            "torch.Size([6255, 3]) torch.Size([6255])\n",
            "Epoch: 75 \n",
            "Train_loss: 0.7646 Train Accuracy: 0.7668 \n",
            "Validation_loss:   0.7833 Validation Accuracy:   0.7495 \n",
            "\n",
            "epoch 76\n"
          ]
        },
        {
          "output_type": "stream",
          "name": "stderr",
          "text": [
            "782it [00:57, 13.60it/s]\n"
          ]
        },
        {
          "output_type": "stream",
          "name": "stdout",
          "text": [
            "torch.Size([6255, 3]) torch.Size([6255])\n",
            "Epoch: 76 \n",
            "Train_loss: 0.7645 Train Accuracy: 0.7668 \n",
            "Validation_loss:   0.7833 Validation Accuracy:   0.7496 \n",
            "\n",
            "epoch 77\n"
          ]
        },
        {
          "output_type": "stream",
          "name": "stderr",
          "text": [
            "782it [01:06, 11.70it/s]\n"
          ]
        },
        {
          "output_type": "stream",
          "name": "stdout",
          "text": [
            "torch.Size([6255, 3]) torch.Size([6255])\n",
            "Epoch: 77 \n",
            "Train_loss: 0.7645 Train Accuracy: 0.7668 \n",
            "Validation_loss:   0.7833 Validation Accuracy:   0.7496 \n",
            "\n",
            "epoch 78\n"
          ]
        },
        {
          "output_type": "stream",
          "name": "stderr",
          "text": [
            "782it [01:07, 11.65it/s]\n"
          ]
        },
        {
          "output_type": "stream",
          "name": "stdout",
          "text": [
            "torch.Size([6255, 3]) torch.Size([6255])\n",
            "Epoch: 78 \n",
            "Train_loss: 0.7645 Train Accuracy: 0.7669 \n",
            "Validation_loss:   0.7833 Validation Accuracy:   0.7495 \n",
            "\n",
            "epoch 79\n"
          ]
        },
        {
          "output_type": "stream",
          "name": "stderr",
          "text": [
            "782it [00:59, 13.18it/s]\n"
          ]
        },
        {
          "output_type": "stream",
          "name": "stdout",
          "text": [
            "torch.Size([6255, 3]) torch.Size([6255])\n",
            "Epoch: 79 \n",
            "Train_loss: 0.7644 Train Accuracy: 0.7671 \n",
            "Validation_loss:   0.7832 Validation Accuracy:   0.7493 \n",
            "\n",
            "epoch 80\n"
          ]
        },
        {
          "output_type": "stream",
          "name": "stderr",
          "text": [
            "782it [01:08, 11.40it/s]\n"
          ]
        },
        {
          "output_type": "stream",
          "name": "stdout",
          "text": [
            "torch.Size([6255, 3]) torch.Size([6255])\n",
            "Epoch: 80 \n",
            "Train_loss: 0.7644 Train Accuracy: 0.7672 \n",
            "Validation_loss:   0.7832 Validation Accuracy:   0.7493 \n",
            "\n",
            "epoch 81\n"
          ]
        },
        {
          "output_type": "stream",
          "name": "stderr",
          "text": [
            "782it [01:08, 11.40it/s]\n"
          ]
        },
        {
          "output_type": "stream",
          "name": "stdout",
          "text": [
            "torch.Size([6255, 3]) torch.Size([6255])\n",
            "Epoch: 81 \n",
            "Train_loss: 0.7643 Train Accuracy: 0.7673 \n",
            "Validation_loss:   0.7832 Validation Accuracy:   0.7493 \n",
            "\n",
            "epoch 82\n"
          ]
        },
        {
          "output_type": "stream",
          "name": "stderr",
          "text": [
            "782it [01:04, 12.21it/s]\n"
          ]
        },
        {
          "output_type": "stream",
          "name": "stdout",
          "text": [
            "torch.Size([6255, 3]) torch.Size([6255])\n",
            "Epoch: 82 \n",
            "Train_loss: 0.7643 Train Accuracy: 0.7673 \n",
            "Validation_loss:   0.7832 Validation Accuracy:   0.7493 \n",
            "\n",
            "epoch 83\n"
          ]
        },
        {
          "output_type": "stream",
          "name": "stderr",
          "text": [
            "782it [01:08, 11.48it/s]\n"
          ]
        },
        {
          "output_type": "stream",
          "name": "stdout",
          "text": [
            "torch.Size([6255, 3]) torch.Size([6255])\n",
            "Epoch: 83 \n",
            "Train_loss: 0.7643 Train Accuracy: 0.7672 \n",
            "Validation_loss:   0.7831 Validation Accuracy:   0.7492 \n",
            "\n",
            "epoch 84\n"
          ]
        },
        {
          "output_type": "stream",
          "name": "stderr",
          "text": [
            "782it [01:04, 12.08it/s]\n"
          ]
        },
        {
          "output_type": "stream",
          "name": "stdout",
          "text": [
            "torch.Size([6255, 3]) torch.Size([6255])\n",
            "Epoch: 84 \n",
            "Train_loss: 0.7642 Train Accuracy: 0.7673 \n",
            "Validation_loss:   0.7831 Validation Accuracy:   0.7493 \n",
            "\n",
            "epoch 85\n"
          ]
        },
        {
          "output_type": "stream",
          "name": "stderr",
          "text": [
            "782it [01:07, 11.53it/s]\n"
          ]
        },
        {
          "output_type": "stream",
          "name": "stdout",
          "text": [
            "torch.Size([6255, 3]) torch.Size([6255])\n",
            "Epoch: 85 \n",
            "Train_loss: 0.7642 Train Accuracy: 0.7675 \n",
            "Validation_loss:   0.7831 Validation Accuracy:   0.7493 \n",
            "\n",
            "epoch 86\n"
          ]
        },
        {
          "output_type": "stream",
          "name": "stderr",
          "text": [
            "782it [01:00, 12.94it/s]\n"
          ]
        },
        {
          "output_type": "stream",
          "name": "stdout",
          "text": [
            "torch.Size([6255, 3]) torch.Size([6255])\n",
            "Epoch: 86 \n",
            "Train_loss: 0.7642 Train Accuracy: 0.7676 \n",
            "Validation_loss:   0.7831 Validation Accuracy:   0.7493 \n",
            "\n",
            "epoch 87\n"
          ]
        },
        {
          "output_type": "stream",
          "name": "stderr",
          "text": [
            "782it [01:05, 11.92it/s]\n"
          ]
        },
        {
          "output_type": "stream",
          "name": "stdout",
          "text": [
            "torch.Size([6255, 3]) torch.Size([6255])\n",
            "Epoch: 87 \n",
            "Train_loss: 0.7641 Train Accuracy: 0.7676 \n",
            "Validation_loss:   0.7831 Validation Accuracy:   0.7493 \n",
            "\n",
            "epoch 88\n"
          ]
        },
        {
          "output_type": "stream",
          "name": "stderr",
          "text": [
            "782it [01:04, 12.18it/s]\n"
          ]
        },
        {
          "output_type": "stream",
          "name": "stdout",
          "text": [
            "torch.Size([6255, 3]) torch.Size([6255])\n",
            "Epoch: 88 \n",
            "Train_loss: 0.7641 Train Accuracy: 0.7677 \n",
            "Validation_loss:   0.7831 Validation Accuracy:   0.7493 \n",
            "\n",
            "epoch 89\n"
          ]
        },
        {
          "output_type": "stream",
          "name": "stderr",
          "text": [
            "782it [01:02, 12.59it/s]\n"
          ]
        },
        {
          "output_type": "stream",
          "name": "stdout",
          "text": [
            "torch.Size([6255, 3]) torch.Size([6255])\n",
            "Epoch: 89 \n",
            "Train_loss: 0.7641 Train Accuracy: 0.7677 \n",
            "Validation_loss:   0.783 Validation Accuracy:   0.7493 \n",
            "\n",
            "epoch 90\n"
          ]
        },
        {
          "output_type": "stream",
          "name": "stderr",
          "text": [
            "782it [01:08, 11.38it/s]\n"
          ]
        },
        {
          "output_type": "stream",
          "name": "stdout",
          "text": [
            "torch.Size([6255, 3]) torch.Size([6255])\n",
            "Epoch: 90 \n",
            "Train_loss: 0.764 Train Accuracy: 0.7678 \n",
            "Validation_loss:   0.783 Validation Accuracy:   0.7495 \n",
            "\n",
            "epoch 91\n"
          ]
        },
        {
          "output_type": "stream",
          "name": "stderr",
          "text": [
            "782it [01:02, 12.51it/s]\n"
          ]
        },
        {
          "output_type": "stream",
          "name": "stdout",
          "text": [
            "torch.Size([6255, 3]) torch.Size([6255])\n",
            "Epoch: 91 \n",
            "Train_loss: 0.764 Train Accuracy: 0.7679 \n",
            "Validation_loss:   0.783 Validation Accuracy:   0.7495 \n",
            "\n",
            "epoch 92\n"
          ]
        },
        {
          "output_type": "stream",
          "name": "stderr",
          "text": [
            "782it [01:11, 10.97it/s]\n"
          ]
        },
        {
          "output_type": "stream",
          "name": "stdout",
          "text": [
            "torch.Size([6255, 3]) torch.Size([6255])\n",
            "Epoch: 92 \n",
            "Train_loss: 0.764 Train Accuracy: 0.7679 \n",
            "Validation_loss:   0.783 Validation Accuracy:   0.7496 \n",
            "\n",
            "epoch 93\n"
          ]
        },
        {
          "output_type": "stream",
          "name": "stderr",
          "text": [
            "782it [01:17, 10.05it/s]\n"
          ]
        },
        {
          "output_type": "stream",
          "name": "stdout",
          "text": [
            "torch.Size([6255, 3]) torch.Size([6255])\n",
            "Epoch: 93 \n",
            "Train_loss: 0.764 Train Accuracy: 0.7679 \n",
            "Validation_loss:   0.783 Validation Accuracy:   0.7496 \n",
            "\n",
            "epoch 94\n"
          ]
        },
        {
          "output_type": "stream",
          "name": "stderr",
          "text": [
            "782it [01:14, 10.57it/s]\n"
          ]
        },
        {
          "output_type": "stream",
          "name": "stdout",
          "text": [
            "torch.Size([6255, 3]) torch.Size([6255])\n",
            "Epoch: 94 \n",
            "Train_loss: 0.7639 Train Accuracy: 0.7679 \n",
            "Validation_loss:   0.7829 Validation Accuracy:   0.7495 \n",
            "\n",
            "epoch 95\n"
          ]
        },
        {
          "output_type": "stream",
          "name": "stderr",
          "text": [
            "782it [01:09, 11.28it/s]\n"
          ]
        },
        {
          "output_type": "stream",
          "name": "stdout",
          "text": [
            "torch.Size([6255, 3]) torch.Size([6255])\n",
            "Epoch: 95 \n",
            "Train_loss: 0.7639 Train Accuracy: 0.7679 \n",
            "Validation_loss:   0.7829 Validation Accuracy:   0.7496 \n",
            "\n",
            "epoch 96\n"
          ]
        },
        {
          "output_type": "stream",
          "name": "stderr",
          "text": [
            "782it [01:03, 12.33it/s]\n"
          ]
        },
        {
          "output_type": "stream",
          "name": "stdout",
          "text": [
            "torch.Size([6255, 3]) torch.Size([6255])\n",
            "Epoch: 96 \n",
            "Train_loss: 0.7639 Train Accuracy: 0.7679 \n",
            "Validation_loss:   0.7829 Validation Accuracy:   0.7493 \n",
            "\n",
            "epoch 97\n"
          ]
        },
        {
          "output_type": "stream",
          "name": "stderr",
          "text": [
            "782it [01:01, 12.78it/s]\n"
          ]
        },
        {
          "output_type": "stream",
          "name": "stdout",
          "text": [
            "torch.Size([6255, 3]) torch.Size([6255])\n",
            "Epoch: 97 \n",
            "Train_loss: 0.7638 Train Accuracy: 0.7681 \n",
            "Validation_loss:   0.7829 Validation Accuracy:   0.7496 \n",
            "\n",
            "epoch 98\n"
          ]
        },
        {
          "output_type": "stream",
          "name": "stderr",
          "text": [
            "782it [01:05, 12.00it/s]\n"
          ]
        },
        {
          "output_type": "stream",
          "name": "stdout",
          "text": [
            "torch.Size([6255, 3]) torch.Size([6255])\n",
            "Epoch: 98 \n",
            "Train_loss: 0.7638 Train Accuracy: 0.768 \n",
            "Validation_loss:   0.7829 Validation Accuracy:   0.7495 \n",
            "\n",
            "epoch 99\n"
          ]
        },
        {
          "output_type": "stream",
          "name": "stderr",
          "text": [
            "782it [01:10, 11.02it/s]\n"
          ]
        },
        {
          "output_type": "stream",
          "name": "stdout",
          "text": [
            "torch.Size([6255, 3]) torch.Size([6255])\n",
            "Epoch: 99 \n",
            "Train_loss: 0.7638 Train Accuracy: 0.7681 \n",
            "Validation_loss:   0.7829 Validation Accuracy:   0.7496 \n",
            "\n",
            "epoch 100\n"
          ]
        },
        {
          "output_type": "stream",
          "name": "stderr",
          "text": [
            "782it [01:09, 11.25it/s]\n"
          ]
        },
        {
          "output_type": "stream",
          "name": "stdout",
          "text": [
            "torch.Size([6255, 3]) torch.Size([6255])\n",
            "Epoch: 100 \n",
            "Train_loss: 0.7638 Train Accuracy: 0.768 \n",
            "Validation_loss:   0.7829 Validation Accuracy:   0.7493 \n",
            "\n",
            "epoch 101\n"
          ]
        },
        {
          "output_type": "stream",
          "name": "stderr",
          "text": [
            "782it [01:04, 12.18it/s]\n"
          ]
        },
        {
          "output_type": "stream",
          "name": "stdout",
          "text": [
            "torch.Size([6255, 3]) torch.Size([6255])\n",
            "Epoch: 101 \n",
            "Train_loss: 0.7637 Train Accuracy: 0.7682 \n",
            "Validation_loss:   0.7828 Validation Accuracy:   0.7498 \n",
            "\n",
            "epoch 102\n"
          ]
        },
        {
          "output_type": "stream",
          "name": "stderr",
          "text": [
            "782it [01:06, 11.71it/s]\n"
          ]
        },
        {
          "output_type": "stream",
          "name": "stdout",
          "text": [
            "torch.Size([6255, 3]) torch.Size([6255])\n",
            "Epoch: 102 \n",
            "Train_loss: 0.7637 Train Accuracy: 0.768 \n",
            "Validation_loss:   0.7828 Validation Accuracy:   0.7495 \n",
            "\n",
            "epoch 103\n"
          ]
        },
        {
          "output_type": "stream",
          "name": "stderr",
          "text": [
            "782it [01:01, 12.72it/s]\n"
          ]
        },
        {
          "output_type": "stream",
          "name": "stdout",
          "text": [
            "torch.Size([6255, 3]) torch.Size([6255])\n",
            "Epoch: 103 \n",
            "Train_loss: 0.7637 Train Accuracy: 0.7681 \n",
            "Validation_loss:   0.7828 Validation Accuracy:   0.7506 \n",
            "\n",
            "epoch 104\n"
          ]
        },
        {
          "output_type": "stream",
          "name": "stderr",
          "text": [
            "782it [01:11, 10.93it/s]\n"
          ]
        },
        {
          "output_type": "stream",
          "name": "stdout",
          "text": [
            "torch.Size([6255, 3]) torch.Size([6255])\n",
            "Epoch: 104 \n",
            "Train_loss: 0.7637 Train Accuracy: 0.7681 \n",
            "Validation_loss:   0.7828 Validation Accuracy:   0.7493 \n",
            "\n",
            "epoch 105\n"
          ]
        },
        {
          "output_type": "stream",
          "name": "stderr",
          "text": [
            "782it [01:11, 10.89it/s]\n"
          ]
        },
        {
          "output_type": "stream",
          "name": "stdout",
          "text": [
            "torch.Size([6255, 3]) torch.Size([6255])\n",
            "Epoch: 105 \n",
            "Train_loss: 0.7636 Train Accuracy: 0.7682 \n",
            "Validation_loss:   0.7828 Validation Accuracy:   0.7495 \n",
            "\n",
            "epoch 106\n"
          ]
        },
        {
          "output_type": "stream",
          "name": "stderr",
          "text": [
            "782it [01:02, 12.59it/s]\n"
          ]
        },
        {
          "output_type": "stream",
          "name": "stdout",
          "text": [
            "torch.Size([6255, 3]) torch.Size([6255])\n",
            "Epoch: 106 \n",
            "Train_loss: 0.7636 Train Accuracy: 0.7682 \n",
            "Validation_loss:   0.7828 Validation Accuracy:   0.7495 \n",
            "\n",
            "epoch 107\n"
          ]
        },
        {
          "output_type": "stream",
          "name": "stderr",
          "text": [
            "782it [01:06, 11.70it/s]\n"
          ]
        },
        {
          "output_type": "stream",
          "name": "stdout",
          "text": [
            "torch.Size([6255, 3]) torch.Size([6255])\n",
            "Epoch: 107 \n",
            "Train_loss: 0.7636 Train Accuracy: 0.7682 \n",
            "Validation_loss:   0.7828 Validation Accuracy:   0.7508 \n",
            "\n",
            "epoch 108\n"
          ]
        },
        {
          "output_type": "stream",
          "name": "stderr",
          "text": [
            "782it [01:03, 12.30it/s]\n"
          ]
        },
        {
          "output_type": "stream",
          "name": "stdout",
          "text": [
            "torch.Size([6255, 3]) torch.Size([6255])\n",
            "Epoch: 108 \n",
            "Train_loss: 0.7636 Train Accuracy: 0.7683 \n",
            "Validation_loss:   0.7828 Validation Accuracy:   0.7495 \n",
            "\n",
            "epoch 109\n"
          ]
        },
        {
          "output_type": "stream",
          "name": "stderr",
          "text": [
            "782it [01:03, 12.28it/s]\n"
          ]
        },
        {
          "output_type": "stream",
          "name": "stdout",
          "text": [
            "torch.Size([6255, 3]) torch.Size([6255])\n",
            "Epoch: 109 \n",
            "Train_loss: 0.7636 Train Accuracy: 0.7684 \n",
            "Validation_loss:   0.7828 Validation Accuracy:   0.7506 \n",
            "\n",
            "epoch 110\n"
          ]
        },
        {
          "output_type": "stream",
          "name": "stderr",
          "text": [
            "782it [01:16, 10.22it/s]\n"
          ]
        },
        {
          "output_type": "stream",
          "name": "stdout",
          "text": [
            "torch.Size([6255, 3]) torch.Size([6255])\n",
            "Epoch: 110 \n",
            "Train_loss: 0.7635 Train Accuracy: 0.7683 \n",
            "Validation_loss:   0.7827 Validation Accuracy:   0.7495 \n",
            "\n",
            "epoch 111\n"
          ]
        },
        {
          "output_type": "stream",
          "name": "stderr",
          "text": [
            "782it [01:19,  9.84it/s]\n"
          ]
        },
        {
          "output_type": "stream",
          "name": "stdout",
          "text": [
            "torch.Size([6255, 3]) torch.Size([6255])\n",
            "Epoch: 111 \n",
            "Train_loss: 0.7635 Train Accuracy: 0.7684 \n",
            "Validation_loss:   0.7827 Validation Accuracy:   0.7506 \n",
            "\n",
            "epoch 112\n"
          ]
        },
        {
          "output_type": "stream",
          "name": "stderr",
          "text": [
            "782it [01:13, 10.66it/s]\n"
          ]
        },
        {
          "output_type": "stream",
          "name": "stdout",
          "text": [
            "torch.Size([6255, 3]) torch.Size([6255])\n",
            "Epoch: 112 \n",
            "Train_loss: 0.7635 Train Accuracy: 0.7682 \n",
            "Validation_loss:   0.7827 Validation Accuracy:   0.7504 \n",
            "\n",
            "epoch 113\n"
          ]
        },
        {
          "output_type": "stream",
          "name": "stderr",
          "text": [
            "782it [01:05, 11.91it/s]\n"
          ]
        },
        {
          "output_type": "stream",
          "name": "stdout",
          "text": [
            "torch.Size([6255, 3]) torch.Size([6255])\n",
            "Epoch: 113 \n",
            "Train_loss: 0.7635 Train Accuracy: 0.7685 \n",
            "Validation_loss:   0.7827 Validation Accuracy:   0.7506 \n",
            "\n",
            "epoch 114\n"
          ]
        },
        {
          "output_type": "stream",
          "name": "stderr",
          "text": [
            "782it [01:04, 12.05it/s]\n"
          ]
        },
        {
          "output_type": "stream",
          "name": "stdout",
          "text": [
            "torch.Size([6255, 3]) torch.Size([6255])\n",
            "Epoch: 114 \n",
            "Train_loss: 0.7635 Train Accuracy: 0.7683 \n",
            "Validation_loss:   0.7827 Validation Accuracy:   0.7504 \n",
            "\n",
            "epoch 115\n"
          ]
        },
        {
          "output_type": "stream",
          "name": "stderr",
          "text": [
            "782it [01:02, 12.45it/s]\n"
          ]
        },
        {
          "output_type": "stream",
          "name": "stdout",
          "text": [
            "torch.Size([6255, 3]) torch.Size([6255])\n",
            "Epoch: 115 \n",
            "Train_loss: 0.7634 Train Accuracy: 0.7683 \n",
            "Validation_loss:   0.7827 Validation Accuracy:   0.7506 \n",
            "\n",
            "epoch 116\n"
          ]
        },
        {
          "output_type": "stream",
          "name": "stderr",
          "text": [
            "782it [01:08, 11.41it/s]\n"
          ]
        },
        {
          "output_type": "stream",
          "name": "stdout",
          "text": [
            "torch.Size([6255, 3]) torch.Size([6255])\n",
            "Epoch: 116 \n",
            "Train_loss: 0.7634 Train Accuracy: 0.7684 \n",
            "Validation_loss:   0.7827 Validation Accuracy:   0.7506 \n",
            "\n",
            "epoch 117\n"
          ]
        },
        {
          "output_type": "stream",
          "name": "stderr",
          "text": [
            "782it [00:59, 13.11it/s]\n"
          ]
        },
        {
          "output_type": "stream",
          "name": "stdout",
          "text": [
            "torch.Size([6255, 3]) torch.Size([6255])\n",
            "Epoch: 117 \n",
            "Train_loss: 0.7634 Train Accuracy: 0.7683 \n",
            "Validation_loss:   0.7827 Validation Accuracy:   0.7504 \n",
            "\n",
            "epoch 118\n"
          ]
        },
        {
          "output_type": "stream",
          "name": "stderr",
          "text": [
            "782it [00:59, 13.13it/s]\n"
          ]
        },
        {
          "output_type": "stream",
          "name": "stdout",
          "text": [
            "torch.Size([6255, 3]) torch.Size([6255])\n",
            "Epoch: 118 \n",
            "Train_loss: 0.7634 Train Accuracy: 0.7685 \n",
            "Validation_loss:   0.7826 Validation Accuracy:   0.7508 \n",
            "\n",
            "epoch 119\n"
          ]
        },
        {
          "output_type": "stream",
          "name": "stderr",
          "text": [
            "782it [00:58, 13.31it/s]\n"
          ]
        },
        {
          "output_type": "stream",
          "name": "stdout",
          "text": [
            "torch.Size([6255, 3]) torch.Size([6255])\n",
            "Epoch: 119 \n",
            "Train_loss: 0.7634 Train Accuracy: 0.7683 \n",
            "Validation_loss:   0.7826 Validation Accuracy:   0.7506 \n",
            "\n",
            "epoch 120\n"
          ]
        },
        {
          "output_type": "stream",
          "name": "stderr",
          "text": [
            "782it [01:01, 12.76it/s]\n"
          ]
        },
        {
          "output_type": "stream",
          "name": "stdout",
          "text": [
            "torch.Size([6255, 3]) torch.Size([6255])\n",
            "Epoch: 120 \n",
            "Train_loss: 0.7633 Train Accuracy: 0.7683 \n",
            "Validation_loss:   0.7826 Validation Accuracy:   0.7508 \n",
            "\n",
            "epoch 121\n"
          ]
        },
        {
          "output_type": "stream",
          "name": "stderr",
          "text": [
            "782it [00:59, 13.18it/s]\n"
          ]
        },
        {
          "output_type": "stream",
          "name": "stdout",
          "text": [
            "torch.Size([6255, 3]) torch.Size([6255])\n",
            "Epoch: 121 \n",
            "Train_loss: 0.7633 Train Accuracy: 0.7683 \n",
            "Validation_loss:   0.7826 Validation Accuracy:   0.7508 \n",
            "\n",
            "epoch 122\n"
          ]
        },
        {
          "output_type": "stream",
          "name": "stderr",
          "text": [
            "782it [01:01, 12.69it/s]\n"
          ]
        },
        {
          "output_type": "stream",
          "name": "stdout",
          "text": [
            "torch.Size([6255, 3]) torch.Size([6255])\n",
            "Epoch: 122 \n",
            "Train_loss: 0.7633 Train Accuracy: 0.7685 \n",
            "Validation_loss:   0.7826 Validation Accuracy:   0.7506 \n",
            "\n",
            "epoch 123\n"
          ]
        },
        {
          "output_type": "stream",
          "name": "stderr",
          "text": [
            "782it [00:58, 13.37it/s]\n"
          ]
        },
        {
          "output_type": "stream",
          "name": "stdout",
          "text": [
            "torch.Size([6255, 3]) torch.Size([6255])\n",
            "Epoch: 123 \n",
            "Train_loss: 0.7633 Train Accuracy: 0.7685 \n",
            "Validation_loss:   0.7826 Validation Accuracy:   0.7508 \n",
            "\n",
            "epoch 124\n"
          ]
        },
        {
          "output_type": "stream",
          "name": "stderr",
          "text": [
            "782it [01:01, 12.68it/s]\n"
          ]
        },
        {
          "output_type": "stream",
          "name": "stdout",
          "text": [
            "torch.Size([6255, 3]) torch.Size([6255])\n",
            "Epoch: 124 \n",
            "Train_loss: 0.7633 Train Accuracy: 0.7685 \n",
            "Validation_loss:   0.7826 Validation Accuracy:   0.7508 \n",
            "\n",
            "epoch 125\n"
          ]
        },
        {
          "output_type": "stream",
          "name": "stderr",
          "text": [
            "782it [00:59, 13.13it/s]\n"
          ]
        },
        {
          "output_type": "stream",
          "name": "stdout",
          "text": [
            "torch.Size([6255, 3]) torch.Size([6255])\n",
            "Epoch: 125 \n",
            "Train_loss: 0.7632 Train Accuracy: 0.7687 \n",
            "Validation_loss:   0.7826 Validation Accuracy:   0.7506 \n",
            "\n",
            "epoch 126\n"
          ]
        },
        {
          "output_type": "stream",
          "name": "stderr",
          "text": [
            "782it [01:01, 12.74it/s]\n"
          ]
        },
        {
          "output_type": "stream",
          "name": "stdout",
          "text": [
            "torch.Size([6255, 3]) torch.Size([6255])\n",
            "Epoch: 126 \n",
            "Train_loss: 0.7632 Train Accuracy: 0.7686 \n",
            "Validation_loss:   0.7826 Validation Accuracy:   0.7504 \n",
            "\n",
            "epoch 127\n"
          ]
        },
        {
          "output_type": "stream",
          "name": "stderr",
          "text": [
            "782it [01:00, 12.88it/s]\n"
          ]
        },
        {
          "output_type": "stream",
          "name": "stdout",
          "text": [
            "torch.Size([6255, 3]) torch.Size([6255])\n",
            "Epoch: 127 \n",
            "Train_loss: 0.7632 Train Accuracy: 0.7685 \n",
            "Validation_loss:   0.7826 Validation Accuracy:   0.7508 \n",
            "\n",
            "epoch 128\n"
          ]
        },
        {
          "output_type": "stream",
          "name": "stderr",
          "text": [
            "782it [01:02, 12.60it/s]\n"
          ]
        },
        {
          "output_type": "stream",
          "name": "stdout",
          "text": [
            "torch.Size([6255, 3]) torch.Size([6255])\n",
            "Epoch: 128 \n",
            "Train_loss: 0.7632 Train Accuracy: 0.7686 \n",
            "Validation_loss:   0.7826 Validation Accuracy:   0.7506 \n",
            "\n",
            "epoch 129\n"
          ]
        },
        {
          "output_type": "stream",
          "name": "stderr",
          "text": [
            "782it [01:03, 12.38it/s]\n"
          ]
        },
        {
          "output_type": "stream",
          "name": "stdout",
          "text": [
            "torch.Size([6255, 3]) torch.Size([6255])\n",
            "Epoch: 129 \n",
            "Train_loss: 0.7632 Train Accuracy: 0.7687 \n",
            "Validation_loss:   0.7825 Validation Accuracy:   0.7504 \n",
            "\n",
            "epoch 130\n"
          ]
        },
        {
          "output_type": "stream",
          "name": "stderr",
          "text": [
            "782it [01:02, 12.53it/s]\n"
          ]
        },
        {
          "output_type": "stream",
          "name": "stdout",
          "text": [
            "torch.Size([6255, 3]) torch.Size([6255])\n",
            "Epoch: 130 \n",
            "Train_loss: 0.7632 Train Accuracy: 0.7685 \n",
            "Validation_loss:   0.7825 Validation Accuracy:   0.7504 \n",
            "\n",
            "epoch 131\n"
          ]
        },
        {
          "output_type": "stream",
          "name": "stderr",
          "text": [
            "782it [01:00, 12.85it/s]\n"
          ]
        },
        {
          "output_type": "stream",
          "name": "stdout",
          "text": [
            "torch.Size([6255, 3]) torch.Size([6255])\n",
            "Epoch: 131 \n",
            "Train_loss: 0.7631 Train Accuracy: 0.7685 \n",
            "Validation_loss:   0.7825 Validation Accuracy:   0.7504 \n",
            "\n",
            "epoch 132\n"
          ]
        },
        {
          "output_type": "stream",
          "name": "stderr",
          "text": [
            "782it [01:01, 12.74it/s]\n"
          ]
        },
        {
          "output_type": "stream",
          "name": "stdout",
          "text": [
            "torch.Size([6255, 3]) torch.Size([6255])\n",
            "Epoch: 132 \n",
            "Train_loss: 0.7631 Train Accuracy: 0.7685 \n",
            "Validation_loss:   0.7825 Validation Accuracy:   0.7504 \n",
            "\n",
            "epoch 133\n"
          ]
        },
        {
          "output_type": "stream",
          "name": "stderr",
          "text": [
            "782it [01:02, 12.45it/s]\n"
          ]
        },
        {
          "output_type": "stream",
          "name": "stdout",
          "text": [
            "torch.Size([6255, 3]) torch.Size([6255])\n",
            "Epoch: 133 \n",
            "Train_loss: 0.7631 Train Accuracy: 0.7685 \n",
            "Validation_loss:   0.7825 Validation Accuracy:   0.7501 \n",
            "\n",
            "epoch 134\n"
          ]
        },
        {
          "output_type": "stream",
          "name": "stderr",
          "text": [
            "782it [01:00, 12.86it/s]\n"
          ]
        },
        {
          "output_type": "stream",
          "name": "stdout",
          "text": [
            "torch.Size([6255, 3]) torch.Size([6255])\n",
            "Epoch: 134 \n",
            "Train_loss: 0.7631 Train Accuracy: 0.7686 \n",
            "Validation_loss:   0.7825 Validation Accuracy:   0.7504 \n",
            "\n",
            "epoch 135\n"
          ]
        },
        {
          "output_type": "stream",
          "name": "stderr",
          "text": [
            "782it [01:01, 12.68it/s]\n"
          ]
        },
        {
          "output_type": "stream",
          "name": "stdout",
          "text": [
            "torch.Size([6255, 3]) torch.Size([6255])\n",
            "Epoch: 135 \n",
            "Train_loss: 0.7631 Train Accuracy: 0.7686 \n",
            "Validation_loss:   0.7825 Validation Accuracy:   0.7503 \n",
            "\n",
            "epoch 136\n"
          ]
        },
        {
          "output_type": "stream",
          "name": "stderr",
          "text": [
            "782it [01:00, 13.02it/s]\n"
          ]
        },
        {
          "output_type": "stream",
          "name": "stdout",
          "text": [
            "torch.Size([6255, 3]) torch.Size([6255])\n",
            "Epoch: 136 \n",
            "Train_loss: 0.7631 Train Accuracy: 0.7687 \n",
            "Validation_loss:   0.7825 Validation Accuracy:   0.75 \n",
            "\n",
            "epoch 137\n"
          ]
        },
        {
          "output_type": "stream",
          "name": "stderr",
          "text": [
            "782it [01:01, 12.76it/s]\n"
          ]
        },
        {
          "output_type": "stream",
          "name": "stdout",
          "text": [
            "torch.Size([6255, 3]) torch.Size([6255])\n",
            "Epoch: 137 \n",
            "Train_loss: 0.763 Train Accuracy: 0.7688 \n",
            "Validation_loss:   0.7825 Validation Accuracy:   0.7501 \n",
            "\n",
            "epoch 138\n"
          ]
        },
        {
          "output_type": "stream",
          "name": "stderr",
          "text": [
            "782it [00:59, 13.11it/s]\n"
          ]
        },
        {
          "output_type": "stream",
          "name": "stdout",
          "text": [
            "torch.Size([6255, 3]) torch.Size([6255])\n",
            "Epoch: 138 \n",
            "Train_loss: 0.763 Train Accuracy: 0.7688 \n",
            "Validation_loss:   0.7825 Validation Accuracy:   0.7501 \n",
            "\n",
            "epoch 139\n"
          ]
        },
        {
          "output_type": "stream",
          "name": "stderr",
          "text": [
            "782it [01:00, 12.98it/s]\n"
          ]
        },
        {
          "output_type": "stream",
          "name": "stdout",
          "text": [
            "torch.Size([6255, 3]) torch.Size([6255])\n",
            "Epoch: 139 \n",
            "Train_loss: 0.763 Train Accuracy: 0.7688 \n",
            "Validation_loss:   0.7824 Validation Accuracy:   0.75 \n",
            "\n",
            "epoch 140\n"
          ]
        },
        {
          "output_type": "stream",
          "name": "stderr",
          "text": [
            "782it [00:58, 13.29it/s]\n"
          ]
        },
        {
          "output_type": "stream",
          "name": "stdout",
          "text": [
            "torch.Size([6255, 3]) torch.Size([6255])\n",
            "Epoch: 140 \n",
            "Train_loss: 0.763 Train Accuracy: 0.769 \n",
            "Validation_loss:   0.7825 Validation Accuracy:   0.7501 \n",
            "\n",
            "epoch 141\n"
          ]
        },
        {
          "output_type": "stream",
          "name": "stderr",
          "text": [
            "782it [01:00, 12.90it/s]\n"
          ]
        },
        {
          "output_type": "stream",
          "name": "stdout",
          "text": [
            "torch.Size([6255, 3]) torch.Size([6255])\n",
            "Epoch: 141 \n",
            "Train_loss: 0.763 Train Accuracy: 0.7689 \n",
            "Validation_loss:   0.7824 Validation Accuracy:   0.75 \n",
            "\n",
            "epoch 142\n"
          ]
        },
        {
          "output_type": "stream",
          "name": "stderr",
          "text": [
            "782it [01:01, 12.77it/s]\n"
          ]
        },
        {
          "output_type": "stream",
          "name": "stdout",
          "text": [
            "torch.Size([6255, 3]) torch.Size([6255])\n",
            "Epoch: 142 \n",
            "Train_loss: 0.7629 Train Accuracy: 0.7692 \n",
            "Validation_loss:   0.7824 Validation Accuracy:   0.75 \n",
            "\n",
            "epoch 143\n"
          ]
        },
        {
          "output_type": "stream",
          "name": "stderr",
          "text": [
            "782it [01:01, 12.75it/s]\n"
          ]
        },
        {
          "output_type": "stream",
          "name": "stdout",
          "text": [
            "torch.Size([6255, 3]) torch.Size([6255])\n",
            "Epoch: 143 \n",
            "Train_loss: 0.7629 Train Accuracy: 0.7691 \n",
            "Validation_loss:   0.7824 Validation Accuracy:   0.75 \n",
            "\n",
            "epoch 144\n"
          ]
        },
        {
          "output_type": "stream",
          "name": "stderr",
          "text": [
            "782it [01:00, 12.84it/s]\n"
          ]
        },
        {
          "output_type": "stream",
          "name": "stdout",
          "text": [
            "torch.Size([6255, 3]) torch.Size([6255])\n",
            "Epoch: 144 \n",
            "Train_loss: 0.7629 Train Accuracy: 0.7691 \n",
            "Validation_loss:   0.7824 Validation Accuracy:   0.7501 \n",
            "\n",
            "epoch 145\n"
          ]
        },
        {
          "output_type": "stream",
          "name": "stderr",
          "text": [
            "782it [01:02, 12.59it/s]\n"
          ]
        },
        {
          "output_type": "stream",
          "name": "stdout",
          "text": [
            "torch.Size([6255, 3]) torch.Size([6255])\n",
            "Epoch: 145 \n",
            "Train_loss: 0.7629 Train Accuracy: 0.769 \n",
            "Validation_loss:   0.7824 Validation Accuracy:   0.75 \n",
            "\n",
            "epoch 146\n"
          ]
        },
        {
          "output_type": "stream",
          "name": "stderr",
          "text": [
            "782it [01:01, 12.82it/s]\n"
          ]
        },
        {
          "output_type": "stream",
          "name": "stdout",
          "text": [
            "torch.Size([6255, 3]) torch.Size([6255])\n",
            "Epoch: 146 \n",
            "Train_loss: 0.7629 Train Accuracy: 0.769 \n",
            "Validation_loss:   0.7824 Validation Accuracy:   0.75 \n",
            "\n",
            "epoch 147\n"
          ]
        },
        {
          "output_type": "stream",
          "name": "stderr",
          "text": [
            "782it [01:01, 12.73it/s]\n"
          ]
        },
        {
          "output_type": "stream",
          "name": "stdout",
          "text": [
            "torch.Size([6255, 3]) torch.Size([6255])\n",
            "Epoch: 147 \n",
            "Train_loss: 0.7629 Train Accuracy: 0.769 \n",
            "Validation_loss:   0.7824 Validation Accuracy:   0.75 \n",
            "\n",
            "epoch 148\n"
          ]
        },
        {
          "output_type": "stream",
          "name": "stderr",
          "text": [
            "782it [01:02, 12.61it/s]\n"
          ]
        },
        {
          "output_type": "stream",
          "name": "stdout",
          "text": [
            "torch.Size([6255, 3]) torch.Size([6255])\n",
            "Epoch: 148 \n",
            "Train_loss: 0.7628 Train Accuracy: 0.7689 \n",
            "Validation_loss:   0.7824 Validation Accuracy:   0.75 \n",
            "\n",
            "epoch 149\n"
          ]
        },
        {
          "output_type": "stream",
          "name": "stderr",
          "text": [
            "782it [01:01, 12.80it/s]\n"
          ]
        },
        {
          "output_type": "stream",
          "name": "stdout",
          "text": [
            "torch.Size([6255, 3]) torch.Size([6255])\n",
            "Epoch: 149 \n",
            "Train_loss: 0.7628 Train Accuracy: 0.7689 \n",
            "Validation_loss:   0.7824 Validation Accuracy:   0.75 \n",
            "\n",
            "epoch 150\n"
          ]
        },
        {
          "output_type": "stream",
          "name": "stderr",
          "text": [
            "782it [01:02, 12.57it/s]\n"
          ]
        },
        {
          "output_type": "stream",
          "name": "stdout",
          "text": [
            "torch.Size([6255, 3]) torch.Size([6255])\n",
            "Epoch: 150 \n",
            "Train_loss: 0.7628 Train Accuracy: 0.7689 \n",
            "Validation_loss:   0.7824 Validation Accuracy:   0.75 \n",
            "\n",
            "epoch 151\n"
          ]
        },
        {
          "output_type": "stream",
          "name": "stderr",
          "text": [
            "782it [01:01, 12.73it/s]\n"
          ]
        },
        {
          "output_type": "stream",
          "name": "stdout",
          "text": [
            "torch.Size([6255, 3]) torch.Size([6255])\n",
            "Epoch: 151 \n",
            "Train_loss: 0.7628 Train Accuracy: 0.7689 \n",
            "Validation_loss:   0.7823 Validation Accuracy:   0.75 \n",
            "\n",
            "epoch 152\n"
          ]
        },
        {
          "output_type": "stream",
          "name": "stderr",
          "text": [
            "782it [01:01, 12.66it/s]\n"
          ]
        },
        {
          "output_type": "stream",
          "name": "stdout",
          "text": [
            "torch.Size([6255, 3]) torch.Size([6255])\n",
            "Epoch: 152 \n",
            "Train_loss: 0.7628 Train Accuracy: 0.7689 \n",
            "Validation_loss:   0.7823 Validation Accuracy:   0.7498 \n",
            "\n",
            "epoch 153\n"
          ]
        },
        {
          "output_type": "stream",
          "name": "stderr",
          "text": [
            "782it [01:01, 12.72it/s]\n"
          ]
        },
        {
          "output_type": "stream",
          "name": "stdout",
          "text": [
            "torch.Size([6255, 3]) torch.Size([6255])\n",
            "Epoch: 153 \n",
            "Train_loss: 0.7628 Train Accuracy: 0.769 \n",
            "Validation_loss:   0.7823 Validation Accuracy:   0.7498 \n",
            "\n",
            "epoch 154\n"
          ]
        },
        {
          "output_type": "stream",
          "name": "stderr",
          "text": [
            "782it [01:04, 12.21it/s]\n"
          ]
        },
        {
          "output_type": "stream",
          "name": "stdout",
          "text": [
            "torch.Size([6255, 3]) torch.Size([6255])\n",
            "Epoch: 154 \n",
            "Train_loss: 0.7628 Train Accuracy: 0.7689 \n",
            "Validation_loss:   0.7823 Validation Accuracy:   0.75 \n",
            "\n",
            "epoch 155\n"
          ]
        },
        {
          "output_type": "stream",
          "name": "stderr",
          "text": [
            "782it [01:01, 12.63it/s]\n"
          ]
        },
        {
          "output_type": "stream",
          "name": "stdout",
          "text": [
            "torch.Size([6255, 3]) torch.Size([6255])\n",
            "Epoch: 155 \n",
            "Train_loss: 0.7627 Train Accuracy: 0.769 \n",
            "Validation_loss:   0.7823 Validation Accuracy:   0.75 \n",
            "\n",
            "epoch 156\n"
          ]
        },
        {
          "output_type": "stream",
          "name": "stderr",
          "text": [
            "782it [01:04, 12.20it/s]\n"
          ]
        },
        {
          "output_type": "stream",
          "name": "stdout",
          "text": [
            "torch.Size([6255, 3]) torch.Size([6255])\n",
            "Epoch: 156 \n",
            "Train_loss: 0.7627 Train Accuracy: 0.7691 \n",
            "Validation_loss:   0.7823 Validation Accuracy:   0.7498 \n",
            "\n",
            "epoch 157\n"
          ]
        },
        {
          "output_type": "stream",
          "name": "stderr",
          "text": [
            "782it [01:03, 12.29it/s]\n"
          ]
        },
        {
          "output_type": "stream",
          "name": "stdout",
          "text": [
            "torch.Size([6255, 3]) torch.Size([6255])\n",
            "Epoch: 157 \n",
            "Train_loss: 0.7627 Train Accuracy: 0.7691 \n",
            "Validation_loss:   0.7823 Validation Accuracy:   0.75 \n",
            "\n",
            "epoch 158\n"
          ]
        },
        {
          "output_type": "stream",
          "name": "stderr",
          "text": [
            "782it [01:03, 12.23it/s]\n"
          ]
        },
        {
          "output_type": "stream",
          "name": "stdout",
          "text": [
            "torch.Size([6255, 3]) torch.Size([6255])\n",
            "Epoch: 158 \n",
            "Train_loss: 0.7627 Train Accuracy: 0.7691 \n",
            "Validation_loss:   0.7823 Validation Accuracy:   0.75 \n",
            "\n",
            "epoch 159\n"
          ]
        },
        {
          "output_type": "stream",
          "name": "stderr",
          "text": [
            "782it [01:02, 12.61it/s]\n"
          ]
        },
        {
          "output_type": "stream",
          "name": "stdout",
          "text": [
            "torch.Size([6255, 3]) torch.Size([6255])\n",
            "Epoch: 159 \n",
            "Train_loss: 0.7627 Train Accuracy: 0.7691 \n",
            "Validation_loss:   0.7823 Validation Accuracy:   0.7498 \n",
            "\n",
            "epoch 160\n"
          ]
        },
        {
          "output_type": "stream",
          "name": "stderr",
          "text": [
            "782it [01:03, 12.32it/s]\n"
          ]
        },
        {
          "output_type": "stream",
          "name": "stdout",
          "text": [
            "torch.Size([6255, 3]) torch.Size([6255])\n",
            "Epoch: 160 \n",
            "Train_loss: 0.7627 Train Accuracy: 0.7692 \n",
            "Validation_loss:   0.7823 Validation Accuracy:   0.7498 \n",
            "\n",
            "epoch 161\n"
          ]
        },
        {
          "output_type": "stream",
          "name": "stderr",
          "text": [
            "782it [01:03, 12.38it/s]\n"
          ]
        },
        {
          "output_type": "stream",
          "name": "stdout",
          "text": [
            "torch.Size([6255, 3]) torch.Size([6255])\n",
            "Epoch: 161 \n",
            "Train_loss: 0.7626 Train Accuracy: 0.7693 \n",
            "Validation_loss:   0.7823 Validation Accuracy:   0.7498 \n",
            "\n",
            "epoch 162\n"
          ]
        },
        {
          "output_type": "stream",
          "name": "stderr",
          "text": [
            "782it [01:03, 12.32it/s]\n"
          ]
        },
        {
          "output_type": "stream",
          "name": "stdout",
          "text": [
            "torch.Size([6255, 3]) torch.Size([6255])\n",
            "Epoch: 162 \n",
            "Train_loss: 0.7626 Train Accuracy: 0.7692 \n",
            "Validation_loss:   0.7823 Validation Accuracy:   0.7498 \n",
            "\n",
            "epoch 163\n"
          ]
        },
        {
          "output_type": "stream",
          "name": "stderr",
          "text": [
            "782it [01:03, 12.36it/s]\n"
          ]
        },
        {
          "output_type": "stream",
          "name": "stdout",
          "text": [
            "torch.Size([6255, 3]) torch.Size([6255])\n",
            "Epoch: 163 \n",
            "Train_loss: 0.7626 Train Accuracy: 0.7692 \n",
            "Validation_loss:   0.7822 Validation Accuracy:   0.7498 \n",
            "\n",
            "epoch 164\n"
          ]
        },
        {
          "output_type": "stream",
          "name": "stderr",
          "text": [
            "782it [01:02, 12.58it/s]\n"
          ]
        },
        {
          "output_type": "stream",
          "name": "stdout",
          "text": [
            "torch.Size([6255, 3]) torch.Size([6255])\n",
            "Epoch: 164 \n",
            "Train_loss: 0.7626 Train Accuracy: 0.7692 \n",
            "Validation_loss:   0.7822 Validation Accuracy:   0.7498 \n",
            "\n",
            "epoch 165\n"
          ]
        },
        {
          "output_type": "stream",
          "name": "stderr",
          "text": [
            "782it [01:01, 12.63it/s]\n"
          ]
        },
        {
          "output_type": "stream",
          "name": "stdout",
          "text": [
            "torch.Size([6255, 3]) torch.Size([6255])\n",
            "Epoch: 165 \n",
            "Train_loss: 0.7626 Train Accuracy: 0.7693 \n",
            "Validation_loss:   0.7822 Validation Accuracy:   0.7498 \n",
            "\n",
            "epoch 166\n"
          ]
        },
        {
          "output_type": "stream",
          "name": "stderr",
          "text": [
            "782it [01:00, 12.93it/s]\n"
          ]
        },
        {
          "output_type": "stream",
          "name": "stdout",
          "text": [
            "torch.Size([6255, 3]) torch.Size([6255])\n",
            "Epoch: 166 \n",
            "Train_loss: 0.7626 Train Accuracy: 0.7693 \n",
            "Validation_loss:   0.7822 Validation Accuracy:   0.7498 \n",
            "\n",
            "epoch 167\n"
          ]
        },
        {
          "output_type": "stream",
          "name": "stderr",
          "text": [
            "782it [01:02, 12.61it/s]\n"
          ]
        },
        {
          "output_type": "stream",
          "name": "stdout",
          "text": [
            "torch.Size([6255, 3]) torch.Size([6255])\n",
            "Epoch: 167 \n",
            "Train_loss: 0.7625 Train Accuracy: 0.7693 \n",
            "Validation_loss:   0.7822 Validation Accuracy:   0.7501 \n",
            "\n",
            "epoch 168\n"
          ]
        },
        {
          "output_type": "stream",
          "name": "stderr",
          "text": [
            "782it [01:02, 12.60it/s]\n"
          ]
        },
        {
          "output_type": "stream",
          "name": "stdout",
          "text": [
            "torch.Size([6255, 3]) torch.Size([6255])\n",
            "Epoch: 168 \n",
            "Train_loss: 0.7625 Train Accuracy: 0.7693 \n",
            "Validation_loss:   0.7822 Validation Accuracy:   0.75 \n",
            "\n",
            "epoch 169\n"
          ]
        },
        {
          "output_type": "stream",
          "name": "stderr",
          "text": [
            "782it [01:01, 12.64it/s]\n"
          ]
        },
        {
          "output_type": "stream",
          "name": "stdout",
          "text": [
            "torch.Size([6255, 3]) torch.Size([6255])\n",
            "Epoch: 169 \n",
            "Train_loss: 0.7625 Train Accuracy: 0.7693 \n",
            "Validation_loss:   0.7822 Validation Accuracy:   0.7501 \n",
            "\n",
            "epoch 170\n"
          ]
        },
        {
          "output_type": "stream",
          "name": "stderr",
          "text": [
            "782it [01:01, 12.76it/s]\n"
          ]
        },
        {
          "output_type": "stream",
          "name": "stdout",
          "text": [
            "torch.Size([6255, 3]) torch.Size([6255])\n",
            "Epoch: 170 \n",
            "Train_loss: 0.7625 Train Accuracy: 0.7693 \n",
            "Validation_loss:   0.7822 Validation Accuracy:   0.75 \n",
            "\n",
            "epoch 171\n"
          ]
        },
        {
          "output_type": "stream",
          "name": "stderr",
          "text": [
            "782it [01:04, 12.16it/s]\n"
          ]
        },
        {
          "output_type": "stream",
          "name": "stdout",
          "text": [
            "torch.Size([6255, 3]) torch.Size([6255])\n",
            "Epoch: 171 \n",
            "Train_loss: 0.7625 Train Accuracy: 0.7693 \n",
            "Validation_loss:   0.7822 Validation Accuracy:   0.75 \n",
            "\n",
            "epoch 172\n"
          ]
        },
        {
          "output_type": "stream",
          "name": "stderr",
          "text": [
            "782it [01:06, 11.82it/s]\n"
          ]
        },
        {
          "output_type": "stream",
          "name": "stdout",
          "text": [
            "torch.Size([6255, 3]) torch.Size([6255])\n",
            "Epoch: 172 \n",
            "Train_loss: 0.7625 Train Accuracy: 0.7693 \n",
            "Validation_loss:   0.7822 Validation Accuracy:   0.7501 \n",
            "\n",
            "epoch 173\n"
          ]
        },
        {
          "output_type": "stream",
          "name": "stderr",
          "text": [
            "782it [01:02, 12.46it/s]\n"
          ]
        },
        {
          "output_type": "stream",
          "name": "stdout",
          "text": [
            "torch.Size([6255, 3]) torch.Size([6255])\n",
            "Epoch: 173 \n",
            "Train_loss: 0.7625 Train Accuracy: 0.7693 \n",
            "Validation_loss:   0.7822 Validation Accuracy:   0.7501 \n",
            "\n",
            "epoch 174\n"
          ]
        },
        {
          "output_type": "stream",
          "name": "stderr",
          "text": [
            "782it [01:01, 12.67it/s]\n"
          ]
        },
        {
          "output_type": "stream",
          "name": "stdout",
          "text": [
            "torch.Size([6255, 3]) torch.Size([6255])\n",
            "Epoch: 174 \n",
            "Train_loss: 0.7624 Train Accuracy: 0.7693 \n",
            "Validation_loss:   0.7822 Validation Accuracy:   0.7501 \n",
            "\n",
            "epoch 175\n"
          ]
        },
        {
          "output_type": "stream",
          "name": "stderr",
          "text": [
            "782it [01:02, 12.55it/s]\n"
          ]
        },
        {
          "output_type": "stream",
          "name": "stdout",
          "text": [
            "torch.Size([6255, 3]) torch.Size([6255])\n",
            "Epoch: 175 \n",
            "Train_loss: 0.7624 Train Accuracy: 0.7694 \n",
            "Validation_loss:   0.7822 Validation Accuracy:   0.7501 \n",
            "\n",
            "epoch 176\n"
          ]
        },
        {
          "output_type": "stream",
          "name": "stderr",
          "text": [
            "782it [01:02, 12.51it/s]\n"
          ]
        },
        {
          "output_type": "stream",
          "name": "stdout",
          "text": [
            "torch.Size([6255, 3]) torch.Size([6255])\n",
            "Epoch: 176 \n",
            "Train_loss: 0.7624 Train Accuracy: 0.7694 \n",
            "Validation_loss:   0.7822 Validation Accuracy:   0.7501 \n",
            "\n",
            "epoch 177\n"
          ]
        },
        {
          "output_type": "stream",
          "name": "stderr",
          "text": [
            "782it [01:01, 12.63it/s]\n"
          ]
        },
        {
          "output_type": "stream",
          "name": "stdout",
          "text": [
            "torch.Size([6255, 3]) torch.Size([6255])\n",
            "Epoch: 177 \n",
            "Train_loss: 0.7624 Train Accuracy: 0.7694 \n",
            "Validation_loss:   0.7822 Validation Accuracy:   0.75 \n",
            "\n",
            "epoch 178\n"
          ]
        },
        {
          "output_type": "stream",
          "name": "stderr",
          "text": [
            "782it [01:01, 12.75it/s]\n"
          ]
        },
        {
          "output_type": "stream",
          "name": "stdout",
          "text": [
            "torch.Size([6255, 3]) torch.Size([6255])\n",
            "Epoch: 178 \n",
            "Train_loss: 0.7624 Train Accuracy: 0.7694 \n",
            "Validation_loss:   0.7821 Validation Accuracy:   0.75 \n",
            "\n",
            "epoch 179\n"
          ]
        },
        {
          "output_type": "stream",
          "name": "stderr",
          "text": [
            "782it [01:01, 12.63it/s]\n"
          ]
        },
        {
          "output_type": "stream",
          "name": "stdout",
          "text": [
            "torch.Size([6255, 3]) torch.Size([6255])\n",
            "Epoch: 179 \n",
            "Train_loss: 0.7624 Train Accuracy: 0.7693 \n",
            "Validation_loss:   0.7821 Validation Accuracy:   0.7498 \n",
            "\n",
            "epoch 180\n"
          ]
        },
        {
          "output_type": "stream",
          "name": "stderr",
          "text": [
            "782it [01:02, 12.51it/s]\n"
          ]
        },
        {
          "output_type": "stream",
          "name": "stdout",
          "text": [
            "torch.Size([6255, 3]) torch.Size([6255])\n",
            "Epoch: 180 \n",
            "Train_loss: 0.7624 Train Accuracy: 0.7694 \n",
            "Validation_loss:   0.7821 Validation Accuracy:   0.7498 \n",
            "\n",
            "epoch 181\n"
          ]
        },
        {
          "output_type": "stream",
          "name": "stderr",
          "text": [
            "782it [01:01, 12.76it/s]\n"
          ]
        },
        {
          "output_type": "stream",
          "name": "stdout",
          "text": [
            "torch.Size([6255, 3]) torch.Size([6255])\n",
            "Epoch: 181 \n",
            "Train_loss: 0.7623 Train Accuracy: 0.7694 \n",
            "Validation_loss:   0.7821 Validation Accuracy:   0.75 \n",
            "\n",
            "epoch 182\n"
          ]
        },
        {
          "output_type": "stream",
          "name": "stderr",
          "text": [
            "782it [01:02, 12.52it/s]\n"
          ]
        },
        {
          "output_type": "stream",
          "name": "stdout",
          "text": [
            "torch.Size([6255, 3]) torch.Size([6255])\n",
            "Epoch: 182 \n",
            "Train_loss: 0.7623 Train Accuracy: 0.7695 \n",
            "Validation_loss:   0.7821 Validation Accuracy:   0.75 \n",
            "\n",
            "epoch 183\n"
          ]
        },
        {
          "output_type": "stream",
          "name": "stderr",
          "text": [
            "782it [01:02, 12.60it/s]\n"
          ]
        },
        {
          "output_type": "stream",
          "name": "stdout",
          "text": [
            "torch.Size([6255, 3]) torch.Size([6255])\n",
            "Epoch: 183 \n",
            "Train_loss: 0.7623 Train Accuracy: 0.7695 \n",
            "Validation_loss:   0.7821 Validation Accuracy:   0.75 \n",
            "\n",
            "epoch 184\n"
          ]
        },
        {
          "output_type": "stream",
          "name": "stderr",
          "text": [
            "782it [01:02, 12.48it/s]\n"
          ]
        },
        {
          "output_type": "stream",
          "name": "stdout",
          "text": [
            "torch.Size([6255, 3]) torch.Size([6255])\n",
            "Epoch: 184 \n",
            "Train_loss: 0.7623 Train Accuracy: 0.7695 \n",
            "Validation_loss:   0.7821 Validation Accuracy:   0.75 \n",
            "\n",
            "epoch 185\n"
          ]
        },
        {
          "output_type": "stream",
          "name": "stderr",
          "text": [
            "782it [01:02, 12.46it/s]\n"
          ]
        },
        {
          "output_type": "stream",
          "name": "stdout",
          "text": [
            "torch.Size([6255, 3]) torch.Size([6255])\n",
            "Epoch: 185 \n",
            "Train_loss: 0.7623 Train Accuracy: 0.7695 \n",
            "Validation_loss:   0.7821 Validation Accuracy:   0.75 \n",
            "\n",
            "epoch 186\n"
          ]
        },
        {
          "output_type": "stream",
          "name": "stderr",
          "text": [
            "782it [01:03, 12.27it/s]\n"
          ]
        },
        {
          "output_type": "stream",
          "name": "stdout",
          "text": [
            "torch.Size([6255, 3]) torch.Size([6255])\n",
            "Epoch: 186 \n",
            "Train_loss: 0.7623 Train Accuracy: 0.7695 \n",
            "Validation_loss:   0.7821 Validation Accuracy:   0.75 \n",
            "\n",
            "epoch 187\n"
          ]
        },
        {
          "output_type": "stream",
          "name": "stderr",
          "text": [
            "782it [01:01, 12.70it/s]\n"
          ]
        },
        {
          "output_type": "stream",
          "name": "stdout",
          "text": [
            "torch.Size([6255, 3]) torch.Size([6255])\n",
            "Epoch: 187 \n",
            "Train_loss: 0.7623 Train Accuracy: 0.7695 \n",
            "Validation_loss:   0.7821 Validation Accuracy:   0.7498 \n",
            "\n",
            "epoch 188\n"
          ]
        },
        {
          "output_type": "stream",
          "name": "stderr",
          "text": [
            "782it [01:02, 12.55it/s]\n"
          ]
        },
        {
          "output_type": "stream",
          "name": "stdout",
          "text": [
            "torch.Size([6255, 3]) torch.Size([6255])\n",
            "Epoch: 188 \n",
            "Train_loss: 0.7622 Train Accuracy: 0.7694 \n",
            "Validation_loss:   0.7821 Validation Accuracy:   0.75 \n",
            "\n",
            "epoch 189\n"
          ]
        },
        {
          "output_type": "stream",
          "name": "stderr",
          "text": [
            "782it [01:02, 12.48it/s]\n"
          ]
        },
        {
          "output_type": "stream",
          "name": "stdout",
          "text": [
            "torch.Size([6255, 3]) torch.Size([6255])\n",
            "Epoch: 189 \n",
            "Train_loss: 0.7622 Train Accuracy: 0.7695 \n",
            "Validation_loss:   0.7821 Validation Accuracy:   0.7498 \n",
            "\n",
            "epoch 190\n"
          ]
        },
        {
          "output_type": "stream",
          "name": "stderr",
          "text": [
            "782it [01:02, 12.51it/s]\n"
          ]
        },
        {
          "output_type": "stream",
          "name": "stdout",
          "text": [
            "torch.Size([6255, 3]) torch.Size([6255])\n",
            "Epoch: 190 \n",
            "Train_loss: 0.7622 Train Accuracy: 0.7694 \n",
            "Validation_loss:   0.7821 Validation Accuracy:   0.7498 \n",
            "\n",
            "epoch 191\n"
          ]
        },
        {
          "output_type": "stream",
          "name": "stderr",
          "text": [
            "782it [01:02, 12.56it/s]\n"
          ]
        },
        {
          "output_type": "stream",
          "name": "stdout",
          "text": [
            "torch.Size([6255, 3]) torch.Size([6255])\n",
            "Epoch: 191 \n",
            "Train_loss: 0.7622 Train Accuracy: 0.7695 \n",
            "Validation_loss:   0.7821 Validation Accuracy:   0.7496 \n",
            "\n",
            "epoch 192\n"
          ]
        },
        {
          "output_type": "stream",
          "name": "stderr",
          "text": [
            "782it [01:02, 12.42it/s]\n"
          ]
        },
        {
          "output_type": "stream",
          "name": "stdout",
          "text": [
            "torch.Size([6255, 3]) torch.Size([6255])\n",
            "Epoch: 192 \n",
            "Train_loss: 0.7622 Train Accuracy: 0.7694 \n",
            "Validation_loss:   0.7821 Validation Accuracy:   0.7495 \n",
            "\n",
            "epoch 193\n"
          ]
        },
        {
          "output_type": "stream",
          "name": "stderr",
          "text": [
            "782it [01:03, 12.22it/s]\n"
          ]
        },
        {
          "output_type": "stream",
          "name": "stdout",
          "text": [
            "torch.Size([6255, 3]) torch.Size([6255])\n",
            "Epoch: 193 \n",
            "Train_loss: 0.7622 Train Accuracy: 0.7694 \n",
            "Validation_loss:   0.7821 Validation Accuracy:   0.7495 \n",
            "\n",
            "epoch 194\n"
          ]
        },
        {
          "output_type": "stream",
          "name": "stderr",
          "text": [
            "782it [01:03, 12.31it/s]\n"
          ]
        },
        {
          "output_type": "stream",
          "name": "stdout",
          "text": [
            "torch.Size([6255, 3]) torch.Size([6255])\n",
            "Epoch: 194 \n",
            "Train_loss: 0.7622 Train Accuracy: 0.7693 \n",
            "Validation_loss:   0.7821 Validation Accuracy:   0.7496 \n",
            "\n",
            "epoch 195\n"
          ]
        },
        {
          "output_type": "stream",
          "name": "stderr",
          "text": [
            "782it [01:03, 12.40it/s]\n"
          ]
        },
        {
          "output_type": "stream",
          "name": "stdout",
          "text": [
            "torch.Size([6255, 3]) torch.Size([6255])\n",
            "Epoch: 195 \n",
            "Train_loss: 0.7622 Train Accuracy: 0.7693 \n",
            "Validation_loss:   0.7821 Validation Accuracy:   0.7495 \n",
            "\n",
            "epoch 196\n"
          ]
        },
        {
          "output_type": "stream",
          "name": "stderr",
          "text": [
            "782it [01:01, 12.68it/s]\n"
          ]
        },
        {
          "output_type": "stream",
          "name": "stdout",
          "text": [
            "torch.Size([6255, 3]) torch.Size([6255])\n",
            "Epoch: 196 \n",
            "Train_loss: 0.7622 Train Accuracy: 0.7694 \n",
            "Validation_loss:   0.7821 Validation Accuracy:   0.7496 \n",
            "\n",
            "epoch 197\n"
          ]
        },
        {
          "output_type": "stream",
          "name": "stderr",
          "text": [
            "782it [01:01, 12.65it/s]\n"
          ]
        },
        {
          "output_type": "stream",
          "name": "stdout",
          "text": [
            "torch.Size([6255, 3]) torch.Size([6255])\n",
            "Epoch: 197 \n",
            "Train_loss: 0.7621 Train Accuracy: 0.7693 \n",
            "Validation_loss:   0.782 Validation Accuracy:   0.7496 \n",
            "\n",
            "epoch 198\n"
          ]
        },
        {
          "output_type": "stream",
          "name": "stderr",
          "text": [
            "782it [01:02, 12.49it/s]\n"
          ]
        },
        {
          "output_type": "stream",
          "name": "stdout",
          "text": [
            "torch.Size([6255, 3]) torch.Size([6255])\n",
            "Epoch: 198 \n",
            "Train_loss: 0.7621 Train Accuracy: 0.7693 \n",
            "Validation_loss:   0.782 Validation Accuracy:   0.7496 \n",
            "\n",
            "epoch 199\n"
          ]
        },
        {
          "output_type": "stream",
          "name": "stderr",
          "text": [
            "782it [01:03, 12.24it/s]\n"
          ]
        },
        {
          "output_type": "stream",
          "name": "stdout",
          "text": [
            "torch.Size([6255, 3]) torch.Size([6255])\n",
            "Epoch: 199 \n",
            "Train_loss: 0.7621 Train Accuracy: 0.7694 \n",
            "Validation_loss:   0.782 Validation Accuracy:   0.7495 \n",
            "\n"
          ]
        }
      ]
    },
    {
      "cell_type": "code",
      "source": [
        "# Save PyTorch model state dict to a file\n",
        "torch.save(first_model.state_dict(), 'FFNN_model.pth')\n"
      ],
      "metadata": {
        "id": "MyqhXvcg1god"
      },
      "execution_count": null,
      "outputs": []
    },
    {
      "cell_type": "code",
      "source": [
        "import matplotlib.pyplot as plt\n",
        "from matplotlib.pyplot import figure\n",
        "\n",
        "figure(figsize=(8,8))\n",
        "plt.plot(train_losses)\n",
        "plt.plot(val_losses)\n",
        "plt.title('FFNN Loss')\n",
        "plt.ylabel('Loss')\n",
        "plt.xlabel('Epoch')\n",
        "\n",
        "plt.legend(['train', 'val'], loc='upper right')\n",
        "plt.show()\n"
      ],
      "metadata": {
        "colab": {
          "base_uri": "https://localhost:8080/",
          "height": 718
        },
        "id": "hDYGVcI1kEQp",
        "outputId": "3891ff29-c5ce-4c27-d78b-9ab1cf1660e2"
      },
      "execution_count": null,
      "outputs": [
        {
          "output_type": "display_data",
          "data": {
            "text/plain": [
              "<Figure size 800x800 with 1 Axes>"
            ],
            "image/png": "[encoded data removed]"
          },
          "metadata": {}
        }
      ]
    },
    {
      "cell_type": "code",
      "source": [
        "figure(figsize=(8,8))\n",
        "plt.plot(train_accuracies)\n",
        "plt.plot(val_accuracies)\n",
        "plt.title('FFNN Accuracy')\n",
        "plt.ylabel('Accuracy')\n",
        "plt.xlabel('Epoch')\n",
        "plt.legend(['train', 'val'], loc='upper left')\n",
        "plt.show()"
      ],
      "metadata": {
        "colab": {
          "base_uri": "https://localhost:8080/",
          "height": 718
        },
        "id": "mYlQdWoRk3Ss",
        "outputId": "e0aa7cb8-7bfc-46ad-d978-e2e63142ad94"
      },
      "execution_count": null,
      "outputs": [
        {
          "output_type": "display_data",
          "data": {
            "text/plain": [
              "<Figure size 800x800 with 1 Axes>"
            ],
            "image/png": "[encoded data removed]"
          },
          "metadata": {}
        }
      ]
    },
    {
      "cell_type": "code",
      "source": [
        "#ลองทำนายจากชุดเทส\n",
        "tfidfX_test = tfidfX_test.to(device)\n",
        "Y_test = Y_test.to(device)\n",
        "\n",
        "# Forward pass to get output\n",
        "first_model.eval()\n",
        "test_prediction = first_model.forward(tfidfX_test.float())\n",
        "#test_prediction = torch.squeeze(test_prediction)\n",
        "\n",
        "#Calculate accuracy on test set\n",
        "test_accuracy = calculate_accuracy(Y_test,test_prediction)\n",
        "\n",
        "print(\"Test Accuracy:\",round(test_accuracy.item(),4), \"\\n\")"
      ],
      "metadata": {
        "colab": {
          "base_uri": "https://localhost:8080/"
        },
        "id": "t69e57b4k_2m",
        "outputId": "ab458b43-92f5-473a-98b2-0f0350f02db8"
      },
      "execution_count": null,
      "outputs": [
        {
          "output_type": "stream",
          "name": "stdout",
          "text": [
            "Test Accuracy: 0.7485 \n",
            "\n"
          ]
        }
      ]
    },
    {
      "cell_type": "code",
      "source": [
        "import torch\n",
        "\n",
        "# สมมติว่า tensor เป็น tensor ที่ต้องการ gradient\n",
        "tensor_with_grad = torch.tensor([1.0, 2.0, 3.0], requires_grad=True)\n",
        "\n",
        "# ใช้ .detach().numpy() แทน .numpy()\n",
        "numpy_array = tensor_with_grad.detach().numpy()\n",
        "\n",
        "# หรือจะใช้ .detach().cpu().numpy() หาก tensor อยู่บน GPU\n",
        "numpy_array_on_cpu = tensor_with_grad.detach().cpu().numpy()\n"
      ],
      "metadata": {
        "id": "TCyFtKUnkmNE"
      },
      "execution_count": null,
      "outputs": []
    },
    {
      "cell_type": "code",
      "source": [
        "from sklearn.metrics import confusion_matrix\n",
        "import numpy as np\n",
        "\n",
        "# Evaluate the model on the validation set\n",
        "with torch.no_grad():\n",
        "    # Move the validation data to the device\n",
        "    tfidfX_val = tfidfX_val.to(device)\n",
        "    Y_val = Y_val.to(device)\n",
        "\n",
        "    # Forward pass to get predictions\n",
        "    val_predictions = first_model(tfidfX_val.float())\n",
        "    val_predictions = torch.argmax(val_predictions, dim=1).cpu().numpy()\n",
        "    Y_val = torch.argmax(Y_val, dim=1).cpu().numpy()\n",
        "\n",
        "# Create the confusion matrix\n",
        "cm = confusion_matrix(Y_val, val_predictions)\n",
        "\n",
        "# Print or visualize the confusion matrix\n",
        "print(\"Confusion Matrix:\")\n",
        "print(cm)\n"
      ],
      "metadata": {
        "colab": {
          "base_uri": "https://localhost:8080/",
          "height": 211
        },
        "id": "8z-OrM40cRFk",
        "outputId": "b1d7ec2d-8db0-483d-f3a2-572dfbb40fcc"
      },
      "execution_count": null,
      "outputs": [
        {
          "output_type": "error",
          "ename": "AttributeError",
          "evalue": "'numpy.ndarray' object has no attribute 'to'",
          "traceback": [
            "\u001b[0;31m---------------------------------------------------------------------------\u001b[0m",
            "\u001b[0;31mAttributeError\u001b[0m                            Traceback (most recent call last)",
            "\u001b[0;32m<ipython-input-48-006aac14e681>\u001b[0m in \u001b[0;36m<cell line: 5>\u001b[0;34m()\u001b[0m\n\u001b[1;32m      6\u001b[0m     \u001b[0;31m# Move the validation data to the device\u001b[0m\u001b[0;34m\u001b[0m\u001b[0;34m\u001b[0m\u001b[0m\n\u001b[1;32m      7\u001b[0m     \u001b[0mtfidfX_val\u001b[0m \u001b[0;34m=\u001b[0m \u001b[0mtfidfX_val\u001b[0m\u001b[0;34m.\u001b[0m\u001b[0mto\u001b[0m\u001b[0;34m(\u001b[0m\u001b[0mdevice\u001b[0m\u001b[0;34m)\u001b[0m\u001b[0;34m\u001b[0m\u001b[0;34m\u001b[0m\u001b[0m\n\u001b[0;32m----> 8\u001b[0;31m     \u001b[0mY_val\u001b[0m \u001b[0;34m=\u001b[0m \u001b[0mY_val\u001b[0m\u001b[0;34m.\u001b[0m\u001b[0mto\u001b[0m\u001b[0;34m(\u001b[0m\u001b[0mdevice\u001b[0m\u001b[0;34m)\u001b[0m\u001b[0;34m\u001b[0m\u001b[0;34m\u001b[0m\u001b[0m\n\u001b[0m\u001b[1;32m      9\u001b[0m \u001b[0;34m\u001b[0m\u001b[0m\n\u001b[1;32m     10\u001b[0m     \u001b[0;31m# Forward pass to get predictions\u001b[0m\u001b[0;34m\u001b[0m\u001b[0;34m\u001b[0m\u001b[0m\n",
            "\u001b[0;31mAttributeError\u001b[0m: 'numpy.ndarray' object has no attribute 'to'"
          ]
        }
      ]
    },
    {
      "cell_type": "code",
      "source": [
        "#Show the classification report\n",
        "test_prediction = test_prediction.to(device)\n",
        "print(test_prediction.shape)\n",
        "test_prediction = test_prediction.cpu().argmax(-1)\n",
        "Y_test = Y_test.cpu()\n",
        "print(Y_test.shape)\n",
        "print(classification_report(Y_test,test_prediction))"
      ],
      "metadata": {
        "colab": {
          "base_uri": "https://localhost:8080/"
        },
        "id": "l1pr16W5lElT",
        "outputId": "e7396e0a-cd0c-4944-efc1-80cce35bfa55"
      },
      "execution_count": null,
      "outputs": [
        {
          "output_type": "stream",
          "name": "stdout",
          "text": [
            "torch.Size([7818, 3])\n",
            "torch.Size([7818])\n",
            "              precision    recall  f1-score   support\n",
            "\n",
            "           0       0.75      0.79      0.77      2606\n",
            "           1       0.70      0.67      0.69      2606\n",
            "           2       0.84      0.84      0.84      2606\n",
            "\n",
            "    accuracy                           0.76      7818\n",
            "   macro avg       0.76      0.76      0.76      7818\n",
            "weighted avg       0.76      0.76      0.76      7818\n",
            "\n"
          ]
        }
      ]
    }
  ]
}