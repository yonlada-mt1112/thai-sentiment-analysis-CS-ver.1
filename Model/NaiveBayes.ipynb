{
 "cells": [
  {
   "cell_type": "markdown",
   "metadata": {
    "id": "6DFoHKtXi48I"
   },
   "source": [
    "## Pre-processing"
   ]
  },
  {
   "cell_type": "code",
   "execution_count": 1,
   "metadata": {
    "id": "6ItpucCijB0C"
   },
   "outputs": [],
   "source": [
    "import os\n",
    "import numpy as np\n",
    "import pandas as pd\n",
    "from sklearn.model_selection import train_test_split\n",
    "from sklearn.metrics import confusion_matrix\n",
    "import matplotlib.pyplot as plt"
   ]
  },
  {
   "cell_type": "markdown",
   "metadata": {
    "id": "ioEvw4SsIEzz"
   },
   "source": [
    "#NB"
   ]
  },
  {
   "cell_type": "code",
   "execution_count": 7,
   "metadata": {
    "id": "s67s8FxnIJPC"
   },
   "outputs": [
    {
     "ename": "SyntaxError",
     "evalue": "invalid syntax. Perhaps you forgot a comma? (3522208561.py, line 7)",
     "output_type": "error",
     "traceback": [
      "\u001b[1;36m  Cell \u001b[1;32mIn[7], line 7\u001b[1;36m\u001b[0m\n\u001b[1;33m    pip install deepcut\u001b[0m\n\u001b[1;37m        ^\u001b[0m\n\u001b[1;31mSyntaxError\u001b[0m\u001b[1;31m:\u001b[0m invalid syntax. Perhaps you forgot a comma?\n"
     ]
    }
   ],
   "source": [
    "# ติดตั้งไลบรารีที่จำเป็น\n",
    "!pip install gensim\n",
    "!pip install scikit-learn\n",
    "!pip install numpy\n",
    "!pip install pandas\n",
    "!pip install pythainlp python-crfsuite\n",
    "!pip install deepcut\n"
   ]
  },
  {
   "cell_type": "code",
   "execution_count": null,
   "metadata": {
    "id": "9ZUvKUFJJKaB"
   },
   "outputs": [],
   "source": [
    "from pythainlp import word_vector\n",
    "import numpy as np\n",
    "wv = word_vector.WordVector()"
   ]
  },
  {
   "cell_type": "code",
   "execution_count": null,
   "metadata": {
    "id": "vu-2SNVLPzZj"
   },
   "outputs": [],
   "source": [
    "!pip install fastai\n",
    "!pip install https://github.com/PyThaiNLP/fastai-thai-models/releases/download/v0.1/thai2fit_0.0.1.tar.gz\n",
    "!pip install scikit-learn\n"
   ]
  },
  {
   "cell_type": "code",
   "execution_count": 6,
   "metadata": {
    "colab": {
     "base_uri": "https://localhost:8080/"
    },
    "id": "BiQwJ76CW3Ig",
    "outputId": "dd06becf-1aa4-4510-af80-2e6fd9dfbaea"
   },
   "outputs": [],
   "source": [
    "!pip install pythainlp fastai\n",
    "!pip install emoji\n",
    "!pip install joblib\n"
   ]
  },
  {
   "cell_type": "code",
   "execution_count": 8,
   "metadata": {
    "id": "QietZJaBSakr"
   },
   "outputs": [],
   "source": [
    "import numpy as np\n",
    "import pandas as pd\n",
    "import re\n",
    "import pythainlp\n",
    "from pythainlp.corpus.common import thai_words\n",
    "# from pythainlp.tokenize import dict_trie, word_tokenize\n",
    "import string\n",
    "from sklearn.model_selection import train_test_split\n",
    "from sklearn.metrics import classification_report, confusion_matrix\n",
    "from sklearn.feature_extraction.text import TfidfTransformer\n",
    "from sklearn.feature_extraction.text import CountVectorizer\n",
    "from sklearn.naive_bayes import MultinomialNB\n",
    "from sklearn.pipeline import Pipeline\n",
    "import glob\n",
    "import matplotlib.pyplot as plt\n",
    "from pythainlp.tokenize import word_tokenize\n",
    "%matplotlib inline"
   ]
  },
  {
   "cell_type": "code",
   "execution_count": 11,
   "metadata": {},
   "outputs": [],
   "source": [
    "# Assuming you have the create_data function as you provided earlier\n",
    "# Assuming you have the load_data function as you provided earlier\n",
    "\n",
    "# Load the training and testing data from CSV files\n",
    "train = pd.read_csv(\"train.csv\")\n",
    "test = pd.read_csv(\"test.csv\")\n",
    "\n",
    "# Split the data into features (X) and labels (y)\n",
    "X_train, y_train = train['wordseged_space_text'], train['sentiment']\n",
    "X_test, y_test = test['wordseged_space_text'], test['sentiment']\n",
    "\n",
    "# Split the training data into training and validation sets\n",
    "X_train, X_val, y_train, y_val = train_test_split(X_train, y_train, test_size=0.25, random_state=42, stratify=y_train)\n"
   ]
  },
  {
   "cell_type": "code",
   "execution_count": 12,
   "metadata": {},
   "outputs": [
    {
     "name": "stdout",
     "output_type": "stream",
     "text": [
      "Number of samples in validation set: 7818\n",
      "Number of samples in validation set: 7818\n",
      "Number of samples in validation set: 7818\n"
     ]
    }
   ],
   "source": [
    "print(\"Number of samples in validation set:\", len(X_val))\n",
    "print(\"Number of samples in validation set:\", len(y_val))\n",
    "print(\"Number of samples in validation set:\", len(X_test))"
   ]
  },
  {
   "cell_type": "code",
   "execution_count": 18,
   "metadata": {},
   "outputs": [],
   "source": [
    "from sklearn.feature_extraction.text import TfidfVectorizer\n",
    "\n",
    "# Initialize TF-IDF vectorizer\n",
    "tfidf_vectorizer = TfidfVectorizer()\n",
    "\n",
    "# Fit and transform the training data\n",
    "X_train_tfidf = tfidf_vectorizer.fit_transform(X_train)\n",
    "\n",
    "# Transform the validation data\n",
    "X_val_tfidf = tfidf_vectorizer.transform(X_val)\n",
    "\n",
    "# Now, you can use X_val_tfidf for prediction\n",
    "y_val_pred = nb_classifier.predict(X_val_tfidf)\n"
   ]
  },
  {
   "cell_type": "code",
   "execution_count": 19,
   "metadata": {
    "colab": {
     "base_uri": "https://localhost:8080/"
    },
    "id": "bwg0oNyTmUxS",
    "outputId": "03713102-1d02-4fd6-d158-bf68fc4f82b2"
   },
   "outputs": [
    {
     "name": "stdout",
     "output_type": "stream",
     "text": [
      "Training Accuracy: 0.7758591285068644\n",
      "Validation Accuracy: 0.7155282680992581\n",
      "Test Accuracy: 0.7129700690713737\n",
      "              precision    recall  f1-score   support\n",
      "\n",
      "           0       0.63      0.85      0.72      2606\n",
      "           1       0.71      0.48      0.57      2606\n",
      "           2       0.83      0.81      0.82      2606\n",
      "\n",
      "    accuracy                           0.71      7818\n",
      "   macro avg       0.72      0.71      0.71      7818\n",
      "weighted avg       0.72      0.71      0.71      7818\n",
      "\n"
     ]
    }
   ],
   "source": [
    "from sklearn.feature_extraction.text import TfidfVectorizer\n",
    "from sklearn.model_selection import train_test_split\n",
    "from sklearn.naive_bayes import MultinomialNB\n",
    "from sklearn.metrics import accuracy_score, classification_report, confusion_matrix\n",
    "import seaborn as sns\n",
    "import matplotlib.pyplot as plt\n",
    "import pandas as pd\n",
    "\n",
    "\n",
    "\n",
    "# Create TF-IDF vectors\n",
    "tfidf_vectorizer = TfidfVectorizer()\n",
    "X_train_tfidf = tfidf_vectorizer.fit_transform(X_train)\n",
    "X_val_tfidf = tfidf_vectorizer.transform(X_val)\n",
    "X_test_tfidf = tfidf_vectorizer.transform(X_test)\n",
    "\n",
    "# Train Naive Bayes classifier\n",
    "nb_classifier = MultinomialNB()\n",
    "nb_classifier.fit(X_train_tfidf, y_train)\n",
    "\n",
    "# Predictions on training and validation set\n",
    "y_train_pred = nb_classifier.predict(X_train_tfidf)\n",
    "y_val_pred = nb_classifier.predict(X_val_tfidf)\n",
    "\n",
    "# Calculate accuracy on training and validation set\n",
    "train_accuracy = accuracy_score(y_train, y_train_pred)\n",
    "val_accuracy = accuracy_score(y_val, y_val_pred)\n",
    "\n",
    "print(f'Training Accuracy: {train_accuracy}')\n",
    "print(f'Validation Accuracy: {val_accuracy}')\n",
    "\n",
    "\n",
    "# Predictions on the test set\n",
    "y_test_pred = nb_classifier.predict(X_test_tfidf)\n",
    "\n",
    "# Calculate accuracy on the test set\n",
    "test_accuracy = accuracy_score(y_test, y_test_pred)\n",
    "\n",
    "print(f'Test Accuracy: {test_accuracy}')\n",
    "\n",
    "# Classification Report\n",
    "print(classification_report(y_test, y_test_pred))\n",
    "\n"
   ]
  },
  {
   "cell_type": "code",
   "execution_count": 27,
   "metadata": {
    "colab": {
     "base_uri": "https://localhost:8080/"
    },
    "id": "_c5eVIZLtwJS",
    "outputId": "aa1959f2-6329-4b83-f116-6dea4c29d05a"
   },
   "outputs": [
    {
     "name": "stdout",
     "output_type": "stream",
     "text": [
      "Validation Accuracy (Loaded Model): 0.7155282680992581\n",
      "              precision    recall  f1-score   support\n",
      "\n",
      "           0       0.63      0.85      0.72      2606\n",
      "           1       0.71      0.48      0.57      2606\n",
      "           2       0.84      0.82      0.83      2606\n",
      "\n",
      "    accuracy                           0.72      7818\n",
      "   macro avg       0.73      0.72      0.71      7818\n",
      "weighted avg       0.73      0.72      0.71      7818\n",
      "\n"
     ]
    }
   ],
   "source": [
    "import joblib\n",
    "from sklearn.metrics import accuracy_score, classification_report\n",
    "\n",
    "# Load the model from the file\n",
    "loaded_nb_classifier = joblib.load('naive_bayes_model.pkl')\n",
    "\n",
    "# Predictions on the validation set using the loaded model\n",
    "y_val_pred_loaded = loaded_nb_classifier.predict(X_val_tfidf)\n",
    "\n",
    "# Calculate accuracy on the validation set\n",
    "val_accuracy_loaded = accuracy_score(y_val, y_val_pred_loaded)\n",
    "\n",
    "print(f'Validation Accuracy (Loaded Model): {val_accuracy_loaded}')\n",
    "\n",
    "# Classification Report for the loaded model\n",
    "print(classification_report(y_val, y_val_pred_loaded))\n",
    "\n",
    "# Save the validation results to a file\n",
    "with open(\"validation_results.txt\", \"w\") as file:\n",
    "    file.write(f'Validation Accuracy (Loaded Model): {val_accuracy_loaded}\\n\\n')\n",
    "    file.write('Classification Report:\\n')\n",
    "    file.write(classification_report(y_val, y_val_pred_loaded))\n"
   ]
  },
  {
   "cell_type": "code",
   "execution_count": 25,
   "metadata": {
    "colab": {
     "base_uri": "https://localhost:8080/",
     "height": 564
    },
    "id": "9Hb7fFpPnNC0",
    "outputId": "3045f080-ecb1-4e01-e9bf-61d0a5519fc2"
   },
   "outputs": [
    {
     "data": {
      "image/png": "[encoded data removed]",
      "text/plain": [
       "<Figure size 800x600 with 2 Axes>"
      ]
     },
     "metadata": {},
     "output_type": "display_data"
    }
   ],
   "source": [
    "from sklearn.metrics import confusion_matrix\n",
    "import seaborn as sns\n",
    "import matplotlib.pyplot as plt\n",
    "\n",
    "# Function to plot confusion matrix\n",
    "def plot_confusion_matrix(y_true, y_pred, labels):\n",
    "    cm = confusion_matrix(y_true, y_pred, labels=labels)\n",
    "    plt.figure(figsize=(8, 6))\n",
    "    sns.heatmap(cm, annot=True, fmt=\"d\", cmap=\"Blues\", xticklabels=labels, yticklabels=labels)\n",
    "    plt.title('Confusion Matrix')\n",
    "    plt.xlabel('Predicted')\n",
    "    plt.ylabel('Actual')\n",
    "    plt.show()\n",
    "\n",
    "# Assuming X_val_tfidf contains your validation data as TF-IDF vectors and y_val contains corresponding labels\n",
    "# Predictions on the validation set\n",
    "y_val_pred = nb_classifier.predict(X_val_tfidf)\n",
    "\n",
    "# Get unique labels in the dataset\n",
    "labels = sorted(y_val.unique())\n",
    "\n",
    "# Plot confusion matrix\n",
    "plot_confusion_matrix(y_val, y_val_pred, labels)\n"
   ]
  },
  {
   "cell_type": "code",
   "execution_count": 24,
   "metadata": {},
   "outputs": [
    {
     "data": {
      "text/plain": [
       "3450     เอา จนได้ ประเทศ ซิบ หาย พอดี ออก ไป เถอะ ไป อ...\n",
       "28160                            คุณ ชา ดา ทำ ถูกต้อง ครับ\n",
       "2144                                     คน ที่ มี มือ พับ\n",
       "22308    มัน จะ มี ผู้หญิง บาง ประเภท ที่ ชอบ คบ คน แก ...\n",
       "29689                                       ไซ นา ไน เปล่า\n",
       "                               ...                        \n",
       "22644                                  สู้ ๆ นะคะ คุณ พิธา\n",
       "23231                                       สว สุดยอด ครับ\n",
       "19359    หนักแน่น ชัดเจน นี่ คือ คนรุ่นใหม่ นี่ คือ อนา...\n",
       "17211    ตำรวจ น่าจะ ตะโกน ด่า ด้อม ส้ม จาก ด้านใน ออกม...\n",
       "5346     น่ารัก มาก ลูก บุญ ใหญ่ ขอ เจริญ ๆ ถึง ไม่ ได้...\n",
       "Name: wordseged_space_text, Length: 7818, dtype: object"
      ]
     },
     "execution_count": 24,
     "metadata": {},
     "output_type": "execute_result"
    }
   ],
   "source": [
    "X_val"
   ]
  },
  {
   "cell_type": "code",
   "execution_count": 17,
   "metadata": {
    "colab": {
     "base_uri": "https://localhost:8080/",
     "height": 564
    },
    "id": "qSF8-KJXTL0D",
    "outputId": "efa8e9ec-e335-4562-dd42-8bf401f66152"
   },
   "outputs": [
    {
     "data": {
      "image/png": "[encoded data removed]",
      "text/plain": [
       "<Figure size 800x600 with 2 Axes>"
      ]
     },
     "metadata": {},
     "output_type": "display_data"
    }
   ],
   "source": [
    "from sklearn.metrics import confusion_matrix\n",
    "import seaborn as sns\n",
    "import matplotlib.pyplot as plt\n",
    "\n",
    "# Function to plot confusion matrix\n",
    "def plot_confusion_matrix(y_true, y_pred, labels):\n",
    "    cm = confusion_matrix(y_true, y_pred, labels=labels)\n",
    "    plt.figure(figsize=(8, 6))\n",
    "    sns.heatmap(cm, annot=True, fmt=\"d\", cmap=\"Blues\", xticklabels=labels, yticklabels=labels)\n",
    "    plt.title('Confusion Matrix')\n",
    "    plt.xlabel('Predicted')\n",
    "    plt.ylabel('Actual')\n",
    "    plt.show()\n",
    "\n",
    "# Assuming you have already trained your Naive Bayes classifier and made predictions\n",
    "# Replace the following line with your actual predictions\n",
    "y_test_pred = nb_classifier.predict(X_test_tfidf)\n",
    "\n",
    "# Get unique labels in the dataset\n",
    "labels = sorted(y_test.unique())\n",
    "\n",
    "# Plot confusion matrix\n",
    "plot_confusion_matrix(y_test, y_test_pred, labels)\n",
    "\n"
   ]
  },
  {
   "cell_type": "code",
   "execution_count": null,
   "metadata": {
    "colab": {
     "base_uri": "https://localhost:8080/"
    },
    "id": "JXt9qInrURXE",
    "outputId": "5d5b05f0-cfe9-44f6-8696-c9e1176daa05"
   },
   "outputs": [
    {
     "name": "stdout",
     "output_type": "stream",
     "text": [
      "Confusion Matrix:\n",
      "      0     1     2\n",
      "0  2151   384    71\n",
      "1   898  1332   376\n",
      "2   276   214  2116\n"
     ]
    }
   ],
   "source": [
    "from sklearn.metrics import confusion_matrix\n",
    "import pandas as pd\n",
    "\n",
    "\n",
    "# Assuming you have already trained your Naive Bayes classifier and made predictions\n",
    "# Replace the following line with your actual predictions\n",
    "y_test_pred = nb_classifier.predict(X_test_tfidf)\n",
    "\n",
    "# Get unique labels in the dataset\n",
    "labels = sorted(y_test.unique())\n",
    "\n",
    "# Calculate confusion matrix\n",
    "cm = confusion_matrix(y_test, y_test_pred, labels=labels)\n",
    "\n",
    "# Convert confusion matrix to DataFrame for better visualization\n",
    "cm_df = pd.DataFrame(cm, index=labels, columns=labels)\n",
    "\n",
    "# Print the confusion matrix\n",
    "print(\"Confusion Matrix:\")\n",
    "print(cm_df)\n"
   ]
  },
  {
   "cell_type": "code",
   "execution_count": 28,
   "metadata": {
    "colab": {
     "base_uri": "https://localhost:8080/"
    },
    "id": "lBVa8kvHnUft",
    "outputId": "59230ebb-50c4-42a0-d604-af78dc62d667"
   },
   "outputs": [
    {
     "name": "stdout",
     "output_type": "stream",
     "text": [
      "              precision    recall  f1-score   support\n",
      "\n",
      "           0       0.63      0.85      0.72      2606\n",
      "           1       0.71      0.48      0.57      2606\n",
      "           2       0.83      0.81      0.82      2606\n",
      "\n",
      "    accuracy                           0.71      7818\n",
      "   macro avg       0.72      0.71      0.71      7818\n",
      "weighted avg       0.72      0.71      0.71      7818\n",
      "\n"
     ]
    }
   ],
   "source": [
    "from sklearn.metrics import classification_report\n",
    "\n",
    "# Predictions on the test set\n",
    "y_test_pred = nb_classifier.predict(X_test_tfidf)\n",
    "\n",
    "# Classification Report\n",
    "report = classification_report(y_test, y_test_pred)\n",
    "\n",
    "# Print the classification report\n",
    "print(report)\n"
   ]
  },
  {
   "cell_type": "code",
   "execution_count": null,
   "metadata": {
    "colab": {
     "base_uri": "https://localhost:8080/"
    },
    "id": "oPvMSz94GkTL",
    "outputId": "76d53b42-0c0d-4be3-d51b-331321a3f2f1"
   },
   "outputs": [
    {
     "name": "stdout",
     "output_type": "stream",
     "text": [
      "Model Parameters:\n",
      "{'alpha': 1.0, 'class_prior': None, 'fit_prior': True, 'force_alpha': 'warn'}\n",
      "\n",
      "Model Summary:\n",
      "MultinomialNB()\n"
     ]
    }
   ],
   "source": [
    "# Display model parameters\n",
    "print(\"Model Parameters:\")\n",
    "print(nb_classifier.get_params())\n",
    "\n",
    "# Display model summary\n",
    "print(\"\\nModel Summary:\")\n",
    "print(nb_classifier)\n"
   ]
  },
  {
   "cell_type": "code",
   "execution_count": null,
   "metadata": {
    "colab": {
     "base_uri": "https://localhost:8080/"
    },
    "id": "237UfgjOMz_k",
    "outputId": "54eabbae-e931-4ff8-f6ef-f305f1e1ea38"
   },
   "outputs": [
    {
     "name": "stdout",
     "output_type": "stream",
     "text": [
      "Model Parameters:\n",
      "alpha: 1.0\n",
      "fit_prior: True\n",
      "class_prior: None\n",
      "\n",
      "Model Methods:\n",
      "fit(X, y): Fit Naive Bayes classifier according to X, y.\n",
      "\n",
      "        Parameters\n",
      "        ----------\n",
      "        X : {array-like, sparse matrix} of shape (n_samples, n_features)\n",
      "            Training vectors, where `n_samples` is the number of samples and\n",
      "            `n_features` is the number of features.\n",
      "\n",
      "        y : array-like of shape (n_samples,)\n",
      "            Target values.\n",
      "\n",
      "        sample_weight : array-like of shape (n_samples,), default=None\n",
      "            Weights applied to individual samples (1. for unweighted).\n",
      "\n",
      "        Returns\n",
      "        -------\n",
      "        self : object\n",
      "            Returns the instance itself.\n",
      "        \n",
      "predict(X): \n",
      "        Perform classification on an array of test vectors X.\n",
      "\n",
      "        Parameters\n",
      "        ----------\n",
      "        X : array-like of shape (n_samples, n_features)\n",
      "            The input samples.\n",
      "\n",
      "        Returns\n",
      "        -------\n",
      "        C : ndarray of shape (n_samples,)\n",
      "            Predicted target values for X.\n",
      "        \n",
      "predict_proba(X): \n",
      "        Return probability estimates for the test vector X.\n",
      "\n",
      "        Parameters\n",
      "        ----------\n",
      "        X : array-like of shape (n_samples, n_features)\n",
      "            The input samples.\n",
      "\n",
      "        Returns\n",
      "        -------\n",
      "        C : array-like of shape (n_samples, n_classes)\n",
      "            Returns the probability of the samples for each class in\n",
      "            the model. The columns correspond to the classes in sorted\n",
      "            order, as they appear in the attribute :term:`classes_`.\n",
      "        \n",
      "score(X, y): \n",
      "        Return the mean accuracy on the given test data and labels.\n",
      "\n",
      "        In multi-label classification, this is the subset accuracy\n",
      "        which is a harsh metric since you require for each sample that\n",
      "        each label set be correctly predicted.\n",
      "\n",
      "        Parameters\n",
      "        ----------\n",
      "        X : array-like of shape (n_samples, n_features)\n",
      "            Test samples.\n",
      "\n",
      "        y : array-like of shape (n_samples,) or (n_samples, n_outputs)\n",
      "            True labels for `X`.\n",
      "\n",
      "        sample_weight : array-like of shape (n_samples,), default=None\n",
      "            Sample weights.\n",
      "\n",
      "        Returns\n",
      "        -------\n",
      "        score : float\n",
      "            Mean accuracy of ``self.predict(X)`` w.r.t. `y`.\n",
      "        \n"
     ]
    }
   ],
   "source": [
    "from sklearn.feature_extraction.text import TfidfVectorizer\n",
    "from sklearn.model_selection import train_test_split\n",
    "from sklearn.naive_bayes import MultinomialNB\n",
    "import pandas as pd\n",
    "\n",
    "# Load the training and testing data from CSV files\n",
    "train = pd.read_csv(\"train.csv\")\n",
    "test = pd.read_csv(\"test.csv\")\n",
    "\n",
    "# Split the data into features (X) and labels (y)\n",
    "X_train, y_train = train['wordseged_space_text'], train['sentiment']\n",
    "\n",
    "# Create TF-IDF vectors\n",
    "tfidf_vectorizer = TfidfVectorizer()\n",
    "X_train_tfidf = tfidf_vectorizer.fit_transform(X_train)\n",
    "\n",
    "# Split the training data into training and validation sets\n",
    "X_train, X_val, y_train, y_val = train_test_split(X_train_tfidf, y_train, test_size=0.2, random_state=42, stratify=y_train)\n",
    "\n",
    "# Train Naive Bayes classifier\n",
    "nb_classifier = MultinomialNB()\n",
    "nb_classifier.fit(X_train, y_train)\n",
    "\n",
    "# Display model parameters\n",
    "print(\"Model Parameters:\")\n",
    "print(f\"alpha: {nb_classifier.alpha}\")\n",
    "print(f\"fit_prior: {nb_classifier.fit_prior}\")\n",
    "print(f\"class_prior: {nb_classifier.class_prior}\")\n",
    "\n",
    "# Display model methods\n",
    "print(\"\\nModel Methods:\")\n",
    "print(f\"fit(X, y): {nb_classifier.fit.__doc__}\")\n",
    "print(f\"predict(X): {nb_classifier.predict.__doc__}\")\n",
    "print(f\"predict_proba(X): {nb_classifier.predict_proba.__doc__}\")\n",
    "print(f\"score(X, y): {nb_classifier.score.__doc__}\")\n"
   ]
  }
 ],
 "metadata": {
  "colab": {
   "provenance": [],
   "toc_visible": true
  },
  "kernelspec": {
   "display_name": "Python 3 (ipykernel)",
   "language": "python",
   "name": "python3"
  },
  "language_info": {
   "codemirror_mode": {
    "name": "ipython",
    "version": 3
   },
   "file_extension": ".py",
   "mimetype": "text/x-python",
   "name": "python",
   "nbconvert_exporter": "python",
   "pygments_lexer": "ipython3",
   "version": "3.10.0"
  }
 },
 "nbformat": 4,
 "nbformat_minor": 4
}
