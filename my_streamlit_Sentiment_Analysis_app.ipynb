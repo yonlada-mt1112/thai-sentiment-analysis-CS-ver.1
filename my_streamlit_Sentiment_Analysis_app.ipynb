{
  "cells": [
    {
      "cell_type": "markdown",
      "source": [
        "ติดตั้ง pip สำหรับติดตั้ง Python Package"
      ],
      "metadata": {
        "id": "zw4WKgVyj-dB"
      }
    },
    {
      "cell_type": "code",
      "execution_count": 1,
      "metadata": {
        "colab": {
          "base_uri": "https://localhost:8080/"
        },
        "id": "f4qLfKKu_NEc",
        "outputId": "6b23f6ba-4e40-4f99-89f4-acd0430fe2df"
      },
      "outputs": [
        {
          "output_type": "stream",
          "name": "stdout",
          "text": [
            "Collecting streamlit\n",
            "  Downloading streamlit-1.31.1-py2.py3-none-any.whl (8.4 MB)\n",
            "\u001b[2K     \u001b[90m━━━━━━━━━━━━━━━━━━━━━━━━━━━━━━━━━━━━━━━━\u001b[0m \u001b[32m8.4/8.4 MB\u001b[0m \u001b[31m52.9 MB/s\u001b[0m eta \u001b[36m0:00:00\u001b[0m\n",
            "\u001b[?25hRequirement already satisfied: altair<6,>=4.0 in /usr/local/lib/python3.10/dist-packages (from streamlit) (4.2.2)\n",
            "Requirement already satisfied: blinker<2,>=1.0.0 in /usr/lib/python3/dist-packages (from streamlit) (1.4)\n",
            "Requirement already satisfied: cachetools<6,>=4.0 in /usr/local/lib/python3.10/dist-packages (from streamlit) (5.3.3)\n",
            "Requirement already satisfied: click<9,>=7.0 in /usr/local/lib/python3.10/dist-packages (from streamlit) (8.1.7)\n",
            "Requirement already satisfied: importlib-metadata<8,>=1.4 in /usr/local/lib/python3.10/dist-packages (from streamlit) (7.0.1)\n",
            "Requirement already satisfied: numpy<2,>=1.19.3 in /usr/local/lib/python3.10/dist-packages (from streamlit) (1.25.2)\n",
            "Requirement already satisfied: packaging<24,>=16.8 in /usr/local/lib/python3.10/dist-packages (from streamlit) (23.2)\n",
            "Requirement already satisfied: pandas<3,>=1.3.0 in /usr/local/lib/python3.10/dist-packages (from streamlit) (1.5.3)\n",
            "Requirement already satisfied: pillow<11,>=7.1.0 in /usr/local/lib/python3.10/dist-packages (from streamlit) (9.4.0)\n",
            "Requirement already satisfied: protobuf<5,>=3.20 in /usr/local/lib/python3.10/dist-packages (from streamlit) (3.20.3)\n",
            "Requirement already satisfied: pyarrow>=7.0 in /usr/local/lib/python3.10/dist-packages (from streamlit) (14.0.2)\n",
            "Requirement already satisfied: python-dateutil<3,>=2.7.3 in /usr/local/lib/python3.10/dist-packages (from streamlit) (2.8.2)\n",
            "Requirement already satisfied: requests<3,>=2.27 in /usr/local/lib/python3.10/dist-packages (from streamlit) (2.31.0)\n",
            "Requirement already satisfied: rich<14,>=10.14.0 in /usr/local/lib/python3.10/dist-packages (from streamlit) (13.7.0)\n",
            "Requirement already satisfied: tenacity<9,>=8.1.0 in /usr/local/lib/python3.10/dist-packages (from streamlit) (8.2.3)\n",
            "Requirement already satisfied: toml<2,>=0.10.1 in /usr/local/lib/python3.10/dist-packages (from streamlit) (0.10.2)\n",
            "Requirement already satisfied: typing-extensions<5,>=4.3.0 in /usr/local/lib/python3.10/dist-packages (from streamlit) (4.10.0)\n",
            "Requirement already satisfied: tzlocal<6,>=1.1 in /usr/local/lib/python3.10/dist-packages (from streamlit) (5.2)\n",
            "Collecting validators<1,>=0.2 (from streamlit)\n",
            "  Downloading validators-0.22.0-py3-none-any.whl (26 kB)\n",
            "Collecting gitpython!=3.1.19,<4,>=3.0.7 (from streamlit)\n",
            "  Downloading GitPython-3.1.42-py3-none-any.whl (195 kB)\n",
            "\u001b[2K     \u001b[90m━━━━━━━━━━━━━━━━━━━━━━━━━━━━━━━━━━━━━━━━\u001b[0m \u001b[32m195.4/195.4 kB\u001b[0m \u001b[31m27.2 MB/s\u001b[0m eta \u001b[36m0:00:00\u001b[0m\n",
            "\u001b[?25hCollecting pydeck<1,>=0.8.0b4 (from streamlit)\n",
            "  Downloading pydeck-0.8.1b0-py2.py3-none-any.whl (4.8 MB)\n",
            "\u001b[2K     \u001b[90m━━━━━━━━━━━━━━━━━━━━━━━━━━━━━━━━━━━━━━━━\u001b[0m \u001b[32m4.8/4.8 MB\u001b[0m \u001b[31m84.5 MB/s\u001b[0m eta \u001b[36m0:00:00\u001b[0m\n",
            "\u001b[?25hRequirement already satisfied: tornado<7,>=6.0.3 in /usr/local/lib/python3.10/dist-packages (from streamlit) (6.3.2)\n",
            "Collecting watchdog>=2.1.5 (from streamlit)\n",
            "  Downloading watchdog-4.0.0-py3-none-manylinux2014_x86_64.whl (82 kB)\n",
            "\u001b[2K     \u001b[90m━━━━━━━━━━━━━━━━━━━━━━━━━━━━━━━━━━━━━━━━\u001b[0m \u001b[32m83.0/83.0 kB\u001b[0m \u001b[31m13.3 MB/s\u001b[0m eta \u001b[36m0:00:00\u001b[0m\n",
            "\u001b[?25hRequirement already satisfied: entrypoints in /usr/local/lib/python3.10/dist-packages (from altair<6,>=4.0->streamlit) (0.4)\n",
            "Requirement already satisfied: jinja2 in /usr/local/lib/python3.10/dist-packages (from altair<6,>=4.0->streamlit) (3.1.3)\n",
            "Requirement already satisfied: jsonschema>=3.0 in /usr/local/lib/python3.10/dist-packages (from altair<6,>=4.0->streamlit) (4.19.2)\n",
            "Requirement already satisfied: toolz in /usr/local/lib/python3.10/dist-packages (from altair<6,>=4.0->streamlit) (0.12.1)\n",
            "Collecting gitdb<5,>=4.0.1 (from gitpython!=3.1.19,<4,>=3.0.7->streamlit)\n",
            "  Downloading gitdb-4.0.11-py3-none-any.whl (62 kB)\n",
            "\u001b[2K     \u001b[90m━━━━━━━━━━━━━━━━━━━━━━━━━━━━━━━━━━━━━━━━\u001b[0m \u001b[32m62.7/62.7 kB\u001b[0m \u001b[31m9.4 MB/s\u001b[0m eta \u001b[36m0:00:00\u001b[0m\n",
            "\u001b[?25hRequirement already satisfied: zipp>=0.5 in /usr/local/lib/python3.10/dist-packages (from importlib-metadata<8,>=1.4->streamlit) (3.17.0)\n",
            "Requirement already satisfied: pytz>=2020.1 in /usr/local/lib/python3.10/dist-packages (from pandas<3,>=1.3.0->streamlit) (2023.4)\n",
            "Requirement already satisfied: six>=1.5 in /usr/local/lib/python3.10/dist-packages (from python-dateutil<3,>=2.7.3->streamlit) (1.16.0)\n",
            "Requirement already satisfied: charset-normalizer<4,>=2 in /usr/local/lib/python3.10/dist-packages (from requests<3,>=2.27->streamlit) (3.3.2)\n",
            "Requirement already satisfied: idna<4,>=2.5 in /usr/local/lib/python3.10/dist-packages (from requests<3,>=2.27->streamlit) (3.6)\n",
            "Requirement already satisfied: urllib3<3,>=1.21.1 in /usr/local/lib/python3.10/dist-packages (from requests<3,>=2.27->streamlit) (2.0.7)\n",
            "Requirement already satisfied: certifi>=2017.4.17 in /usr/local/lib/python3.10/dist-packages (from requests<3,>=2.27->streamlit) (2024.2.2)\n",
            "Requirement already satisfied: markdown-it-py>=2.2.0 in /usr/local/lib/python3.10/dist-packages (from rich<14,>=10.14.0->streamlit) (3.0.0)\n",
            "Requirement already satisfied: pygments<3.0.0,>=2.13.0 in /usr/local/lib/python3.10/dist-packages (from rich<14,>=10.14.0->streamlit) (2.16.1)\n",
            "Collecting smmap<6,>=3.0.1 (from gitdb<5,>=4.0.1->gitpython!=3.1.19,<4,>=3.0.7->streamlit)\n",
            "  Downloading smmap-5.0.1-py3-none-any.whl (24 kB)\n",
            "Requirement already satisfied: MarkupSafe>=2.0 in /usr/local/lib/python3.10/dist-packages (from jinja2->altair<6,>=4.0->streamlit) (2.1.5)\n",
            "Requirement already satisfied: attrs>=22.2.0 in /usr/local/lib/python3.10/dist-packages (from jsonschema>=3.0->altair<6,>=4.0->streamlit) (23.2.0)\n",
            "Requirement already satisfied: jsonschema-specifications>=2023.03.6 in /usr/local/lib/python3.10/dist-packages (from jsonschema>=3.0->altair<6,>=4.0->streamlit) (2023.12.1)\n",
            "Requirement already satisfied: referencing>=0.28.4 in /usr/local/lib/python3.10/dist-packages (from jsonschema>=3.0->altair<6,>=4.0->streamlit) (0.33.0)\n",
            "Requirement already satisfied: rpds-py>=0.7.1 in /usr/local/lib/python3.10/dist-packages (from jsonschema>=3.0->altair<6,>=4.0->streamlit) (0.18.0)\n",
            "Requirement already satisfied: mdurl~=0.1 in /usr/local/lib/python3.10/dist-packages (from markdown-it-py>=2.2.0->rich<14,>=10.14.0->streamlit) (0.1.2)\n",
            "Installing collected packages: watchdog, validators, smmap, pydeck, gitdb, gitpython, streamlit\n",
            "Successfully installed gitdb-4.0.11 gitpython-3.1.42 pydeck-0.8.1b0 smmap-5.0.1 streamlit-1.31.1 validators-0.22.0 watchdog-4.0.0\n"
          ]
        }
      ],
      "source": [
        "!pip install streamlit"
      ]
    },
    {
      "cell_type": "code",
      "execution_count": 2,
      "metadata": {
        "colab": {
          "base_uri": "https://localhost:8080/"
        },
        "id": "ZsfniSteekac",
        "outputId": "92329ae0-46c0-41eb-ac85-a8a670f7a3ae"
      },
      "outputs": [
        {
          "output_type": "stream",
          "name": "stdout",
          "text": [
            "Collecting streamlit_folium\n",
            "  Downloading streamlit_folium-0.18.0-py3-none-any.whl (326 kB)\n",
            "\u001b[?25l     \u001b[90m━━━━━━━━━━━━━━━━━━━━━━━━━━━━━━━━━━━━━━━━\u001b[0m \u001b[32m0.0/326.0 kB\u001b[0m \u001b[31m?\u001b[0m eta \u001b[36m-:--:--\u001b[0m\r\u001b[2K     \u001b[91m━━━━━━━\u001b[0m\u001b[91m╸\u001b[0m\u001b[90m━━━━━━━━━━━━━━━━━━━━━━━━━━━━━━━━\u001b[0m \u001b[32m61.4/326.0 kB\u001b[0m \u001b[31m1.7 MB/s\u001b[0m eta \u001b[36m0:00:01\u001b[0m\r\u001b[2K     \u001b[90m━━━━━━━━━━━━━━━━━━━━━━━━━━━━━━━━━━━━━━━━\u001b[0m \u001b[32m326.0/326.0 kB\u001b[0m \u001b[31m4.7 MB/s\u001b[0m eta \u001b[36m0:00:00\u001b[0m\n",
            "\u001b[?25hRequirement already satisfied: streamlit>=1.13.0 in /usr/local/lib/python3.10/dist-packages (from streamlit_folium) (1.31.1)\n",
            "Requirement already satisfied: folium!=0.15.0,>=0.13 in /usr/local/lib/python3.10/dist-packages (from streamlit_folium) (0.14.0)\n",
            "Requirement already satisfied: jinja2 in /usr/local/lib/python3.10/dist-packages (from streamlit_folium) (3.1.3)\n",
            "Requirement already satisfied: branca in /usr/local/lib/python3.10/dist-packages (from streamlit_folium) (0.7.1)\n",
            "Requirement already satisfied: numpy in /usr/local/lib/python3.10/dist-packages (from folium!=0.15.0,>=0.13->streamlit_folium) (1.25.2)\n",
            "Requirement already satisfied: requests in /usr/local/lib/python3.10/dist-packages (from folium!=0.15.0,>=0.13->streamlit_folium) (2.31.0)\n",
            "Requirement already satisfied: MarkupSafe>=2.0 in /usr/local/lib/python3.10/dist-packages (from jinja2->streamlit_folium) (2.1.5)\n",
            "Requirement already satisfied: altair<6,>=4.0 in /usr/local/lib/python3.10/dist-packages (from streamlit>=1.13.0->streamlit_folium) (4.2.2)\n",
            "Requirement already satisfied: blinker<2,>=1.0.0 in /usr/lib/python3/dist-packages (from streamlit>=1.13.0->streamlit_folium) (1.4)\n",
            "Requirement already satisfied: cachetools<6,>=4.0 in /usr/local/lib/python3.10/dist-packages (from streamlit>=1.13.0->streamlit_folium) (5.3.3)\n",
            "Requirement already satisfied: click<9,>=7.0 in /usr/local/lib/python3.10/dist-packages (from streamlit>=1.13.0->streamlit_folium) (8.1.7)\n",
            "Requirement already satisfied: importlib-metadata<8,>=1.4 in /usr/local/lib/python3.10/dist-packages (from streamlit>=1.13.0->streamlit_folium) (7.0.1)\n",
            "Requirement already satisfied: packaging<24,>=16.8 in /usr/local/lib/python3.10/dist-packages (from streamlit>=1.13.0->streamlit_folium) (23.2)\n",
            "Requirement already satisfied: pandas<3,>=1.3.0 in /usr/local/lib/python3.10/dist-packages (from streamlit>=1.13.0->streamlit_folium) (1.5.3)\n",
            "Requirement already satisfied: pillow<11,>=7.1.0 in /usr/local/lib/python3.10/dist-packages (from streamlit>=1.13.0->streamlit_folium) (9.4.0)\n",
            "Requirement already satisfied: protobuf<5,>=3.20 in /usr/local/lib/python3.10/dist-packages (from streamlit>=1.13.0->streamlit_folium) (3.20.3)\n",
            "Requirement already satisfied: pyarrow>=7.0 in /usr/local/lib/python3.10/dist-packages (from streamlit>=1.13.0->streamlit_folium) (14.0.2)\n",
            "Requirement already satisfied: python-dateutil<3,>=2.7.3 in /usr/local/lib/python3.10/dist-packages (from streamlit>=1.13.0->streamlit_folium) (2.8.2)\n",
            "Requirement already satisfied: rich<14,>=10.14.0 in /usr/local/lib/python3.10/dist-packages (from streamlit>=1.13.0->streamlit_folium) (13.7.0)\n",
            "Requirement already satisfied: tenacity<9,>=8.1.0 in /usr/local/lib/python3.10/dist-packages (from streamlit>=1.13.0->streamlit_folium) (8.2.3)\n",
            "Requirement already satisfied: toml<2,>=0.10.1 in /usr/local/lib/python3.10/dist-packages (from streamlit>=1.13.0->streamlit_folium) (0.10.2)\n",
            "Requirement already satisfied: typing-extensions<5,>=4.3.0 in /usr/local/lib/python3.10/dist-packages (from streamlit>=1.13.0->streamlit_folium) (4.10.0)\n",
            "Requirement already satisfied: tzlocal<6,>=1.1 in /usr/local/lib/python3.10/dist-packages (from streamlit>=1.13.0->streamlit_folium) (5.2)\n",
            "Requirement already satisfied: validators<1,>=0.2 in /usr/local/lib/python3.10/dist-packages (from streamlit>=1.13.0->streamlit_folium) (0.22.0)\n",
            "Requirement already satisfied: gitpython!=3.1.19,<4,>=3.0.7 in /usr/local/lib/python3.10/dist-packages (from streamlit>=1.13.0->streamlit_folium) (3.1.42)\n",
            "Requirement already satisfied: pydeck<1,>=0.8.0b4 in /usr/local/lib/python3.10/dist-packages (from streamlit>=1.13.0->streamlit_folium) (0.8.1b0)\n",
            "Requirement already satisfied: tornado<7,>=6.0.3 in /usr/local/lib/python3.10/dist-packages (from streamlit>=1.13.0->streamlit_folium) (6.3.2)\n",
            "Requirement already satisfied: watchdog>=2.1.5 in /usr/local/lib/python3.10/dist-packages (from streamlit>=1.13.0->streamlit_folium) (4.0.0)\n",
            "Requirement already satisfied: entrypoints in /usr/local/lib/python3.10/dist-packages (from altair<6,>=4.0->streamlit>=1.13.0->streamlit_folium) (0.4)\n",
            "Requirement already satisfied: jsonschema>=3.0 in /usr/local/lib/python3.10/dist-packages (from altair<6,>=4.0->streamlit>=1.13.0->streamlit_folium) (4.19.2)\n",
            "Requirement already satisfied: toolz in /usr/local/lib/python3.10/dist-packages (from altair<6,>=4.0->streamlit>=1.13.0->streamlit_folium) (0.12.1)\n",
            "Requirement already satisfied: gitdb<5,>=4.0.1 in /usr/local/lib/python3.10/dist-packages (from gitpython!=3.1.19,<4,>=3.0.7->streamlit>=1.13.0->streamlit_folium) (4.0.11)\n",
            "Requirement already satisfied: zipp>=0.5 in /usr/local/lib/python3.10/dist-packages (from importlib-metadata<8,>=1.4->streamlit>=1.13.0->streamlit_folium) (3.17.0)\n",
            "Requirement already satisfied: pytz>=2020.1 in /usr/local/lib/python3.10/dist-packages (from pandas<3,>=1.3.0->streamlit>=1.13.0->streamlit_folium) (2023.4)\n",
            "Requirement already satisfied: six>=1.5 in /usr/local/lib/python3.10/dist-packages (from python-dateutil<3,>=2.7.3->streamlit>=1.13.0->streamlit_folium) (1.16.0)\n",
            "Requirement already satisfied: charset-normalizer<4,>=2 in /usr/local/lib/python3.10/dist-packages (from requests->folium!=0.15.0,>=0.13->streamlit_folium) (3.3.2)\n",
            "Requirement already satisfied: idna<4,>=2.5 in /usr/local/lib/python3.10/dist-packages (from requests->folium!=0.15.0,>=0.13->streamlit_folium) (3.6)\n",
            "Requirement already satisfied: urllib3<3,>=1.21.1 in /usr/local/lib/python3.10/dist-packages (from requests->folium!=0.15.0,>=0.13->streamlit_folium) (2.0.7)\n",
            "Requirement already satisfied: certifi>=2017.4.17 in /usr/local/lib/python3.10/dist-packages (from requests->folium!=0.15.0,>=0.13->streamlit_folium) (2024.2.2)\n",
            "Requirement already satisfied: markdown-it-py>=2.2.0 in /usr/local/lib/python3.10/dist-packages (from rich<14,>=10.14.0->streamlit>=1.13.0->streamlit_folium) (3.0.0)\n",
            "Requirement already satisfied: pygments<3.0.0,>=2.13.0 in /usr/local/lib/python3.10/dist-packages (from rich<14,>=10.14.0->streamlit>=1.13.0->streamlit_folium) (2.16.1)\n",
            "Requirement already satisfied: smmap<6,>=3.0.1 in /usr/local/lib/python3.10/dist-packages (from gitdb<5,>=4.0.1->gitpython!=3.1.19,<4,>=3.0.7->streamlit>=1.13.0->streamlit_folium) (5.0.1)\n",
            "Requirement already satisfied: attrs>=22.2.0 in /usr/local/lib/python3.10/dist-packages (from jsonschema>=3.0->altair<6,>=4.0->streamlit>=1.13.0->streamlit_folium) (23.2.0)\n",
            "Requirement already satisfied: jsonschema-specifications>=2023.03.6 in /usr/local/lib/python3.10/dist-packages (from jsonschema>=3.0->altair<6,>=4.0->streamlit>=1.13.0->streamlit_folium) (2023.12.1)\n",
            "Requirement already satisfied: referencing>=0.28.4 in /usr/local/lib/python3.10/dist-packages (from jsonschema>=3.0->altair<6,>=4.0->streamlit>=1.13.0->streamlit_folium) (0.33.0)\n",
            "Requirement already satisfied: rpds-py>=0.7.1 in /usr/local/lib/python3.10/dist-packages (from jsonschema>=3.0->altair<6,>=4.0->streamlit>=1.13.0->streamlit_folium) (0.18.0)\n",
            "Requirement already satisfied: mdurl~=0.1 in /usr/local/lib/python3.10/dist-packages (from markdown-it-py>=2.2.0->rich<14,>=10.14.0->streamlit>=1.13.0->streamlit_folium) (0.1.2)\n",
            "Installing collected packages: streamlit_folium\n",
            "Successfully installed streamlit_folium-0.18.0\n"
          ]
        }
      ],
      "source": [
        "!pip install streamlit_folium\n"
      ]
    },
    {
      "cell_type": "code",
      "execution_count": 3,
      "metadata": {
        "id": "RvuiBEZl28Bi",
        "colab": {
          "base_uri": "https://localhost:8080/"
        },
        "outputId": "a93cce70-19e4-4c3f-c24f-584d3754fd8e"
      },
      "outputs": [
        {
          "output_type": "stream",
          "name": "stdout",
          "text": [
            "\u001b[2K     \u001b[90m━━━━━━━━━━━━━━━━━━━━━━━━━━━━━━━━━━━━━━━━\u001b[0m \u001b[32m17.9/17.9 MB\u001b[0m \u001b[31m60.9 MB/s\u001b[0m eta \u001b[36m0:00:00\u001b[0m\n",
            "\u001b[2K     \u001b[90m━━━━━━━━━━━━━━━━━━━━━━━━━━━━━━━━━━━━━━━━\u001b[0m \u001b[32m1.1/1.1 MB\u001b[0m \u001b[31m69.8 MB/s\u001b[0m eta \u001b[36m0:00:00\u001b[0m\n",
            "\u001b[?25h"
          ]
        }
      ],
      "source": [
        "! pip -q install pythainlp python-crfsuite"
      ]
    },
    {
      "cell_type": "markdown",
      "source": [
        "เขียนเว็บแอป\n",
        "\n"
      ],
      "metadata": {
        "id": "V6U0e5ujjV6Y"
      }
    },
    {
      "cell_type": "code",
      "execution_count": 32,
      "metadata": {
        "colab": {
          "base_uri": "https://localhost:8080/"
        },
        "id": "_wi4BRYM52dQ",
        "outputId": "44c5f9c3-1a80-48de-ee68-0ced34f64123"
      },
      "outputs": [
        {
          "output_type": "stream",
          "name": "stdout",
          "text": [
            "Overwriting my_streamlit_app.py\n"
          ]
        }
      ],
      "source": [
        "\n",
        "%%writefile my_streamlit_app.py\n",
        "import streamlit as st\n",
        "from tensorflow import keras\n",
        "import pandas as pd\n",
        "import re\n",
        "from pythainlp.util import normalize\n",
        "from pythainlp.corpus import thai_stopwords\n",
        "from pythainlp.tokenize import word_tokenize\n",
        "from pythainlp import word_vector\n",
        "import numpy as np\n",
        "from functools import reduce\n",
        "wv = word_vector.WordVector()\n",
        "word2vec = wv.get_model()\n",
        "\n",
        "\n",
        "# Create a flag to check if the model has been loaded successfully\n",
        "\n",
        "model_loaded = False\n",
        "try:\n",
        "    # Load the model\n",
        "    model = keras.models.load_model('my_model.h5')\n",
        "    model_loaded = True\n",
        "except:\n",
        "    st.warning('Model loading failed. Please check the model file.')\n",
        "\n",
        "\n",
        "def deEmojify(text):\n",
        "    regrex_pattern = re.compile(pattern = \"[\"\n",
        "        u\"\\U0001F600-\\U0001F64F\"  # emoticons\n",
        "        u\"\\U0001F300-\\U0001F5FF\"  # symbols & pictographs\n",
        "        u\"\\U0001F680-\\U0001F6FF\"  # transport & map symbols\n",
        "        u\"\\U0001F1E0-\\U0001F1FF\"  # flags (iOS)\n",
        "        u\"\\U00002500-\\U00002BEF\"  # chinese char\n",
        "        u\"\\U00002702-\\U000027B0\"\n",
        "        u\"\\U00002702-\\U000027B0\"\n",
        "        u\"\\U000024C2-\\U0001F251\"\n",
        "        u\"\\U0001f926-\\U0001f937\"\n",
        "        u\"\\U00010000-\\U0010ffff\"\n",
        "        u\"\\u2640-\\u2642\"\n",
        "        u\"\\u2600-\\u2B55\"\n",
        "        u\"\\u200d\"\n",
        "        u\"\\u23cf\"\n",
        "        u\"\\u23e9\"\n",
        "        u\"\\u231a\"\n",
        "        u\"\\ufe0f\"  # dingbats\n",
        "        u\"\\u3030\"\n",
        "                           \"]+\", flags = re.UNICODE)\n",
        "    return regrex_pattern.sub(r'',text)\n",
        "\n",
        "\n",
        "def clean_me(data):\n",
        "  stopwords = list(thai_stopwords())\n",
        "  stopwords.append(\"nan\")\n",
        "  stopwords.append(\"-\")\n",
        "  stopwords.append(\"_\")\n",
        "  stopwords.append(\"\")\n",
        "  stopwords.append(\" \")\n",
        "\n",
        "  data['clean_text'] = data['text'].str.replace(r'<[^<>]*>', '', regex=True)\n",
        "  data['clean2_text']= data['clean_text'].str.strip().str.lower().str.replace('\\r+', ' ').str.replace('\\n+',' ').str.replace('\\t+',' ')\n",
        "  data['clean3_text'] = data.apply(lambda row: deEmojify(row['clean2_text']), axis=1)\n",
        "  # Normalize text\n",
        "  data['clean4_text'] = data.apply(lambda row: normalize(row['clean3_text']), axis=1)\n",
        "  # Word segmentation: it will take a while....\n",
        "  data['wordseged_text'] = data.apply(lambda row: word_tokenize(row['clean4_text'], engine=\"newmm-safe\"), axis=1)\n",
        "  # Join the wordsegged with space\n",
        "  data['wordseged_space_text'] = data.apply(lambda row: \" \".join(row[\"wordseged_text\"]), axis=1)\n",
        "\n",
        "\n",
        "  return(data)\n",
        "\n",
        "def sentences_to_indices(X, word2vec, max_len):\n",
        "    \"\"\"\n",
        "    Converts an array of sentences (strings) into an array of indices corresponding to words in the sentences.\n",
        "    The output shape should be such that it can be given to `Embedding()`.\n",
        "    Arguments:\n",
        "    X -- array of sentences (strings), of shape (m, 1)\n",
        "    word2vec -- a trained Word2Vec model from gensim\n",
        "    max_len -- maximum number of words in a sentence. You can assume every sentence in X is no longer than this.\n",
        "    Returns:\n",
        "    X_indices -- array of indices corresponding to words in the sentences from X, of shape (m, max_len)\n",
        "    \"\"\"\n",
        "\n",
        "    m = X.shape[0]                                   # number of training examples\n",
        "\n",
        "    # Initialize X_indices as a numpy matrix of zeros and the correct shape\n",
        "    X_indices = np.zeros((m, max_len))\n",
        "\n",
        "    for i in range(m):                               # loop over training examples\n",
        "\n",
        "        # Convert the ith training sentence in lower case and split is into words. You should get a list of words.\n",
        "        # print(X)\n",
        "        # print(len(X[i].lower().split()))\n",
        "        sentence_words = X[i].lower().split()[:max_len]\n",
        "\n",
        "        # Initialize j to 0\n",
        "        j = 0\n",
        "        try:\n",
        "        # Loop over the words of sentence_words\n",
        "          for w in sentence_words:\n",
        "              # Set the (i,j)th entry of X_indices to the index of the correct word.\n",
        "\n",
        "                if w in word2vec.key_to_index:\n",
        "                    X_indices[i, j] = word2vec.key_to_index[w]\n",
        "                    # Increment j to j + 1\n",
        "                    j += 1\n",
        "        except:\n",
        "              print('key error: ', w)\n",
        "\n",
        "\n",
        "    return X_indices\n",
        "\n",
        "\n",
        "\n",
        "def combine(a, b):\n",
        "    data = pd.DataFrame()\n",
        "    lines = str.split(a, '\\n')\n",
        "    if b != \"\":\n",
        "        lines = get_comments(b)\n",
        "        if lines == []:\n",
        "            text001 = 'CANNOT_GET DATA from Youtube'\n",
        "            print(text001)\n",
        "\n",
        "    data['text'] = lines\n",
        "    data = clean_me(data)\n",
        "    a = data['wordseged_space_text'][0] + ' SENTIMENT: '\n",
        "\n",
        "    X_train_indices = sentences_to_indices(data['wordseged_space_text'].values, word2vec, 128)\n",
        "    result = model.predict(X_train_indices[:])\n",
        "    txt_pos, txt_neu, txt_neg, fig = pretty_output(lines,result)\n",
        "\n",
        "    return txt_pos, txt_neu, txt_neg, fig\n",
        "\n",
        "\n",
        "def mirror(x):\n",
        "    return x\n",
        "\n",
        "\n",
        "\n",
        "\n",
        "# Streamlit app\n",
        "# เรียกใช้งาน Bootstrap CSS โดยใส่ URL ของ CSS ใน markdown\n",
        "st.markdown(\"\"\"\n",
        "<link href=\"https://cdn.jsdelivr.net/npm/bootstrap@5.1.3/dist/css/bootstrap.min.css\" rel=\"stylesheet\" integrity=\"sha384-1BmE4kWBq78iYhFldvKuhfTAU6auU8tT94WrHftjDbrCEXSU1oBoqyl2QvZ6jIW3\" crossorigin=\"anonymous\">\n",
        "\"\"\", unsafe_allow_html=True)\n",
        "\n",
        "\n",
        "import streamlit as st\n",
        "\n",
        "# เริ่มต้นโค้ด CSS\n",
        "st.markdown(\"\"\"\n",
        "    <style>\n",
        "        /* กำหนดให้หัวข้อตรงกลาง */\n",
        "        .title {\n",
        "            color: #31906E; /* กำหนดสีของข้อความ */\n",
        "            text-align: center;\n",
        "        }\n",
        "    </style>\n",
        "\"\"\", unsafe_allow_html=True)\n",
        "\n",
        "# แสดงหัวข้อ\n",
        "st.markdown(\"<h1 class='title'>Thai Sentiment Analysis App</h1>\", unsafe_allow_html=True)\n",
        "\n",
        "\n",
        "\n",
        "\n",
        "# ใช้ CSS เพื่อกำหนดสีและจัดให้ข้อความอยู่ตรงกลาง\n",
        "st.markdown(\"\"\"\n",
        "    <style>\n",
        "        /* กำหนดสีและจัดให้ข้อความอยู่ตรงกลาง */\n",
        "        .centered-text {\n",
        "            color: #A8A9AD; /* กำหนดสีของข้อความ */\n",
        "            text-align: center; /* จัดให้ข้อความอยู่ตรงกลาง */\n",
        "            font-size: 19px; /* กำหนดขนาดตัวอักษร */\n",
        "        }\n",
        "    </style>\n",
        "\"\"\", unsafe_allow_html=True)\n",
        "\n",
        "# แสดงข้อความ\n",
        "st.markdown(\"<p class='centered-text'>Created by</p>\", unsafe_allow_html=True)\n",
        "\n",
        "\n",
        "# แสดงข้อความ\n",
        "st.markdown(\"<p class='centered-text'>Kamolwan Artsungnoen and Yonlada Mattra</p>\", unsafe_allow_html=True)\n",
        "st.markdown(\"<p class='centered-text'>Department of Computer Science, College of Computing, Khon Kaen University</p>\", unsafe_allow_html=True)\n",
        "\n",
        "\n",
        "\n",
        "# แสดงรูปภาพจาก URL\n",
        "image_url = \"https://i.pinimg.com/564x/32/8e/00/328e00ebb073d75ed306d14af670fda2.jpg\"\n",
        "st.image(image_url, caption='ใช้เพื่อการศึกษา : https://i.pinimg.com/564x/32/8e/00/328e00ebb073d75ed306d14af670fda2.jpg', use_column_width=True)\n",
        "\n",
        "# Input text\n",
        "text_input = st.text_area(\"Enter Thai text for sentiment analysis\", \"กรุณากรอกข้อความ... \")\n",
        "\n",
        "st.markdown(\"\"\"\n",
        "<style>\n",
        "    /* กำหนดสีของปุ่มเมื่อปุ่มถูกกด */\n",
        "    .stButton>button {\n",
        "        background-color: #AAF0D1; /* กำหนดสี */\n",
        "        color: black; /* กำหนดสีของตัวอักษร */\n",
        "        font-weight: bold; /* กำหนดตัวหนา */\n",
        "    }\n",
        "    /* กำหนดสีของปุ่มเมื่อเมาส์ไปวางบนปุ่ม */\n",
        "    .stButton>button:hover {\n",
        "        background-color: #3EB489; /* กำหนดสี */\n",
        "                color: black; /* กำหนดสีของตัวอักษร */\n",
        "        font-weight: bold; /* กำหนดตัวหนา */\n",
        "    }\n",
        "</style>\n",
        "\"\"\", unsafe_allow_html=True)\n",
        "\n",
        "# Button to trigger analysis\n",
        "if st.button(\"Analyze Sentiment\"):\n",
        "    data = pd.DataFrame()\n",
        "    data['text'] = [text_input]\n",
        "    data = clean_me(data)\n",
        "    X_train_indices = sentences_to_indices(data['wordseged_space_text'].values, word2vec, 128)\n",
        "    results = model.predict(X_train_indices[:]) #พรีดิก\n",
        "    # Analyze sentiment using the model\n",
        "    #results = sentiment_analyzer(text_input)\n",
        "    #print (results)\n",
        "\n",
        "\n",
        "\n",
        "# Extract sentiment and score\n",
        "\n",
        "    label = np.array(['negative😡', 'neutral😐', 'positive🙂'])\n",
        "    txt_sentiment = label[np.argmax(results, axis=1)]\n",
        "    sentiment = txt_sentiment[0]\n",
        "    score = results[0]\n",
        "\n",
        "    st.write(f'{score} {sentiment}') #เพิ่มตัวอิโมจิหลังข้อความ\n",
        "\n",
        "    # Display result as progress bars\n",
        "    #st.subheader(\"Sentiment Analysis Result:\")\n",
        "\n",
        "\n"
      ]
    },
    {
      "cell_type": "code",
      "execution_count": 5,
      "metadata": {
        "colab": {
          "base_uri": "https://localhost:8080/"
        },
        "id": "nKwc5XyKF7XJ",
        "outputId": "812d5213-c10c-42ec-f9a5-31644f36ef73"
      },
      "outputs": [
        {
          "output_type": "stream",
          "name": "stdout",
          "text": [
            "34.86.58.234\n"
          ]
        }
      ],
      "source": [
        "!wget -q -O - ipv4.icanhazip.com"
      ]
    },
    {
      "cell_type": "code",
      "execution_count": 33,
      "metadata": {
        "colab": {
          "base_uri": "https://localhost:8080/"
        },
        "id": "F_ogE4U8F6ju",
        "outputId": "6b06a4f2-ab0f-4e3c-bc5d-9b0f445bd951"
      },
      "outputs": [
        {
          "output_type": "stream",
          "name": "stdout",
          "text": [
            "[..................] \\ fetchMetadata: sill resolveWithNewModule localtunnel@2.0\u001b[0m\u001b[K\n",
            "Collecting usage statistics. To deactivate, set browser.gatherUsageStats to False.\n",
            "\u001b[0m\n",
            "\u001b[0m\n",
            "\u001b[34m\u001b[1m  You can now view your Streamlit app in your browser.\u001b[0m\n",
            "\u001b[0m\n",
            "\u001b[34m  Network URL: \u001b[0m\u001b[1mhttp://172.28.0.12:8501\u001b[0m\n",
            "\u001b[34m  External URL: \u001b[0m\u001b[1mhttp://34.86.58.234:8501\u001b[0m\n",
            "\u001b[0m\n",
            "\u001b[K\u001b[?25hnpx: installed 22 in 2.831s\n",
            "your url is: https://ten-cooks-kick.loca.lt\n",
            "\u001b[34m  Stopping...\u001b[0m\n",
            "^C\n"
          ]
        }
      ],
      "source": [
        "! streamlit run my_streamlit_app.py & npx localtunnel --port 8501"
      ]
    }
  ],
  "metadata": {
    "colab": {
      "provenance": []
    },
    "kernelspec": {
      "display_name": "Python 3",
      "name": "python3"
    },
    "language_info": {
      "name": "python"
    }
  },
  "nbformat": 4,
  "nbformat_minor": 0
}